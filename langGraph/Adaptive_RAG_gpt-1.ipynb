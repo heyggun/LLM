{
 "cells": [
  {
   "cell_type": "markdown",
   "metadata": {},
   "source": [
    "## [1] Adaptive RAG - GPT test"
   ]
  },
  {
   "cell_type": "markdown",
   "metadata": {},
   "source": [
    "    **(1) 준비 과정**\n",
    "    - RAG를 위한 vectorstore에 파일 embedding"
   ]
  },
  {
   "cell_type": "code",
   "execution_count": 2,
   "metadata": {},
   "outputs": [],
   "source": [
    "from langchain.embeddings import OpenAIEmbeddings\n",
    "from langchain.vectorstores import Chroma\n",
    "from langchain.document_loaders import PyMuPDFLoader\n",
    "from langchain.text_splitter import RecursiveCharacterTextSplitter"
   ]
  },
  {
   "cell_type": "code",
   "execution_count": 3,
   "metadata": {},
   "outputs": [
    {
     "data": {
      "text/plain": [
       "['문서_1.pdf',\n",
       " '문서_3.pdf',\n",
       " '문서_2.pdf',\n",
       " '문서_6.pdf',\n",
       " '문서_7.pdf',\n",
       " '문서_5.pdf',\n",
       " '문서_4.pdf']"
      ]
     },
     "execution_count": 3,
     "metadata": {},
     "output_type": "execute_result"
    }
   ],
   "source": [
    "import os\n",
    "folder_path = \"temp/폴더/\"\n",
    "pdf_files = [f for f in os.listdir(folder_path) if f.lower().endswith(\".pdf\")]\n",
    "pdf_files"
   ]
  },
  {
   "cell_type": "code",
   "execution_count": 4,
   "metadata": {},
   "outputs": [
    {
     "name": "stderr",
     "output_type": "stream",
     "text": [
      "/var/folders/14/q73v_xlx3_x8kr742lgx5_sh0000gn/T/ipykernel_50127/2497576997.py:1: LangChainDeprecationWarning: The class `OpenAIEmbeddings` was deprecated in LangChain 0.0.9 and will be removed in 1.0. An updated version of the class exists in the :class:`~langchain-openai package and should be used instead. To use it run `pip install -U :class:`~langchain-openai` and import as `from :class:`~langchain_openai import OpenAIEmbeddings``.\n",
      "  embeddings = OpenAIEmbeddings()\n"
     ]
    }
   ],
   "source": [
    "embeddings = OpenAIEmbeddings()"
   ]
  },
  {
   "cell_type": "code",
   "execution_count": 5,
   "metadata": {},
   "outputs": [
    {
     "name": "stdout",
     "output_type": "stream",
     "text": [
      "파일: 문서_1.pdf\n",
      "파일: 문서_3.pdf\n"
     ]
    },
    {
     "name": "stderr",
     "output_type": "stream",
     "text": [
      "/Library/Frameworks/Python.framework/Versions/3.11/lib/python3.11/site-packages/langchain_community/document_loaders/parsers/pdf.py:300: UserWarning: Warning: Empty content on page 1 of document temp/폴더/문서_1.pdf\n",
      "  warnings.warn(\n",
      "/Library/Frameworks/Python.framework/Versions/3.11/lib/python3.11/site-packages/langchain_community/document_loaders/parsers/pdf.py:300: UserWarning: Warning: Empty content on page 3 of document temp/폴더/문서_1.pdf\n",
      "  warnings.warn(\n",
      "/Library/Frameworks/Python.framework/Versions/3.11/lib/python3.11/site-packages/langchain_community/document_loaders/parsers/pdf.py:300: UserWarning: Warning: Empty content on page 5 of document temp/폴더/문서_1.pdf\n",
      "  warnings.warn(\n",
      "/Library/Frameworks/Python.framework/Versions/3.11/lib/python3.11/site-packages/langchain_community/document_loaders/parsers/pdf.py:300: UserWarning: Warning: Empty content on page 7 of document temp/폴더/문서_1.pdf\n",
      "  warnings.warn(\n",
      "/Library/Frameworks/Python.framework/Versions/3.11/lib/python3.11/site-packages/langchain_community/document_loaders/parsers/pdf.py:300: UserWarning: Warning: Empty content on page 19 of document temp/폴더/문서_1.pdf\n",
      "  warnings.warn(\n",
      "/Library/Frameworks/Python.framework/Versions/3.11/lib/python3.11/site-packages/langchain_community/document_loaders/parsers/pdf.py:300: UserWarning: Warning: Empty content on page 21 of document temp/폴더/문서_1.pdf\n",
      "  warnings.warn(\n",
      "/Library/Frameworks/Python.framework/Versions/3.11/lib/python3.11/site-packages/langchain_community/document_loaders/parsers/pdf.py:300: UserWarning: Warning: Empty content on page 25 of document temp/폴더/문서_1.pdf\n",
      "  warnings.warn(\n",
      "/Library/Frameworks/Python.framework/Versions/3.11/lib/python3.11/site-packages/langchain_community/document_loaders/parsers/pdf.py:300: UserWarning: Warning: Empty content on page 27 of document temp/폴더/문서_1.pdf\n",
      "  warnings.warn(\n",
      "/Library/Frameworks/Python.framework/Versions/3.11/lib/python3.11/site-packages/langchain_community/document_loaders/parsers/pdf.py:300: UserWarning: Warning: Empty content on page 31 of document temp/폴더/문서_1.pdf\n",
      "  warnings.warn(\n"
     ]
    },
    {
     "name": "stdout",
     "output_type": "stream",
     "text": [
      "파일: 문서_2.pdf\n"
     ]
    },
    {
     "name": "stderr",
     "output_type": "stream",
     "text": [
      "/Library/Frameworks/Python.framework/Versions/3.11/lib/python3.11/site-packages/langchain_community/document_loaders/parsers/pdf.py:300: UserWarning: Warning: Empty content on page 0 of document temp/폴더/문서_2.pdf\n",
      "  warnings.warn(\n"
     ]
    },
    {
     "name": "stdout",
     "output_type": "stream",
     "text": [
      "파일: 문서_6.pdf\n",
      "파일: 문서_7.pdf\n",
      "파일: 문서_5.pdf\n"
     ]
    },
    {
     "name": "stderr",
     "output_type": "stream",
     "text": [
      "/Library/Frameworks/Python.framework/Versions/3.11/lib/python3.11/site-packages/langchain_community/document_loaders/parsers/pdf.py:300: UserWarning: Warning: Empty content on page 4 of document temp/폴더/문서_6.pdf\n",
      "  warnings.warn(\n"
     ]
    },
    {
     "name": "stdout",
     "output_type": "stream",
     "text": [
      "파일: 문서_4.pdf\n"
     ]
    }
   ],
   "source": [
    "docs =[]\n",
    "\n",
    "for idx in range(len(pdf_files)):\n",
    "    pdf_file_path = os.path.join(folder_path, pdf_files[idx])  # 첫 번째 PDF 파일 선택\n",
    "    file_name = os.path.basename(pdf_file_path)  # 파일 이름 추출\n",
    "    print(f\"파일: {file_name}\")\n",
    "    try :\n",
    "        pdf_loader = PyMuPDFLoader(pdf_file_path)\n",
    "        documents = await pdf_loader.aload()\n",
    "        pdf_text = \"\\n\".join([doc.page_content for doc in documents])\n",
    "        TEXT_SPLITTER = RecursiveCharacterTextSplitter(chunk_size=1600, chunk_overlap=800)\n",
    "        split_docs = TEXT_SPLITTER.create_documents([pdf_text])\n",
    "        docs.extend(split_docs)\n",
    "    \n",
    "    except Exception as e:\n",
    "        print(f\"실패한 파일: {file_name}, 오류: {e}\")"
   ]
  },
  {
   "cell_type": "code",
   "execution_count": 7,
   "metadata": {},
   "outputs": [],
   "source": [
    "vectordb = Chroma.from_documents(\n",
    "    documents=docs,\n",
    "    embedding=embeddings,\n",
    "    persist_directory=\"./chroma_db\",\n",
    "    collection_name=\"adaptive_rag\"\n",
    ")"
   ]
  },
  {
   "cell_type": "code",
   "execution_count": 9,
   "metadata": {},
   "outputs": [
    {
     "data": {
      "text/plain": [
       "[Document(metadata={}, page_content='중소ㆍ중견 수출기업 지원제도 안내  |  05\\nK-SURE의 해외지사 및 전세계 신용조사기관을 통해 정보를 조사한 후 \\n신청인에게 신용조사 보고서를 제공하는 서비스\\n수입자 신용조사 이용절차입니다.\\n   신용조사 신청 → 신용조사 및 평가 → 보고서 제공 및 조회 → 수수료 납부의 순서로 이용 \\n 신용조사 신청\\n・ [사이버영업점 - 국외기업신용조사 - 신청/조회 - 신용조사 신청] 메뉴 선택 \\n・ 공사 DB검색 \\n・ 조사방법 선택(구매/신규신청) \\n・ 수입자 기본정보* 입력 → 신청완료\\n* 주요정보 : 국가, 상호, 대표자명, 주소, 전화번호, 국외기업조사협조 여부, 상장 여부 등\\n공사에 의한 \\n신용조사 및 평가\\n・ 보고서 접수(평균 조사기간 2~3주가량 소요) \\n・ 접수된 보고서 검토 후 등급평가\\n보고서 제공 및 조회\\n・ 신청자 이메일로 보고서 발송\\n・ 사이버영업점에서도 보고서 조회 가능\\n(국외기업신용조사 – 신청/조회 – 신청내역/보고서 조회) 메뉴에서 조회\\n수수료 납부\\n・ 신청시 선택한 납부방법에 따라 납부\\n- (가상계좌 입금) 세금계산서에 표시된 가상계좌로 수수료 납부\\n- (신용카드 결제) 조사보고서 제공월 말일까지 결제\\n*  신용카드 결제는 중소ㆍ중견기업에 한해 가능하며, 결제기일 내 카드결제가 안 된 경우에는 \\n세금계산서 발급 내용에 따라 계좌이체로 납부하여야 함\\n신용조사 수수료입니다.\\n   조사보고서는 수출지원 차원에서 저렴하게 제공, 보고서 종류 등에 따라  수수료 상이\\n보고서\\n종류\\n신청기업 규모\\n가격(VAT 포함)\\n일반조사\\n재무제표미비\\n신용조사 불가자/\\n장기소요(40일초과)\\n요약\\n보고서\\n중소ㆍ중견기업\\n33,000원\\n22,000원\\n면제\\n대기업\\n66,000원\\n22,000원\\n면제\\nFull Report\\n중소ㆍ중견기업\\n49,500원\\n33,000원\\n면제\\n대기업\\n99,000원\\n33,000원\\n면제\\n*  현지사정에 따라 재무자료를 입수하지 못하는 경우 보고서 내에 재무자료가 포함되지 않을 수 있으며, 이런 경우 \\n재무제표미비 비용 적용\\n*  보고서 샘플은 공사 홈페이지 → 사업안내 → 국외기업신용조사 서비스 → 제도개요 → 샘플보기에서 확인 가능\\n3   수입자 신용조사 서비스\\n담당부서 : 조사부'),\n",
       " Document(metadata={}, page_content='였다. \\n제4장 무역보험 운영실무\\n167\\n표1\\n수출건별 선적 및 결제 현황\\n구분\\n수출금액\\n선적일\\n만기일\\n결제일\\n사고금액\\n비 고\\n1\\nU$25,000\\n2020.2.14\\n2020.3.13\\n2020.4.21\\n-\\n보험 부보\\n2\\nU$30,000\\n2020.4.11\\n2020.5.10\\n2020.4.22\\n-\\n보험 미부보\\n3\\nU$27,000\\n2020.4.17\\n2020.5.16\\n미결제 \\nU$27,000\\n보험 부보\\n4\\nU$20,000\\n2020.4.24\\n2020.5.23\\n미결제\\nU$20,000\\n보험 부보\\n사고조사 과정에서 인수한도 청약 시 미결제상태였던 이전 거래건의 존재가 \\n밝혀졌고, 이는 단기수출보험(선적후) 약관 제9조(보험계약전 알릴 의무)의 보\\n험계약자의 중요사항 고지 의무위반에 해당되어 한국무역보험공사는 단기수출\\n보험(선적후) 약관 제8조(보험계약의 해지)에 의거 보험관계를 해지하고 보험\\n금 지급을 거절하였다. 단기수출보험(선적후) 약관 제9조에서는 보험계약자는 \\n인수한도 신청 및 수출통지시에 공사가 서면으로 요구한 사항 및 기타 손실을 \\n입을 우려가 있는 중요한 사실을 한국무역보험공사공사에 알려야 한다고 규정\\n하고 있는데, 수입자의 신용도 및 결제태도와 관련된 사항은 중요한 사항으로 \\n반드시 한국무역보험공사공사에 고지하여야 한다. 보험청약서상 만기일 연장 \\n경험, 만기도래 미결제내용 등을 기재하도록 정하고 있는데, 이는 상법 제651\\n조의2에서 규정하고 있는 ‘보험자가 서면으로 질문한 사항은 중요한 사항으로 \\n추정한다’에 해당된다. 따라서 보험청약서에 사실대로 기재하지 않은 경우 고\\n지의무위반이 된다. \\n나) 연속수출\\n수출자 A사는 멕시코 수입자 B사와 수출거래를 진행하면서 수입자의 결제지\\n연 중인 기간에 물품을 추가 수출(선적)하였다.'),\n",
       " Document(metadata={}, page_content='정재분류 이후 1년간으로 제한된다. 원조 의정서 및 신용한도의 갱신은 적격 \\n대상기준(국가기준 및 프로젝트 기준)에 부합하는 조건으로만 가능하다.\\n(4) 절차(제4장)\\n제4장 절차에서는 ⅰ) 수출신용 및 무역관련원조의 공통절차 ⅱ) 수출신용에 \\n제3장 공적수출신용 관련 국제규범\\n113\\n대한 절차 ⅲ) 무역관련 원조에 대한 절차 ⅳ) 타이드원조에 대한 협의절차 \\nⅴ) 수출신용 및 무역관련원조에 대한 정보교환 ⅵ) 검토(Review)를 규정하\\n고 있다.\\n수출신용 및 무역관련원조의 공통절차에는 통보, 공적지원에 관한 정보, 매\\n칭과정, 특별협의 등을 규정하고 있는데, 그 중 통보를 보면, 수출신용협약의 \\n절차에서 규정된 통보는 부속서 Ⅶ(통지에 포함될 정보)에 따라 그리고 부속서 \\nⅦ의 표준양식에 따라 이루어져야 하며, 사무국에 사본이 송부되어야 한다. 마\\n지막으로 검토에서는 수출신용협약에 대한 정례적 검토, 최저이자율 검토, 최\\n저보험(보증)료(MPR) 및 관련 쟁점 검토, 현지비용에 대한 공적지원 검토 등을 \\n규정하고 있다.\\n제4절 국내 법규\\n1. 개설\\n현재 우리나라에서 무역보험에 대한 기본법은 「무역보험법」이다. 우리나라\\n에서는 1968년에 「수출보험법」을 제정하여 1969년부터 수출보험을 운영해 왔\\n는데, 2010년에 법개정을 통하여 수출보험의 적용대상을 수출에서 무역으로 \\n확대하여 수입보험을 추가하고 「수출보험법」의 제명을 「무역보험법」으로 변경\\n하였다. \\n무역보험법에서의 ‘무역’은 「대외무역법」상의 수출과 수입을 말하는바, 무역\\n보험의 대상을 정확히 이해하기 위해서는 대외무역법에서의 수출과 수입에 대\\n한 이해도 필요하다. 대외무역법에서는 수출입의 정의, 무역관리기관, 수출입\\n실적, 수출입승인 및 제한 등을 규정하고 있다.')]"
      ]
     },
     "execution_count": 9,
     "metadata": {},
     "output_type": "execute_result"
    }
   ],
   "source": [
    "results = vectordb.similarity_search(\"신용조사 수수료\", k=3)\n",
    "results"
   ]
  },
  {
   "cell_type": "code",
   "execution_count": 10,
   "metadata": {},
   "outputs": [
    {
     "data": {
      "text/plain": [
       "VectorStoreRetriever(name='adaptive_rag', tags=['Chroma', 'OpenAIEmbeddings'], vectorstore=<langchain_community.vectorstores.chroma.Chroma object at 0x110fbde50>, search_kwargs={})"
      ]
     },
     "execution_count": 10,
     "metadata": {},
     "output_type": "execute_result"
    }
   ],
   "source": [
    "retriever = vectordb.as_retriever(name=\"adaptive_rag\")\n",
    "retriever"
   ]
  },
  {
   "cell_type": "markdown",
   "metadata": {},
   "source": [
    "**(2) Adaptive RAG basic**"
   ]
  },
  {
   "cell_type": "code",
   "execution_count": 13,
   "metadata": {},
   "outputs": [],
   "source": [
    "from typing import Literal\n",
    "from langchain_core.prompts import ChatPromptTemplate\n",
    "from pydantic import BaseModel, Field"
   ]
  },
  {
   "cell_type": "code",
   "execution_count": 14,
   "metadata": {},
   "outputs": [],
   "source": [
    "# Data model\n",
    "class RouteQuery(BaseModel):\n",
    "    \"\"\"Route a user query to the most relevant datasource.\"\"\"\n",
    "    \n",
    "    datasource: Literal[\"file_search\", \"common\"] = Field(\n",
    "        description=\"\"\"Given a user question choose to route it to file_search or a common\"\"\"\n",
    "    )\n",
    "    "
   ]
  },
  {
   "cell_type": "code",
   "execution_count": 15,
   "metadata": {},
   "outputs": [
    {
     "data": {
      "text/plain": [
       "RunnableBinding(bound=ChatOpenAI(client=<openai.resources.chat.completions.Completions object at 0x17a6e9b50>, async_client=<openai.resources.chat.completions.AsyncCompletions object at 0x1326f65d0>, root_client=<openai.OpenAI object at 0x107f18050>, root_async_client=<openai.AsyncOpenAI object at 0x179c6e090>, model_name='gpt-4o-mini', temperature=0.0, model_kwargs={}, openai_api_key=SecretStr('**********')), kwargs={'tools': [{'type': 'function', 'function': {'name': 'RouteQuery', 'description': 'Route a user query to the most relevant datasource.', 'parameters': {'properties': {'datasource': {'description': 'Given a user question choose to route it to file_search or a common', 'enum': ['file_search', 'common'], 'type': 'string'}}, 'required': ['datasource'], 'type': 'object'}}}], 'parallel_tool_calls': False, 'tool_choice': {'type': 'function', 'function': {'name': 'RouteQuery'}}}, config={}, config_factories=[])\n",
       "| PydanticToolsParser(first_tool_only=True, tools=[<class '__main__.RouteQuery'>])"
      ]
     },
     "execution_count": 15,
     "metadata": {},
     "output_type": "execute_result"
    }
   ],
   "source": [
    "from langchain_openai import ChatOpenAI\n",
    "gpt = ChatOpenAI(model=\"gpt-4o-mini\", temperature=0)\n",
    "\n",
    "structured_llm_router = gpt.with_structured_output(RouteQuery)\n",
    "structured_llm_router"
   ]
  },
  {
   "cell_type": "code",
   "execution_count": 20,
   "metadata": {},
   "outputs": [
    {
     "name": "stdout",
     "output_type": "stream",
     "text": [
      "================================\u001b[1m System Message \u001b[0m================================\n",
      "\n",
      "You are an expert at routing user questions to file_search.\n",
      "file_search contains documents related to trade, policy, transactions, sales, agency opinions, terms and conditions, exemptions by business type, and website business guide materials.\n",
      "If a question is related to Credit Inquiry, policies, trade support programs, transaction regulations, exemptions, or business-related guidelines, always route it to file_search.\n",
      "For all other general inquiries, route them to common.\n",
      "\n",
      "\n",
      "================================\u001b[1m Human Message \u001b[0m=================================\n",
      "\n",
      "\u001b[33;1m\u001b[1;3m{question}\u001b[0m\n",
      "None\n"
     ]
    }
   ],
   "source": [
    "#Prompt\n",
    "\n",
    "from langchain_core.messages import HumanMessage, SystemMessage\n",
    "\n",
    "system = \"\"\"You are an expert at routing user questions to file_search.\n",
    "file_search contains documents related to trade, policy, transactions, sales, agency opinions, terms and conditions, exemptions by business type, and website business guide materials.\n",
    "If a question is related to Credit Inquiry, policies, trade support programs, transaction regulations, exemptions, or business-related guidelines, always route it to file_search.\n",
    "For all other general inquiries, route them to common.\n",
    "\"\"\"\n",
    "\n",
    "route_prompt = ChatPromptTemplate.from_messages(\n",
    "    [\n",
    "        (\"system\", system),\n",
    "        (\"human\", \"{question}\"),\n",
    "    ]\n",
    ")\n",
    "\n",
    "print(route_prompt.pretty_print())"
   ]
  },
  {
   "cell_type": "code",
   "execution_count": 21,
   "metadata": {},
   "outputs": [
    {
     "data": {
      "text/plain": [
       "ChatPromptTemplate(input_variables=['question'], input_types={}, partial_variables={}, messages=[SystemMessagePromptTemplate(prompt=PromptTemplate(input_variables=[], input_types={}, partial_variables={}, template='You are an expert at routing user questions to file_search.\\nfile_search contains documents related to trade, policy, transactions, sales, agency opinions, terms and conditions, exemptions by business type, and website business guide materials.\\nIf a question is related to Credit Inquiry, policies, trade support programs, transaction regulations, exemptions, or business-related guidelines, always route it to file_search.\\nFor all other general inquiries, route them to common.\\n'), additional_kwargs={}), HumanMessagePromptTemplate(prompt=PromptTemplate(input_variables=['question'], input_types={}, partial_variables={}, template='{question}'), additional_kwargs={})])\n",
       "| RunnableBinding(bound=ChatOpenAI(client=<openai.resources.chat.completions.Completions object at 0x17a6e9b50>, async_client=<openai.resources.chat.completions.AsyncCompletions object at 0x1326f65d0>, root_client=<openai.OpenAI object at 0x107f18050>, root_async_client=<openai.AsyncOpenAI object at 0x179c6e090>, model_name='gpt-4o-mini', temperature=0.0, model_kwargs={}, openai_api_key=SecretStr('**********')), kwargs={'tools': [{'type': 'function', 'function': {'name': 'RouteQuery', 'description': 'Route a user query to the most relevant datasource.', 'parameters': {'properties': {'datasource': {'description': 'Given a user question choose to route it to file_search or a common', 'enum': ['file_search', 'common'], 'type': 'string'}}, 'required': ['datasource'], 'type': 'object'}}}], 'parallel_tool_calls': False, 'tool_choice': {'type': 'function', 'function': {'name': 'RouteQuery'}}}, config={}, config_factories=[])\n",
       "| PydanticToolsParser(first_tool_only=True, tools=[<class '__main__.RouteQuery'>])"
      ]
     },
     "execution_count": 21,
     "metadata": {},
     "output_type": "execute_result"
    }
   ],
   "source": [
    "question_router = route_prompt | structured_llm_router\n",
    "\n",
    "question_router"
   ]
  },
  {
   "cell_type": "code",
   "execution_count": 22,
   "metadata": {},
   "outputs": [
    {
     "name": "stdout",
     "output_type": "stream",
     "text": [
      "datasource='common'\n",
      "datasource='file_search'\n"
     ]
    }
   ],
   "source": [
    "print(\n",
    "    question_router.invoke(\n",
    "        {\"question\": \"안녕?\"}\n",
    "    )\n",
    ")\n",
    "\n",
    "\n",
    "print(question_router.invoke({\"question\" : \"신용조사 수수료 얼마야?\"}))"
   ]
  },
  {
   "cell_type": "code",
   "execution_count": 23,
   "metadata": {},
   "outputs": [],
   "source": [
    "question = \"신용조사 수수료가 얼마인가요\""
   ]
  },
  {
   "cell_type": "code",
   "execution_count": 24,
   "metadata": {},
   "outputs": [],
   "source": [
    "#Retrieval Grader\n",
    "\n",
    "# Data model\n",
    "\n",
    "class GradeDocuments(BaseModel):\n",
    "    \"\"\"Binary score for relevance check on retrieved documents.\"\"\"\n",
    "    \n",
    "    binaray_score: str = Field(\n",
    "        description=\"Documents are relevant to the question, 'yes' or 'no'\"\n",
    "        \n",
    "    )"
   ]
  },
  {
   "cell_type": "code",
   "execution_count": 25,
   "metadata": {},
   "outputs": [
    {
     "data": {
      "text/plain": [
       "RunnableBinding(bound=ChatOpenAI(client=<openai.resources.chat.completions.Completions object at 0x17a6e9b50>, async_client=<openai.resources.chat.completions.AsyncCompletions object at 0x1326f65d0>, root_client=<openai.OpenAI object at 0x107f18050>, root_async_client=<openai.AsyncOpenAI object at 0x179c6e090>, model_name='gpt-4o-mini', temperature=0.0, model_kwargs={}, openai_api_key=SecretStr('**********')), kwargs={'tools': [{'type': 'function', 'function': {'name': 'GradeDocuments', 'description': 'Binary score for relevance check on retrieved documents.', 'parameters': {'properties': {'binaray_score': {'description': \"Documents are relevant to the question, 'yes' or 'no'\", 'type': 'string'}}, 'required': ['binaray_score'], 'type': 'object'}}}], 'parallel_tool_calls': False, 'tool_choice': {'type': 'function', 'function': {'name': 'GradeDocuments'}}}, config={}, config_factories=[])\n",
       "| PydanticToolsParser(first_tool_only=True, tools=[<class '__main__.GradeDocuments'>])"
      ]
     },
     "execution_count": 25,
     "metadata": {},
     "output_type": "execute_result"
    }
   ],
   "source": [
    "structured_llm_grader = gpt.with_structured_output(GradeDocuments)\n",
    "structured_llm_grader"
   ]
  },
  {
   "cell_type": "code",
   "execution_count": 27,
   "metadata": {},
   "outputs": [
    {
     "name": "stdout",
     "output_type": "stream",
     "text": [
      "binaray_score='no'\n"
     ]
    }
   ],
   "source": [
    "# Prompt\n",
    "system = \"\"\"You are a grader assesssing relevance of a retrieved documents to a user question. \\n\n",
    "If the document contains keyword(s) or semantic meaning related to the user question, grade it as relevant \\n\n",
    "It does not need to be a stringent test. The goal is to filter out erroneous retrievals. \\n\n",
    "Give a binary score 'yes' or 'no' score to indicate whether the document is relevant to the question.\"\"\"\n",
    "\n",
    "\n",
    "grade_prompt = ChatPromptTemplate.from_messages(\n",
    "    [\n",
    "        (\"system\", system),\n",
    "        (\"human\", \"Retrieved document: \\n\\n {document} \\n\\n User qusetion : {question}\")\n",
    "    ]\n",
    ")\n",
    "\n",
    "retrieval_grader = grade_prompt | structured_llm_grader\n",
    "docs = retriever.invoke(question)\n",
    "doc_text = docs[1].page_content\n",
    "print(retrieval_grader.invoke({\"question\": question, \"document\":doc_text}))"
   ]
  },
  {
   "cell_type": "code",
   "execution_count": 29,
   "metadata": {},
   "outputs": [
    {
     "data": {
      "text/plain": [
       "'8. 자주하는 질문(FAQ)\\n단기수출보험 한도를 받았는데 이걸로 보험에 든 것인지요?\\n한도를 부여받은 것만으로는 보험관계가 성립하지 않습니다. 수출통지를 함으로써 보험관계가 성립\\n되며, 이에 대한 보험료까지 납부가 완료되어야 보험계약이 체결된 것입니다. (단, 수출통지 필요 \\n종목에 한 함)\\n또한 수출통지를 한 경우에도 통지 지연, 인수한도 초과, 수출자 또는 수입자 등급 제한 등의 사유로 \\n보험관계가 성립되지 않은 수출통지건은 반송되오니 통지건에 대한 최종 보험관계 성립 여부를 \\n확인하시기 바랍니다. \\nQ\\nA\\n선적을 이미 하였는데, 단기수출보험 가입(한도책정)이 가능한가요?\\n이미 수출물품을 선적한 후에는 단기수출보험 가입(한도책정)이 불가능합니다. K-SURE의 한도책정 \\n소요시간을 감안하여 수출자는 최소 선적 10일 이전에 보험한도를 신청(청약) 하시어 선적 전에 \\n보험한도를 책정받으시기 바랍니다.\\nQ\\nA\\n수입자와 오랜 기간 거래했는데 통상적으로 만기가 지난 일부 미수금이 있습니다. 이 경우 \\n단기수출보험 청약을 하면 가능한지요?\\n만기경과 미결제금액이 있는 경우, 보험청약이 제한되게 됩니다. 수출입자간 미결제금액 결제 완료 \\n후 보험청약을 진행해 주시기 바랍니다.\\nQ\\nA\\n위탁가공무역과 중계무역의 차이는 무엇인지요?\\n공사 약관상 위탁가공무역은 국내기업의 해외현지법인이 생산, 가공한 물품 또는 국내기업이 위탁\\n하여 외국에서 가공한 물품을 수출하는 계약이며, \\n중계무역은 수출을 목적으로 물품을 수입하여 제3국으로 수출하는 거래로 정의됩니다. 중계무역은 \\n수입가격과 수출가격의 차이를 이용한 중계수수료 수취에 주목적이 있고, 국내 산업 발전 및 고용 \\n창출에 기여하는 바가 상대적으로 적기 때문에 수출보험 이용시 건별인수가 원칙인 등 위탁가공무역 \\n대비 제한사항이 많습니다.\\nQ\\nA\\nL/C 은행이 인수가능 은행인지 여부를 어디서 확인 가능한가요?\\n사이버영업점 > 조회서비스 > 기업/국외은행 > 국외은행조회\\nQ\\nA\\n국별인수방침은 어디서 확인 가능한가요?\\n사이버영업점 > 조회서비스 > 국가 > 국별인수방침조회 또는 \\nK-SURE 해외신용정보센터 > 보고서&자료 > 국별인수방침 참조\\nQ\\nA\\n단기수출보험을 담보로 은행에서 네고가 가능한가요?\\n사전에 외국환거래은행 앞 단기수출보험 청구권 담보부 네고 가능 여부에 대해 확인하신 후, 보험금 \\n청구권 양수인을 당해 외국환은행으로 지정하고 공사 담당자의 안내를 받아 청구권 양수도 승인 \\n절차를 밟아 주시면 네고가 가능할 수 있습니다.\\nQ\\nA\\n단기수출보험료 납부일자 및 보험료, 연체료는 어디서 알 수 있나요?\\n사이버영업점 > 조회서비스 > 보증/보험료 > 보험(증)료 납부 및 조회 또는 연체금 조회\\nQ\\nA\\n44\\n45\\n무역보험 제도안내\\n5 -Ⅰ 단기수출보험(선적후)'"
      ]
     },
     "execution_count": 29,
     "metadata": {},
     "output_type": "execute_result"
    }
   ],
   "source": [
    "doc_text"
   ]
  },
  {
   "cell_type": "code",
   "execution_count": 31,
   "metadata": {},
   "outputs": [
    {
     "name": "stderr",
     "output_type": "stream",
     "text": [
      "/Library/Frameworks/Python.framework/Versions/3.11/lib/python3.11/site-packages/langsmith/client.py:241: LangSmithMissingAPIKeyWarning: API key must be provided when using hosted LangSmith API\n",
      "  warnings.warn(\n"
     ]
    },
    {
     "name": "stdout",
     "output_type": "stream",
     "text": [
      "신용조사 수수료에 대한 구체적인 정보는 제공된 문서에 포함되어 있지 않습니다. 따라서 신용조사 수수료가 얼마인지에 대한 답변을 드릴 수 없습니다.\n"
     ]
    }
   ],
   "source": [
    "## Generate\n",
    "\n",
    "from langchain import hub\n",
    "from langchain_core.output_parsers import StrOutputParser\n",
    "\n",
    "prompt = hub.pull('rlm/rag-prompt')\n",
    "\n",
    "def format_cods(docs):\n",
    "    return \"\\n\\n\".join(doc.page_content for doc in docs)\n",
    "\n",
    "rag_chain = prompt | gpt | StrOutputParser()\n",
    "\n",
    "generation = rag_chain.invoke({\"context\": docs, \"question\": question})\n",
    "print(generation)"
   ]
  },
  {
   "cell_type": "code",
   "execution_count": 32,
   "metadata": {},
   "outputs": [
    {
     "data": {
      "text/plain": [
       "GradeHallucinations(binary_score='no')"
      ]
     },
     "execution_count": 32,
     "metadata": {},
     "output_type": "execute_result"
    }
   ],
   "source": [
    "### Hallucination Grader\n",
    "\n",
    "#Data model\n",
    "\n",
    "class GradeHallucinations(BaseModel):\n",
    "    \"\"\"Binary score for hallucination persent in generation answer.\"\"\"\n",
    "    \n",
    "    binary_score: str = Field(\n",
    "        description=\"Answer is grounded in the facts, 'yes' or 'no\"\n",
    "\n",
    "    )\n",
    "    \n",
    "structured_llm_grader = gpt.with_structured_output(GradeHallucinations)\n",
    "\n",
    "system = \"\"\"You are a grader assessing whether an LLM generation is grounded in / supported by a set of retrieved facts.\n",
    "Give a binary score 'yes' or 'no'. 'Yes means that the answer is grounded in / supported by the set of facts.\"\"\"\n",
    "\n",
    "hallucination_prompt = ChatPromptTemplate.from_messages(\n",
    "    [\n",
    "        (\"system\", system),\n",
    "        (\"human\", \"Set of facts : \\n\\n {documents} \\n\\n LLM generation : {generation}\"),\n",
    "    ]\n",
    ")\n",
    "\n",
    "hallucination_grader = hallucination_prompt  | structured_llm_grader\n",
    "hallucination_grader.invoke({\"documents\": docs, \"generation\" : generation})"
   ]
  },
  {
   "cell_type": "code",
   "execution_count": 33,
   "metadata": {},
   "outputs": [
    {
     "data": {
      "text/plain": [
       "GradeAnswer(binary_score='no')"
      ]
     },
     "execution_count": 33,
     "metadata": {},
     "output_type": "execute_result"
    }
   ],
   "source": [
    "### Answer Grade\n",
    "\n",
    "# Data model\n",
    "class GradeAnswer(BaseModel):\n",
    "    \"\"\"Binary score to assess answer addresses question.\"\"\"\n",
    "    binary_score : str = Field(\n",
    "        description=\"Answer addresses the quesiton, 'yes' or 'no'\"\n",
    "    )\n",
    "    \n",
    "structured_llm_grader = gpt.with_structured_output(GradeAnswer)\n",
    "\n",
    "system = \"\"\"You are a grader assessing whether an answer addresses / resolves a question\n",
    "Give a binary score 'yes' or 'no'. 'Yes' means that the answer resolves the question.\"\"\"\n",
    "\n",
    "answer_prompt = ChatPromptTemplate.from_messages(\n",
    "    [\n",
    "        (\"system\", system),\n",
    "        (\"human\", \"User question: \\n\\n{question} \\n\\n LLM generation: {generation}\")\n",
    "    ]\n",
    ")\n",
    "\n",
    "answer_grader  = answer_prompt | structured_llm_grader\n",
    "answer_grader.invoke({\"question\": question, \"generation\" : generation})\n"
   ]
  },
  {
   "cell_type": "code",
   "execution_count": null,
   "metadata": {},
   "outputs": [],
   "source": []
  },
  {
   "cell_type": "code",
   "execution_count": 34,
   "metadata": {},
   "outputs": [
    {
     "data": {
      "text/plain": [
       "'신용조사 서비스의 수수료는 얼마인가요?'"
      ]
     },
     "execution_count": 34,
     "metadata": {},
     "output_type": "execute_result"
    }
   ],
   "source": [
    "### Question Re-writer\n",
    "\n",
    "system = \"\"\"Your a question re-writer that converts an input question to a better version that is optimized for\n",
    "vectorstore retrieval. Look at the input and try to reason about the underlying semantic intent / meaning.\n",
    "Answer the question language.\"\"\"\n",
    "\n",
    "\n",
    "re_write_prompt = ChatPromptTemplate.from_messages(\n",
    "    [\n",
    "        (\"system\", system),\n",
    "        (\"human\", \"\"\"Here is the initial question : \\n\\n {question} Formulate an improved question.\n",
    "         \"\"\")\n",
    "    ]\n",
    ")\n",
    "\n",
    "question_rewriter = re_write_prompt | gpt | StrOutputParser()\n",
    "question_rewriter.invoke({\"question\" : question})"
   ]
  },
  {
   "cell_type": "markdown",
   "metadata": {},
   "source": [
    "**general prompt**"
   ]
  },
  {
   "cell_type": "code",
   "execution_count": 35,
   "metadata": {},
   "outputs": [],
   "source": [
    "from langchain_core.prompts import ChatPromptTemplate"
   ]
  },
  {
   "cell_type": "code",
   "execution_count": 36,
   "metadata": {},
   "outputs": [
    {
     "name": "stdout",
     "output_type": "stream",
     "text": [
      "================================\u001b[1m System Message \u001b[0m================================\n",
      "\n",
      "Tell the user that you can't find the relevant documentation and are replacing it with a general answer.\n",
      "Then, answer the user's question in the **same language** as the question was asked.\n",
      "Detect the language of the user's question and ensure your response is in that language.\n",
      "If the question is in Korean, respond in Korean. If it's in another language, use that language.\n",
      "\n",
      "================================\u001b[1m Human Message \u001b[0m=================================\n",
      "\n",
      "User question (maintain original language):\n",
      "\u001b[33;1m\u001b[1;3m{question}\u001b[0m\n"
     ]
    }
   ],
   "source": [
    "system = \"\"\"Tell the user that you can't find the relevant documentation and are replacing it with a general answer.\n",
    "Then, answer the user's question in the **same language** as the question was asked.\n",
    "Detect the language of the user's question and ensure your response is in that language.\n",
    "If the question is in Korean, respond in Korean. If it's in another language, use that language.\"\"\"\n",
    "\n",
    "llm_answer_template = ChatPromptTemplate.from_messages(\n",
    "    [\n",
    "        (\"system\", system),\n",
    "        (\"human\", \"User question (maintain original language):\\n{question}\")\n",
    "    ]\n",
    ")\n",
    "\n",
    "\n",
    "llm_answer_template.pretty_print()"
   ]
  },
  {
   "cell_type": "code",
   "execution_count": 38,
   "metadata": {},
   "outputs": [
    {
     "data": {
      "text/plain": [
       "'관련 문서를 찾을 수 없어 일반적인 답변으로 대체하겠습니다.\\n\\n중소기업의 수수료는 업종, 거래 규모, 서비스 제공업체에 따라 다를 수 있습니다. 일반적으로 은행이나 결제 서비스 제공업체에서 부과하는 수수료는 1%에서 3% 사이일 수 있으며, 특정 서비스나 계약 조건에 따라 달라질 수 있습니다. 보다 정확한 정보는 해당 서비스 제공업체에 직접 문의하는 것이 좋습니다.'"
      ]
     },
     "execution_count": 38,
     "metadata": {},
     "output_type": "execute_result"
    }
   ],
   "source": [
    "llm_generate_chain = llm_answer_template | gpt\n",
    "llm_generate_chain.invoke(\"중소기업 수수료는 얼마일까요?\").content"
   ]
  },
  {
   "cell_type": "code",
   "execution_count": 40,
   "metadata": {},
   "outputs": [],
   "source": [
    "class ReWriteQuery(BaseModel):\n",
    "    \"\"\"Re-writer that converts an input question to a better version that is optimized for vectorstore retrieval\n",
    "    The output is in the same language as the input question.\"\"\"\n",
    "    query: str = Field(\n",
    "        description=\"\"\"Rewrites the input question to be grammatically correct and clearly convey its meaning while optimizing it for better retrieval in a vector store. \n",
    "        The output is in the same language as the input question.\"\"\"\n",
    "\n",
    "    )"
   ]
  },
  {
   "cell_type": "code",
   "execution_count": 41,
   "metadata": {},
   "outputs": [],
   "source": [
    "from langchain.output_parsers import PydanticOutputParser\n",
    "structured_llm_grader = PydanticOutputParser(pydantic_object=ReWriteQuery)"
   ]
  },
  {
   "cell_type": "code",
   "execution_count": 43,
   "metadata": {},
   "outputs": [],
   "source": [
    "from langchain_core.prompts import PromptTemplate\n",
    "\n",
    "system = \"\"\"Your a question re-writer that converts an input question to a better version that is optimized for\n",
    "vectorstore retrieval. Look at the input and try to reason about the underlying semantic intent / meaning.\n",
    "Answer the question language.\"\"\""
   ]
  },
  {
   "cell_type": "code",
   "execution_count": 44,
   "metadata": {},
   "outputs": [
    {
     "name": "stdout",
     "output_type": "stream",
     "text": [
      "Your a question re-writer that converts an input question to a better version that is optimized for\n",
      "vectorstore retrieval. Look at the input and try to reason about the underlying semantic intent / meaning.\n",
      "Answer the question language.\n",
      "Here is the initial question : \n",
      "\n",
      "Formulate an improved question. \n",
      "The output should be formatted as a JSON instance that conforms to the JSON schema below.\n",
      "\n",
      "As an example, for the schema {\"properties\": {\"foo\": {\"title\": \"Foo\", \"description\": \"a list of strings\", \"type\": \"array\", \"items\": {\"type\": \"string\"}}}, \"required\": [\"foo\"]}\n",
      "the object {\"foo\": [\"bar\", \"baz\"]} is a well-formatted instance of the schema. The object {\"properties\": {\"foo\": [\"bar\", \"baz\"]}} is not well-formatted.\n",
      "\n",
      "Here is the output schema:\n",
      "```\n",
      "{\"description\": \"Re-writer that converts an input question to a better version that is optimized for vectorstore retrieval\\nThe output is in the same language as the input question.\", \"properties\": {\"query\": {\"description\": \"Rewrites the input question to be grammatically correct and clearly convey its meaning while optimizing it for better retrieval in a vector store. \\n        The output is in the same language as the input question.\", \"title\": \"Query\", \"type\": \"string\"}}, \"required\": [\"query\"]}\n",
      "```\n",
      "#input question:\n",
      "\u001b[33;1m\u001b[1;3m{question}\u001b[0m\n"
     ]
    }
   ],
   "source": [
    "re_write_template = PromptTemplate.from_template(\n",
    "    template= \"{system}\\nHere is the initial question : \\n\\nFormulate an improved question. \\n{format_instructions}\\n#input question:\\n{question}\",\n",
    "    partial_variables={\"system\":system, 'format_instructions':structured_llm_grader.get_format_instructions()}\n",
    ")\n",
    "\n",
    "re_write_template.pretty_print()"
   ]
  },
  {
   "cell_type": "code",
   "execution_count": 45,
   "metadata": {},
   "outputs": [
    {
     "data": {
      "text/plain": [
       "ReWriteQuery(query='신용조사 수수료의 정확한 금액은 얼마인가요?')"
      ]
     },
     "execution_count": 45,
     "metadata": {},
     "output_type": "execute_result"
    }
   ],
   "source": [
    "from langchain_core.runnables import RunnableLambda\n",
    "\n",
    "question_rewriter = (\n",
    "    RunnableLambda(lambda input_dict: re_write_template.format(**input_dict))\n",
    "    | RunnableLambda(lambda prompt : gpt.invoke(prompt).content)\n",
    "    | structured_llm_grader\n",
    ")\n",
    "\n",
    "answer = question_rewriter.invoke({\"question\" : question})\n",
    "answer"
   ]
  },
  {
   "cell_type": "code",
   "execution_count": 46,
   "metadata": {},
   "outputs": [],
   "source": [
    "re_docs = docs = retriever.invoke(answer.query)\n",
    "re_doc_text = re_docs[1].page_content\n",
    "\n",
    "re_generation = rag_chain.invoke({\"context\": re_docs, \"question\": answer.query})"
   ]
  },
  {
   "cell_type": "code",
   "execution_count": 47,
   "metadata": {},
   "outputs": [
    {
     "data": {
      "text/plain": [
       "Document(metadata={}, page_content='5. 신용조사 수수료 및 납부방법\\n \\x07신용조사 수수료(VAT 포함 가격)\\n보고서종류\\n기업규모\\n일반\\n재무제표 미비*\\n신용조사 불가자 또는 \\n장기소요(40일 초과)\\n요약보고서\\n중소중견기업\\n33,000원\\n22,000원\\n면제\\n대기업\\n66,000원\\nFull Report\\n중소중견기업\\n49,500원\\n33,000원\\n대기업\\n99,000원\\n* 주요 재무정보만 있는 경우도 포함\\n• \\x07K-SURE는 고객의 원활한 대외거래를 지원하기 위해 상당 규모의 조사비용을 자체적으로 부담하고 있습니다. \\n 수수료 청구 및 납부방법\\n수납방식\\n청구방법\\n납부\\n가상계좌\\n입금\\n• \\x07당월 중 조사완료건 전체에 대한 수수료 일괄 청구 및 세금\\n계산서 발행 \\n☞ 조사 완료일 익월 첫영업일\\n☞ \\x07마스터대표사용자 및 신청자에게 이메일로 발송되며, 모든 \\n사용자가 사이버영업점에서 조회 가능\\n• \\x07일괄 납부\\n☞ 조사 완료일 익월 27일까지\\n신용카드\\n• 조사완료시 건별 납부안내\\n• 건별 납부(사이버영업점)\\n☞ 조사 완료일 당월 말일까지\\n6. 국가별 신용조사기관 및 Full Report 제공 여부 \\n지 역\\n조사기관*\\nFull Report 제공 여부\\n아시아\\n중국\\nEXPERIAN\\nO\\n태국\\nINRA\\nO\\n말레이시아\\nBASIS\\nO\\n베트남\\nVNCR\\nO\\n인도, 몽골, 미얀마, 캄보디아, 방글라데시, 파키스탄, \\n네팔, 부탄, 스리랑카, 라오스, 몰디브, 브루나이\\nUCS\\nO\\n일본, 홍콩, 싱가포르, 인도네시아, \\n기타 아시아 국가\\nD&B\\nX\\n미주\\n미국, 브라질, 아르헨티나,\\n멕시코, 콜롬비아, 에콰도르\\nD&B\\nX\\n캐나다\\nWORLDBOX\\nX\\n페루 포함 기타 중남미 국가\\nCRLA/DRR\\nO\\n대양주\\n호주\\nD&B\\nX\\n뉴질랜드 및 기타 대양주 국가\\nCCR\\nO\\n서유럽\\n영국, 아일랜드, 프랑스, 네덜란드\\nCREDITSAFE\\nX\\n독일\\nCRIF\\nX\\n이탈리아\\nCREDITSAFE / D&B\\nX\\n기타 서유럽 국가\\nD&B\\nX\\n동유럽\\n(CIS포함)\\n러시아, 우크라이나, \\n기타 동유럽 국가 및 CIS 국가\\nIGK\\nO\\n중동\\n이스라엘, 팔레스타인, UAE\\nD&B\\nX\\n튀르키예\\nDTB\\nO\\n사우디아라비아, 기타 중동 국가\\nRIME\\nO\\n아프리카\\n이집트, 모로코, 튀니지, 알제리 \\nRIME\\nO\\n수단, 리비아, 기타 아프리카 국가\\nFINEDATTA\\nO\\n* 해외조사기관의 업무수행 성과 등을 감안하여 변동 가능\\n7. 신용조사 보고서 조회방법\\n신청방법\\n내용\\n상세설명\\n소요기간\\n기존자료 구매\\n기존 보고서 구매\\n6개월 이내 조사된 기존 보고서가 있는 경우\\n당일\\n신규 신청\\n신규 조사 진행\\n상기 이외의 경우 또는 신규 조사 희망 시\\n통상 2~3주\\n☞ 신용조사 완료 시, 신청자 이메일로 요약보고서가 발송되며, 사이버영업점에서도 조회 가능\\n28\\n29\\n4.  신용조사 · 평가\\n무역보험 제도안내\\n\\n5  단기수출보험\\n무역보험 제도안내\\n30')"
      ]
     },
     "execution_count": 47,
     "metadata": {},
     "output_type": "execute_result"
    }
   ],
   "source": [
    "re_docs[0]"
   ]
  },
  {
   "cell_type": "code",
   "execution_count": 50,
   "metadata": {},
   "outputs": [
    {
     "name": "stdout",
     "output_type": "stream",
     "text": [
      "('신용조사 수수료에 대한 구체적인 정보는 제공된 문서에 포함되어 있지 않습니다. 따라서 신용조사 수수료가 얼마인지에 대한 답변을 드릴 수 '\n",
      " '없습니다.')\n"
     ]
    }
   ],
   "source": [
    "from pprint import pprint\n",
    "\n",
    "pprint(generation)"
   ]
  },
  {
   "cell_type": "code",
   "execution_count": 52,
   "metadata": {},
   "outputs": [
    {
     "data": {
      "text/plain": [
       "'신용조사 수수료가 얼마인가요'"
      ]
     },
     "execution_count": 52,
     "metadata": {},
     "output_type": "execute_result"
    }
   ],
   "source": [
    "question"
   ]
  },
  {
   "cell_type": "code",
   "execution_count": 53,
   "metadata": {},
   "outputs": [
    {
     "data": {
      "text/plain": [
       "'신용조사 수수료의 정확한 금액은 얼마인가요?'"
      ]
     },
     "execution_count": 53,
     "metadata": {},
     "output_type": "execute_result"
    }
   ],
   "source": [
    "answer.query"
   ]
  },
  {
   "cell_type": "code",
   "execution_count": 54,
   "metadata": {},
   "outputs": [
    {
     "name": "stdout",
     "output_type": "stream",
     "text": [
      "('신용조사 수수료는 기업 규모에 따라 다르며, 중소중견기업의 경우 요약보고서는 33,000원, 풀 리포트는 49,500원입니다. 대기업의 '\n",
      " '경우 요약보고서는 66,000원, 풀 리포트는 99,000원입니다. 모든 금액은 VAT 포함 가격입니다.')\n"
     ]
    }
   ],
   "source": [
    "pprint(re_generation)"
   ]
  },
  {
   "cell_type": "markdown",
   "metadata": {},
   "source": []
  },
  {
   "cell_type": "markdown",
   "metadata": {},
   "source": [
    "## Contruct the Graph"
   ]
  },
  {
   "cell_type": "code",
   "execution_count": 57,
   "metadata": {},
   "outputs": [],
   "source": [
    "## Define Graph State\n",
    "\n",
    "from typing import List\n",
    "from typing_extensions import TypedDict\n",
    "\n",
    "\n",
    "class GraphState(TypedDict):\n",
    "    \"\"\"\n",
    "    Represents the state of our graph.\n",
    "    \n",
    "    Attributes:\n",
    "        question: question\n",
    "        generation: LLM generation\n",
    "        documents: list of documents\"\"\"\n",
    "        \n",
    "    question:str\n",
    "    generation:str\n",
    "    retrieve_count:int\n",
    "    documents: List[str]"
   ]
  },
  {
   "cell_type": "code",
   "execution_count": 75,
   "metadata": {},
   "outputs": [],
   "source": [
    "from langchain.schema import Document\n",
    "\n",
    "\n",
    "def retrieve(state):\n",
    "    \"\"\"\n",
    "    Retrieve documents\n",
    "\n",
    "    Args:\n",
    "        state (dict): The current graph state\n",
    "\n",
    "    Returns:\n",
    "        state (dict): New key added to state, documents, that contains retrieved documents\n",
    "    \"\"\"\n",
    "    print(\"---RETRIEVE---\")\n",
    "    question = state.get(\"question\", \"\")\n",
    "    documents = state.get(\"documents\", [])\n",
    "    retrieve_count = state.get(\"retrieve_count\", 0)\n",
    "    generation = llm_generate_chain.invoke(question)\n",
    "    \n",
    "    \n",
    "    if retrieve_count >= 5:\n",
    "        print(\"---RETRIEVAL LIMIT REACHED, STOPPING PROCESS--\")\n",
    "        return {\"documents\" : [], \"qusetion\": question, \"retrieve_count\": retrieve_count, \"generation\" : generation}\n",
    "\n",
    "    # Retrieval\n",
    "    documents = retriever.invoke(question)\n",
    "    return {\"documents\": documents, \"question\": question, \"retrieve_count\": retrieve_count+1, \"generation\" : generation}\n",
    "\n",
    "\n",
    "def llm_generate_answer(state):\n",
    "    \"\"\"\n",
    "    Generates a general LLM answer when retrieval fails after 5 attempts.\n",
    "    \"\"\"\n",
    "    \n",
    "    print(\"---GENERAL ANSWER---\")\n",
    "    question = state.get(\"question\", \"\")\n",
    "    documents = state.get(\"documents\", [])\n",
    "    retrieve_count = state.get(\"retrieve_count\", 0)\n",
    "    generation = llm_generate_chain.invoke(question)\n",
    "    \n",
    "    if isinstance(generation, str):\n",
    "        return {\"documents\": documents, \"question\": question, \"retrieve_count\": retrieve_count, \"generation\" : generation}\n",
    "    else:\n",
    "        return {\"documents\": documents, \"question\": question, \"retrieve_count\": retrieve_count, \"generation\" : generation.content}\n",
    "\n",
    "\n",
    "def generate(state):\n",
    "    \"\"\"\n",
    "    Generate answer\n",
    "\n",
    "    Args:\n",
    "        state (dict): The current graph state\n",
    "\n",
    "    Returns:\n",
    "        state (dict): New key added to state, generation, that contains LLM generation\n",
    "    \"\"\"\n",
    "    print(\"---GENERATE---\")\n",
    "    question = state.get(\"question\", \"\")\n",
    "    documents = state.get(\"documents\", [])\n",
    "    retrieve_count = state.get(\"retrieve_count\", 0)\n",
    "    generation = rag_chain.invoke({\"context\": documents, \"question\": question})\n",
    "    \n",
    "    if isinstance(generation, str):\n",
    "        return {\"documents\": documents, \"question\": question, \"retrieve_count\": retrieve_count, \"generation\" : generation}\n",
    "    else:\n",
    "        return {\"documents\": documents, \"question\": question, \"retrieve_count\": retrieve_count, \"generation\" : generation.content}\n",
    "\n",
    "\n",
    "\n",
    "def grade_documents(state):\n",
    "    \"\"\"\n",
    "    Determines whether the retrieved documents are relevant to the question.\n",
    "\n",
    "    Args:\n",
    "        state (dict): The current graph state\n",
    "\n",
    "    Returns:\n",
    "        state (dict): Updates documents key with only filtered relevant documents\n",
    "    \"\"\"\n",
    "\n",
    "    print(\"---CHECK DOCUMENT RELEVANCE TO QUESTION---\")\n",
    "    question = state.get(\"question\", \"\")\n",
    "    documents = state.get(\"documents\", [])\n",
    "    retrieve_count = state.get(\"retrieve_count\", 0)\n",
    "    generation = rag_chain.invoke({\"context\": documents, \"question\": question})\n",
    "    \n",
    "\n",
    "    # Score each doc\n",
    "    filtered_docs = []\n",
    "    try:\n",
    "        for d in documents:\n",
    "            score = retrieval_grader.invoke(\n",
    "                {\"question\": question, \"document\": d.page_content}\n",
    "            )\n",
    "            grade = score.binary_score\n",
    "            if grade == \"yes\":\n",
    "                print(\"---GRADE: DOCUMENT RELEVANT---\")\n",
    "                filtered_docs.append(d)\n",
    "            else:\n",
    "                print(\"---GRADE: DOCUMENT NOT RELEVANT---\")\n",
    "    except:\n",
    "        pass\n",
    "    return {\"documents\": filtered_docs, \"question\": question, \"retrieve_count\": retrieve_count, \"generation\" : generation, \"fallback\": not bool(filtered_docs)}\n",
    "\n",
    "\n",
    "\n",
    "def transform_query(state):\n",
    "    \"\"\"\n",
    "    Transform the query to produce a better question.\n",
    "\n",
    "    Args:\n",
    "        state (dict): The current graph state\n",
    "\n",
    "    Returns:\n",
    "        state (dict): Updates question key with a re-phrased question\n",
    "    \"\"\"\n",
    "\n",
    "    print(\"---TRANSFORM QUERY---\")\n",
    "    question = state.get(\"question\", \"\")\n",
    "    documents = state.get(\"documents\", [])\n",
    "    retrieve_count = state.get(\"retrieve_count\", 0)\n",
    "    generation = rag_chain.invoke({\"context\": documents, \"question\": question})\n",
    "    \n",
    "    if isinstance(generation, str):\n",
    "        pass\n",
    "    else:\n",
    "        generation = generation.content\n",
    "\n",
    "    # Re-write question\n",
    "    better_question = question_rewriter.invoke({\"question\": question})\n",
    "    \n",
    "    if isinstance(better_question, str):\n",
    "        return {\"documents\": documents, \"question\": better_question, \"retrieve_count\": retrieve_count, \"generation\" : generation}\n",
    "    else:\n",
    "        print(better_question)\n",
    "        return {\"documents\": documents, \"question\": better_question.query, \"retrieve_count\": retrieve_count, \"generation\" : generation}\n",
    "\n",
    "        \n",
    "\n",
    "\n",
    "### Edges ###\n",
    "\n",
    "\n",
    "def route_question(state):\n",
    "    \"\"\"\n",
    "    Route question to web search or RAG.\n",
    "\n",
    "    Args:\n",
    "        state (dict): The current graph state\n",
    "\n",
    "    Returns:\n",
    "        str: Next node to call\n",
    "    \"\"\"\n",
    "\n",
    "    print(\"---ROUTE QUESTION---\")\n",
    "    question = state.get(\"question\", \"\")\n",
    "    source = question_router.invoke({\"question\": question})\n",
    "    if source.datasource == \"file_search\":\n",
    "        print(\"---ROUTE QUESTION TO RAG---\")\n",
    "        return \"file_search\"\n",
    "    elif source.datasource == \"common\":\n",
    "        print(\"---ROUTE QUESTION TO GENERAL ANSWER---\")\n",
    "        return \"common\"\n",
    "\n",
    "\n",
    "def decide_to_generate(state):\n",
    "    \"\"\"\n",
    "    Determines whether to generate an answer, or re-generate a question.\n",
    "\n",
    "    Args:\n",
    "        state (dict): The current graph state\n",
    "\n",
    "    Returns:\n",
    "        str: Binary decision for next node to call\n",
    "    \"\"\"\n",
    "\n",
    "    print(\"---ASSESS GRADED DOCUMENTS---\")\n",
    "    state.get(\"question\",\"\")\n",
    "    filtered_documents = state.get(\"documents\",[])\n",
    "\n",
    "    if not filtered_documents:\n",
    "        # All documents have been filtered check_relevance\n",
    "        # We will re-generate a new query\n",
    "        print(\n",
    "            \"---DECISION: ALL DOCUMENTS ARE NOT RELEVANT TO QUESTION, TRANSFORM QUERY---\"\n",
    "        )\n",
    "        return \"transform_query\"\n",
    "    else:\n",
    "        # We have relevant documents, so generate answer\n",
    "        print(\"---DECISION: GENERATE---\")\n",
    "        return \"generate\"\n",
    "\n",
    "\n",
    "def grade_generation_v_documents_and_question(state):\n",
    "    \"\"\"\n",
    "    Determines whether the generation is grounded in the document and answers question.\n",
    "\n",
    "    Args:\n",
    "        state (dict): The current graph state\n",
    "\n",
    "    Returns:\n",
    "        str: Decision for next node to call\n",
    "    \"\"\"\n",
    "\n",
    "    print(\"---CHECK HALLUCINATIONS---\")\n",
    "    question = state.get(\"question\", \"\")\n",
    "    documents = state.get(\"documents\", [])\n",
    "    generation = state.get(\"generation\", \"\")\n",
    "\n",
    "    score = hallucination_grader.invoke(\n",
    "        {\"documents\": documents, \"generation\": generation}\n",
    "    )\n",
    "    grade = score.binary_score\n",
    "\n",
    "    if grade == \"yes\":\n",
    "        print(\"---DECISION: GENERATION IS GROUNDED IN DOCUMENTS---\")\n",
    "        # Check question-answering\n",
    "        print(\"---GRADE GENERATION vs QUESTION---\")\n",
    "        score = answer_grader.invoke({\"question\": question, \"generation\": generation})\n",
    "        grade = score.binary_score\n",
    "        if grade == \"yes\":\n",
    "            print(\"---DECISION: GENERATION ADDRESSES QUESTION---\")\n",
    "            return \"useful\"\n",
    "        else:\n",
    "            print(\"---DECISION: GENERATION DOES NOT ADDRESS QUESTION---\")\n",
    "            return \"not useful\"\n",
    "    else:\n",
    "        print(\"---DECISION: GENERATION IS NOT GROUNDED IN DOCUMENTS, RE-TRY---\")\n",
    "        return \"not supported\""
   ]
  },
  {
   "cell_type": "code",
   "execution_count": 76,
   "metadata": {},
   "outputs": [
    {
     "data": {
      "image/png": "[encoded data removed]",
      "text/plain": [
       "<langgraph.graph.state.CompiledStateGraph object at 0x1494d9310>"
      ]
     },
     "execution_count": 76,
     "metadata": {},
     "output_type": "execute_result"
    }
   ],
   "source": [
    "from langgraph.graph import END, StateGraph, START\n",
    "workflow = StateGraph(GraphState)\n",
    "# Define the nodes\n",
    "workflow.add_node(\"retrieve\", retrieve)\n",
    "workflow.add_node(\"grade_documents\", grade_documents)\n",
    "workflow.add_node(\"generate\", generate)\n",
    "workflow.add_node(\"transform_query\", transform_query)\n",
    "workflow.add_node(\"llm_generate_answer\", llm_generate_answer)\n",
    "\n",
    "# Build graph\n",
    "workflow.add_conditional_edges(\n",
    "    START,\n",
    "    route_question,\n",
    "    {\n",
    "        \"file_search\": \"retrieve\",\n",
    "        \"common\": \"llm_generate_answer\",\n",
    "    },\n",
    ")\n",
    "\n",
    "workflow.add_conditional_edges(\n",
    "    \"retrieve\",\n",
    "    lambda state: \"llm_generate_answer\" if state.get(\"retrieve_count\", 0) >= 5 else \"grade_documents\",\n",
    "    {\n",
    "        \"llm_generate_answer\": \"llm_generate_answer\",\n",
    "        \"grade_documents\": \"grade_documents\",\n",
    "    },\n",
    ")\n",
    "\n",
    "\n",
    "workflow.add_conditional_edges(\n",
    "    \"grade_documents\",\n",
    "    decide_to_generate,\n",
    "    {\n",
    "        \"transform_query\": \"transform_query\",\n",
    "        \"generate\": \"generate\",\n",
    "    },\n",
    ")\n",
    "workflow.add_edge(\"transform_query\", \"retrieve\")\n",
    "workflow.add_conditional_edges(\n",
    "    \"generate\",\n",
    "    lambda state: \"generate\" if state.get(\"retrieve_count\", 0) >= 5 else grade_generation_v_documents_and_question(state),\n",
    "    {\n",
    "        \"not supported\": \"llm_generate_answer\",\n",
    "        \"useful\": END,\n",
    "        \"not useful\": \"transform_query\",\n",
    "    },\n",
    ")\n",
    "workflow.add_edge(\"llm_generate_answer\", END)\n",
    "# Compile\n",
    "app = workflow.compile()\n",
    "app"
   ]
  },
  {
   "cell_type": "markdown",
   "metadata": {},
   "source": []
  },
  {
   "cell_type": "code",
   "execution_count": 77,
   "metadata": {},
   "outputs": [
    {
     "name": "stdout",
     "output_type": "stream",
     "text": [
      "---ROUTE QUESTION---\n",
      "---ROUTE QUESTION TO RAG---\n",
      "---RETRIEVE---\n",
      "{'documents': [Document(metadata={}, page_content='중소ㆍ중견 수출기업 지원제도 안내  |  23\\n  중소ㆍ중견기업 특별지원제도\\n16\\n중소ㆍ중견기업 우대 혜택을 소개합니다.\\n   \\n  중소ㆍ중견기업에 대해 보험ㆍ보증료 할인, 부보율 우대 등 지원책을 시행 중이며, \\n특히 유망 중소ㆍ중견기업, 창업, 벤처, 수출초보기업 등에 대해 추가 우대 혜택 제공\\n   유망중소중견기업\\n 혁신형 중소기업(벤처기업, 이노비즈기업, 경영혁신기업)\\n 중소기업수출지원센터 지정 글로벌강소기업 1000+ 선정기업(유망기업, 성장기업, 강소기업, 강소+기업)\\n 산업통상자원부 지정 세계일류상품 인증기업\\n KOTRA 지정 글로벌브랜드사업 선정기업, U턴 기업 등\\n   수출초보기업 무역보험 지원\\n  수출 창업 및 벤처기업을 활성화하고, 내수기업의 수출기업화를 촉진하며, 수출 초보 기업을 중점적으로 \\n육성하기 위한 우대 지원 시행\\n구분\\n대상 기업\\n우대 혜택\\n수출초보기업 \\n무역보험 \\n우대지원\\n・ 산업부 「내수기업의 수출기업화」 사업 \\n당해연도 참여 기업 \\n・ 내수 중견기업의 수출기업 전환을 위해 \\n산업부가 시행하는 사업 당해연도 참여 \\n기업\\n・ 최근 1년(또는 전년도) 직수출실적 \\n100만불 이하 중소ㆍ중견 기업\\n・ 수출신용보증(선적전, 선적후, 매입), \\n단기수출보험 한도 우대(최대 1.5배 \\n이내), 보증료 할인(최대 30% 이내)\\n・수입자 신용조사 수수료 연간 5회 면제\\n수출성장금융\\n・ 수출시작을 위한 운전자금 융자 지원 \\n수출계획이 있는 기업이면 하나, 신한, \\n우리, 경남은행을 통해 진행 가능\\n *  기존 무역금융 이용기업은 중복이용 불가\\n시행기간\\n・수출초보기업 무역금융 우대지원 : ’24.12.31까지\\n・수출성장금융 : 하나, 신한, 우리, 경남은행별 확인요망\\n   ESG경영 인증기업 무역보험 지원\\n  중소중견기업 ESG경영 활성화를 위해 인증기업에 한도우대, 보험료 할인 등 우대 지원 시행\\n구분\\n대상 기업\\n우대 혜택\\nESG\\n인증기업\\n우대지원\\n・ESG부문 우대요건* 충족 중소중견기업\\n* 요건충족여부 담당팀·지사 상담 필요\\n・ 단기수출보험(선적후)·수출신용보증(선적전·\\n매입)·수입보험(글로벌공급망) 한도우대\\n(2배 이내), 보험(증)료 할인 \\n・ 컨설팅 제공 및 국외기업 신용조사 수수료 \\n연간 5건 면제\\n시행기간\\n・’23. 9. 1 부터 ’24. 8. 31 까지\\n자세한 사항은 여기로 문의하시면 됩니다.\\n   \\n  고객센터 1588-3884, 공사 홈페이지(www.ksure.or.kr) 또는 각 영업부서\\n제도담당부서 : 영업총괄실'), Document(metadata={}, page_content='중소ㆍ중견 수출기업 지원제도 안내  |  13\\n농수산물 수출 관련 위험을 아래와 같이 지원해 드립니다.\\n  농수산물을 직접 수출하거나 생산하여 수출업체에 판매(간접수출)하는 중소중견 업체\\n   농수산물 수출 시 발생하는 여러 위험에 대해 보상\\n- 수출대금 미회수위험 : 수입자의 신용위험 및 수입국의 비상위험으로 인한 수출대금 미회수 보상\\n- 수입국 검역위험 : 수입국의 검역과정에서 발생된 소독비용 및 폐기비용 등 보상\\n- 무역클레임 위험 : 클레임 해결에 소요된 비용 보상\\n   주요 계약사항\\n구분\\n주요내용\\n보험계약자\\n(이용요건)\\n・ 공사 신용등급 G급 이상의 농수산물 직수출 또는 간접수출하는 중소중견기업\\n・ 단기수출보험(포괄,준포괄,중소중견Plus+) 이용중인 기업 제외\\n적용대상 거래\\n・일반수출, 위탁가공무역\\n수출품목\\n・ 농산물, 수산물, 축산물, 임산물 및 그 가공식품\\n결제기간\\n・ 결제기간 1년 이내\\n보험\\n계약\\n대상\\n・ 청약 시 사전등록\\n수입자\\n아래 해당 시 수입자 제외\\n・ 공사 신용등급 자본잠식 G급 또는 R급(정보부족기업 제외), 클레임 등 사유로 분쟁 \\n소송중, 만기도래 후 30일 이상 결제지연, 고위험인수제한국가 또는 이란 소재\\n신용장 \\n개설은행\\n아래 해당 시 신용장 개설은행 제외\\n・ 공사 인수부적격 신용장 은행, 클레임 등 사유로 분쟁 소송중, 만기도래 후 30일 이상 \\n결제지연, 고위험인수제한국가 또는 이란 소재\\n담보위험\\n기본\\n선택\\n수출대금 미회수위험\\n수입국 검역위험\\n무역클레임 위험\\n책임금액\\n・ 최대 3억원\\n(간접수출 생산자1) \\n최대 1억원)\\n・ 최대 1천만원\\n(간접수출 생산자1) \\n최대 5백만원)\\n・ 최대 5천만원\\n보상비율\\n ・ 100%\\n・ 100%\\n・ 최대 100%\\n(클레임 종류별 상이)\\n기  타\\n・ 수출통지 : 없음\\n・보험계약기간 : 1년(매년 갱신 필요)\\n・보험료 납부 : 가입 시 선납\\n1) 농수산물 생산하여 수출업체에 판매하는 간접적으로 수출하는 업체\\n이용절차 및 신청서류입니다.\\n   이용절차 \\n \\n(☞단기수출보험(중소중견Plus+)와 동일)\\n   신청 :  (온라인) 사이버영업점에 로그인하여 신청  / (오프라인) 신청서류 영업부서 제출\\n   신청서류 :  홈페이지(www.ksure.or.kr) 내 자료실 신청서류에서 다운로드\\n8   단기수출보험(농수산물패키지)\\n농수산물 수출시 발생하는 여러 위험(수출대금 미회수위험, 수입국 검역위험, \\n무역클레임 위험)을 간편하게 보장하는 농수산물 중소중견기업 전용 제도\\n제도담당부서 : 영업총괄실'), Document(metadata={}, page_content='중소ㆍ중견 수출기업 지원제도 안내  |  15\\n  단기수출보험(중소Plus+) 다이렉트플러스\\n수출기업의 대금 미회수 위험은 이렇게 지원해 드립니다.\\n   사이버영업점 전용 비대면 상품  \\n(단, 보험료지원은 기업 소재 지역 담당영업부서 문의)\\n   기존 단기수출보험 이용 시, 대상 수입자별 신용조사 및 한도심사, 수출건별 통지 등 일련의 절차가 \\n필요하나, 해당 상품 이용 시에는 간소화된 절차 및 저렴한 보험료로 보험 이용 가능\\n   수입자 수 제한 없이 보험계약기간(1년) 동안 발생한 보험계약자의 모든 정상 수출거래에 대해 일괄 담보 \\n   주요 계약사항\\n구분\\n주요내용\\n보험계약자\\n(이용요건)\\n・ 연간 직수출실적 U$50백만 이하 공사 신용등급 G급(특례G급 제외) 이상 중소기업\\n・ 단기수출보험(포괄, 준포괄, 농수산물패키지, 중소중견Plus+) 이용기업은 제외\\n(단, 단체보험ㆍ수출안전망 이용기업은 이용 가능)\\n담보위험\\n・신용위험 및 비상위험\\n보험기간\\n・ 1년(보험개시일 지정 가능), 1년 단위로 계약체결 및 갱신\\n대상거래1)\\n・ 결제기간 1년 이내의 일반수출ㆍ위탁가공ㆍ중계무역\\n책임금액2)\\n・ 최대 U$20만, 개별 수입자별 최대 U$10만 보상가능\\n보상비율\\n・ (일반형) 95%\\n・ (보장우대형) 100%\\n수입자\\n제한사항\\n・ (수입자등급) 공사 신용등급 자본잠식G급 또는 R급(정보부족기업 제외)\\n・ (클레임) 클레임 등 사유로 분쟁ㆍ소송중\\n・ (만기도래미결제) 만기도래 후 30일 이상 결제지연\\n・ (국별인수방침) 고위험 인수제한국가3) 또는 이란, 러시아, 벨라루스 소재\\n・ (중국 무신용장 수입대행거래) 수입대행계약체결 중국 수입자\\n기  타\\n・ 수출통지 : 없음\\n・ 서류제출 불필요 : 수출실적 서류 제출, 수입자 리스트 제출 불필요\\n・ 보험료 납부 : 가입 시 선납\\n1) 공사 단기수출보험(중소중견Plus+) 약관에서 정의하는 수출거래임\\n2) 공사가 보험계약자에게 지급해야 할 보험금의 최대 누적액\\n3) 홈페이지(www.ksure.or.kr) → K-SURE 해외신용정보센터 → 보고서&자료 → 국별인수방침 참조\\n별도의 수출통지 절차나 수입자 신용조사 없이 보험계약기간 동안 발생한 보험계약자의 \\n모든 정상 수출거래에 대한 대금 미회수위험을 담보하는 비대면 간편 보험제도\\n제도담당부서 : 디지털사업부\\n10'), Document(metadata={}, page_content='중소ㆍ중견 수출기업 지원제도 안내  |  09\\n수출기업의 대금 미회수 위험은 이렇게 지원해 드립니다.\\n   단기수출보험은 수출거래로부터 발생하는 수출자의 수출대금 미회수위험 담보\\n   담보위험\\n- 신용위험：수입자의 지급불능, 지급거절, 지급지체, 파산 등으로 수출대금을 회수하지 못할 위험\\n- 비상위험：수입국의 전쟁, 내란, 환거래제한, 모라토리움 등으로 인해 수출대금을 회수하지 못할 위험\\n   대상거래\\n구분\\n주요내용\\n일반수출\\n・ 국내에서 외국으로의 수출을 말하며, 국내에서 생산ㆍ가공 또는 집하된 물품을 수출하는 \\n거래(우리나라 선박에 의하여 외국에서 채취 또는 포획한 수산물을 수출하는 거래 포함)\\n위탁가공무역\\n・ 국내기업의 해외현지법인이 생산ㆍ가공한 물품 또는 국내기업이 위탁하여 외국에서 \\n가공한 물품을 수출하는 거래\\n중계무역\\n・수출을 목적으로 물품을 수입하여 제3국으로 수출하는 거래\\n재 판 매\\n・ 수출자가 해외지사(현지법인 포함)에 물품을 수출하고, 동 해외지사가 당해 물품을 현지 \\n또는 제3국에 재판매하는 거래\\n* 공사 단기수출보험 약관에서 정의하는 수출거래임\\n   보험가액, 보험금액 등\\n구분\\n내용\\n보험가액\\n・ 수출대금\\n부보율\\n・일반수출, 위탁가공무역：중소기업 100% / 중견기업 97.5% / 대기업 95%\\n・중계무역：(개별) 수입금액/수출금액 비율 이내, (포괄) 신용장 90%, 무신용장 85%\\n* 국별인수방침에 따라 달라질 수 있음\\n보험금액\\n・보험가액 × 부보율\\n지급보험금\\n・ (손실액 – 면책대상손실) × 부보율\\n   보험료\\n-  보험료는 보험금액에 수입자 신용등급(신용장거래인 경우 신용장 개설은행 소재 국가등급), 결제조건 및 \\n결제기간 등에 따른 보험요율을 곱하여 산출\\n6   단기수출보험(선적후)\\n수출자가 결제기간 2년 이하의 수출계약 체결 및 선적 후, \\n계약 상대방으로부터 수출대금을 받을 수 없게 된 때에 입게 되는 손실을 보상하는 제도\\n제도담당부서 : 영업총괄실')], 'question': '중소기업 수수료는 얼마인가요', 'retrieve_count': 1, 'generation': AIMessage(content='관련 문서를 찾을 수 없어 일반적인 답변으로 대체하겠습니다.\\n\\n중소기업의 수수료는 여러 요인에 따라 다를 수 있습니다. 일반적으로 수수료는 거래의 종류, 기업의 규모, 서비스 제공업체에 따라 달라질 수 있습니다. 예를 들어, 결제 처리 수수료, 은행 수수료, 또는 특정 서비스에 대한 수수료가 있을 수 있습니다. 정확한 수수료를 알고 싶다면 해당 서비스 제공업체에 직접 문의하는 것이 가장 좋습니다.', additional_kwargs={'refusal': None}, response_metadata={'token_usage': {'completion_tokens': 115, 'prompt_tokens': 103, 'total_tokens': 218, 'completion_tokens_details': {'accepted_prediction_tokens': 0, 'audio_tokens': 0, 'reasoning_tokens': 0, 'rejected_prediction_tokens': 0}, 'prompt_tokens_details': {'audio_tokens': 0, 'cached_tokens': 0}}, 'model_name': 'gpt-4o-mini-2024-07-18', 'system_fingerprint': 'fp_b8bc95a0ac', 'finish_reason': 'stop', 'logprobs': None}, id='run-bff8787b-63c7-4deb-a1da-f4aba9d7112f-0', usage_metadata={'input_tokens': 103, 'output_tokens': 115, 'total_tokens': 218, 'input_token_details': {'audio': 0, 'cache_read': 0}, 'output_token_details': {'audio': 0, 'reasoning': 0}})}\n",
      "---CHECK DOCUMENT RELEVANCE TO QUESTION---\n",
      "---ASSESS GRADED DOCUMENTS---\n",
      "---DECISION: ALL DOCUMENTS ARE NOT RELEVANT TO QUESTION, TRANSFORM QUERY---\n",
      "{'documents': [], 'question': '중소기업 수수료는 얼마인가요', 'retrieve_count': 1, 'generation': '중소기업의 수수료에 대한 구체적인 정보는 제공되지 않았습니다. 그러나 중소기업에 대한 보험료 할인 및 보증료 우대 등의 지원책이 시행되고 있습니다. 자세한 사항은 관련 기관에 문의하는 것이 좋습니다.'}\n",
      "---TRANSFORM QUERY---\n",
      "query='중소기업의 수수료는 얼마인지 알려주세요?'\n",
      "{'documents': [], 'question': '중소기업의 수수료는 얼마인지 알려주세요?', 'retrieve_count': 1, 'generation': '알고 있는 정보가 없습니다. 중소기업 수수료에 대한 구체적인 내용은 확인할 수 없습니다.'}\n",
      "---RETRIEVE---\n",
      "{'documents': [Document(metadata={}, page_content='중소ㆍ중견 수출기업 지원제도 안내  |  23\\n  중소ㆍ중견기업 특별지원제도\\n16\\n중소ㆍ중견기업 우대 혜택을 소개합니다.\\n   \\n  중소ㆍ중견기업에 대해 보험ㆍ보증료 할인, 부보율 우대 등 지원책을 시행 중이며, \\n특히 유망 중소ㆍ중견기업, 창업, 벤처, 수출초보기업 등에 대해 추가 우대 혜택 제공\\n   유망중소중견기업\\n 혁신형 중소기업(벤처기업, 이노비즈기업, 경영혁신기업)\\n 중소기업수출지원센터 지정 글로벌강소기업 1000+ 선정기업(유망기업, 성장기업, 강소기업, 강소+기업)\\n 산업통상자원부 지정 세계일류상품 인증기업\\n KOTRA 지정 글로벌브랜드사업 선정기업, U턴 기업 등\\n   수출초보기업 무역보험 지원\\n  수출 창업 및 벤처기업을 활성화하고, 내수기업의 수출기업화를 촉진하며, 수출 초보 기업을 중점적으로 \\n육성하기 위한 우대 지원 시행\\n구분\\n대상 기업\\n우대 혜택\\n수출초보기업 \\n무역보험 \\n우대지원\\n・ 산업부 「내수기업의 수출기업화」 사업 \\n당해연도 참여 기업 \\n・ 내수 중견기업의 수출기업 전환을 위해 \\n산업부가 시행하는 사업 당해연도 참여 \\n기업\\n・ 최근 1년(또는 전년도) 직수출실적 \\n100만불 이하 중소ㆍ중견 기업\\n・ 수출신용보증(선적전, 선적후, 매입), \\n단기수출보험 한도 우대(최대 1.5배 \\n이내), 보증료 할인(최대 30% 이내)\\n・수입자 신용조사 수수료 연간 5회 면제\\n수출성장금융\\n・ 수출시작을 위한 운전자금 융자 지원 \\n수출계획이 있는 기업이면 하나, 신한, \\n우리, 경남은행을 통해 진행 가능\\n *  기존 무역금융 이용기업은 중복이용 불가\\n시행기간\\n・수출초보기업 무역금융 우대지원 : ’24.12.31까지\\n・수출성장금융 : 하나, 신한, 우리, 경남은행별 확인요망\\n   ESG경영 인증기업 무역보험 지원\\n  중소중견기업 ESG경영 활성화를 위해 인증기업에 한도우대, 보험료 할인 등 우대 지원 시행\\n구분\\n대상 기업\\n우대 혜택\\nESG\\n인증기업\\n우대지원\\n・ESG부문 우대요건* 충족 중소중견기업\\n* 요건충족여부 담당팀·지사 상담 필요\\n・ 단기수출보험(선적후)·수출신용보증(선적전·\\n매입)·수입보험(글로벌공급망) 한도우대\\n(2배 이내), 보험(증)료 할인 \\n・ 컨설팅 제공 및 국외기업 신용조사 수수료 \\n연간 5건 면제\\n시행기간\\n・’23. 9. 1 부터 ’24. 8. 31 까지\\n자세한 사항은 여기로 문의하시면 됩니다.\\n   \\n  고객센터 1588-3884, 공사 홈페이지(www.ksure.or.kr) 또는 각 영업부서\\n제도담당부서 : 영업총괄실'), Document(metadata={}, page_content='중소ㆍ중견 수출기업 지원제도 안내  |  13\\n농수산물 수출 관련 위험을 아래와 같이 지원해 드립니다.\\n  농수산물을 직접 수출하거나 생산하여 수출업체에 판매(간접수출)하는 중소중견 업체\\n   농수산물 수출 시 발생하는 여러 위험에 대해 보상\\n- 수출대금 미회수위험 : 수입자의 신용위험 및 수입국의 비상위험으로 인한 수출대금 미회수 보상\\n- 수입국 검역위험 : 수입국의 검역과정에서 발생된 소독비용 및 폐기비용 등 보상\\n- 무역클레임 위험 : 클레임 해결에 소요된 비용 보상\\n   주요 계약사항\\n구분\\n주요내용\\n보험계약자\\n(이용요건)\\n・ 공사 신용등급 G급 이상의 농수산물 직수출 또는 간접수출하는 중소중견기업\\n・ 단기수출보험(포괄,준포괄,중소중견Plus+) 이용중인 기업 제외\\n적용대상 거래\\n・일반수출, 위탁가공무역\\n수출품목\\n・ 농산물, 수산물, 축산물, 임산물 및 그 가공식품\\n결제기간\\n・ 결제기간 1년 이내\\n보험\\n계약\\n대상\\n・ 청약 시 사전등록\\n수입자\\n아래 해당 시 수입자 제외\\n・ 공사 신용등급 자본잠식 G급 또는 R급(정보부족기업 제외), 클레임 등 사유로 분쟁 \\n소송중, 만기도래 후 30일 이상 결제지연, 고위험인수제한국가 또는 이란 소재\\n신용장 \\n개설은행\\n아래 해당 시 신용장 개설은행 제외\\n・ 공사 인수부적격 신용장 은행, 클레임 등 사유로 분쟁 소송중, 만기도래 후 30일 이상 \\n결제지연, 고위험인수제한국가 또는 이란 소재\\n담보위험\\n기본\\n선택\\n수출대금 미회수위험\\n수입국 검역위험\\n무역클레임 위험\\n책임금액\\n・ 최대 3억원\\n(간접수출 생산자1) \\n최대 1억원)\\n・ 최대 1천만원\\n(간접수출 생산자1) \\n최대 5백만원)\\n・ 최대 5천만원\\n보상비율\\n ・ 100%\\n・ 100%\\n・ 최대 100%\\n(클레임 종류별 상이)\\n기  타\\n・ 수출통지 : 없음\\n・보험계약기간 : 1년(매년 갱신 필요)\\n・보험료 납부 : 가입 시 선납\\n1) 농수산물 생산하여 수출업체에 판매하는 간접적으로 수출하는 업체\\n이용절차 및 신청서류입니다.\\n   이용절차 \\n \\n(☞단기수출보험(중소중견Plus+)와 동일)\\n   신청 :  (온라인) 사이버영업점에 로그인하여 신청  / (오프라인) 신청서류 영업부서 제출\\n   신청서류 :  홈페이지(www.ksure.or.kr) 내 자료실 신청서류에서 다운로드\\n8   단기수출보험(농수산물패키지)\\n농수산물 수출시 발생하는 여러 위험(수출대금 미회수위험, 수입국 검역위험, \\n무역클레임 위험)을 간편하게 보장하는 농수산물 중소중견기업 전용 제도\\n제도담당부서 : 영업총괄실'), Document(metadata={}, page_content='5. 신용조사 수수료 및 납부방법\\n \\x07신용조사 수수료(VAT 포함 가격)\\n보고서종류\\n기업규모\\n일반\\n재무제표 미비*\\n신용조사 불가자 또는 \\n장기소요(40일 초과)\\n요약보고서\\n중소중견기업\\n33,000원\\n22,000원\\n면제\\n대기업\\n66,000원\\nFull Report\\n중소중견기업\\n49,500원\\n33,000원\\n대기업\\n99,000원\\n* 주요 재무정보만 있는 경우도 포함\\n• \\x07K-SURE는 고객의 원활한 대외거래를 지원하기 위해 상당 규모의 조사비용을 자체적으로 부담하고 있습니다. \\n 수수료 청구 및 납부방법\\n수납방식\\n청구방법\\n납부\\n가상계좌\\n입금\\n• \\x07당월 중 조사완료건 전체에 대한 수수료 일괄 청구 및 세금\\n계산서 발행 \\n☞ 조사 완료일 익월 첫영업일\\n☞ \\x07마스터대표사용자 및 신청자에게 이메일로 발송되며, 모든 \\n사용자가 사이버영업점에서 조회 가능\\n• \\x07일괄 납부\\n☞ 조사 완료일 익월 27일까지\\n신용카드\\n• 조사완료시 건별 납부안내\\n• 건별 납부(사이버영업점)\\n☞ 조사 완료일 당월 말일까지\\n6. 국가별 신용조사기관 및 Full Report 제공 여부 \\n지 역\\n조사기관*\\nFull Report 제공 여부\\n아시아\\n중국\\nEXPERIAN\\nO\\n태국\\nINRA\\nO\\n말레이시아\\nBASIS\\nO\\n베트남\\nVNCR\\nO\\n인도, 몽골, 미얀마, 캄보디아, 방글라데시, 파키스탄, \\n네팔, 부탄, 스리랑카, 라오스, 몰디브, 브루나이\\nUCS\\nO\\n일본, 홍콩, 싱가포르, 인도네시아, \\n기타 아시아 국가\\nD&B\\nX\\n미주\\n미국, 브라질, 아르헨티나,\\n멕시코, 콜롬비아, 에콰도르\\nD&B\\nX\\n캐나다\\nWORLDBOX\\nX\\n페루 포함 기타 중남미 국가\\nCRLA/DRR\\nO\\n대양주\\n호주\\nD&B\\nX\\n뉴질랜드 및 기타 대양주 국가\\nCCR\\nO\\n서유럽\\n영국, 아일랜드, 프랑스, 네덜란드\\nCREDITSAFE\\nX\\n독일\\nCRIF\\nX\\n이탈리아\\nCREDITSAFE / D&B\\nX\\n기타 서유럽 국가\\nD&B\\nX\\n동유럽\\n(CIS포함)\\n러시아, 우크라이나, \\n기타 동유럽 국가 및 CIS 국가\\nIGK\\nO\\n중동\\n이스라엘, 팔레스타인, UAE\\nD&B\\nX\\n튀르키예\\nDTB\\nO\\n사우디아라비아, 기타 중동 국가\\nRIME\\nO\\n아프리카\\n이집트, 모로코, 튀니지, 알제리 \\nRIME\\nO\\n수단, 리비아, 기타 아프리카 국가\\nFINEDATTA\\nO\\n* 해외조사기관의 업무수행 성과 등을 감안하여 변동 가능\\n7. 신용조사 보고서 조회방법\\n신청방법\\n내용\\n상세설명\\n소요기간\\n기존자료 구매\\n기존 보고서 구매\\n6개월 이내 조사된 기존 보고서가 있는 경우\\n당일\\n신규 신청\\n신규 조사 진행\\n상기 이외의 경우 또는 신규 조사 희망 시\\n통상 2~3주\\n☞ 신용조사 완료 시, 신청자 이메일로 요약보고서가 발송되며, 사이버영업점에서도 조회 가능\\n28\\n29\\n4.  신용조사 · 평가\\n무역보험 제도안내\\n\\n5  단기수출보험\\n무역보험 제도안내\\n30'), Document(metadata={}, page_content='중소ㆍ중견 수출기업 지원제도 안내  |  05\\nK-SURE의 해외지사 및 전세계 신용조사기관을 통해 정보를 조사한 후 \\n신청인에게 신용조사 보고서를 제공하는 서비스\\n수입자 신용조사 이용절차입니다.\\n   신용조사 신청 → 신용조사 및 평가 → 보고서 제공 및 조회 → 수수료 납부의 순서로 이용 \\n 신용조사 신청\\n・ [사이버영업점 - 국외기업신용조사 - 신청/조회 - 신용조사 신청] 메뉴 선택 \\n・ 공사 DB검색 \\n・ 조사방법 선택(구매/신규신청) \\n・ 수입자 기본정보* 입력 → 신청완료\\n* 주요정보 : 국가, 상호, 대표자명, 주소, 전화번호, 국외기업조사협조 여부, 상장 여부 등\\n공사에 의한 \\n신용조사 및 평가\\n・ 보고서 접수(평균 조사기간 2~3주가량 소요) \\n・ 접수된 보고서 검토 후 등급평가\\n보고서 제공 및 조회\\n・ 신청자 이메일로 보고서 발송\\n・ 사이버영업점에서도 보고서 조회 가능\\n(국외기업신용조사 – 신청/조회 – 신청내역/보고서 조회) 메뉴에서 조회\\n수수료 납부\\n・ 신청시 선택한 납부방법에 따라 납부\\n- (가상계좌 입금) 세금계산서에 표시된 가상계좌로 수수료 납부\\n- (신용카드 결제) 조사보고서 제공월 말일까지 결제\\n*  신용카드 결제는 중소ㆍ중견기업에 한해 가능하며, 결제기일 내 카드결제가 안 된 경우에는 \\n세금계산서 발급 내용에 따라 계좌이체로 납부하여야 함\\n신용조사 수수료입니다.\\n   조사보고서는 수출지원 차원에서 저렴하게 제공, 보고서 종류 등에 따라  수수료 상이\\n보고서\\n종류\\n신청기업 규모\\n가격(VAT 포함)\\n일반조사\\n재무제표미비\\n신용조사 불가자/\\n장기소요(40일초과)\\n요약\\n보고서\\n중소ㆍ중견기업\\n33,000원\\n22,000원\\n면제\\n대기업\\n66,000원\\n22,000원\\n면제\\nFull Report\\n중소ㆍ중견기업\\n49,500원\\n33,000원\\n면제\\n대기업\\n99,000원\\n33,000원\\n면제\\n*  현지사정에 따라 재무자료를 입수하지 못하는 경우 보고서 내에 재무자료가 포함되지 않을 수 있으며, 이런 경우 \\n재무제표미비 비용 적용\\n*  보고서 샘플은 공사 홈페이지 → 사업안내 → 국외기업신용조사 서비스 → 제도개요 → 샘플보기에서 확인 가능\\n3   수입자 신용조사 서비스\\n담당부서 : 조사부')], 'question': '중소기업의 수수료는 얼마인지 알려주세요?', 'retrieve_count': 2, 'generation': AIMessage(content='관련 문서를 찾을 수 없어 일반적인 답변으로 대체하겠습니다.\\n\\n중소기업의 수수료는 업종, 거래 규모, 서비스 제공업체에 따라 다를 수 있습니다. 일반적으로 수수료는 거래 금액의 일정 비율로 책정되며, 보통 1%에서 5% 사이일 수 있습니다. 정확한 수수료는 해당 기업이나 서비스 제공업체에 직접 문의하시는 것이 좋습니다.', additional_kwargs={'refusal': None}, response_metadata={'token_usage': {'completion_tokens': 98, 'prompt_tokens': 106, 'total_tokens': 204, 'completion_tokens_details': {'accepted_prediction_tokens': 0, 'audio_tokens': 0, 'reasoning_tokens': 0, 'rejected_prediction_tokens': 0}, 'prompt_tokens_details': {'audio_tokens': 0, 'cached_tokens': 0}}, 'model_name': 'gpt-4o-mini-2024-07-18', 'system_fingerprint': 'fp_b8bc95a0ac', 'finish_reason': 'stop', 'logprobs': None}, id='run-032679dc-078f-43ef-8f3c-d5bbd5f227d4-0', usage_metadata={'input_tokens': 106, 'output_tokens': 98, 'total_tokens': 204, 'input_token_details': {'audio': 0, 'cache_read': 0}, 'output_token_details': {'audio': 0, 'reasoning': 0}})}\n",
      "---CHECK DOCUMENT RELEVANCE TO QUESTION---\n",
      "---ASSESS GRADED DOCUMENTS---\n",
      "---DECISION: ALL DOCUMENTS ARE NOT RELEVANT TO QUESTION, TRANSFORM QUERY---\n",
      "{'documents': [], 'question': '중소기업의 수수료는 얼마인지 알려주세요?', 'retrieve_count': 2, 'generation': '중소기업의 신용조사 수수료는 요약보고서의 경우 33,000원, Full Report는 49,500원입니다. 대기업의 경우 요약보고서는 66,000원, Full Report는 99,000원입니다. 수수료는 VAT 포함 가격입니다.'}\n",
      "---TRANSFORM QUERY---\n",
      "query='중소기업의 수수료는 얼마인지 알고 싶습니다.'\n",
      "{'documents': [], 'question': '중소기업의 수수료는 얼마인지 알고 싶습니다.', 'retrieve_count': 2, 'generation': '죄송하지만 중소기업의 수수료에 대한 정보는 없습니다.'}\n",
      "---RETRIEVE---\n",
      "{'documents': [Document(metadata={}, page_content='중소ㆍ중견 수출기업 지원제도 안내  |  23\\n  중소ㆍ중견기업 특별지원제도\\n16\\n중소ㆍ중견기업 우대 혜택을 소개합니다.\\n   \\n  중소ㆍ중견기업에 대해 보험ㆍ보증료 할인, 부보율 우대 등 지원책을 시행 중이며, \\n특히 유망 중소ㆍ중견기업, 창업, 벤처, 수출초보기업 등에 대해 추가 우대 혜택 제공\\n   유망중소중견기업\\n 혁신형 중소기업(벤처기업, 이노비즈기업, 경영혁신기업)\\n 중소기업수출지원센터 지정 글로벌강소기업 1000+ 선정기업(유망기업, 성장기업, 강소기업, 강소+기업)\\n 산업통상자원부 지정 세계일류상품 인증기업\\n KOTRA 지정 글로벌브랜드사업 선정기업, U턴 기업 등\\n   수출초보기업 무역보험 지원\\n  수출 창업 및 벤처기업을 활성화하고, 내수기업의 수출기업화를 촉진하며, 수출 초보 기업을 중점적으로 \\n육성하기 위한 우대 지원 시행\\n구분\\n대상 기업\\n우대 혜택\\n수출초보기업 \\n무역보험 \\n우대지원\\n・ 산업부 「내수기업의 수출기업화」 사업 \\n당해연도 참여 기업 \\n・ 내수 중견기업의 수출기업 전환을 위해 \\n산업부가 시행하는 사업 당해연도 참여 \\n기업\\n・ 최근 1년(또는 전년도) 직수출실적 \\n100만불 이하 중소ㆍ중견 기업\\n・ 수출신용보증(선적전, 선적후, 매입), \\n단기수출보험 한도 우대(최대 1.5배 \\n이내), 보증료 할인(최대 30% 이내)\\n・수입자 신용조사 수수료 연간 5회 면제\\n수출성장금융\\n・ 수출시작을 위한 운전자금 융자 지원 \\n수출계획이 있는 기업이면 하나, 신한, \\n우리, 경남은행을 통해 진행 가능\\n *  기존 무역금융 이용기업은 중복이용 불가\\n시행기간\\n・수출초보기업 무역금융 우대지원 : ’24.12.31까지\\n・수출성장금융 : 하나, 신한, 우리, 경남은행별 확인요망\\n   ESG경영 인증기업 무역보험 지원\\n  중소중견기업 ESG경영 활성화를 위해 인증기업에 한도우대, 보험료 할인 등 우대 지원 시행\\n구분\\n대상 기업\\n우대 혜택\\nESG\\n인증기업\\n우대지원\\n・ESG부문 우대요건* 충족 중소중견기업\\n* 요건충족여부 담당팀·지사 상담 필요\\n・ 단기수출보험(선적후)·수출신용보증(선적전·\\n매입)·수입보험(글로벌공급망) 한도우대\\n(2배 이내), 보험(증)료 할인 \\n・ 컨설팅 제공 및 국외기업 신용조사 수수료 \\n연간 5건 면제\\n시행기간\\n・’23. 9. 1 부터 ’24. 8. 31 까지\\n자세한 사항은 여기로 문의하시면 됩니다.\\n   \\n  고객센터 1588-3884, 공사 홈페이지(www.ksure.or.kr) 또는 각 영업부서\\n제도담당부서 : 영업총괄실'), Document(metadata={}, page_content='중소ㆍ중견 수출기업 지원제도 안내  |  13\\n농수산물 수출 관련 위험을 아래와 같이 지원해 드립니다.\\n  농수산물을 직접 수출하거나 생산하여 수출업체에 판매(간접수출)하는 중소중견 업체\\n   농수산물 수출 시 발생하는 여러 위험에 대해 보상\\n- 수출대금 미회수위험 : 수입자의 신용위험 및 수입국의 비상위험으로 인한 수출대금 미회수 보상\\n- 수입국 검역위험 : 수입국의 검역과정에서 발생된 소독비용 및 폐기비용 등 보상\\n- 무역클레임 위험 : 클레임 해결에 소요된 비용 보상\\n   주요 계약사항\\n구분\\n주요내용\\n보험계약자\\n(이용요건)\\n・ 공사 신용등급 G급 이상의 농수산물 직수출 또는 간접수출하는 중소중견기업\\n・ 단기수출보험(포괄,준포괄,중소중견Plus+) 이용중인 기업 제외\\n적용대상 거래\\n・일반수출, 위탁가공무역\\n수출품목\\n・ 농산물, 수산물, 축산물, 임산물 및 그 가공식품\\n결제기간\\n・ 결제기간 1년 이내\\n보험\\n계약\\n대상\\n・ 청약 시 사전등록\\n수입자\\n아래 해당 시 수입자 제외\\n・ 공사 신용등급 자본잠식 G급 또는 R급(정보부족기업 제외), 클레임 등 사유로 분쟁 \\n소송중, 만기도래 후 30일 이상 결제지연, 고위험인수제한국가 또는 이란 소재\\n신용장 \\n개설은행\\n아래 해당 시 신용장 개설은행 제외\\n・ 공사 인수부적격 신용장 은행, 클레임 등 사유로 분쟁 소송중, 만기도래 후 30일 이상 \\n결제지연, 고위험인수제한국가 또는 이란 소재\\n담보위험\\n기본\\n선택\\n수출대금 미회수위험\\n수입국 검역위험\\n무역클레임 위험\\n책임금액\\n・ 최대 3억원\\n(간접수출 생산자1) \\n최대 1억원)\\n・ 최대 1천만원\\n(간접수출 생산자1) \\n최대 5백만원)\\n・ 최대 5천만원\\n보상비율\\n ・ 100%\\n・ 100%\\n・ 최대 100%\\n(클레임 종류별 상이)\\n기  타\\n・ 수출통지 : 없음\\n・보험계약기간 : 1년(매년 갱신 필요)\\n・보험료 납부 : 가입 시 선납\\n1) 농수산물 생산하여 수출업체에 판매하는 간접적으로 수출하는 업체\\n이용절차 및 신청서류입니다.\\n   이용절차 \\n \\n(☞단기수출보험(중소중견Plus+)와 동일)\\n   신청 :  (온라인) 사이버영업점에 로그인하여 신청  / (오프라인) 신청서류 영업부서 제출\\n   신청서류 :  홈페이지(www.ksure.or.kr) 내 자료실 신청서류에서 다운로드\\n8   단기수출보험(농수산물패키지)\\n농수산물 수출시 발생하는 여러 위험(수출대금 미회수위험, 수입국 검역위험, \\n무역클레임 위험)을 간편하게 보장하는 농수산물 중소중견기업 전용 제도\\n제도담당부서 : 영업총괄실'), Document(metadata={}, page_content='중소ㆍ중견 수출기업 지원제도 안내  |  19\\n수출채권 조기 현금화는 이렇게 지원해 드립니다.\\n   \\n  수입자 제한이 없는 보증으로, 수출기업이 하나의 보증서로 모든 수입자에 대해서 매입외환 대출을 받을 수 \\n있도록 이용절차를 간소화\\n    대상거래 : 무신용장방식 통관수출거래에 대한 매입외환 대출 원칙, 대출기간은 180일 이내\\n    보증절차 :  보증상담 → 수출자 신용평가 → 보증신청 → 보증한도 책정 → 보증료 납부 및 보증약정체결 \\n→ 보증서 발급 → 선적서류 매입\\n   \\n  수출신용보증(매입, 선적후)와 비교\\n구분\\n수출신용보증(포괄매입)\\n수출신용보증(매입)\\n수출신용보증(선적후)\\n보증계약자\\n・ 금융기관\\n담보위험\\n・ 수출기업의 대출금 미상환 위험\\n・ 비상위험, 신용위험으로 인한 \\n수입자의 미결제 위험\\n대상거래\\n・ 모든 수입자와의 대출기간 \\n180일이내 무신용장 통관 \\n수출거래\\n- 일반수출\\n※  공사가 정한 신용우량 기업의 경우 \\n비통관수출거래도 허용\\n・ 1년 이내 무신용장 수출거래\\n-  일반수출, 위탁가공무역, \\n중계무역거래\\n・ 2년 이내 신용장ㆍ무신용장 \\n수출거래 \\n- 일반수출, 위탁가공무역\\n보증비율\\n・ 90%이내\\n보증약정\\n・ 주채무자(수출기업)와 연대보증인이 약정서에 자필 서명\\n단기수출보험 가입\\n・ 연계 가입 선택\\n・ 연계 가입 필수\\n수출기업의 \\n수출통지/매입통지 \\n・ 없음 \\n・ 있음 \\n(금융기관의 매입 전 수출기업이 \\n대출(수출)통지 필요)\\n보증서 효력\\n・ 보증기간 중 대상거래 전체\\n・ 대출(수출)통지 된 수출거래\\n보증료\\n・ 연 1회 선납\\n・ 대출(수출)통지 건별 납부\\n(선적 후, 매입 전)\\n※ 수출신용보증(포괄매입)은 원칙적으로 타 종목과 혼용 불가 \\n신청 및 준비해야 할 서류입니다.\\n    신청 : (온라인) 사이버영업점에 접속하여 스캔파일 업로드(서류 원본 추후 보완)\\n- 부득이할 경우 팩스, 이메일 등 제출 \\n- 사이버영업점 서류제출 경로 : 수출신용보증 → 신청/조회 → 보증신청서류\\n   신청서류 : 홈페이지(www.ksure.or.kr) 내 자료실 신청서류에서 다운로드\\n  수출신용보증(포괄매입)\\n14\\n수출기업이 수입자 제한 없이 수출이행서류를 근거로 금융기관으로부터 매입외환 대출을 \\n받은 후, 대출만기에 상환하지 못하는 경우 공사가 은행에 손실을 보상하는 제도\\n제도담당부서 : 영업총괄실'), Document(metadata={}, page_content='중소ㆍ중견 수출기업 지원제도 안내  |  15\\n  단기수출보험(중소Plus+) 다이렉트플러스\\n수출기업의 대금 미회수 위험은 이렇게 지원해 드립니다.\\n   사이버영업점 전용 비대면 상품  \\n(단, 보험료지원은 기업 소재 지역 담당영업부서 문의)\\n   기존 단기수출보험 이용 시, 대상 수입자별 신용조사 및 한도심사, 수출건별 통지 등 일련의 절차가 \\n필요하나, 해당 상품 이용 시에는 간소화된 절차 및 저렴한 보험료로 보험 이용 가능\\n   수입자 수 제한 없이 보험계약기간(1년) 동안 발생한 보험계약자의 모든 정상 수출거래에 대해 일괄 담보 \\n   주요 계약사항\\n구분\\n주요내용\\n보험계약자\\n(이용요건)\\n・ 연간 직수출실적 U$50백만 이하 공사 신용등급 G급(특례G급 제외) 이상 중소기업\\n・ 단기수출보험(포괄, 준포괄, 농수산물패키지, 중소중견Plus+) 이용기업은 제외\\n(단, 단체보험ㆍ수출안전망 이용기업은 이용 가능)\\n담보위험\\n・신용위험 및 비상위험\\n보험기간\\n・ 1년(보험개시일 지정 가능), 1년 단위로 계약체결 및 갱신\\n대상거래1)\\n・ 결제기간 1년 이내의 일반수출ㆍ위탁가공ㆍ중계무역\\n책임금액2)\\n・ 최대 U$20만, 개별 수입자별 최대 U$10만 보상가능\\n보상비율\\n・ (일반형) 95%\\n・ (보장우대형) 100%\\n수입자\\n제한사항\\n・ (수입자등급) 공사 신용등급 자본잠식G급 또는 R급(정보부족기업 제외)\\n・ (클레임) 클레임 등 사유로 분쟁ㆍ소송중\\n・ (만기도래미결제) 만기도래 후 30일 이상 결제지연\\n・ (국별인수방침) 고위험 인수제한국가3) 또는 이란, 러시아, 벨라루스 소재\\n・ (중국 무신용장 수입대행거래) 수입대행계약체결 중국 수입자\\n기  타\\n・ 수출통지 : 없음\\n・ 서류제출 불필요 : 수출실적 서류 제출, 수입자 리스트 제출 불필요\\n・ 보험료 납부 : 가입 시 선납\\n1) 공사 단기수출보험(중소중견Plus+) 약관에서 정의하는 수출거래임\\n2) 공사가 보험계약자에게 지급해야 할 보험금의 최대 누적액\\n3) 홈페이지(www.ksure.or.kr) → K-SURE 해외신용정보센터 → 보고서&자료 → 국별인수방침 참조\\n별도의 수출통지 절차나 수입자 신용조사 없이 보험계약기간 동안 발생한 보험계약자의 \\n모든 정상 수출거래에 대한 대금 미회수위험을 담보하는 비대면 간편 보험제도\\n제도담당부서 : 디지털사업부\\n10')], 'question': '중소기업의 수수료는 얼마인지 알고 싶습니다.', 'retrieve_count': 3, 'generation': AIMessage(content='관련 문서를 찾을 수 없어 일반적인 답변으로 대체하겠습니다.\\n\\n중소기업의 수수료는 업종, 거래 규모, 서비스 제공업체에 따라 다를 수 있습니다. 일반적으로 수수료는 1%에서 5% 사이일 수 있으며, 특정 서비스나 거래에 따라 달라질 수 있습니다. 보다 정확한 정보를 원하신다면 해당 업종의 전문가나 관련 기관에 문의하는 것이 좋습니다.', additional_kwargs={'refusal': None}, response_metadata={'token_usage': {'completion_tokens': 96, 'prompt_tokens': 107, 'total_tokens': 203, 'completion_tokens_details': {'accepted_prediction_tokens': 0, 'audio_tokens': 0, 'reasoning_tokens': 0, 'rejected_prediction_tokens': 0}, 'prompt_tokens_details': {'audio_tokens': 0, 'cached_tokens': 0}}, 'model_name': 'gpt-4o-mini-2024-07-18', 'system_fingerprint': 'fp_b8bc95a0ac', 'finish_reason': 'stop', 'logprobs': None}, id='run-3690a5fe-f91f-4896-8290-aeb7d4c0d04b-0', usage_metadata={'input_tokens': 107, 'output_tokens': 96, 'total_tokens': 203, 'input_token_details': {'audio': 0, 'cache_read': 0}, 'output_token_details': {'audio': 0, 'reasoning': 0}})}\n",
      "---CHECK DOCUMENT RELEVANCE TO QUESTION---\n",
      "---ASSESS GRADED DOCUMENTS---\n",
      "---DECISION: ALL DOCUMENTS ARE NOT RELEVANT TO QUESTION, TRANSFORM QUERY---\n",
      "{'documents': [], 'question': '중소기업의 수수료는 얼마인지 알고 싶습니다.', 'retrieve_count': 3, 'generation': '중소기업의 수수료에 대한 구체적인 정보는 제공되지 않았습니다. 그러나 중소기업은 다양한 지원제도를 통해 보험료 할인 및 보증료 우대를 받을 수 있습니다. 자세한 사항은 관련 기관에 문의하시기 바랍니다.'}\n",
      "---TRANSFORM QUERY---\n",
      "query='중소기업의 수수료는 얼마인지 알고 싶습니다. 정확한 정보를 제공해 주실 수 있나요?'\n",
      "{'documents': [], 'question': '중소기업의 수수료는 얼마인지 알고 싶습니다. 정확한 정보를 제공해 주실 수 있나요?', 'retrieve_count': 3, 'generation': '죄송하지만, 중소기업의 수수료에 대한 정보는 제공된 내용에 없습니다. 추가적인 정보가 필요합니다.'}\n",
      "---RETRIEVE---\n",
      "{'documents': [Document(metadata={}, page_content='중소ㆍ중견 수출기업 지원제도 안내  |  23\\n  중소ㆍ중견기업 특별지원제도\\n16\\n중소ㆍ중견기업 우대 혜택을 소개합니다.\\n   \\n  중소ㆍ중견기업에 대해 보험ㆍ보증료 할인, 부보율 우대 등 지원책을 시행 중이며, \\n특히 유망 중소ㆍ중견기업, 창업, 벤처, 수출초보기업 등에 대해 추가 우대 혜택 제공\\n   유망중소중견기업\\n 혁신형 중소기업(벤처기업, 이노비즈기업, 경영혁신기업)\\n 중소기업수출지원센터 지정 글로벌강소기업 1000+ 선정기업(유망기업, 성장기업, 강소기업, 강소+기업)\\n 산업통상자원부 지정 세계일류상품 인증기업\\n KOTRA 지정 글로벌브랜드사업 선정기업, U턴 기업 등\\n   수출초보기업 무역보험 지원\\n  수출 창업 및 벤처기업을 활성화하고, 내수기업의 수출기업화를 촉진하며, 수출 초보 기업을 중점적으로 \\n육성하기 위한 우대 지원 시행\\n구분\\n대상 기업\\n우대 혜택\\n수출초보기업 \\n무역보험 \\n우대지원\\n・ 산업부 「내수기업의 수출기업화」 사업 \\n당해연도 참여 기업 \\n・ 내수 중견기업의 수출기업 전환을 위해 \\n산업부가 시행하는 사업 당해연도 참여 \\n기업\\n・ 최근 1년(또는 전년도) 직수출실적 \\n100만불 이하 중소ㆍ중견 기업\\n・ 수출신용보증(선적전, 선적후, 매입), \\n단기수출보험 한도 우대(최대 1.5배 \\n이내), 보증료 할인(최대 30% 이내)\\n・수입자 신용조사 수수료 연간 5회 면제\\n수출성장금융\\n・ 수출시작을 위한 운전자금 융자 지원 \\n수출계획이 있는 기업이면 하나, 신한, \\n우리, 경남은행을 통해 진행 가능\\n *  기존 무역금융 이용기업은 중복이용 불가\\n시행기간\\n・수출초보기업 무역금융 우대지원 : ’24.12.31까지\\n・수출성장금융 : 하나, 신한, 우리, 경남은행별 확인요망\\n   ESG경영 인증기업 무역보험 지원\\n  중소중견기업 ESG경영 활성화를 위해 인증기업에 한도우대, 보험료 할인 등 우대 지원 시행\\n구분\\n대상 기업\\n우대 혜택\\nESG\\n인증기업\\n우대지원\\n・ESG부문 우대요건* 충족 중소중견기업\\n* 요건충족여부 담당팀·지사 상담 필요\\n・ 단기수출보험(선적후)·수출신용보증(선적전·\\n매입)·수입보험(글로벌공급망) 한도우대\\n(2배 이내), 보험(증)료 할인 \\n・ 컨설팅 제공 및 국외기업 신용조사 수수료 \\n연간 5건 면제\\n시행기간\\n・’23. 9. 1 부터 ’24. 8. 31 까지\\n자세한 사항은 여기로 문의하시면 됩니다.\\n   \\n  고객센터 1588-3884, 공사 홈페이지(www.ksure.or.kr) 또는 각 영업부서\\n제도담당부서 : 영업총괄실'), Document(metadata={}, page_content='중소ㆍ중견 수출기업 지원제도 안내  |  05\\nK-SURE의 해외지사 및 전세계 신용조사기관을 통해 정보를 조사한 후 \\n신청인에게 신용조사 보고서를 제공하는 서비스\\n수입자 신용조사 이용절차입니다.\\n   신용조사 신청 → 신용조사 및 평가 → 보고서 제공 및 조회 → 수수료 납부의 순서로 이용 \\n 신용조사 신청\\n・ [사이버영업점 - 국외기업신용조사 - 신청/조회 - 신용조사 신청] 메뉴 선택 \\n・ 공사 DB검색 \\n・ 조사방법 선택(구매/신규신청) \\n・ 수입자 기본정보* 입력 → 신청완료\\n* 주요정보 : 국가, 상호, 대표자명, 주소, 전화번호, 국외기업조사협조 여부, 상장 여부 등\\n공사에 의한 \\n신용조사 및 평가\\n・ 보고서 접수(평균 조사기간 2~3주가량 소요) \\n・ 접수된 보고서 검토 후 등급평가\\n보고서 제공 및 조회\\n・ 신청자 이메일로 보고서 발송\\n・ 사이버영업점에서도 보고서 조회 가능\\n(국외기업신용조사 – 신청/조회 – 신청내역/보고서 조회) 메뉴에서 조회\\n수수료 납부\\n・ 신청시 선택한 납부방법에 따라 납부\\n- (가상계좌 입금) 세금계산서에 표시된 가상계좌로 수수료 납부\\n- (신용카드 결제) 조사보고서 제공월 말일까지 결제\\n*  신용카드 결제는 중소ㆍ중견기업에 한해 가능하며, 결제기일 내 카드결제가 안 된 경우에는 \\n세금계산서 발급 내용에 따라 계좌이체로 납부하여야 함\\n신용조사 수수료입니다.\\n   조사보고서는 수출지원 차원에서 저렴하게 제공, 보고서 종류 등에 따라  수수료 상이\\n보고서\\n종류\\n신청기업 규모\\n가격(VAT 포함)\\n일반조사\\n재무제표미비\\n신용조사 불가자/\\n장기소요(40일초과)\\n요약\\n보고서\\n중소ㆍ중견기업\\n33,000원\\n22,000원\\n면제\\n대기업\\n66,000원\\n22,000원\\n면제\\nFull Report\\n중소ㆍ중견기업\\n49,500원\\n33,000원\\n면제\\n대기업\\n99,000원\\n33,000원\\n면제\\n*  현지사정에 따라 재무자료를 입수하지 못하는 경우 보고서 내에 재무자료가 포함되지 않을 수 있으며, 이런 경우 \\n재무제표미비 비용 적용\\n*  보고서 샘플은 공사 홈페이지 → 사업안내 → 국외기업신용조사 서비스 → 제도개요 → 샘플보기에서 확인 가능\\n3   수입자 신용조사 서비스\\n담당부서 : 조사부'), Document(metadata={}, page_content='5. 신용조사 수수료 및 납부방법\\n \\x07신용조사 수수료(VAT 포함 가격)\\n보고서종류\\n기업규모\\n일반\\n재무제표 미비*\\n신용조사 불가자 또는 \\n장기소요(40일 초과)\\n요약보고서\\n중소중견기업\\n33,000원\\n22,000원\\n면제\\n대기업\\n66,000원\\nFull Report\\n중소중견기업\\n49,500원\\n33,000원\\n대기업\\n99,000원\\n* 주요 재무정보만 있는 경우도 포함\\n• \\x07K-SURE는 고객의 원활한 대외거래를 지원하기 위해 상당 규모의 조사비용을 자체적으로 부담하고 있습니다. \\n 수수료 청구 및 납부방법\\n수납방식\\n청구방법\\n납부\\n가상계좌\\n입금\\n• \\x07당월 중 조사완료건 전체에 대한 수수료 일괄 청구 및 세금\\n계산서 발행 \\n☞ 조사 완료일 익월 첫영업일\\n☞ \\x07마스터대표사용자 및 신청자에게 이메일로 발송되며, 모든 \\n사용자가 사이버영업점에서 조회 가능\\n• \\x07일괄 납부\\n☞ 조사 완료일 익월 27일까지\\n신용카드\\n• 조사완료시 건별 납부안내\\n• 건별 납부(사이버영업점)\\n☞ 조사 완료일 당월 말일까지\\n6. 국가별 신용조사기관 및 Full Report 제공 여부 \\n지 역\\n조사기관*\\nFull Report 제공 여부\\n아시아\\n중국\\nEXPERIAN\\nO\\n태국\\nINRA\\nO\\n말레이시아\\nBASIS\\nO\\n베트남\\nVNCR\\nO\\n인도, 몽골, 미얀마, 캄보디아, 방글라데시, 파키스탄, \\n네팔, 부탄, 스리랑카, 라오스, 몰디브, 브루나이\\nUCS\\nO\\n일본, 홍콩, 싱가포르, 인도네시아, \\n기타 아시아 국가\\nD&B\\nX\\n미주\\n미국, 브라질, 아르헨티나,\\n멕시코, 콜롬비아, 에콰도르\\nD&B\\nX\\n캐나다\\nWORLDBOX\\nX\\n페루 포함 기타 중남미 국가\\nCRLA/DRR\\nO\\n대양주\\n호주\\nD&B\\nX\\n뉴질랜드 및 기타 대양주 국가\\nCCR\\nO\\n서유럽\\n영국, 아일랜드, 프랑스, 네덜란드\\nCREDITSAFE\\nX\\n독일\\nCRIF\\nX\\n이탈리아\\nCREDITSAFE / D&B\\nX\\n기타 서유럽 국가\\nD&B\\nX\\n동유럽\\n(CIS포함)\\n러시아, 우크라이나, \\n기타 동유럽 국가 및 CIS 국가\\nIGK\\nO\\n중동\\n이스라엘, 팔레스타인, UAE\\nD&B\\nX\\n튀르키예\\nDTB\\nO\\n사우디아라비아, 기타 중동 국가\\nRIME\\nO\\n아프리카\\n이집트, 모로코, 튀니지, 알제리 \\nRIME\\nO\\n수단, 리비아, 기타 아프리카 국가\\nFINEDATTA\\nO\\n* 해외조사기관의 업무수행 성과 등을 감안하여 변동 가능\\n7. 신용조사 보고서 조회방법\\n신청방법\\n내용\\n상세설명\\n소요기간\\n기존자료 구매\\n기존 보고서 구매\\n6개월 이내 조사된 기존 보고서가 있는 경우\\n당일\\n신규 신청\\n신규 조사 진행\\n상기 이외의 경우 또는 신규 조사 희망 시\\n통상 2~3주\\n☞ 신용조사 완료 시, 신청자 이메일로 요약보고서가 발송되며, 사이버영업점에서도 조회 가능\\n28\\n29\\n4.  신용조사 · 평가\\n무역보험 제도안내\\n\\n5  단기수출보험\\n무역보험 제도안내\\n30'), Document(metadata={}, page_content='중소ㆍ중견 수출기업 지원제도 안내  |  13\\n농수산물 수출 관련 위험을 아래와 같이 지원해 드립니다.\\n  농수산물을 직접 수출하거나 생산하여 수출업체에 판매(간접수출)하는 중소중견 업체\\n   농수산물 수출 시 발생하는 여러 위험에 대해 보상\\n- 수출대금 미회수위험 : 수입자의 신용위험 및 수입국의 비상위험으로 인한 수출대금 미회수 보상\\n- 수입국 검역위험 : 수입국의 검역과정에서 발생된 소독비용 및 폐기비용 등 보상\\n- 무역클레임 위험 : 클레임 해결에 소요된 비용 보상\\n   주요 계약사항\\n구분\\n주요내용\\n보험계약자\\n(이용요건)\\n・ 공사 신용등급 G급 이상의 농수산물 직수출 또는 간접수출하는 중소중견기업\\n・ 단기수출보험(포괄,준포괄,중소중견Plus+) 이용중인 기업 제외\\n적용대상 거래\\n・일반수출, 위탁가공무역\\n수출품목\\n・ 농산물, 수산물, 축산물, 임산물 및 그 가공식품\\n결제기간\\n・ 결제기간 1년 이내\\n보험\\n계약\\n대상\\n・ 청약 시 사전등록\\n수입자\\n아래 해당 시 수입자 제외\\n・ 공사 신용등급 자본잠식 G급 또는 R급(정보부족기업 제외), 클레임 등 사유로 분쟁 \\n소송중, 만기도래 후 30일 이상 결제지연, 고위험인수제한국가 또는 이란 소재\\n신용장 \\n개설은행\\n아래 해당 시 신용장 개설은행 제외\\n・ 공사 인수부적격 신용장 은행, 클레임 등 사유로 분쟁 소송중, 만기도래 후 30일 이상 \\n결제지연, 고위험인수제한국가 또는 이란 소재\\n담보위험\\n기본\\n선택\\n수출대금 미회수위험\\n수입국 검역위험\\n무역클레임 위험\\n책임금액\\n・ 최대 3억원\\n(간접수출 생산자1) \\n최대 1억원)\\n・ 최대 1천만원\\n(간접수출 생산자1) \\n최대 5백만원)\\n・ 최대 5천만원\\n보상비율\\n ・ 100%\\n・ 100%\\n・ 최대 100%\\n(클레임 종류별 상이)\\n기  타\\n・ 수출통지 : 없음\\n・보험계약기간 : 1년(매년 갱신 필요)\\n・보험료 납부 : 가입 시 선납\\n1) 농수산물 생산하여 수출업체에 판매하는 간접적으로 수출하는 업체\\n이용절차 및 신청서류입니다.\\n   이용절차 \\n \\n(☞단기수출보험(중소중견Plus+)와 동일)\\n   신청 :  (온라인) 사이버영업점에 로그인하여 신청  / (오프라인) 신청서류 영업부서 제출\\n   신청서류 :  홈페이지(www.ksure.or.kr) 내 자료실 신청서류에서 다운로드\\n8   단기수출보험(농수산물패키지)\\n농수산물 수출시 발생하는 여러 위험(수출대금 미회수위험, 수입국 검역위험, \\n무역클레임 위험)을 간편하게 보장하는 농수산물 중소중견기업 전용 제도\\n제도담당부서 : 영업총괄실')], 'question': '중소기업의 수수료는 얼마인지 알고 싶습니다. 정확한 정보를 제공해 주실 수 있나요?', 'retrieve_count': 4, 'generation': AIMessage(content='관련 문서를 찾을 수 없어 일반적인 답변으로 대체하겠습니다.\\n\\n중소기업의 수수료는 업종, 거래 규모, 서비스 제공업체에 따라 다를 수 있습니다. 일반적으로 결제 수수료는 1%에서 3% 사이이며, 특정 서비스나 플랫폼에 따라 다르게 책정될 수 있습니다. 정확한 수수료를 알고 싶으시다면 해당 서비스 제공업체에 직접 문의하시거나, 관련 정보를 웹사이트에서 확인하는 것이 좋습니다.', additional_kwargs={'refusal': None}, response_metadata={'token_usage': {'completion_tokens': 108, 'prompt_tokens': 118, 'total_tokens': 226, 'completion_tokens_details': {'accepted_prediction_tokens': 0, 'audio_tokens': 0, 'reasoning_tokens': 0, 'rejected_prediction_tokens': 0}, 'prompt_tokens_details': {'audio_tokens': 0, 'cached_tokens': 0}}, 'model_name': 'gpt-4o-mini-2024-07-18', 'system_fingerprint': 'fp_b8bc95a0ac', 'finish_reason': 'stop', 'logprobs': None}, id='run-d58f52d3-c1be-47a2-8bb2-97ae05597cdd-0', usage_metadata={'input_tokens': 118, 'output_tokens': 108, 'total_tokens': 226, 'input_token_details': {'audio': 0, 'cache_read': 0}, 'output_token_details': {'audio': 0, 'reasoning': 0}})}\n",
      "---CHECK DOCUMENT RELEVANCE TO QUESTION---\n",
      "---ASSESS GRADED DOCUMENTS---\n",
      "---DECISION: ALL DOCUMENTS ARE NOT RELEVANT TO QUESTION, TRANSFORM QUERY---\n",
      "{'documents': [], 'question': '중소기업의 수수료는 얼마인지 알고 싶습니다. 정확한 정보를 제공해 주실 수 있나요?', 'retrieve_count': 4, 'generation': '중소기업의 신용조사 수수료는 기업 규모에 따라 다르며, 중소기업의 경우 일반조사 보고서는 33,000원, 풀 리포트는 49,500원입니다. 또한, 특정 조건을 충족하는 경우 수수료가 면제될 수 있습니다. 자세한 사항은 관련 기관에 문의하시기 바랍니다.'}\n",
      "---TRANSFORM QUERY---\n",
      "query='중소기업의 수수료에 대한 정확한 정보는 얼마인지 알고 싶습니다. 제공해 주실 수 있나요?'\n",
      "{'documents': [], 'question': '중소기업의 수수료에 대한 정확한 정보는 얼마인지 알고 싶습니다. 제공해 주실 수 있나요?', 'retrieve_count': 4, 'generation': '죄송하지만 중소기업의 수수료에 대한 정확한 정보는 제공할 수 없습니다. 관련된 정보가 없어서 답변하기 어렵습니다.'}\n",
      "---RETRIEVE---\n",
      "{'documents': [Document(metadata={}, page_content='중소ㆍ중견 수출기업 지원제도 안내  |  23\\n  중소ㆍ중견기업 특별지원제도\\n16\\n중소ㆍ중견기업 우대 혜택을 소개합니다.\\n   \\n  중소ㆍ중견기업에 대해 보험ㆍ보증료 할인, 부보율 우대 등 지원책을 시행 중이며, \\n특히 유망 중소ㆍ중견기업, 창업, 벤처, 수출초보기업 등에 대해 추가 우대 혜택 제공\\n   유망중소중견기업\\n 혁신형 중소기업(벤처기업, 이노비즈기업, 경영혁신기업)\\n 중소기업수출지원센터 지정 글로벌강소기업 1000+ 선정기업(유망기업, 성장기업, 강소기업, 강소+기업)\\n 산업통상자원부 지정 세계일류상품 인증기업\\n KOTRA 지정 글로벌브랜드사업 선정기업, U턴 기업 등\\n   수출초보기업 무역보험 지원\\n  수출 창업 및 벤처기업을 활성화하고, 내수기업의 수출기업화를 촉진하며, 수출 초보 기업을 중점적으로 \\n육성하기 위한 우대 지원 시행\\n구분\\n대상 기업\\n우대 혜택\\n수출초보기업 \\n무역보험 \\n우대지원\\n・ 산업부 「내수기업의 수출기업화」 사업 \\n당해연도 참여 기업 \\n・ 내수 중견기업의 수출기업 전환을 위해 \\n산업부가 시행하는 사업 당해연도 참여 \\n기업\\n・ 최근 1년(또는 전년도) 직수출실적 \\n100만불 이하 중소ㆍ중견 기업\\n・ 수출신용보증(선적전, 선적후, 매입), \\n단기수출보험 한도 우대(최대 1.5배 \\n이내), 보증료 할인(최대 30% 이내)\\n・수입자 신용조사 수수료 연간 5회 면제\\n수출성장금융\\n・ 수출시작을 위한 운전자금 융자 지원 \\n수출계획이 있는 기업이면 하나, 신한, \\n우리, 경남은행을 통해 진행 가능\\n *  기존 무역금융 이용기업은 중복이용 불가\\n시행기간\\n・수출초보기업 무역금융 우대지원 : ’24.12.31까지\\n・수출성장금융 : 하나, 신한, 우리, 경남은행별 확인요망\\n   ESG경영 인증기업 무역보험 지원\\n  중소중견기업 ESG경영 활성화를 위해 인증기업에 한도우대, 보험료 할인 등 우대 지원 시행\\n구분\\n대상 기업\\n우대 혜택\\nESG\\n인증기업\\n우대지원\\n・ESG부문 우대요건* 충족 중소중견기업\\n* 요건충족여부 담당팀·지사 상담 필요\\n・ 단기수출보험(선적후)·수출신용보증(선적전·\\n매입)·수입보험(글로벌공급망) 한도우대\\n(2배 이내), 보험(증)료 할인 \\n・ 컨설팅 제공 및 국외기업 신용조사 수수료 \\n연간 5건 면제\\n시행기간\\n・’23. 9. 1 부터 ’24. 8. 31 까지\\n자세한 사항은 여기로 문의하시면 됩니다.\\n   \\n  고객센터 1588-3884, 공사 홈페이지(www.ksure.or.kr) 또는 각 영업부서\\n제도담당부서 : 영업총괄실'), Document(metadata={}, page_content='중소ㆍ중견 수출기업 지원제도 안내  |  05\\nK-SURE의 해외지사 및 전세계 신용조사기관을 통해 정보를 조사한 후 \\n신청인에게 신용조사 보고서를 제공하는 서비스\\n수입자 신용조사 이용절차입니다.\\n   신용조사 신청 → 신용조사 및 평가 → 보고서 제공 및 조회 → 수수료 납부의 순서로 이용 \\n 신용조사 신청\\n・ [사이버영업점 - 국외기업신용조사 - 신청/조회 - 신용조사 신청] 메뉴 선택 \\n・ 공사 DB검색 \\n・ 조사방법 선택(구매/신규신청) \\n・ 수입자 기본정보* 입력 → 신청완료\\n* 주요정보 : 국가, 상호, 대표자명, 주소, 전화번호, 국외기업조사협조 여부, 상장 여부 등\\n공사에 의한 \\n신용조사 및 평가\\n・ 보고서 접수(평균 조사기간 2~3주가량 소요) \\n・ 접수된 보고서 검토 후 등급평가\\n보고서 제공 및 조회\\n・ 신청자 이메일로 보고서 발송\\n・ 사이버영업점에서도 보고서 조회 가능\\n(국외기업신용조사 – 신청/조회 – 신청내역/보고서 조회) 메뉴에서 조회\\n수수료 납부\\n・ 신청시 선택한 납부방법에 따라 납부\\n- (가상계좌 입금) 세금계산서에 표시된 가상계좌로 수수료 납부\\n- (신용카드 결제) 조사보고서 제공월 말일까지 결제\\n*  신용카드 결제는 중소ㆍ중견기업에 한해 가능하며, 결제기일 내 카드결제가 안 된 경우에는 \\n세금계산서 발급 내용에 따라 계좌이체로 납부하여야 함\\n신용조사 수수료입니다.\\n   조사보고서는 수출지원 차원에서 저렴하게 제공, 보고서 종류 등에 따라  수수료 상이\\n보고서\\n종류\\n신청기업 규모\\n가격(VAT 포함)\\n일반조사\\n재무제표미비\\n신용조사 불가자/\\n장기소요(40일초과)\\n요약\\n보고서\\n중소ㆍ중견기업\\n33,000원\\n22,000원\\n면제\\n대기업\\n66,000원\\n22,000원\\n면제\\nFull Report\\n중소ㆍ중견기업\\n49,500원\\n33,000원\\n면제\\n대기업\\n99,000원\\n33,000원\\n면제\\n*  현지사정에 따라 재무자료를 입수하지 못하는 경우 보고서 내에 재무자료가 포함되지 않을 수 있으며, 이런 경우 \\n재무제표미비 비용 적용\\n*  보고서 샘플은 공사 홈페이지 → 사업안내 → 국외기업신용조사 서비스 → 제도개요 → 샘플보기에서 확인 가능\\n3   수입자 신용조사 서비스\\n담당부서 : 조사부'), Document(metadata={}, page_content='5. 신용조사 수수료 및 납부방법\\n \\x07신용조사 수수료(VAT 포함 가격)\\n보고서종류\\n기업규모\\n일반\\n재무제표 미비*\\n신용조사 불가자 또는 \\n장기소요(40일 초과)\\n요약보고서\\n중소중견기업\\n33,000원\\n22,000원\\n면제\\n대기업\\n66,000원\\nFull Report\\n중소중견기업\\n49,500원\\n33,000원\\n대기업\\n99,000원\\n* 주요 재무정보만 있는 경우도 포함\\n• \\x07K-SURE는 고객의 원활한 대외거래를 지원하기 위해 상당 규모의 조사비용을 자체적으로 부담하고 있습니다. \\n 수수료 청구 및 납부방법\\n수납방식\\n청구방법\\n납부\\n가상계좌\\n입금\\n• \\x07당월 중 조사완료건 전체에 대한 수수료 일괄 청구 및 세금\\n계산서 발행 \\n☞ 조사 완료일 익월 첫영업일\\n☞ \\x07마스터대표사용자 및 신청자에게 이메일로 발송되며, 모든 \\n사용자가 사이버영업점에서 조회 가능\\n• \\x07일괄 납부\\n☞ 조사 완료일 익월 27일까지\\n신용카드\\n• 조사완료시 건별 납부안내\\n• 건별 납부(사이버영업점)\\n☞ 조사 완료일 당월 말일까지\\n6. 국가별 신용조사기관 및 Full Report 제공 여부 \\n지 역\\n조사기관*\\nFull Report 제공 여부\\n아시아\\n중국\\nEXPERIAN\\nO\\n태국\\nINRA\\nO\\n말레이시아\\nBASIS\\nO\\n베트남\\nVNCR\\nO\\n인도, 몽골, 미얀마, 캄보디아, 방글라데시, 파키스탄, \\n네팔, 부탄, 스리랑카, 라오스, 몰디브, 브루나이\\nUCS\\nO\\n일본, 홍콩, 싱가포르, 인도네시아, \\n기타 아시아 국가\\nD&B\\nX\\n미주\\n미국, 브라질, 아르헨티나,\\n멕시코, 콜롬비아, 에콰도르\\nD&B\\nX\\n캐나다\\nWORLDBOX\\nX\\n페루 포함 기타 중남미 국가\\nCRLA/DRR\\nO\\n대양주\\n호주\\nD&B\\nX\\n뉴질랜드 및 기타 대양주 국가\\nCCR\\nO\\n서유럽\\n영국, 아일랜드, 프랑스, 네덜란드\\nCREDITSAFE\\nX\\n독일\\nCRIF\\nX\\n이탈리아\\nCREDITSAFE / D&B\\nX\\n기타 서유럽 국가\\nD&B\\nX\\n동유럽\\n(CIS포함)\\n러시아, 우크라이나, \\n기타 동유럽 국가 및 CIS 국가\\nIGK\\nO\\n중동\\n이스라엘, 팔레스타인, UAE\\nD&B\\nX\\n튀르키예\\nDTB\\nO\\n사우디아라비아, 기타 중동 국가\\nRIME\\nO\\n아프리카\\n이집트, 모로코, 튀니지, 알제리 \\nRIME\\nO\\n수단, 리비아, 기타 아프리카 국가\\nFINEDATTA\\nO\\n* 해외조사기관의 업무수행 성과 등을 감안하여 변동 가능\\n7. 신용조사 보고서 조회방법\\n신청방법\\n내용\\n상세설명\\n소요기간\\n기존자료 구매\\n기존 보고서 구매\\n6개월 이내 조사된 기존 보고서가 있는 경우\\n당일\\n신규 신청\\n신규 조사 진행\\n상기 이외의 경우 또는 신규 조사 희망 시\\n통상 2~3주\\n☞ 신용조사 완료 시, 신청자 이메일로 요약보고서가 발송되며, 사이버영업점에서도 조회 가능\\n28\\n29\\n4.  신용조사 · 평가\\n무역보험 제도안내\\n\\n5  단기수출보험\\n무역보험 제도안내\\n30'), Document(metadata={}, page_content='중소ㆍ중견 수출기업 지원제도 안내  |  17\\n  수출신용보증(선적후)\\n12\\n수출채권 조기 현금화는 이렇게 지원해 드립니다.\\n   금융기관이 수출채권 매입 시, 담보로서 기능하는 상품으로, 단기수출보험 연계 가입 의무화를 통하여 \\n수입자의 대금 미결제 위험으로부터 수출기업을 보호 \\n    대상거래\\n- 결제기간 2년 이내의 일반수출 또는 위탁가공무역 거래\\n- 수출결제조건 신용장(L/C) 및 무신용장(D/A, D/P, T/T 등) 거래 모두 가능\\n    수입자(수입국) : 공사의 이용 제한 수입자 또는 인수 제한 국가가 아닌 경우\\n    보증절차 \\n-  보증상담 → 수출자ㆍ수입자 신용평가 → 보증신청 → 보증한도 책정 → 보증약정체결 → 보증서 발급 → \\n대출(수출)통지 → 보증료 및 보험료 납부 → 보증부 대출(매입)\\n    주요 계약사항\\n구분\\n주요 내용\\n보증상대방\\n・ 금융기관\\n보증한도\\n・ 거래 수입자별 보증한도 책정\\n보증비율\\n・ 90% 이내\\n단기수출보험\\n연계 가입\\n・ 단기수출보험 연계가입 의무 \\n-  K-SURE가 금융기관 앞 보증채무 이행시 수출자의 과실이 없으면 \\n연계된 단기수출보험 보험금만큼 K-SURE앞 상환의무 면제\\n보증(보험)료 납부\\n・ 매입 건별로 보증/보험료 납부, 은행 매입전 납부\\n보증약정\\n・ K-SURE와 수출기업간 권리ㆍ의무관계를 약정하는 것으로, \\n주채무자와 연대보증인이 약정서에 자필 서명\\n신청 및 준비해야 할 서류입니다.\\n    신청 : (온라인) 사이버영업점에 접속하여 스캔파일 업로드(서류 원본 추후 보완)\\n- 부득이할 경우 팩스, 이메일 등 제출 \\n- 사이버영업점 서류제출 경로 : 수출신용보증 → 신청/조회 → 보증신청서류\\n   신청서류 : 홈페이지(www.ksure.or.kr) 내 자료실 신청서류에서 다운로드\\n수출기업이 수출계약에 따라 물품을 선적한 후 금융기관이 환어음 등의 선적서류를 근거로 \\n수출채권을 매입하는 경우 K-SURE가 연대보증하는 제도\\n제도담당부서 : 영업총괄실')], 'question': '중소기업의 수수료에 대한 정확한 정보는 얼마인지 알고 싶습니다. 제공해 주실 수 있나요?', 'retrieve_count': 5, 'generation': AIMessage(content='죄송하지만 관련 문서를 찾을 수 없어 일반적인 답변으로 대체하겠습니다. \\n\\n중소기업의 수수료는 업종, 거래 규모, 서비스 제공업체에 따라 다를 수 있습니다. 일반적으로 결제 수수료는 1%에서 3% 사이이며, 특정 서비스나 플랫폼에 따라 다르게 책정될 수 있습니다. 보다 정확한 정보는 해당 서비스 제공업체에 직접 문의하시거나 관련 자료를 참고하시기 바랍니다.', additional_kwargs={'refusal': None}, response_metadata={'token_usage': {'completion_tokens': 102, 'prompt_tokens': 120, 'total_tokens': 222, 'completion_tokens_details': {'accepted_prediction_tokens': 0, 'audio_tokens': 0, 'reasoning_tokens': 0, 'rejected_prediction_tokens': 0}, 'prompt_tokens_details': {'audio_tokens': 0, 'cached_tokens': 0}}, 'model_name': 'gpt-4o-mini-2024-07-18', 'system_fingerprint': 'fp_b8bc95a0ac', 'finish_reason': 'stop', 'logprobs': None}, id='run-c39bc2a1-b60a-4eae-a54c-11a02a6f9438-0', usage_metadata={'input_tokens': 120, 'output_tokens': 102, 'total_tokens': 222, 'input_token_details': {'audio': 0, 'cache_read': 0}, 'output_token_details': {'audio': 0, 'reasoning': 0}})}\n",
      "---GENERAL ANSWER---\n",
      "{'documents': [Document(metadata={}, page_content='중소ㆍ중견 수출기업 지원제도 안내  |  23\\n  중소ㆍ중견기업 특별지원제도\\n16\\n중소ㆍ중견기업 우대 혜택을 소개합니다.\\n   \\n  중소ㆍ중견기업에 대해 보험ㆍ보증료 할인, 부보율 우대 등 지원책을 시행 중이며, \\n특히 유망 중소ㆍ중견기업, 창업, 벤처, 수출초보기업 등에 대해 추가 우대 혜택 제공\\n   유망중소중견기업\\n 혁신형 중소기업(벤처기업, 이노비즈기업, 경영혁신기업)\\n 중소기업수출지원센터 지정 글로벌강소기업 1000+ 선정기업(유망기업, 성장기업, 강소기업, 강소+기업)\\n 산업통상자원부 지정 세계일류상품 인증기업\\n KOTRA 지정 글로벌브랜드사업 선정기업, U턴 기업 등\\n   수출초보기업 무역보험 지원\\n  수출 창업 및 벤처기업을 활성화하고, 내수기업의 수출기업화를 촉진하며, 수출 초보 기업을 중점적으로 \\n육성하기 위한 우대 지원 시행\\n구분\\n대상 기업\\n우대 혜택\\n수출초보기업 \\n무역보험 \\n우대지원\\n・ 산업부 「내수기업의 수출기업화」 사업 \\n당해연도 참여 기업 \\n・ 내수 중견기업의 수출기업 전환을 위해 \\n산업부가 시행하는 사업 당해연도 참여 \\n기업\\n・ 최근 1년(또는 전년도) 직수출실적 \\n100만불 이하 중소ㆍ중견 기업\\n・ 수출신용보증(선적전, 선적후, 매입), \\n단기수출보험 한도 우대(최대 1.5배 \\n이내), 보증료 할인(최대 30% 이내)\\n・수입자 신용조사 수수료 연간 5회 면제\\n수출성장금융\\n・ 수출시작을 위한 운전자금 융자 지원 \\n수출계획이 있는 기업이면 하나, 신한, \\n우리, 경남은행을 통해 진행 가능\\n *  기존 무역금융 이용기업은 중복이용 불가\\n시행기간\\n・수출초보기업 무역금융 우대지원 : ’24.12.31까지\\n・수출성장금융 : 하나, 신한, 우리, 경남은행별 확인요망\\n   ESG경영 인증기업 무역보험 지원\\n  중소중견기업 ESG경영 활성화를 위해 인증기업에 한도우대, 보험료 할인 등 우대 지원 시행\\n구분\\n대상 기업\\n우대 혜택\\nESG\\n인증기업\\n우대지원\\n・ESG부문 우대요건* 충족 중소중견기업\\n* 요건충족여부 담당팀·지사 상담 필요\\n・ 단기수출보험(선적후)·수출신용보증(선적전·\\n매입)·수입보험(글로벌공급망) 한도우대\\n(2배 이내), 보험(증)료 할인 \\n・ 컨설팅 제공 및 국외기업 신용조사 수수료 \\n연간 5건 면제\\n시행기간\\n・’23. 9. 1 부터 ’24. 8. 31 까지\\n자세한 사항은 여기로 문의하시면 됩니다.\\n   \\n  고객센터 1588-3884, 공사 홈페이지(www.ksure.or.kr) 또는 각 영업부서\\n제도담당부서 : 영업총괄실'), Document(metadata={}, page_content='중소ㆍ중견 수출기업 지원제도 안내  |  05\\nK-SURE의 해외지사 및 전세계 신용조사기관을 통해 정보를 조사한 후 \\n신청인에게 신용조사 보고서를 제공하는 서비스\\n수입자 신용조사 이용절차입니다.\\n   신용조사 신청 → 신용조사 및 평가 → 보고서 제공 및 조회 → 수수료 납부의 순서로 이용 \\n 신용조사 신청\\n・ [사이버영업점 - 국외기업신용조사 - 신청/조회 - 신용조사 신청] 메뉴 선택 \\n・ 공사 DB검색 \\n・ 조사방법 선택(구매/신규신청) \\n・ 수입자 기본정보* 입력 → 신청완료\\n* 주요정보 : 국가, 상호, 대표자명, 주소, 전화번호, 국외기업조사협조 여부, 상장 여부 등\\n공사에 의한 \\n신용조사 및 평가\\n・ 보고서 접수(평균 조사기간 2~3주가량 소요) \\n・ 접수된 보고서 검토 후 등급평가\\n보고서 제공 및 조회\\n・ 신청자 이메일로 보고서 발송\\n・ 사이버영업점에서도 보고서 조회 가능\\n(국외기업신용조사 – 신청/조회 – 신청내역/보고서 조회) 메뉴에서 조회\\n수수료 납부\\n・ 신청시 선택한 납부방법에 따라 납부\\n- (가상계좌 입금) 세금계산서에 표시된 가상계좌로 수수료 납부\\n- (신용카드 결제) 조사보고서 제공월 말일까지 결제\\n*  신용카드 결제는 중소ㆍ중견기업에 한해 가능하며, 결제기일 내 카드결제가 안 된 경우에는 \\n세금계산서 발급 내용에 따라 계좌이체로 납부하여야 함\\n신용조사 수수료입니다.\\n   조사보고서는 수출지원 차원에서 저렴하게 제공, 보고서 종류 등에 따라  수수료 상이\\n보고서\\n종류\\n신청기업 규모\\n가격(VAT 포함)\\n일반조사\\n재무제표미비\\n신용조사 불가자/\\n장기소요(40일초과)\\n요약\\n보고서\\n중소ㆍ중견기업\\n33,000원\\n22,000원\\n면제\\n대기업\\n66,000원\\n22,000원\\n면제\\nFull Report\\n중소ㆍ중견기업\\n49,500원\\n33,000원\\n면제\\n대기업\\n99,000원\\n33,000원\\n면제\\n*  현지사정에 따라 재무자료를 입수하지 못하는 경우 보고서 내에 재무자료가 포함되지 않을 수 있으며, 이런 경우 \\n재무제표미비 비용 적용\\n*  보고서 샘플은 공사 홈페이지 → 사업안내 → 국외기업신용조사 서비스 → 제도개요 → 샘플보기에서 확인 가능\\n3   수입자 신용조사 서비스\\n담당부서 : 조사부'), Document(metadata={}, page_content='5. 신용조사 수수료 및 납부방법\\n \\x07신용조사 수수료(VAT 포함 가격)\\n보고서종류\\n기업규모\\n일반\\n재무제표 미비*\\n신용조사 불가자 또는 \\n장기소요(40일 초과)\\n요약보고서\\n중소중견기업\\n33,000원\\n22,000원\\n면제\\n대기업\\n66,000원\\nFull Report\\n중소중견기업\\n49,500원\\n33,000원\\n대기업\\n99,000원\\n* 주요 재무정보만 있는 경우도 포함\\n• \\x07K-SURE는 고객의 원활한 대외거래를 지원하기 위해 상당 규모의 조사비용을 자체적으로 부담하고 있습니다. \\n 수수료 청구 및 납부방법\\n수납방식\\n청구방법\\n납부\\n가상계좌\\n입금\\n• \\x07당월 중 조사완료건 전체에 대한 수수료 일괄 청구 및 세금\\n계산서 발행 \\n☞ 조사 완료일 익월 첫영업일\\n☞ \\x07마스터대표사용자 및 신청자에게 이메일로 발송되며, 모든 \\n사용자가 사이버영업점에서 조회 가능\\n• \\x07일괄 납부\\n☞ 조사 완료일 익월 27일까지\\n신용카드\\n• 조사완료시 건별 납부안내\\n• 건별 납부(사이버영업점)\\n☞ 조사 완료일 당월 말일까지\\n6. 국가별 신용조사기관 및 Full Report 제공 여부 \\n지 역\\n조사기관*\\nFull Report 제공 여부\\n아시아\\n중국\\nEXPERIAN\\nO\\n태국\\nINRA\\nO\\n말레이시아\\nBASIS\\nO\\n베트남\\nVNCR\\nO\\n인도, 몽골, 미얀마, 캄보디아, 방글라데시, 파키스탄, \\n네팔, 부탄, 스리랑카, 라오스, 몰디브, 브루나이\\nUCS\\nO\\n일본, 홍콩, 싱가포르, 인도네시아, \\n기타 아시아 국가\\nD&B\\nX\\n미주\\n미국, 브라질, 아르헨티나,\\n멕시코, 콜롬비아, 에콰도르\\nD&B\\nX\\n캐나다\\nWORLDBOX\\nX\\n페루 포함 기타 중남미 국가\\nCRLA/DRR\\nO\\n대양주\\n호주\\nD&B\\nX\\n뉴질랜드 및 기타 대양주 국가\\nCCR\\nO\\n서유럽\\n영국, 아일랜드, 프랑스, 네덜란드\\nCREDITSAFE\\nX\\n독일\\nCRIF\\nX\\n이탈리아\\nCREDITSAFE / D&B\\nX\\n기타 서유럽 국가\\nD&B\\nX\\n동유럽\\n(CIS포함)\\n러시아, 우크라이나, \\n기타 동유럽 국가 및 CIS 국가\\nIGK\\nO\\n중동\\n이스라엘, 팔레스타인, UAE\\nD&B\\nX\\n튀르키예\\nDTB\\nO\\n사우디아라비아, 기타 중동 국가\\nRIME\\nO\\n아프리카\\n이집트, 모로코, 튀니지, 알제리 \\nRIME\\nO\\n수단, 리비아, 기타 아프리카 국가\\nFINEDATTA\\nO\\n* 해외조사기관의 업무수행 성과 등을 감안하여 변동 가능\\n7. 신용조사 보고서 조회방법\\n신청방법\\n내용\\n상세설명\\n소요기간\\n기존자료 구매\\n기존 보고서 구매\\n6개월 이내 조사된 기존 보고서가 있는 경우\\n당일\\n신규 신청\\n신규 조사 진행\\n상기 이외의 경우 또는 신규 조사 희망 시\\n통상 2~3주\\n☞ 신용조사 완료 시, 신청자 이메일로 요약보고서가 발송되며, 사이버영업점에서도 조회 가능\\n28\\n29\\n4.  신용조사 · 평가\\n무역보험 제도안내\\n\\n5  단기수출보험\\n무역보험 제도안내\\n30'), Document(metadata={}, page_content='중소ㆍ중견 수출기업 지원제도 안내  |  17\\n  수출신용보증(선적후)\\n12\\n수출채권 조기 현금화는 이렇게 지원해 드립니다.\\n   금융기관이 수출채권 매입 시, 담보로서 기능하는 상품으로, 단기수출보험 연계 가입 의무화를 통하여 \\n수입자의 대금 미결제 위험으로부터 수출기업을 보호 \\n    대상거래\\n- 결제기간 2년 이내의 일반수출 또는 위탁가공무역 거래\\n- 수출결제조건 신용장(L/C) 및 무신용장(D/A, D/P, T/T 등) 거래 모두 가능\\n    수입자(수입국) : 공사의 이용 제한 수입자 또는 인수 제한 국가가 아닌 경우\\n    보증절차 \\n-  보증상담 → 수출자ㆍ수입자 신용평가 → 보증신청 → 보증한도 책정 → 보증약정체결 → 보증서 발급 → \\n대출(수출)통지 → 보증료 및 보험료 납부 → 보증부 대출(매입)\\n    주요 계약사항\\n구분\\n주요 내용\\n보증상대방\\n・ 금융기관\\n보증한도\\n・ 거래 수입자별 보증한도 책정\\n보증비율\\n・ 90% 이내\\n단기수출보험\\n연계 가입\\n・ 단기수출보험 연계가입 의무 \\n-  K-SURE가 금융기관 앞 보증채무 이행시 수출자의 과실이 없으면 \\n연계된 단기수출보험 보험금만큼 K-SURE앞 상환의무 면제\\n보증(보험)료 납부\\n・ 매입 건별로 보증/보험료 납부, 은행 매입전 납부\\n보증약정\\n・ K-SURE와 수출기업간 권리ㆍ의무관계를 약정하는 것으로, \\n주채무자와 연대보증인이 약정서에 자필 서명\\n신청 및 준비해야 할 서류입니다.\\n    신청 : (온라인) 사이버영업점에 접속하여 스캔파일 업로드(서류 원본 추후 보완)\\n- 부득이할 경우 팩스, 이메일 등 제출 \\n- 사이버영업점 서류제출 경로 : 수출신용보증 → 신청/조회 → 보증신청서류\\n   신청서류 : 홈페이지(www.ksure.or.kr) 내 자료실 신청서류에서 다운로드\\n수출기업이 수출계약에 따라 물품을 선적한 후 금융기관이 환어음 등의 선적서류를 근거로 \\n수출채권을 매입하는 경우 K-SURE가 연대보증하는 제도\\n제도담당부서 : 영업총괄실')], 'question': '중소기업의 수수료에 대한 정확한 정보는 얼마인지 알고 싶습니다. 제공해 주실 수 있나요?', 'retrieve_count': 5, 'generation': '죄송하지만 관련 문서를 찾을 수 없어 일반적인 답변으로 대체하겠습니다. \\n\\n중소기업의 수수료는 업종, 거래 규모, 서비스 제공업체에 따라 다를 수 있습니다. 일반적으로 결제 수수료는 1%에서 3% 사이이며, 특정 서비스나 플랫폼에 따라 다르게 책정될 수 있습니다. 보다 정확한 정보는 해당 서비스 제공업체에 직접 문의하시거나, 관련 업계의 자료를 참고하시는 것이 좋습니다.'}\n"
     ]
    }
   ],
   "source": [
    "sample = \"중소기업 수수료는 얼마인가요\"\n",
    "inputs = {\"question\": sample}\n",
    "for output in app.stream(inputs):\n",
    "    for key, value in output.items():\n",
    "        for k, v in output.items():\n",
    "            print(output[k])"
   ]
  },
  {
   "cell_type": "code",
   "execution_count": 79,
   "metadata": {},
   "outputs": [
    {
     "data": {
      "text/plain": [
       "{'llm_generate_answer': {'documents': [Document(metadata={}, page_content='중소ㆍ중견 수출기업 지원제도 안내  |  23\\n  중소ㆍ중견기업 특별지원제도\\n16\\n중소ㆍ중견기업 우대 혜택을 소개합니다.\\n   \\n  중소ㆍ중견기업에 대해 보험ㆍ보증료 할인, 부보율 우대 등 지원책을 시행 중이며, \\n특히 유망 중소ㆍ중견기업, 창업, 벤처, 수출초보기업 등에 대해 추가 우대 혜택 제공\\n   유망중소중견기업\\n 혁신형 중소기업(벤처기업, 이노비즈기업, 경영혁신기업)\\n 중소기업수출지원센터 지정 글로벌강소기업 1000+ 선정기업(유망기업, 성장기업, 강소기업, 강소+기업)\\n 산업통상자원부 지정 세계일류상품 인증기업\\n KOTRA 지정 글로벌브랜드사업 선정기업, U턴 기업 등\\n   수출초보기업 무역보험 지원\\n  수출 창업 및 벤처기업을 활성화하고, 내수기업의 수출기업화를 촉진하며, 수출 초보 기업을 중점적으로 \\n육성하기 위한 우대 지원 시행\\n구분\\n대상 기업\\n우대 혜택\\n수출초보기업 \\n무역보험 \\n우대지원\\n・ 산업부 「내수기업의 수출기업화」 사업 \\n당해연도 참여 기업 \\n・ 내수 중견기업의 수출기업 전환을 위해 \\n산업부가 시행하는 사업 당해연도 참여 \\n기업\\n・ 최근 1년(또는 전년도) 직수출실적 \\n100만불 이하 중소ㆍ중견 기업\\n・ 수출신용보증(선적전, 선적후, 매입), \\n단기수출보험 한도 우대(최대 1.5배 \\n이내), 보증료 할인(최대 30% 이내)\\n・수입자 신용조사 수수료 연간 5회 면제\\n수출성장금융\\n・ 수출시작을 위한 운전자금 융자 지원 \\n수출계획이 있는 기업이면 하나, 신한, \\n우리, 경남은행을 통해 진행 가능\\n *  기존 무역금융 이용기업은 중복이용 불가\\n시행기간\\n・수출초보기업 무역금융 우대지원 : ’24.12.31까지\\n・수출성장금융 : 하나, 신한, 우리, 경남은행별 확인요망\\n   ESG경영 인증기업 무역보험 지원\\n  중소중견기업 ESG경영 활성화를 위해 인증기업에 한도우대, 보험료 할인 등 우대 지원 시행\\n구분\\n대상 기업\\n우대 혜택\\nESG\\n인증기업\\n우대지원\\n・ESG부문 우대요건* 충족 중소중견기업\\n* 요건충족여부 담당팀·지사 상담 필요\\n・ 단기수출보험(선적후)·수출신용보증(선적전·\\n매입)·수입보험(글로벌공급망) 한도우대\\n(2배 이내), 보험(증)료 할인 \\n・ 컨설팅 제공 및 국외기업 신용조사 수수료 \\n연간 5건 면제\\n시행기간\\n・’23. 9. 1 부터 ’24. 8. 31 까지\\n자세한 사항은 여기로 문의하시면 됩니다.\\n   \\n  고객센터 1588-3884, 공사 홈페이지(www.ksure.or.kr) 또는 각 영업부서\\n제도담당부서 : 영업총괄실'),\n",
       "   Document(metadata={}, page_content='중소ㆍ중견 수출기업 지원제도 안내  |  05\\nK-SURE의 해외지사 및 전세계 신용조사기관을 통해 정보를 조사한 후 \\n신청인에게 신용조사 보고서를 제공하는 서비스\\n수입자 신용조사 이용절차입니다.\\n   신용조사 신청 → 신용조사 및 평가 → 보고서 제공 및 조회 → 수수료 납부의 순서로 이용 \\n 신용조사 신청\\n・ [사이버영업점 - 국외기업신용조사 - 신청/조회 - 신용조사 신청] 메뉴 선택 \\n・ 공사 DB검색 \\n・ 조사방법 선택(구매/신규신청) \\n・ 수입자 기본정보* 입력 → 신청완료\\n* 주요정보 : 국가, 상호, 대표자명, 주소, 전화번호, 국외기업조사협조 여부, 상장 여부 등\\n공사에 의한 \\n신용조사 및 평가\\n・ 보고서 접수(평균 조사기간 2~3주가량 소요) \\n・ 접수된 보고서 검토 후 등급평가\\n보고서 제공 및 조회\\n・ 신청자 이메일로 보고서 발송\\n・ 사이버영업점에서도 보고서 조회 가능\\n(국외기업신용조사 – 신청/조회 – 신청내역/보고서 조회) 메뉴에서 조회\\n수수료 납부\\n・ 신청시 선택한 납부방법에 따라 납부\\n- (가상계좌 입금) 세금계산서에 표시된 가상계좌로 수수료 납부\\n- (신용카드 결제) 조사보고서 제공월 말일까지 결제\\n*  신용카드 결제는 중소ㆍ중견기업에 한해 가능하며, 결제기일 내 카드결제가 안 된 경우에는 \\n세금계산서 발급 내용에 따라 계좌이체로 납부하여야 함\\n신용조사 수수료입니다.\\n   조사보고서는 수출지원 차원에서 저렴하게 제공, 보고서 종류 등에 따라  수수료 상이\\n보고서\\n종류\\n신청기업 규모\\n가격(VAT 포함)\\n일반조사\\n재무제표미비\\n신용조사 불가자/\\n장기소요(40일초과)\\n요약\\n보고서\\n중소ㆍ중견기업\\n33,000원\\n22,000원\\n면제\\n대기업\\n66,000원\\n22,000원\\n면제\\nFull Report\\n중소ㆍ중견기업\\n49,500원\\n33,000원\\n면제\\n대기업\\n99,000원\\n33,000원\\n면제\\n*  현지사정에 따라 재무자료를 입수하지 못하는 경우 보고서 내에 재무자료가 포함되지 않을 수 있으며, 이런 경우 \\n재무제표미비 비용 적용\\n*  보고서 샘플은 공사 홈페이지 → 사업안내 → 국외기업신용조사 서비스 → 제도개요 → 샘플보기에서 확인 가능\\n3   수입자 신용조사 서비스\\n담당부서 : 조사부'),\n",
       "   Document(metadata={}, page_content='5. 신용조사 수수료 및 납부방법\\n \\x07신용조사 수수료(VAT 포함 가격)\\n보고서종류\\n기업규모\\n일반\\n재무제표 미비*\\n신용조사 불가자 또는 \\n장기소요(40일 초과)\\n요약보고서\\n중소중견기업\\n33,000원\\n22,000원\\n면제\\n대기업\\n66,000원\\nFull Report\\n중소중견기업\\n49,500원\\n33,000원\\n대기업\\n99,000원\\n* 주요 재무정보만 있는 경우도 포함\\n• \\x07K-SURE는 고객의 원활한 대외거래를 지원하기 위해 상당 규모의 조사비용을 자체적으로 부담하고 있습니다. \\n 수수료 청구 및 납부방법\\n수납방식\\n청구방법\\n납부\\n가상계좌\\n입금\\n• \\x07당월 중 조사완료건 전체에 대한 수수료 일괄 청구 및 세금\\n계산서 발행 \\n☞ 조사 완료일 익월 첫영업일\\n☞ \\x07마스터대표사용자 및 신청자에게 이메일로 발송되며, 모든 \\n사용자가 사이버영업점에서 조회 가능\\n• \\x07일괄 납부\\n☞ 조사 완료일 익월 27일까지\\n신용카드\\n• 조사완료시 건별 납부안내\\n• 건별 납부(사이버영업점)\\n☞ 조사 완료일 당월 말일까지\\n6. 국가별 신용조사기관 및 Full Report 제공 여부 \\n지 역\\n조사기관*\\nFull Report 제공 여부\\n아시아\\n중국\\nEXPERIAN\\nO\\n태국\\nINRA\\nO\\n말레이시아\\nBASIS\\nO\\n베트남\\nVNCR\\nO\\n인도, 몽골, 미얀마, 캄보디아, 방글라데시, 파키스탄, \\n네팔, 부탄, 스리랑카, 라오스, 몰디브, 브루나이\\nUCS\\nO\\n일본, 홍콩, 싱가포르, 인도네시아, \\n기타 아시아 국가\\nD&B\\nX\\n미주\\n미국, 브라질, 아르헨티나,\\n멕시코, 콜롬비아, 에콰도르\\nD&B\\nX\\n캐나다\\nWORLDBOX\\nX\\n페루 포함 기타 중남미 국가\\nCRLA/DRR\\nO\\n대양주\\n호주\\nD&B\\nX\\n뉴질랜드 및 기타 대양주 국가\\nCCR\\nO\\n서유럽\\n영국, 아일랜드, 프랑스, 네덜란드\\nCREDITSAFE\\nX\\n독일\\nCRIF\\nX\\n이탈리아\\nCREDITSAFE / D&B\\nX\\n기타 서유럽 국가\\nD&B\\nX\\n동유럽\\n(CIS포함)\\n러시아, 우크라이나, \\n기타 동유럽 국가 및 CIS 국가\\nIGK\\nO\\n중동\\n이스라엘, 팔레스타인, UAE\\nD&B\\nX\\n튀르키예\\nDTB\\nO\\n사우디아라비아, 기타 중동 국가\\nRIME\\nO\\n아프리카\\n이집트, 모로코, 튀니지, 알제리 \\nRIME\\nO\\n수단, 리비아, 기타 아프리카 국가\\nFINEDATTA\\nO\\n* 해외조사기관의 업무수행 성과 등을 감안하여 변동 가능\\n7. 신용조사 보고서 조회방법\\n신청방법\\n내용\\n상세설명\\n소요기간\\n기존자료 구매\\n기존 보고서 구매\\n6개월 이내 조사된 기존 보고서가 있는 경우\\n당일\\n신규 신청\\n신규 조사 진행\\n상기 이외의 경우 또는 신규 조사 희망 시\\n통상 2~3주\\n☞ 신용조사 완료 시, 신청자 이메일로 요약보고서가 발송되며, 사이버영업점에서도 조회 가능\\n28\\n29\\n4.  신용조사 · 평가\\n무역보험 제도안내\\n\\n5  단기수출보험\\n무역보험 제도안내\\n30'),\n",
       "   Document(metadata={}, page_content='중소ㆍ중견 수출기업 지원제도 안내  |  17\\n  수출신용보증(선적후)\\n12\\n수출채권 조기 현금화는 이렇게 지원해 드립니다.\\n   금융기관이 수출채권 매입 시, 담보로서 기능하는 상품으로, 단기수출보험 연계 가입 의무화를 통하여 \\n수입자의 대금 미결제 위험으로부터 수출기업을 보호 \\n    대상거래\\n- 결제기간 2년 이내의 일반수출 또는 위탁가공무역 거래\\n- 수출결제조건 신용장(L/C) 및 무신용장(D/A, D/P, T/T 등) 거래 모두 가능\\n    수입자(수입국) : 공사의 이용 제한 수입자 또는 인수 제한 국가가 아닌 경우\\n    보증절차 \\n-  보증상담 → 수출자ㆍ수입자 신용평가 → 보증신청 → 보증한도 책정 → 보증약정체결 → 보증서 발급 → \\n대출(수출)통지 → 보증료 및 보험료 납부 → 보증부 대출(매입)\\n    주요 계약사항\\n구분\\n주요 내용\\n보증상대방\\n・ 금융기관\\n보증한도\\n・ 거래 수입자별 보증한도 책정\\n보증비율\\n・ 90% 이내\\n단기수출보험\\n연계 가입\\n・ 단기수출보험 연계가입 의무 \\n-  K-SURE가 금융기관 앞 보증채무 이행시 수출자의 과실이 없으면 \\n연계된 단기수출보험 보험금만큼 K-SURE앞 상환의무 면제\\n보증(보험)료 납부\\n・ 매입 건별로 보증/보험료 납부, 은행 매입전 납부\\n보증약정\\n・ K-SURE와 수출기업간 권리ㆍ의무관계를 약정하는 것으로, \\n주채무자와 연대보증인이 약정서에 자필 서명\\n신청 및 준비해야 할 서류입니다.\\n    신청 : (온라인) 사이버영업점에 접속하여 스캔파일 업로드(서류 원본 추후 보완)\\n- 부득이할 경우 팩스, 이메일 등 제출 \\n- 사이버영업점 서류제출 경로 : 수출신용보증 → 신청/조회 → 보증신청서류\\n   신청서류 : 홈페이지(www.ksure.or.kr) 내 자료실 신청서류에서 다운로드\\n수출기업이 수출계약에 따라 물품을 선적한 후 금융기관이 환어음 등의 선적서류를 근거로 \\n수출채권을 매입하는 경우 K-SURE가 연대보증하는 제도\\n제도담당부서 : 영업총괄실')],\n",
       "  'question': '중소기업의 수수료에 대한 정확한 정보는 얼마인지 알고 싶습니다. 제공해 주실 수 있나요?',\n",
       "  'retrieve_count': 5,\n",
       "  'generation': '죄송하지만 관련 문서를 찾을 수 없어 일반적인 답변으로 대체하겠습니다. \\n\\n중소기업의 수수료는 업종, 거래 규모, 서비스 제공업체에 따라 다를 수 있습니다. 일반적으로 결제 수수료는 1%에서 3% 사이이며, 특정 서비스나 플랫폼에 따라 다르게 책정될 수 있습니다. 보다 정확한 정보는 해당 서비스 제공업체에 직접 문의하시거나, 관련 업계의 자료를 참고하시는 것이 좋습니다.'}}"
      ]
     },
     "execution_count": 79,
     "metadata": {},
     "output_type": "execute_result"
    }
   ],
   "source": [
    "output"
   ]
  },
  {
   "cell_type": "code",
   "execution_count": 82,
   "metadata": {},
   "outputs": [
    {
     "name": "stdout",
     "output_type": "stream",
     "text": [
      "('죄송하지만 관련 문서를 찾을 수 없어 일반적인 답변으로 대체하겠습니다. \\n'\n",
      " '\\n'\n",
      " '중소기업의 수수료는 업종, 거래 규모, 서비스 제공업체에 따라 다를 수 있습니다. 일반적으로 결제 수수료는 1%에서 3% 사이이며, 특정 '\n",
      " '서비스나 플랫폼에 따라 다르게 책정될 수 있습니다. 보다 정확한 정보는 해당 서비스 제공업체에 직접 문의하시거나, 관련 업계의 자료를 '\n",
      " '참고하시는 것이 좋습니다.')\n"
     ]
    }
   ],
   "source": [
    "pprint(output['llm_generate_answer']['generation'])"
   ]
  },
  {
   "cell_type": "code",
   "execution_count": null,
   "metadata": {},
   "outputs": [],
   "source": []
  }
 ],
 "metadata": {
  "kernelspec": {
   "display_name": "goyoai-ai-server-tQE0aMze-py3.11",
   "language": "python",
   "name": "python3"
  },
  "language_info": {
   "codemirror_mode": {
    "name": "ipython",
    "version": 3
   },
   "file_extension": ".py",
   "mimetype": "text/x-python",
   "name": "python",
   "nbconvert_exporter": "python",
   "pygments_lexer": "ipython3",
   "version": "3.11.1"
  }
 },
 "nbformat": 4,
 "nbformat_minor": 2
}
