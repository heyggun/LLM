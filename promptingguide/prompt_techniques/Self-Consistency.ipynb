{
 "cells": [
  {
   "cell_type": "markdown",
   "id": "0d0209c4",
   "metadata": {
    "height": 30
   },
   "source": [
    "# Self-Consistency\n",
    "\n",
    "    Wang et al.(2022)이 제안한 Self-consistency는 \"CoT prompt에 사용되는 naive한 greedy기법의 디코딩 방법을 대체하는 것\"을 목표로 합니다. \n",
    "    이 아이디어는 few-shot CoT를 통해 한 generation에서 나온 여러 가지 다양한 추론 경로를 샘플링해서, 가장 일관된 답을 선택하는 것입니다.\n",
    "    이는 산술 및 상식 추론과 관련된 작업에 대한 CoT prompt의 성능을 향상시키는 데 도움이 됩니다."
   ]
  },
  {
   "cell_type": "code",
   "execution_count": 1,
   "id": "2749db6f",
   "metadata": {
    "height": 132
   },
   "outputs": [],
   "source": [
    "import openai\n",
    "import os\n",
    "\n",
    "from dotenv import load_dotenv, find_dotenv\n",
    "_ = load_dotenv(find_dotenv())\n",
    "\n",
    "openai.api_key  = os.getenv('OPENAI_API_KEY')"
   ]
  },
  {
   "cell_type": "code",
   "execution_count": 2,
   "id": "f1b9d697",
   "metadata": {
    "height": 149
   },
   "outputs": [],
   "source": [
    "def get_completion(prompt, model=\"gpt-3.5-turbo\"):\n",
    "    messages = [{\"role\": \"user\", \"content\": prompt}]\n",
    "    response = openai.ChatCompletion.create(\n",
    "        model=model,\n",
    "        messages=messages,\n",
    "        temperature=0,\n",
    "    )\n",
    "    return response.choices[0].message[\"content\"]"
   ]
  },
  {
   "cell_type": "markdown",
   "id": "2514a9df",
   "metadata": {},
   "source": [
    "# [1]"
   ]
  },
  {
   "cell_type": "code",
   "execution_count": 3,
   "id": "607d5e70",
   "metadata": {
    "height": 115
   },
   "outputs": [
    {
     "name": "stdout",
     "output_type": "stream",
     "text": [
      "If your sister was half your age when you were 6, that means she was 3 years old at that time. Since then, the age difference between you and your sister remains constant. Therefore, if you are now 70 years old, your sister would be 67 years old.\n"
     ]
    }
   ],
   "source": [
    "prompt = \"\"\"\n",
    "        When I was 6 my sister was half my age. Now\n",
    "        I'm 70 how old is my sister?\n",
    "\"\"\"\n",
    "\n",
    "print(get_completion(prompt))"
   ]
  },
  {
   "cell_type": "markdown",
   "id": "bd46e4ce",
   "metadata": {
    "height": 30
   },
   "source": [
    "# [2]"
   ]
  },
  {
   "cell_type": "code",
   "execution_count": 4,
   "id": "66d8f402",
   "metadata": {
    "height": 608
   },
   "outputs": [
    {
     "name": "stdout",
     "output_type": "stream",
     "text": [
      "When you were 6, your sister was half your age, so she was 6/2 = 3 years old. The age difference between you and your sister is always the same, so now that you are 70, your sister must be 70 - 3 = 67 years old.\n"
     ]
    }
   ],
   "source": [
    "prompt = \"\"\"\n",
    "    Q: There are 15 trees in the grove. Grove workers will plant trees in the grove today. After they are done,\n",
    "    there will be 21 trees. How many trees did the grove workers plant today?\n",
    "    A: We start with 15 trees. Later we have 21 trees. The difference must be the number of trees they planted.\n",
    "    So, they must have planted 21 - 15 = 6 trees. The answer is 6.\n",
    "    Q: If there are 3 cars in the parking lot and 2 more cars arrive, how many cars are in the parking lot?\n",
    "    A: There are 3 cars in the parking lot already. 2 more arrive. Now there are 3 + 2 = 5 cars. The answer is 5.\n",
    "    Q: Leah had 32 chocolates and her sister had 42. If they ate 35, how many pieces do they have left in total?\n",
    "    A: Leah had 32 chocolates and Leah’s sister had 42. That means there were originally 32 + 42 = 74\n",
    "    chocolates. 35 have been eaten. So in total they still have 74 - 35 = 39 chocolates. The answer is 39.\n",
    "    Q: Jason had 20 lollipops. He gave Denny some lollipops. Now Jason has 12 lollipops. How many lollipops\n",
    "    did Jason give to Denny?\n",
    "    A: Jason had 20 lollipops. Since he only has 12 now, he must have given the rest to Denny. The number of\n",
    "    lollipops he has given to Denny must have been 20 - 12 = 8 lollipops. The answer is 8.\n",
    "    Q: Shawn has five toys. For Christmas, he got two toys each from his mom and dad. How many toys does\n",
    "    he have now?\n",
    "    A: He has 5 toys. He got 2 from mom, so after that he has 5 + 2 = 7 toys. Then he got 2 more from dad, so\n",
    "    in total he has 7 + 2 = 9 toys. The answer is 9.\n",
    "    Q: There were nine computers in the server room. Five more computers were installed each day, from\n",
    "    monday to thursday. How many computers are now in the server room?\n",
    "    A: There are 4 days from monday to thursday. 5 computers were added each day. That means in total 4 * 5 =\n",
    "    20 computers were added. There were 9 computers in the beginning, so now there are 9 + 20 = 29 computers.\n",
    "    The answer is 29.\n",
    "    Q: Michael had 58 golf balls. On tuesday, he lost 23 golf balls. On wednesday, he lost 2 more. How many\n",
    "    golf balls did he have at the end of wednesday?\n",
    "    A: Michael initially had 58 balls. He lost 23 on Tuesday, so after that he has 58 - 23 = 35 balls. On\n",
    "    Wednesday he lost 2 more so now he has 35 - 2 = 33 balls. The answer is 33.\n",
    "    Q: Olivia has $23. She bought five bagels for $3 each. How much money does she have left?\n",
    "    A: She bought 5 bagels for $3 each. This means she spent $15. She has $8 left.\n",
    "    Q: When I was 6 my sister was half my age. Now I’m 70 how old is my sister?\n",
    "    A:\n",
    "\n",
    "\"\"\"\n",
    "\n",
    "print(get_completion(prompt))"
   ]
  }
 ],
 "metadata": {
  "kernelspec": {
   "display_name": "Python 3 (ipykernel)",
   "language": "python",
   "name": "python3"
  },
  "language_info": {
   "codemirror_mode": {
    "name": "ipython",
    "version": 3
   },
   "file_extension": ".py",
   "mimetype": "text/x-python",
   "name": "python",
   "nbconvert_exporter": "python",
   "pygments_lexer": "ipython3",
   "version": "3.9.16"
  }
 },
 "nbformat": 4,
 "nbformat_minor": 5
}
