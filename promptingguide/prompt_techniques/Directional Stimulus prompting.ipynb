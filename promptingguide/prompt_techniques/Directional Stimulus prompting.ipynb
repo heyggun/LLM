{
 "cells": [
  {
   "cell_type": "markdown",
   "id": "6e15d713",
   "metadata": {
    "height": 30
   },
   "source": [
    "# Directional Stimulus prompting\n",
    "\n",
    "https://www.promptingguide.ai/techniques/dsp\n",
    "\n",
    "조정 가능한 policy LM은 자극/힌트를 생성하도록 훈련됩니다. LLM을 최적화하기 위해 RL을 더 많이 사용하는 것을 봅니다."
   ]
  },
  {
   "cell_type": "code",
   "execution_count": 1,
   "id": "9d7e39b4",
   "metadata": {
    "height": 132
   },
   "outputs": [],
   "source": [
    "import openai\n",
    "import os\n",
    "\n",
    "from dotenv import load_dotenv, find_dotenv\n",
    "_ = load_dotenv(find_dotenv())\n",
    "\n",
    "openai.api_key  = os.getenv('OPENAI_API_KEY')"
   ]
  },
  {
   "cell_type": "code",
   "execution_count": 2,
   "id": "b658a88d",
   "metadata": {
    "height": 149
   },
   "outputs": [],
   "source": [
    "def get_completion(prompt, model=\"gpt-3.5-turbo\"):\n",
    "    messages = [{\"role\": \"user\", \"content\": prompt}]\n",
    "    response = openai.ChatCompletion.create(\n",
    "        model=model,\n",
    "        messages=messages,\n",
    "        temperature=0,\n",
    "    )\n",
    "    return response.choices[0].message[\"content\"]"
   ]
  },
  {
   "cell_type": "markdown",
   "id": "8c988664",
   "metadata": {
    "height": 30
   },
   "source": [
    "# [1] Directional Stimulus Prompting"
   ]
  },
  {
   "cell_type": "code",
   "execution_count": 6,
   "id": "9a54150f",
   "metadata": {
    "height": 251
   },
   "outputs": [
    {
     "name": "stdout",
     "output_type": "stream",
     "text": [
      "Bob Barker, the former host of \"The Price Is Right,\" made a return to the show on April 1 at the age of 91. Barker retired as the host in 2007 but effortlessly took on the role for a price-guessing game before passing the hosting duties to Drew Carey.\n"
     ]
    }
   ],
   "source": [
    "prompt = \"\"\"\n",
    "        Article : (CNN) For the first time in eight years, a TV legend returned to doing what he does best.\n",
    "        Contestants told to \"come on down!\" on the Apirl 1 edition of \"The Price Is Right\" encountered not host Drew Carey but another familiar face in acharge of the proceedings.\n",
    "        Instead, there was Bob Barker, who hosted the TV game show for 35 years before stepping down in 2007.\n",
    "        Looking spry at 91, Baker handled the first price-guessing game of the show, the classic \"Lucky Seven\", before turning hosting duties over to Carey, who finished up.\n",
    "        Despite being away from the show for most of the past eight years, Barker didn't seem to miss a beat.\n",
    "        \n",
    "        reference : Bob Baker returned to host \"The Price ISa RIght\" on Wednesday. Barker,91, had retired as host in 2007.\n",
    "        \n",
    "        Q: Summarize the above article briefly in 2-3 sentences based on the hint.\n",
    "        Hint:Bob Barker; TV; April 1; \"The Price Is right\":2007; 91.\n",
    "        \"\"\"\n",
    "\n",
    "print(get_completion(prompt))"
   ]
  },
  {
   "cell_type": "code",
   "execution_count": null,
   "id": "4aa85c62",
   "metadata": {
    "height": 30
   },
   "outputs": [],
   "source": []
  },
  {
   "cell_type": "markdown",
   "id": "36654fc7",
   "metadata": {
    "height": 30
   },
   "source": [
    "## Normal prompting"
   ]
  },
  {
   "cell_type": "code",
   "execution_count": 9,
   "id": "a0b8eef8",
   "metadata": {
    "height": 234
   },
   "outputs": [
    {
     "name": "stdout",
     "output_type": "stream",
     "text": [
      "Bob Barker, the former host of \"The Price Is Right,\" made a surprise return to the show after eight years. At 91 years old, Barker hosted the first price-guessing game before passing the hosting duties to current host Drew Carey. Despite his time away, Barker seemed to effortlessly step back into his role.\n"
     ]
    }
   ],
   "source": [
    "prompt = \"\"\"\n",
    "        Article : (CNN) For the first time in eight years, a TV legend returned to doing what he does best.\n",
    "        Contestants told to \"come on down!\" on the Apirl 1 edition of \"The Price Is Right\" encountered not host Drew Carey but another familiar face in acharge of the proceedings.\n",
    "        Instead, there was Bob Barker, who hosted the TV game show for 35 years before stepping down in 2007.\n",
    "        Looking spry at 91, Baker handled the first price-guessing game of the show, the classic \"Lucky Seven\", before turning hosting duties over to Carey, who finished up.\n",
    "        Despite being away from the show for most of the past eight years, Barker didn't seem to miss a beat.\n",
    "        \n",
    "        reference : Bob Baker returned to host \"The Price ISa RIght\" on Wednesday. Barker,91, had retired as host in 2007.\n",
    "        \n",
    "        Q: Summarize the above article briefly in 2-3 sentences.\n",
    "        \"\"\"\n",
    "\n",
    "print(get_completion(prompt))"
   ]
  }
 ],
 "metadata": {
  "kernelspec": {
   "display_name": "Python 3 (ipykernel)",
   "language": "python",
   "name": "python3"
  },
  "language_info": {
   "codemirror_mode": {
    "name": "ipython",
    "version": 3
   },
   "file_extension": ".py",
   "mimetype": "text/x-python",
   "name": "python",
   "nbconvert_exporter": "python",
   "pygments_lexer": "ipython3",
   "version": "3.9.16"
  }
 },
 "nbformat": 4,
 "nbformat_minor": 5
}
