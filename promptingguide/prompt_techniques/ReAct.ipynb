{
 "cells": [
  {
   "cell_type": "markdown",
   "id": "9d0e95ef",
   "metadata": {
    "height": 30
   },
   "source": [
    "# ReAct\n",
    "\n",
    "    ReAct는 인간이 새로운 과제를 배우고 결정이나 추론을 할 수 있도록 하는 \"acting\"와 \"reasoning\" 사이의 시너지 효과에서 영감을 받았습니다.\n",
    "\n",
    "    Chain-of-Thought(CoT) 프롬프트는 LLM이 다른 작업 중에서도 산술 및 상식 추론과 관련된 질문에 대한 답을 생성하기 위해 추론 추적을 수행하는 능력을 보여주었습니다(Wei et al., 2022). 그러나 외부 세계에 대한 접근이 부족하거나 지식을 업데이트할 수 없기 때문에 Hallucination 및 error propagation과 같은 문제가 발생할 수 있습니다.\n",
    "\n",
    "    ReAct는 추론과 행동을 LLM과 결합하는 일반적인 패러다임입니다. ReAct는 LLM들이 과제에 대한 언어적 추론 경로(reasoning trace)와 행동을 생성하도록 유도합니다. 이를 통해 시스템은 동적 추론을 수행하여 연기를 위한 계획을 생성, 유지 및 조정하는 동시에 외부 환경(예: 위키피디아)과의 상호 작용을 통해 추가 정보를 추론에 통합할 수 있습니다."
   ]
  },
  {
   "cell_type": "code",
   "execution_count": null,
   "id": "5e516c0a",
   "metadata": {
    "height": 30
   },
   "outputs": [],
   "source": []
  },
  {
   "cell_type": "code",
   "execution_count": 1,
   "id": "005dd7cb",
   "metadata": {
    "height": 132
   },
   "outputs": [],
   "source": [
    "import openai\n",
    "import os\n",
    "\n",
    "from dotenv import load_dotenv, find_dotenv\n",
    "_ = load_dotenv(find_dotenv())\n",
    "\n",
    "openai.api_key  = os.getenv('OPENAI_API_KEY')"
   ]
  },
  {
   "cell_type": "code",
   "execution_count": 2,
   "id": "6b0856a2",
   "metadata": {
    "height": 149
   },
   "outputs": [],
   "source": [
    "def get_completion(prompt, model=\"gpt-3.5-turbo\"):\n",
    "    messages = [{\"role\": \"user\", \"content\": prompt}]\n",
    "    response = openai.ChatCompletion.create(\n",
    "        model=model,\n",
    "        messages=messages,\n",
    "        temperature=0,\n",
    "    )\n",
    "    return response.choices[0].message[\"content\"]"
   ]
  },
  {
   "cell_type": "markdown",
   "id": "738c2298",
   "metadata": {
    "height": 30
   },
   "source": [
    "# [1] "
   ]
  },
  {
   "cell_type": "code",
   "execution_count": 4,
   "id": "d04db796",
   "metadata": {
    "height": 506
   },
   "outputs": [
    {
     "name": "stdout",
     "output_type": "stream",
     "text": [
      "The elevation range for the area that the eastern sector of the Colorado orogeny extends into is approximately 1,800 to 7,000 feet.\n"
     ]
    }
   ],
   "source": [
    "prompt = \"\"\"\n",
    "Question What is the elevation range for the area that the eastern sector of the\n",
    "Colorado orogeny extends into?\n",
    "Thought 1 I need to search Colorado orogeny, find the area that the eastern sector\n",
    "of the Colorado orogeny extends into, then find the elevation range of the\n",
    "area.\n",
    "Action 1 Search[Colorado orogeny]\n",
    "Observation 1 The Colorado orogeny was an episode of mountain building (an orogeny) in\n",
    "Colorado and surrounding areas.\n",
    "Thought 2 It does not mention the eastern sector. So I need to look up eastern\n",
    "sector.\n",
    "Action 2 Lookup[eastern sector]\n",
    "Observation 2 (Result 1 / 1) The eastern sector extends into the High Plains and is called\n",
    "the Central Plains orogeny.\n",
    "Thought 3 The eastern sector of Colorado orogeny extends into the High Plains. So I\n",
    "need to search High Plains and find its elevation range.\n",
    "Action 3 Search[High Plains]\n",
    "Observation 3 High Plains refers to one of two distinct land regions\n",
    "Thought 4 I need to instead search High Plains (United States).\n",
    "Action 4 Search[High Plains (United States)]\n",
    "Observation 4 The High Plains are a subregion of the Great Plains. From east to west, the\n",
    "High Plains rise in elevation from around 1,800 to 7,000 ft (550 to 2,130\n",
    "m).[3]\n",
    "Thought 5 High Plains rise in elevation from around 1,800 to 7,000 ft, so the answer\n",
    "is 1,800 to 7,000 ft.\n",
    "Action 5 Finish[1,800 to 7,000 ft]\n",
    "\"\"\"\n",
    "\n",
    "print(get_completion(prompt))"
   ]
  },
  {
   "cell_type": "code",
   "execution_count": null,
   "id": "5c791d0f",
   "metadata": {
    "height": 30
   },
   "outputs": [],
   "source": []
  }
 ],
 "metadata": {
  "kernelspec": {
   "display_name": "Python 3 (ipykernel)",
   "language": "python",
   "name": "python3"
  },
  "language_info": {
   "codemirror_mode": {
    "name": "ipython",
    "version": 3
   },
   "file_extension": ".py",
   "mimetype": "text/x-python",
   "name": "python",
   "nbconvert_exporter": "python",
   "pygments_lexer": "ipython3",
   "version": "3.9.16"
  }
 },
 "nbformat": 4,
 "nbformat_minor": 5
}
