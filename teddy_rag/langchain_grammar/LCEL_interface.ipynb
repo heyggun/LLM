{
 "cells": [
  {
   "cell_type": "markdown",
   "metadata": {},
   "source": [
    "### LCEL 인터페이스\n",
    "\n",
    "    - 사용자 정의 체인을 가능한 쉽게 만들 수 있도록 Runnable 프로토콜 구현\n",
    "    Runnable 프로토콜은 대부분의 컴포넌트에 구성되어 있음\n",
    "    표준 인터페이스이고, 사용자 정의 체인을 정의하고 표준 방식으로 호출하는 것을 쉽게 만듬\n",
    "\n",
    "    [표준 인터페이스]\n",
    "    - stream : 응답의 청크를 스트리밍\n",
    "    - invoke : 입력에 대한 체인 호출\n",
    "    - batch :  입력 목록에 대해 체인을 호출\n",
    "\n",
    "    [비동기 메소드]\n",
    "    - astream : 비동기적으로 응답의 청크를 스트리밍\n",
    "    - ainvoke : 비동기적으로 입력에 대한 체인 호출\n",
    "    - abatch : 비동기적으로 입력 목록에 대해 체인 호출\n",
    "    - astream_log : 최종 응답뿐만 앙니라 바생하는 중간 단계를 스트리밍"
   ]
  },
  {
   "cell_type": "code",
   "execution_count": 3,
   "metadata": {},
   "outputs": [
    {
     "data": {
      "text/plain": [
       "True"
      ]
     },
     "execution_count": 3,
     "metadata": {},
     "output_type": "execute_result"
    }
   ],
   "source": [
    "from dotenv import load_dotenv\n",
    "\n",
    "\n",
    "load_dotenv()"
   ]
  },
  {
   "cell_type": "code",
   "execution_count": 21,
   "metadata": {},
   "outputs": [],
   "source": [
    "from langchain_openai import ChatOpenAI\n",
    "from langchain_core.prompts import PromptTemplate\n",
    "from langchain_core.output_parsers import StrOutputParser\n",
    "\n",
    "model = ChatOpenAI(model_name='gpt-3.5-turbo')\n",
    "prompt = PromptTemplate.from_template(\"{topic}에 대해 3문장으로 설명해줘.\")\n",
    "\n",
    "chain = prompt | model | StrOutputParser()"
   ]
  },
  {
   "cell_type": "code",
   "execution_count": 22,
   "metadata": {},
   "outputs": [
    {
     "data": {
      "text/plain": [
       "PromptTemplate(input_variables=['topic'], input_types={}, partial_variables={}, template='{topic}에 대해 3문장으로 설명해줘.')\n",
       "| ChatOpenAI(client=<openai.resources.chat.completions.Completions object at 0x1072a6b40>, async_client=<openai.resources.chat.completions.AsyncCompletions object at 0x107248e60>, root_client=<openai.OpenAI object at 0x103ed8da0>, root_async_client=<openai.AsyncOpenAI object at 0x1072a53a0>, model_kwargs={}, openai_api_key=SecretStr('**********'))\n",
       "| StrOutputParser()"
      ]
     },
     "execution_count": 22,
     "metadata": {},
     "output_type": "execute_result"
    }
   ],
   "source": [
    "chain"
   ]
  },
  {
   "cell_type": "markdown",
   "metadata": {},
   "source": [
    "#### stream : 실시간 출력\n",
    "\n",
    "    - chain.stream 메서드를 사용해 주어진 토픽에 대한 데이터 스트림 생성\n",
    "    이 스트림을 반복해 각 데이터 내용(content)를 즉시 출력, end= \"\"인자는 출력후 줄바꿈을 하지 않도록 설정\n",
    "    flush=True 인자는 출력 버퍼를 즉시 비움"
   ]
  },
  {
   "cell_type": "code",
   "execution_count": 26,
   "metadata": {},
   "outputs": [
    {
     "data": {
      "text/plain": [
       "<generator object RunnableSequence.stream at 0x11099ab60>"
      ]
     },
     "execution_count": 26,
     "metadata": {},
     "output_type": "execute_result"
    }
   ],
   "source": [
    "answer= chain.stream({\"topic\" : \"멀티모달\"})\n",
    "\n",
    "answer"
   ]
  },
  {
   "cell_type": "code",
   "execution_count": 27,
   "metadata": {},
   "outputs": [
    {
     "name": "stdout",
     "output_type": "stream",
     "text": [
      "멀티모달은 여러 가지 다른 형태의 정보를 결합하여 제공하는 시스템이다. 이는 텍스트, 이미지, 음성, 동영상 등 다양한 형태의 정보를 동시에 활용할 수 있다는 것을 의미한다. 멀티모달은 사용자에게 더 풍부한 경험을 제공하고, 정보를 빠르고 효과적으로 전달할 수 있는 장점을 가지고 있다."
     ]
    }
   ],
   "source": [
    "for token in answer:\n",
    "    print(token, end=\"\", flush=True)"
   ]
  },
  {
   "cell_type": "markdown",
   "metadata": {},
   "source": [
    "#### invoke: 호출"
   ]
  },
  {
   "cell_type": "code",
   "execution_count": 28,
   "metadata": {},
   "outputs": [
    {
     "data": {
      "text/plain": [
       "'ChatGPT는 인공지능 챗봇으로, 자연어 처리 기술을 사용하여 대화 상대와 상호작용합니다. 사용자의 질문에 답변하거나 대화를 이끌어내는 등 다양한 상황에서 활용됩니다. 지속적인 학습과 업데이트를 통해 더욱 정확하고 유용한 대화를 제공합니다.'"
      ]
     },
     "execution_count": 28,
     "metadata": {},
     "output_type": "execute_result"
    }
   ],
   "source": [
    "chain.invoke({\"topic\": \"ChatGPT\" })"
   ]
  },
  {
   "cell_type": "markdown",
   "metadata": {},
   "source": [
    "##### Batch : 배치(단위 실행)\n",
    "    - chain.batch는 여러 개의 딕셔너리를 포함하는 리스트를 인자로 받아, 각 딕셔너리에 있는 topic 키의 키값을 사용해 일괄 처리를 수행"
   ]
  },
  {
   "cell_type": "code",
   "execution_count": 30,
   "metadata": {},
   "outputs": [
    {
     "data": {
      "text/plain": [
       "['ChatGPT는 최신 자연어 처리 기술을 활용하여 대화를 이어나가는 인공지능 챗봇이다. 사용자와 자연스럽게 상호작용하며 질문에 답변하거나 대화를 이끌어나가는 역할을 한다. 다양한 주제에 대해 대화가 가능하고, 실용적인 정보나 엔터테인먼트를 제공한다.',\n",
       " 'Instagram은 사진과 동영상을 공유하고 소셜 네트워크 서비스를 제공하는 앱이다. 사용자는 다양한 필터와 효과를 이용하여 자신의 콘텐츠를 꾸밀 수 있고, 팔로워들과 소통할 수 있다. 또한 해시태그를 이용하여 관심사나 주제별로 콘텐츠를 찾을 수 있다.']"
      ]
     },
     "execution_count": 30,
     "metadata": {},
     "output_type": "execute_result"
    }
   ],
   "source": [
    "answer = chain.batch([{\"topic\" : \"Chatgpt\"}, {\"topic\" : \"Instagram\"}])\n",
    "answer"
   ]
  },
  {
   "cell_type": "markdown",
   "metadata": {},
   "source": [
    "    - max_concurrency 매개변수를 사용해 동시 요청 수를 설정할 수 있음\n",
    "    config 딕셔너리는 max_concurrency 키를 통해 동시에 처리할 수 있는 최대 작업 수를 설정함\n",
    "    여기서는 최대 3개 작업ㅇ르 동시에 처리하도록 설정함"
   ]
  },
  {
   "cell_type": "code",
   "execution_count": 31,
   "metadata": {},
   "outputs": [
    {
     "data": {
      "text/plain": [
       "['ChatGPT는 인공지능 챗봇으로 자연어 처리 기술을 사용하여 대화를 수행한다. 사용자의 질문에 답변하거나 대화를 이어가며 다양한 주제에 대해 이야기를 나눈다. ChatGPT는 업데이트를 통해 계속 발전하고 새로운 기능과 지식을 습득하여 사용자에게 더 나은 대화 경험을 제공한다.',\n",
       " 'Instagram은 사진과 동영상을 공유하고 소셜 네트워크 서비스를 제공하는 앱이다. 사용자들은 팔로워들과 소통하며 일상을 공유하고 취향에 맞는 콘텐츠를 발견할 수 있다. 해시태그를 통해 특정 주제나 관심사에 맞는 포스트를 찾을 수도 있다.',\n",
       " '멀티모달은 여러 가지 다양한 형태의 미디어를 결합하여 정보를 전달하거나 상호작용하는 것을 의미합니다. 이는 텍스트, 이미지, 비디오, 오디오 등 다양한 형식을 함께 사용하여 사용자 경험을 향상시키는 방법입니다. 멀티모달은 사용자가 자신에게 가장 편리하고 이해하기 쉬운 방식으로 정보를 받을 수 있도록 도와줍니다.',\n",
       " '프로그래밍은 컴퓨터에게 실행할 일련의 명령을 작성하는 과정이다. 이를 통해 우리는 컴퓨터가 원하는 작업을 수행하도록 할 수 있다. 프로그래밍은 문제 해결능력과 논리적 사고력을 기를 수 있는 유용한 기술이다.',\n",
       " '머신러닝은 컴퓨터 시스템이 데이터를 분석하고 학습하여 패턴을 발견하고 예측하는 인공지능 기술이다. 이를 통해 기계는 스스로 학습하고 결정을 내릴 수 있으며, 사람의 개입 없이 작업을 수행할 수 있다. 머신러닝은 이미지 인식, 자연어 처리, 음성 인식 등 다양한 분야에서 활발히 활용되고 있다.']"
      ]
     },
     "execution_count": 31,
     "metadata": {},
     "output_type": "execute_result"
    }
   ],
   "source": [
    "chain.batch(\n",
    "    [\n",
    "        {\"topic\" : \"ChatGPT\"},\n",
    "        {\"topic\" : \"Instagram\"},\n",
    "        {\"topic\" : \"멀티모달\"},\n",
    "        {\"topic\" : \"프로그래밍\"},\n",
    "        {\"topic\" : \"머신러닝\"},\n",
    "    ],\n",
    "    config = {\"max_concurrency\" : 3},\n",
    ")"
   ]
  },
  {
   "cell_type": "code",
   "execution_count": 32,
   "metadata": {},
   "outputs": [
    {
     "data": {
      "text/plain": [
       "['ChatGPT는 자연어 처리 기술을 이용하여 사용자와 대화하는 인공지능 챗봇 서비스이다. ChatGPT는 사용자의 질문에 답변하고 대화를 이어나가며 다양한 주제에 대해 대화할 수 있다. 사용자 경험을 개선하기 위해 지속적으로 학습하고 발전하는 시스템이다.',\n",
       " 'Instagram은 사진과 동영상을 공유하는 SNS 플랫폼으로, 사용자들은 자신의 일상을 담은 콘텐츠를 업로드하고 다른 사람들과 소통할 수 있다. 해시태그를 통해 관심사나 주제별로 콘텐츠를 검색하고 팔로우하며, 인기 있는 게시물은 탐색하기 페이지에 노출된다. 또한 스토리 기능을 통해 일시적인 콘텐츠를 공유하고, 다양한 필터와 편집 기능을 활용하여 창의적이고 아름다운 사진을 만들 수 있다.',\n",
       " '멀티모달은 여러 가지 다른 형태의 정보를 함께 사용하여 효과적으로 의사소통하고 상호작용하는 것을 말합니다. 예를 들어 음성, 텍스트, 그림, 동영상 등 여러 가지 매체를 결합하여 정보를 전달하고 받는 방식이며, 시각적, 청각적, 운동적 등 다양한 감각을 활용하여 사용자 경험을 향상시킵니다. 멀티모달 접근법은 정보 전달의 효율성과 효과성을 높이는 데 도움을 줄 뿐만 아니라, 언어적이거나 문화적인 장벽을 극복하는 데도 유용하게 활용됩니다.',\n",
       " '프로그래밍은 컴퓨터에게 실행할 일련의 명령을 작성하는 과정이다. 이를 통해 우리는 복잡한 작업을 자동화하고 문제를 해결할 수 있다. 프로그래밍은 언어에 따라 다양한 방식으로 표현되며, 개발자는 코드를 작성하여 원하는 결과를 얻을 수 있다.',\n",
       " '머신러닝은 컴퓨터가 데이터를 이용해 패턴을 학습하고 예측하는 인공지능 기술이다. 이를 통해 컴퓨터는 데이터를 분석하고 의사결정을 내릴 수 있게 된다. 머신러닝은 이미지 인식, 자연어 처리, 예측 분석 등 다양한 분야에서 활용되고 있다.']"
      ]
     },
     "execution_count": 32,
     "metadata": {},
     "output_type": "execute_result"
    }
   ],
   "source": [
    "# 옵션 변경\n",
    "\n",
    "chain.batch(\n",
    "    [\n",
    "        {\"topic\" : \"ChatGPT\"},\n",
    "        {\"topic\" : \"Instagram\"},\n",
    "        {\"topic\" : \"멀티모달\"},\n",
    "        {\"topic\" : \"프로그래밍\"},\n",
    "        {\"topic\" : \"머신러닝\"},\n",
    "    ],\n",
    "    config = {\"max_concurrency\" : 5},\n",
    ")"
   ]
  },
  {
   "cell_type": "markdown",
   "metadata": {},
   "source": [
    "####  async stream : 비동기 스트림\n",
    "    - chain.astream 비동기 스트림을 생성하며, 주어진 토픽에 대한 메시지를 비동기로 처리\n",
    "    - 비동기 for 루프(async for) 사용해 스트림에서 메시지를 순차적으로 받아오고, print 함수를 통해서 메시지의 내용(s.content)를 즉시 출력\n",
    "    end = \"\"출력 후 줄바꿈을 하지 않도록 설정 flush=True 는 출력 버퍼를 강제로 비워 즉시 출력되도록 함"
   ]
  },
  {
   "cell_type": "code",
   "execution_count": 33,
   "metadata": {},
   "outputs": [
    {
     "name": "stdout",
     "output_type": "stream",
     "text": [
      "YouTube는 동영상을 올리고 시청할 수 있는 온라인 동영상 플랫폼이다. 사용자들은 다양한 주제의 동영상을 업로드하고 시청할 수 있으며, 구독자들과 소통하고 콘텐츠를 공유할 수 있다. 유명인들과 크리에이터들이 활발하게 활동하며, 광고 수익을 얻을 수 있는 플랫폼으로도 유명하다."
     ]
    }
   ],
   "source": [
    "async for token in chain.astream({\"topic\" : \"YouTube\"}):\n",
    "    print(token, end=\"\", flush=True)"
   ]
  },
  {
   "cell_type": "markdown",
   "metadata": {},
   "source": [
    "#### async invoke : 비동기 호출\n",
    "    \n",
    "    -   chain 객체의 ainvoke 메서드는 비동기적으로 주어진 인자를 사용해 작업을 수행함\n",
    "    여기서 topic 이라는 키와 NVDA 라는 값을 가진 딕셔너리를 인자로 전달하고 있음\n",
    "    이 메서드는 특정 토픽에 대한 처리를 비동기적으로 요청하는데 사용될 수 있음"
   ]
  },
  {
   "cell_type": "code",
   "execution_count": 37,
   "metadata": {},
   "outputs": [
    {
     "data": {
      "text/plain": [
       "'NVDA는 NVIDIA Corporation의 주식 기호이며, 미국의 반도체 기업으로 GPU(그래픽 처리 장치)를 주력 제품으로 생산한다. 최근 AI와 자율 주행차 기술 발전으로 주목을 받고 있으며, 기술적인 혁신을 이끄는 기업 중 하나이다. 주가는 기술 산업의 성장에 따라 변동성이 크며 투자자들 사이에서 인기를 끌고 있다.'"
      ]
     },
     "execution_count": 37,
     "metadata": {},
     "output_type": "execute_result"
    }
   ],
   "source": [
    "chain.invoke({\"topic\" : \"NVDA\"})"
   ]
  },
  {
   "cell_type": "code",
   "execution_count": 35,
   "metadata": {},
   "outputs": [
    {
     "name": "stderr",
     "output_type": "stream",
     "text": [
      "/var/folders/14/q73v_xlx3_x8kr742lgx5_sh0000gn/T/ipykernel_50882/3212333502.py:3: RuntimeWarning: coroutine 'RunnableSequence.ainvoke' was never awaited\n",
      "  my_process = chain.ainvoke({\"topic\" : \"NVDA\"})\n",
      "RuntimeWarning: Enable tracemalloc to get the object allocation traceback\n"
     ]
    },
    {
     "data": {
      "text/plain": [
       "<coroutine object RunnableSequence.ainvoke at 0x110929540>"
      ]
     },
     "execution_count": 35,
     "metadata": {},
     "output_type": "execute_result"
    }
   ],
   "source": [
    "#비동기 체인 객체의 'ainvoke' 메서드로 'NVDA' 토픽 처리 \n",
    "\n",
    "my_process = chain.ainvoke({\"topic\" : \"NVDA\"}) \n",
    "my_process"
   ]
  },
  {
   "cell_type": "code",
   "execution_count": 36,
   "metadata": {},
   "outputs": [
    {
     "data": {
      "text/plain": [
       "'NVDA는 미국의 기업으로서 컴퓨터 그래픽스와 인공지능 기술을 전문으로 하는 회사이다. 주로 GPU와 시각 장애인을 위한 소프트웨어를 개발하며, 그래픽 카드 시장에서 선두적인 위치를 차지하고 있다. 혁신적인 기술과 제품으로 인해 글로벌 시장에서 큰 인정을 받고 있으며, 성장 가능성이 높은 기업으로 평가받고 있다.'"
      ]
     },
     "execution_count": 36,
     "metadata": {},
     "output_type": "execute_result"
    }
   ],
   "source": [
    "await my_process"
   ]
  },
  {
   "cell_type": "markdown",
   "metadata": {},
   "source": [
    "#### async batch: 비동기 배치\n",
    "\n",
    "    -  함수 abatch는 비동기적으로 일련의 작업을 일괄 처리\n",
    "    - await 키워드는 해당 비동기 작업이 완료될 때까지 기다리는데 사용"
   ]
  },
  {
   "cell_type": "code",
   "execution_count": 38,
   "metadata": {},
   "outputs": [],
   "source": [
    "my_abatch_process = chain.abatch(\n",
    "    [{\"topic\" : \"YouTube\"}, {\"topic\": \"Instagram\"}, {\"topic\" : \"Facebook\"}]\n",
    ")\n"
   ]
  },
  {
   "cell_type": "code",
   "execution_count": 39,
   "metadata": {},
   "outputs": [
    {
     "data": {
      "text/plain": [
       "['YouTube는 구글이 소유하고 있는 동영상 공유 플랫폼으로, 사용자들은 자신의 동영상을 업로드하고 시청할 수 있다. 다양한 콘텐츠를 제공하여 음악, 뉴스, 교육 등 다양한 주제의 동영상을 즐길 수 있다. 또한 라이브 스트리밍 기능을 통해 실시간으로 이벤트나 방송을 시청할 수도 있다.',\n",
       " 'Instagram은 사진과 동영상을 공유하고 소셜 네트워크를 형성할 수 있는 앱이다. 사용자들은 팔로워들과 소통하며 일상을 공유하고 콘텐츠를 발견할 수 있다. 해시태그와 인플루언서 마케팅을 통해 다양한 사용자들과 연결되는 플랫폼이다.',\n",
       " 'Facebook은 세계적으로 가장 대중적인 소셜 네트워크 서비스 중 하나로, 사람들이 친구들과 소통하고 정보를 공유하는 플랫폼이다. 사용자들은 텍스트, 사진, 동영상 등 다양한 콘텐츠를 게시하고 다른 사람들과 소통할 수 있다. 또한 광고를 통해 비즈니스 활동을 홍보하고 마케팅을 할 수 있는 기회를 제공한다.']"
      ]
     },
     "execution_count": 39,
     "metadata": {},
     "output_type": "execute_result"
    }
   ],
   "source": [
    "await my_abatch_process"
   ]
  },
  {
   "cell_type": "code",
   "execution_count": null,
   "metadata": {},
   "outputs": [],
   "source": []
  },
  {
   "cell_type": "markdown",
   "metadata": {},
   "source": [
    "### Parallel : 병렬성\n",
    "    - RunnableParallel을 사용할 때, 각 요소를 병렬로 실행함\n",
    "    사용자 정의 체인을 최대한 쉽게 만들 수 있도록, \"Runnable\" 프로토콜 구현\n",
    "    "
   ]
  },
  {
   "cell_type": "code",
   "execution_count": 42,
   "metadata": {},
   "outputs": [],
   "source": [
    "from langchain_core.runnables import RunnableParallel\n",
    "\n",
    "chain1 = (\n",
    "    PromptTemplate.from_template(\"{country}의 수도는 어디야?\")\n",
    "    | model \n",
    "    | StrOutputParser()\n",
    ")\n",
    "\n",
    "chain2 = (\n",
    "    PromptTemplate.from_template(\"{country}의 면적은 얼마야?\")\n",
    "    | model\n",
    "    | StrOutputParser()\n",
    ")\n",
    "\n",
    "combined = RunnableParallel(captical=chain1, area=chain2)\n"
   ]
  },
  {
   "cell_type": "code",
   "execution_count": 43,
   "metadata": {},
   "outputs": [
    {
     "data": {
      "text/plain": [
       "'대한민국의 수도는 서울이다.'"
      ]
     },
     "execution_count": 43,
     "metadata": {},
     "output_type": "execute_result"
    }
   ],
   "source": [
    "chain1.invoke({\"country\" : \"대한민국\"})"
   ]
  },
  {
   "cell_type": "code",
   "execution_count": 44,
   "metadata": {},
   "outputs": [
    {
     "data": {
      "text/plain": [
       "'대한민국의 면적은 약 100,363.4 km² 입니다.'"
      ]
     },
     "execution_count": 44,
     "metadata": {},
     "output_type": "execute_result"
    }
   ],
   "source": [
    "chain2.invoke({\"country\":\"대한민국\"})"
   ]
  },
  {
   "cell_type": "code",
   "execution_count": 45,
   "metadata": {},
   "outputs": [
    {
     "data": {
      "text/plain": [
       "{'captical': '대한민국의 수도는 서울이다.', 'area': '대한민국의 총 면적은 약 100,363km² 입니다.'}"
      ]
     },
     "execution_count": 45,
     "metadata": {},
     "output_type": "execute_result"
    }
   ],
   "source": [
    "combined.invoke({\"country\": \"대한민국\"})"
   ]
  },
  {
   "cell_type": "code",
   "execution_count": 46,
   "metadata": {},
   "outputs": [],
   "source": [
    "from langchain_core.runnables import RunnableParallel\n",
    "\n",
    "chain1 = (\n",
    "    PromptTemplate.from_template(\"{country1}의 수도는 어디야?\")\n",
    "    | model \n",
    "    | StrOutputParser()\n",
    ")\n",
    "\n",
    "chain2 = (\n",
    "    PromptTemplate.from_template(\"{country2}의 면적은 얼마야?\")\n",
    "    | model\n",
    "    | StrOutputParser()\n",
    ")\n",
    "\n",
    "combined = RunnableParallel(captical=chain1, area=chain2)"
   ]
  },
  {
   "cell_type": "code",
   "execution_count": 47,
   "metadata": {},
   "outputs": [
    {
     "data": {
      "text/plain": [
       "{'captical': '대한민국의 수도는 서울이야.', 'area': '대한민국의 총 면적은 약 100,363km² 입니다.'}"
      ]
     },
     "execution_count": 47,
     "metadata": {},
     "output_type": "execute_result"
    }
   ],
   "source": [
    "combined.invoke({\"country1\" : \"대한민국\", \"country2\" : \"대한민국\"})"
   ]
  },
  {
   "cell_type": "code",
   "execution_count": 48,
   "metadata": {},
   "outputs": [
    {
     "data": {
      "text/plain": [
       "{'captical': '대한민국의 수도는 서울이야.', 'area': '미국의 총 면적은 대략 9,833,520km² 입니다.'}"
      ]
     },
     "execution_count": 48,
     "metadata": {},
     "output_type": "execute_result"
    }
   ],
   "source": [
    "combined.invoke({\"country1\" : \"대한민국\", \"country2\" : \"미국\"})"
   ]
  },
  {
   "cell_type": "code",
   "execution_count": 49,
   "metadata": {},
   "outputs": [],
   "source": [
    "from langchain_core.runnables import RunnableParallel\n",
    "\n",
    "chain1 = (\n",
    "    PromptTemplate.from_template(\"{country}의 수도는 어디야?\")\n",
    "    | model \n",
    "    | StrOutputParser()\n",
    ")\n",
    "\n",
    "chain2 = (\n",
    "    PromptTemplate.from_template(\"{country}의 면적은 얼마야?\")\n",
    "    | model\n",
    "    | StrOutputParser()\n",
    ")\n",
    "\n",
    "combined = RunnableParallel(captical=chain1, area=chain2)"
   ]
  },
  {
   "cell_type": "code",
   "execution_count": 50,
   "metadata": {},
   "outputs": [
    {
     "data": {
      "text/plain": [
       "['대한민국의 수도는 서울이야.', '캐나다의 수도는 오타와(Ottawa)야.']"
      ]
     },
     "execution_count": 50,
     "metadata": {},
     "output_type": "execute_result"
    }
   ],
   "source": [
    "# 배치처리\n",
    "\n",
    "chain1.batch([{\"country\" : \"대한민국\"}, {\"country\" : \"캐나다\"}])"
   ]
  },
  {
   "cell_type": "code",
   "execution_count": 51,
   "metadata": {},
   "outputs": [
    {
     "data": {
      "text/plain": [
       "['대한민국의 총 면적은 약 100,363㎢ 입니다.', '캐나다의 면적은 약 9,984,670 제곱 킬로미터입니다.']"
      ]
     },
     "execution_count": 51,
     "metadata": {},
     "output_type": "execute_result"
    }
   ],
   "source": [
    "chain2.batch([{\"country\" : \"대한민국\"}, {\"country\":\"캐나다\"}])"
   ]
  },
  {
   "cell_type": "code",
   "execution_count": null,
   "metadata": {},
   "outputs": [],
   "source": []
  },
  {
   "cell_type": "code",
   "execution_count": null,
   "metadata": {},
   "outputs": [],
   "source": []
  },
  {
   "cell_type": "markdown",
   "metadata": {},
   "source": []
  }
 ],
 "metadata": {
  "kernelspec": {
   "display_name": "venv",
   "language": "python",
   "name": "python3"
  },
  "language_info": {
   "codemirror_mode": {
    "name": "ipython",
    "version": 3
   },
   "file_extension": ".py",
   "mimetype": "text/x-python",
   "name": "python",
   "nbconvert_exporter": "python",
   "pygments_lexer": "ipython3",
   "version": "3.12.6"
  }
 },
 "nbformat": 4,
 "nbformat_minor": 2
}
