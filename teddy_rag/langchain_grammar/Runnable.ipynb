{
 "cells": [
  {
   "cell_type": "code",
   "execution_count": 2,
   "metadata": {},
   "outputs": [
    {
     "data": {
      "text/plain": [
       "True"
      ]
     },
     "execution_count": 2,
     "metadata": {},
     "output_type": "execute_result"
    }
   ],
   "source": [
    "from dotenv import load_dotenv\n",
    "\n",
    "load_dotenv()"
   ]
  },
  {
   "cell_type": "markdown",
   "metadata": {},
   "source": [
    "### 데이터를 효과적으로 전달하는 방법\n",
    "\n",
    "    - `RunnablePassthrough` : 입력을 변경하지 않거나 추가 키를 더하여 그대로 전달할 수 있음\n",
    "    - `RunnablePassthrough()` 가 단독으로 호출되면, 단순히 입력을 받아 그대로 전달함\n",
    "    - `RunnablePassthrough.assign(...)` 방식으로 호출되면, 입력을 받아 assign 함수에 전달된 추가 인수를 추가함"
   ]
  },
  {
   "cell_type": "code",
   "execution_count": 3,
   "metadata": {},
   "outputs": [],
   "source": [
    "from langchain_core.prompts import PromptTemplate\n",
    "from langchain_openai import ChatOpenAI"
   ]
  },
  {
   "cell_type": "code",
   "execution_count": 4,
   "metadata": {},
   "outputs": [],
   "source": [
    "prompt = PromptTemplate.from_template(\"{num}의 10배는?\")\n",
    "llm = ChatOpenAI(temperature=0, model_name=\"gpt-3.5-turbo\")\n",
    "\n",
    "chain = prompt | llm"
   ]
  },
  {
   "cell_type": "code",
   "execution_count": 5,
   "metadata": {},
   "outputs": [
    {
     "data": {
      "text/plain": [
       "AIMessage(content='50', additional_kwargs={'refusal': None}, response_metadata={'token_usage': {'completion_tokens': 1, 'prompt_tokens': 15, 'total_tokens': 16, 'completion_tokens_details': {'reasoning_tokens': 0}}, 'model_name': 'gpt-3.5-turbo-0125', 'system_fingerprint': None, 'finish_reason': 'stop', 'logprobs': None}, id='run-8ed8eb68-5324-43d5-a0bd-63056bdfaf29-0', usage_metadata={'input_tokens': 15, 'output_tokens': 1, 'total_tokens': 16})"
      ]
     },
     "execution_count": 5,
     "metadata": {},
     "output_type": "execute_result"
    }
   ],
   "source": [
    "chain.invoke({\"num\": 5})"
   ]
  },
  {
   "cell_type": "code",
   "execution_count": 6,
   "metadata": {},
   "outputs": [
    {
     "data": {
      "text/plain": [
       "AIMessage(content='50', additional_kwargs={'refusal': None}, response_metadata={'token_usage': {'completion_tokens': 1, 'prompt_tokens': 15, 'total_tokens': 16, 'completion_tokens_details': {'reasoning_tokens': 0}}, 'model_name': 'gpt-3.5-turbo-0125', 'system_fingerprint': None, 'finish_reason': 'stop', 'logprobs': None}, id='run-58187092-921e-4c5b-914f-bc653a44f38f-0', usage_metadata={'input_tokens': 15, 'output_tokens': 1, 'total_tokens': 16})"
      ]
     },
     "execution_count": 6,
     "metadata": {},
     "output_type": "execute_result"
    }
   ],
   "source": [
    "chain.invoke(5)"
   ]
  },
  {
   "cell_type": "code",
   "execution_count": 10,
   "metadata": {},
   "outputs": [
    {
     "data": {
      "text/plain": [
       "{'num': 10}"
      ]
     },
     "execution_count": 10,
     "metadata": {},
     "output_type": "execute_result"
    }
   ],
   "source": [
    "# RunnablePassthrough를 사용한 예제 (runnable 객체이며 runnable 객체는 invoke() 메소드를 사용해 별도 실행 가능)\n",
    "\n",
    "\n",
    "from langchain_core.runnables import RunnablePassthrough\n",
    "\n",
    "RunnablePassthrough().invoke({\"num\":10})"
   ]
  },
  {
   "cell_type": "code",
   "execution_count": 11,
   "metadata": {},
   "outputs": [
    {
     "data": {
      "text/plain": [
       "dict"
      ]
     },
     "execution_count": 11,
     "metadata": {},
     "output_type": "execute_result"
    }
   ],
   "source": [
    "result = RunnablePassthrough().invoke({\"num\":10})\n",
    "type(result)"
   ]
  },
  {
   "cell_type": "code",
   "execution_count": 12,
   "metadata": {},
   "outputs": [
    {
     "data": {
      "text/plain": [
       "AIMessage(content='100', additional_kwargs={'refusal': None}, response_metadata={'token_usage': {'completion_tokens': 1, 'prompt_tokens': 15, 'total_tokens': 16, 'completion_tokens_details': {'reasoning_tokens': 0}}, 'model_name': 'gpt-3.5-turbo-0125', 'system_fingerprint': None, 'finish_reason': 'stop', 'logprobs': None}, id='run-30541df7-c363-413b-8bce-00d6ec292916-0', usage_metadata={'input_tokens': 15, 'output_tokens': 1, 'total_tokens': 16})"
      ]
     },
     "execution_count": 12,
     "metadata": {},
     "output_type": "execute_result"
    }
   ],
   "source": [
    "runnable_chain = {\"num\" : RunnablePassthrough()} | prompt | ChatOpenAI(model='gpt-3.5-turbo')\n",
    "\n",
    "# dict 값이 RunnablePassthrough()로 변경됨\n",
    "\n",
    "runnable_chain.invoke(10)"
   ]
  },
  {
   "cell_type": "code",
   "execution_count": 13,
   "metadata": {},
   "outputs": [
    {
     "data": {
      "text/plain": [
       "{'num': 1}"
      ]
     },
     "execution_count": 13,
     "metadata": {},
     "output_type": "execute_result"
    }
   ],
   "source": [
    "RunnablePassthrough().invoke({\"num\":1})"
   ]
  },
  {
   "cell_type": "markdown",
   "metadata": {},
   "source": [
    "#### `RunnablePassthrough.assgin()`\n",
    "    - 입력 값으로 들어온 값의 key/value 값을 새롭게 할당된 key/value 값을 합침 "
   ]
  },
  {
   "cell_type": "code",
   "execution_count": 14,
   "metadata": {},
   "outputs": [
    {
     "data": {
      "text/plain": [
       "{'num': 1, 'new_num': 3}"
      ]
     },
     "execution_count": 14,
     "metadata": {},
     "output_type": "execute_result"
    }
   ],
   "source": [
    "# RunnablePassthrough.assign()을 사용하는 경우와 비교\n",
    "# 입력 키 : num, 할당(assign) 키 : new_num\n",
    "\n",
    "(RunnablePassthrough.assign(new_num=lambda x: x[\"num\"] * 3)).invoke({\"num\" : 1})"
   ]
  },
  {
   "cell_type": "markdown",
   "metadata": {},
   "source": [
    "#### RunnableParallel\n",
    "\n",
    "    병렬로 Runnable을 실행하는 RunnableParallel"
   ]
  },
  {
   "cell_type": "code",
   "execution_count": 16,
   "metadata": {},
   "outputs": [
    {
     "data": {
      "text/plain": [
       "{'passed': {'num': 1}, 'extra': {'num': 1, 'mult': 3}, 'modified': 2}"
      ]
     },
     "execution_count": 16,
     "metadata": {},
     "output_type": "execute_result"
    }
   ],
   "source": [
    "from langchain_core.runnables import RunnableParallel\n",
    "\n",
    "# RunnableParallel 인스턴스 생성. 이 인스턴스는 여러 Runnable 인스턴스를 병렬로 실행\n",
    "\n",
    "runnable = RunnableParallel(\n",
    "    passed=RunnablePassthrough(), # RunnablePassthrough 인스턴스를 'passed' 키워드 인자로 전달. 입력된 데이터를 그대로 통과시킴\n",
    "    extra = RunnablePassthrough.assign(mult=lambda x : x[\"num\"]*3), # 'extra' 키워드 인자로 RunnablePassthrough.assign을 사용해 'multi' 람다 함수 할당. 이 함수는 입력된 딕셔너리의 'num' 키에 해당하는 값을 3배로 증가\n",
    "    modified = lambda x: x[\"num\"] + 1, # 'modified' 키워드 인자로 람다 함수 전달. 이 함수는 입력된 딕셔너리의 'num' 키에 해당하는 값에 1을 더함\n",
    "    \n",
    ")\n",
    "\n",
    "runnable.invoke({\"num\":1})"
   ]
  },
  {
   "cell_type": "code",
   "execution_count": 17,
   "metadata": {},
   "outputs": [],
   "source": [
    "# chain도 RunnableParallel 적용할 수 있음\n",
    "\n",
    "chain1 = (\n",
    "    {\"country\" : RunnablePassthrough()}\n",
    "    | PromptTemplate.from_template(\"{country}의 수도는?\")\n",
    "    | ChatOpenAI(model_name='gpt-3.5-turbo')\n",
    ")\n",
    "\n",
    "chain2 = (\n",
    "    {\"country\" : RunnablePassthrough()}\n",
    "    | PromptTemplate.from_template(\"{country}의 면적은?\")\n",
    "    | ChatOpenAI(model_name=\"gpt-3.5-turbo\")\n",
    ")"
   ]
  },
  {
   "cell_type": "code",
   "execution_count": 18,
   "metadata": {},
   "outputs": [
    {
     "data": {
      "text/plain": [
       "{'captical': AIMessage(content='서울특별시입니다.', additional_kwargs={'refusal': None}, response_metadata={'token_usage': {'completion_tokens': 10, 'prompt_tokens': 18, 'total_tokens': 28, 'completion_tokens_details': {'reasoning_tokens': 0}}, 'model_name': 'gpt-3.5-turbo-0125', 'system_fingerprint': None, 'finish_reason': 'stop', 'logprobs': None}, id='run-8f878394-25b8-4f19-98fc-b9880c3bf7ee-0', usage_metadata={'input_tokens': 18, 'output_tokens': 10, 'total_tokens': 28}),\n",
       " 'area': AIMessage(content='대한민국의 총 면적은 약 100,363제곱킬로미터 입니다.', additional_kwargs={'refusal': None}, response_metadata={'token_usage': {'completion_tokens': 31, 'prompt_tokens': 19, 'total_tokens': 50, 'completion_tokens_details': {'reasoning_tokens': 0}}, 'model_name': 'gpt-3.5-turbo-0125', 'system_fingerprint': None, 'finish_reason': 'stop', 'logprobs': None}, id='run-dbba75f7-7927-4cb7-8357-e2675d7b3969-0', usage_metadata={'input_tokens': 19, 'output_tokens': 31, 'total_tokens': 50})}"
      ]
     },
     "execution_count": 18,
     "metadata": {},
     "output_type": "execute_result"
    }
   ],
   "source": [
    "combined_chain = RunnableParallel(captical=chain1, area=chain2)\n",
    "combined_chain.invoke(\"대한민국\")"
   ]
  },
  {
   "cell_type": "code",
   "execution_count": null,
   "metadata": {},
   "outputs": [],
   "source": []
  },
  {
   "cell_type": "markdown",
   "metadata": {},
   "source": [
    "#### RunnableLambda\n",
    "\n",
    "    - 사용자 정의 함수를 매핑"
   ]
  },
  {
   "cell_type": "code",
   "execution_count": 19,
   "metadata": {},
   "outputs": [],
   "source": [
    "from langchain_core.output_parsers import StrOutputParser\n",
    "from langchain_core.prompts import PromptTemplate\n",
    "from langchain_openai import ChatOpenAI\n",
    "from datetime import datetime"
   ]
  },
  {
   "cell_type": "code",
   "execution_count": 22,
   "metadata": {},
   "outputs": [
    {
     "data": {
      "text/plain": [
       "'Sep-27'"
      ]
     },
     "execution_count": 22,
     "metadata": {},
     "output_type": "execute_result"
    }
   ],
   "source": [
    "def get_today():\n",
    "    return datetime.today().strftime(\"%b-%d\")\n",
    "\n",
    "\n",
    "get_today()"
   ]
  },
  {
   "cell_type": "code",
   "execution_count": 23,
   "metadata": {},
   "outputs": [
    {
     "data": {
      "text/plain": [
       "'Sep-27'"
      ]
     },
     "execution_count": 23,
     "metadata": {},
     "output_type": "execute_result"
    }
   ],
   "source": [
    "def get_today(a):\n",
    "    return datetime.today().strftime(\"%b-%d\")\n",
    "\n",
    "\n",
    "get_today(None)"
   ]
  },
  {
   "cell_type": "code",
   "execution_count": 24,
   "metadata": {},
   "outputs": [],
   "source": [
    "from langchain_core.runnables import RunnableLambda, RunnablePassthrough\n",
    "\n",
    "prompt = PromptTemplate.from_template(\n",
    "    \"{today}가 생일인 유명인 {n}명을 나열하세요. 생년월일을 표기해 주세요.\"\n",
    ")\n",
    "\n",
    "llm = ChatOpenAI(model_name='gpt-3.5-turbo')\n",
    "\n",
    "chain = (\n",
    "    {\"today\" : RunnableLambda(get_today), \"n\" : RunnablePassthrough()}\n",
    "    | prompt\n",
    "    | llm\n",
    "    | StrOutputParser()\n",
    "\n",
    ")"
   ]
  },
  {
   "cell_type": "code",
   "execution_count": 25,
   "metadata": {},
   "outputs": [
    {
     "name": "stdout",
     "output_type": "stream",
     "text": [
      "1. 윤아 (Girls' Generation 멤버) - 1990년 9월 27일\n",
      "2. 루이스 해밀턴 (F1 레이서) - 1985년 9월 27일\n",
      "3. 게이리 콜 (영국 배우) - 1967년 9월 27일\n"
     ]
    }
   ],
   "source": [
    "print(chain.invoke(3))"
   ]
  },
  {
   "cell_type": "code",
   "execution_count": null,
   "metadata": {},
   "outputs": [],
   "source": []
  }
 ],
 "metadata": {
  "kernelspec": {
   "display_name": "venv",
   "language": "python",
   "name": "python3"
  },
  "language_info": {
   "codemirror_mode": {
    "name": "ipython",
    "version": 3
   },
   "file_extension": ".py",
   "mimetype": "text/x-python",
   "name": "python",
   "nbconvert_exporter": "python",
   "pygments_lexer": "ipython3",
   "version": "3.12.6"
  }
 },
 "nbformat": 4,
 "nbformat_minor": 2
}
