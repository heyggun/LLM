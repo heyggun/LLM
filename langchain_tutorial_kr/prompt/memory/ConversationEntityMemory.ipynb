{
 "cells": [
  {
   "cell_type": "markdown",
   "metadata": {},
   "source": [
    "**대화 엔티티 메모리(ConversationEntityMemory)**\n",
    "\n",
    "    - 엔티티 메모리는 대화에서 특정 엔티티에 대한 주어진 사실을 기억한다.\n",
    "    - 엔티티 메모리는 엔티티에 대한 정보를 추출하고(LLM 사용) 시간이 지남에 따라 해당 엔티티에 대한 지식을 축적한다(LLM 사용)"
   ]
  },
  {
   "cell_type": "code",
   "execution_count": 1,
   "metadata": {},
   "outputs": [
    {
     "data": {
      "text/plain": [
       "True"
      ]
     },
     "execution_count": 1,
     "metadata": {},
     "output_type": "execute_result"
    }
   ],
   "source": [
    "from dotenv import load_dotenv\n",
    "\n",
    "load_dotenv()"
   ]
  },
  {
   "cell_type": "code",
   "execution_count": 3,
   "metadata": {},
   "outputs": [],
   "source": [
    "from langchain_openai import ChatOpenAI\n",
    "from langchain.chains import ConversationChain\n",
    "from langchain.memory import ConversationEntityMemory\n",
    "from langchain.memory.prompt import ENTITY_MEMORY_CONVERSATION_TEMPLATE"
   ]
  },
  {
   "cell_type": "code",
   "execution_count": 4,
   "metadata": {},
   "outputs": [
    {
     "name": "stdout",
     "output_type": "stream",
     "text": [
      "input_variables=['entities', 'history', 'input'] template='You are an assistant to a human, powered by a large language model trained by OpenAI.\\n\\nYou are designed to be able to assist with a wide range of tasks, from answering simple questions to providing in-depth explanations and discussions on a wide range of topics. As a language model, you are able to generate human-like text based on the input you receive, allowing you to engage in natural-sounding conversations and provide responses that are coherent and relevant to the topic at hand.\\n\\nYou are constantly learning and improving, and your capabilities are constantly evolving. You are able to process and understand large amounts of text, and can use this knowledge to provide accurate and informative responses to a wide range of questions. You have access to some personalized information provided by the human in the Context section below. Additionally, you are able to generate your own text based on the input you receive, allowing you to engage in discussions and provide explanations and descriptions on a wide range of topics.\\n\\nOverall, you are a powerful tool that can help with a wide range of tasks and provide valuable insights and information on a wide range of topics. Whether the human needs help with a specific question or just wants to have a conversation about a particular topic, you are here to assist.\\n\\nContext:\\n{entities}\\n\\nCurrent conversation:\\n{history}\\nLast line:\\nHuman: {input}\\nYou:'\n"
     ]
    }
   ],
   "source": [
    "print(ENTITY_MEMORY_CONVERSATION_TEMPLATE)"
   ]
  },
  {
   "cell_type": "markdown",
   "metadata": {},
   "source": [
    "    input_variables=['entities', 'history', 'input'] template='You are an assistant to a human, powered by a large language model trained by OpenAI.\\n\\nYou are designed to be able to assist with a wide range of tasks, from answering simple questions to providing in-depth explanations and discussions on a wide range of topics. As a language model, you are able to generate human-like text based on the input you receive, allowing you to engage in natural-sounding conversations and provide responses that are coherent and relevant to the topic at hand.\\n\\nYou are constantly learning and improving, and your capabilities are constantly evolving. You are able to process and understand large amounts of text, and can use this knowledge to provide accurate and informative responses to a wide range of questions. You have access to some personalized information provided by the human in the Context section below. Additionally, you are able to generate your own text based on the input you receive, allowing you to engage in discussions and provide explanations and descriptions on a wide range of topics.\\n\\nOverall, you are a powerful tool that can help with a wide range of tasks and provide valuable insights and information on a wide range of topics. Whether the human needs help with a specific question or just wants to have a conversation about a particular topic, you are here to assist.\\n\\nContext:\\n{entities}\\n\\nCurrent conversation:\\n{history}\\nLast line:\\nHuman: {input}\\nYou:'"
   ]
  },
  {
   "cell_type": "code",
   "execution_count": 6,
   "metadata": {},
   "outputs": [
    {
     "name": "stdout",
     "output_type": "stream",
     "text": [
      "You are an assistant to a human, powered by a large language model trained by OpenAI.\n",
      "\n",
      "You are designed to be able to assist with a wide range of tasks, from answering simple questions to providing in-depth explanations and discussions on a wide range of topics. As a language model, you are able to generate human-like text based on the input you receive, allowing you to engage in natural-sounding conversations and provide responses that are coherent and relevant to the topic at hand.\n",
      "\n",
      "You are constantly learning and improving, and your capabilities are constantly evolving. You are able to process and understand large amounts of text, and can use this knowledge to provide accurate and informative responses to a wide range of questions. You have access to some personalized information provided by the human in the Context section below. Additionally, you are able to generate your own text based on the input you receive, allowing you to engage in discussions and provide explanations and descriptions on a wide range of topics.\n",
      "\n",
      "Overall, you are a powerful tool that can help with a wide range of tasks and provide valuable insights and information on a wide range of topics. Whether the human needs help with a specific question or just wants to have a conversation about a particular topic, you are here to assist.\n",
      "\n",
      "Context:\n",
      "{entities}\n",
      "\n",
      "Current conversation:\n",
      "{history}\n",
      "Last line:\n",
      "Human: {input}\n",
      "You:\n"
     ]
    }
   ],
   "source": [
    "#Entity Memory를 사용하는 프롬프트 내용 출력\n",
    "\n",
    "print(ENTITY_MEMORY_CONVERSATION_TEMPLATE.template)"
   ]
  },
  {
   "cell_type": "code",
   "execution_count": 7,
   "metadata": {},
   "outputs": [],
   "source": [
    "llm = ChatOpenAI(\n",
    "    model='gpt-3.5-turbo',\n",
    "    temperature=0\n",
    ")\n",
    "\n",
    "conversation_chain = ConversationChain(\n",
    "    llm=llm,\n",
    "    prompt = ENTITY_MEMORY_CONVERSATION_TEMPLATE,\n",
    "    memory = ConversationEntityMemory(llm=llm)\n",
    ")"
   ]
  },
  {
   "cell_type": "code",
   "execution_count": 10,
   "metadata": {},
   "outputs": [
    {
     "data": {
      "text/plain": [
       "\"넷플릭스에 올라온 SF 영화 '삼체'는 중국 소설가 류커신의 동명의 소설을 원작으로 한 작품입니다. 이 작품은 1960년대 중국을 배경으로 시작하여, 한 여성이 내린 운명적인 결정이 미래에 미치는 영향을 다루며, 현재의 유수한 과학자들에게 불가사의한 영향을 미치게 되고, 다섯 명의 과학자들이 인류 역사에 맞닥뜨린 위험에 대한 스토리를 그립니다. 이 작품은 과학적인 요소와 철학적인 측면을 융합하여 흥미로운 이야기를 전달하며, 많은 시청자들에게 호평을 받고 있습니다.\""
      ]
     },
     "execution_count": 10,
     "metadata": {},
     "output_type": "execute_result"
    }
   ],
   "source": [
    "# 입력한 대화를 바탕으로 `ConversationEntityMemory`는 주요 Entity를 별도로 저장함\n",
    "\n",
    "conversation_chain.predict(\n",
    "    input=\"최근 넷플릭스에 sf 영화가 올라왔는데 제목은 삼체이다.\"\n",
    "    \"1960년대의 중국을 배경으로 시작해서, 당시에 한 여성이 내린 운명적 결정이 시공을 넘어 현재에 영향을 미치는 내용이다.\"\n",
    "    \"현재의 유수 과학자들에게 불가사의한 영향을 미치게 되고, 다섯 명의 과학자들의 인류 역사에 맞닥뜨린 위험에 대한 스토리이다.\"\n",
    ")\n",
    "\n"
   ]
  },
  {
   "cell_type": "code",
   "execution_count": 11,
   "metadata": {},
   "outputs": [
    {
     "data": {
      "text/plain": [
       "{'넷플릭스': \"넷플릭스는 최근 SF 영화 '삼체'를 포함하여, 현재의 유수한 과학자들에게 불가사의한 영향을 미치는 내용을 다루는 작품들을 제공하고 있습니다.\",\n",
       " '삼체': \"넷플릭스에 올라온 SF 영화 '삼체'는 중국 소설가 류커신의 동명의 소설을 원작으로 한 작품입니다. 이 작품은 1960년대 중국을 배경으로 시작하여, 한 여성이 내린 운명적인 결정이 미래에 미치는 영향을 다루며, 현재의 유수한 과학자들에게 불가사의한 영향을 미치게 되고, 다섯 명의 과학자들이 인류 역사에 맞닥뜨린 위험에 대한 스토리를 그립니다.\",\n",
       " '중국': \"중국은 1960년대를 배경으로 한 여성의 운명적 결정이 현재의 유수한 과학자들에게 불가사의한 영향을 미치는 내용을 다루는 SF 영화 '삼체'의 중요한 배경이다.\",\n",
       " '혀재': '혀재는 유수한 과학자들에게 불가사의한 영향을 미치며, 다섯 명의 과학자들이 인류 역사에 맞닥뜨린 위험에 대처하는 스토리의 중요한 캐릭터입니다.',\n",
       " '과학자들': '과학자들은 현재의 유수한 과학자들에게 불가사의한 영향을 미치게 되고, 다섯 명의 과학자들이 인류 역사에 맞닥뜨린 위험에 대한 스토리에 등장합니다.',\n",
       " '여성': '여성은 현재의 유수한 과학자들에게 불가사의한 영향을 미치게 되고, 다섯 명의 과학자들의 인류 역사에 맞닥뜨린 위험에 대한 스토리에 관련된 중요한 결정을 내린 인물입니다.',\n",
       " '인류': '인류는 현재의 유수한 과학자들에게 불가사의한 영향을 미치게 되고, 다섯 명의 과학자들이 인류 역사에 맞닥뜨린 위험에 대한 스토리를 그리는 중요한 주제입니다.'}"
      ]
     },
     "execution_count": 11,
     "metadata": {},
     "output_type": "execute_result"
    }
   ],
   "source": [
    "# Entity는 memory.entity_store.sotre에서 인함\n",
    "\n",
    "conversation_chain.memory.entity_store.store"
   ]
  },
  {
   "cell_type": "code",
   "execution_count": null,
   "metadata": {},
   "outputs": [],
   "source": []
  },
  {
   "cell_type": "code",
   "execution_count": null,
   "metadata": {},
   "outputs": [],
   "source": []
  }
 ],
 "metadata": {
  "kernelspec": {
   "display_name": "venv",
   "language": "python",
   "name": "python3"
  },
  "language_info": {
   "codemirror_mode": {
    "name": "ipython",
    "version": 3
   },
   "file_extension": ".py",
   "mimetype": "text/x-python",
   "name": "python",
   "nbconvert_exporter": "python",
   "pygments_lexer": "ipython3",
   "version": "3.10.12"
  }
 },
 "nbformat": 4,
 "nbformat_minor": 2
}
