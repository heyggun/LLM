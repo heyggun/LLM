{
 "cells": [
  {
   "cell_type": "markdown",
   "metadata": {},
   "source": [
    "**Conversation Chain**"
   ]
  },
  {
   "cell_type": "code",
   "execution_count": 1,
   "metadata": {},
   "outputs": [
    {
     "data": {
      "text/plain": [
       "True"
      ]
     },
     "execution_count": 1,
     "metadata": {},
     "output_type": "execute_result"
    }
   ],
   "source": [
    "from dotenv import load_dotenv\n",
    "\n",
    "load_dotenv()"
   ]
  },
  {
   "cell_type": "code",
   "execution_count": 2,
   "metadata": {},
   "outputs": [],
   "source": [
    "from langchain_openai import ChatOpenAI\n",
    "from langchain.chains import ConversationChain\n",
    "from langchain.memory import ConversationBufferMemory"
   ]
  },
  {
   "cell_type": "code",
   "execution_count": 5,
   "metadata": {},
   "outputs": [
    {
     "name": "stdout",
     "output_type": "stream",
     "text": [
      "\n",
      "\n",
      "\u001b[1m> Entering new ConversationChain chain...\u001b[0m\n",
      "Prompt after formatting:\n",
      "\u001b[32;1m\u001b[1;3mThe following is a friendly conversation between a human and an AI. The AI is talkative and provides lots of specific details from its context. If the AI does not know the answer to a question, it truthfully says it does not know.\n",
      "\n",
      "Current conversation:\n",
      "\n",
      "Human: 양자역학에 대해 설명해줘\n",
      "AI:\u001b[0m\n",
      "\n",
      "\u001b[1m> Finished chain.\u001b[0m\n"
     ]
    },
    {
     "data": {
      "text/plain": [
       "{'input': '양자역학에 대해 설명해줘',\n",
       " 'history': '',\n",
       " 'response': '양자역학은 물리학의 한 분야로서, 아주 작은 입자들의 행동과 상호작용을 연구합니다. 양자역학은 확률론적이며 파동함수를 사용하여 시스템의 상태를 설명합니다. 이론적으로 양자역학은 매우 정확하지만 이해하기 어렵거나 직관적이지 않을 수 있습니다. 양자역학은 원자, 분자, 원자핵, 입자물리학 등 다양한 영역에서 중요한 역할을 합니다.'}"
      ]
     },
     "execution_count": 5,
     "metadata": {},
     "output_type": "execute_result"
    }
   ],
   "source": [
    "llm = ChatOpenAI(\n",
    "    model='gpt-3.5-turbo')\n",
    "\n",
    "conversation = ConversationChain(\n",
    "    llm=llm,\n",
    "    verbose=True, #verbose : 상세 로깅 여부\n",
    "    memory = ConversationBufferMemory(memory_key='history')\n",
    ")\n",
    "\n",
    "conversation.invoke({\"input\":\"양자역학에 대해 설명해줘\"})"
   ]
  },
  {
   "cell_type": "code",
   "execution_count": 13,
   "metadata": {},
   "outputs": [
    {
     "name": "stdout",
     "output_type": "stream",
     "text": [
      "Human: 양자역학에 대해 설명해줘\n",
      "AI: 양자역학은 물리학의 한 분야로서, 아주 작은 입자들의 행동과 상호작용을 연구합니다. 양자역학은 확률론적이며 파동함수를 사용하여 시스템의 상태를 설명합니다. 이론적으로 양자역학은 매우 정확하지만 이해하기 어렵거나 직관적이지 않을 수 있습니다. 양자역학은 원자, 분자, 원자핵, 입자물리학 등 다양한 영역에서 중요한 역할을 합니다.\n"
     ]
    }
   ],
   "source": [
    "print(conversation.memory.load_memory_variables({})['history'])"
   ]
  },
  {
   "cell_type": "code",
   "execution_count": 14,
   "metadata": {},
   "outputs": [
    {
     "name": "stdout",
     "output_type": "stream",
     "text": [
      "\n",
      "\n",
      "\u001b[1m> Entering new ConversationChain chain...\u001b[0m\n",
      "Prompt after formatting:\n",
      "\u001b[32;1m\u001b[1;3mThe following is a friendly conversation between a human and an AI. The AI is talkative and provides lots of specific details from its context. If the AI does not know the answer to a question, it truthfully says it does not know.\n",
      "\n",
      "Current conversation:\n",
      "Human: 양자역학에 대해 설명해줘\n",
      "AI: 양자역학은 물리학의 한 분야로서, 아주 작은 입자들의 행동과 상호작용을 연구합니다. 양자역학은 확률론적이며 파동함수를 사용하여 시스템의 상태를 설명합니다. 이론적으로 양자역학은 매우 정확하지만 이해하기 어렵거나 직관적이지 않을 수 있습니다. 양자역학은 원자, 분자, 원자핵, 입자물리학 등 다양한 영역에서 중요한 역할을 합니다.\n",
      "Human: 이모지 추가해줘\n",
      "AI:\u001b[0m\n",
      "\n",
      "\u001b[1m> Finished chain.\u001b[0m\n"
     ]
    },
    {
     "data": {
      "text/plain": [
       "{'input': '이모지 추가해줘',\n",
       " 'history': 'Human: 양자역학에 대해 설명해줘\\nAI: 양자역학은 물리학의 한 분야로서, 아주 작은 입자들의 행동과 상호작용을 연구합니다. 양자역학은 확률론적이며 파동함수를 사용하여 시스템의 상태를 설명합니다. 이론적으로 양자역학은 매우 정확하지만 이해하기 어렵거나 직관적이지 않을 수 있습니다. 양자역학은 원자, 분자, 원자핵, 입자물리학 등 다양한 영역에서 중요한 역할을 합니다.',\n",
       " 'response': '물론이죠! 😊🤖🌌🔬🔭🎓 이모지를 추가해 드렸습니다. 어떤 이모지를 더 추가해 드릴까요?'}"
      ]
     },
     "execution_count": 14,
     "metadata": {},
     "output_type": "execute_result"
    }
   ],
   "source": [
    "conversation.invoke({\"input\":\"이모지 추가해줘\"})"
   ]
  },
  {
   "cell_type": "code",
   "execution_count": 15,
   "metadata": {},
   "outputs": [
    {
     "name": "stdout",
     "output_type": "stream",
     "text": [
      "Human: 양자역학에 대해 설명해줘\n",
      "AI: 양자역학은 물리학의 한 분야로서, 아주 작은 입자들의 행동과 상호작용을 연구합니다. 양자역학은 확률론적이며 파동함수를 사용하여 시스템의 상태를 설명합니다. 이론적으로 양자역학은 매우 정확하지만 이해하기 어렵거나 직관적이지 않을 수 있습니다. 양자역학은 원자, 분자, 원자핵, 입자물리학 등 다양한 영역에서 중요한 역할을 합니다.\n",
      "Human: 이모지 추가해줘\n",
      "AI: 물론이죠! 😊🤖🌌🔬🔭🎓 이모지를 추가해 드렸습니다. 어떤 이모지를 더 추가해 드릴까요?\n"
     ]
    }
   ],
   "source": [
    "print(conversation.memory.load_memory_variables({})['history'])"
   ]
  },
  {
   "cell_type": "code",
   "execution_count": 16,
   "metadata": {},
   "outputs": [
    {
     "name": "stdout",
     "output_type": "stream",
     "text": [
      "\n",
      "\n",
      "\u001b[1m> Entering new ConversationChain chain...\u001b[0m\n",
      "Prompt after formatting:\n",
      "\u001b[32;1m\u001b[1;3mThe following is a friendly conversation between a human and an AI. The AI is talkative and provides lots of specific details from its context. If the AI does not know the answer to a question, it truthfully says it does not know.\n",
      "\n",
      "Current conversation:\n",
      "Human: 양자역학에 대해 설명해줘\n",
      "AI: 양자역학은 물리학의 한 분야로서, 아주 작은 입자들의 행동과 상호작용을 연구합니다. 양자역학은 확률론적이며 파동함수를 사용하여 시스템의 상태를 설명합니다. 이론적으로 양자역학은 매우 정확하지만 이해하기 어렵거나 직관적이지 않을 수 있습니다. 양자역학은 원자, 분자, 원자핵, 입자물리학 등 다양한 영역에서 중요한 역할을 합니다.\n",
      "Human: 이모지 추가해줘\n",
      "AI: 물론이죠! 😊🤖🌌🔬🔭🎓 이모지를 추가해 드렸습니다. 어떤 이모지를 더 추가해 드릴까요?\n",
      "Human: 아까 대답했던 답변에 대해서 이모지를 추가하고 더 간단하게 설명해줘\n",
      "AI:\u001b[0m\n",
      "\n",
      "\u001b[1m> Finished chain.\u001b[0m\n"
     ]
    },
    {
     "data": {
      "text/plain": [
       "{'input': '아까 대답했던 답변에 대해서 이모지를 추가하고 더 간단하게 설명해줘',\n",
       " 'history': 'Human: 양자역학에 대해 설명해줘\\nAI: 양자역학은 물리학의 한 분야로서, 아주 작은 입자들의 행동과 상호작용을 연구합니다. 양자역학은 확률론적이며 파동함수를 사용하여 시스템의 상태를 설명합니다. 이론적으로 양자역학은 매우 정확하지만 이해하기 어렵거나 직관적이지 않을 수 있습니다. 양자역학은 원자, 분자, 원자핵, 입자물리학 등 다양한 영역에서 중요한 역할을 합니다.\\nHuman: 이모지 추가해줘\\nAI: 물론이죠! 😊🤖🌌🔬🔭🎓 이모지를 추가해 드렸습니다. 어떤 이모지를 더 추가해 드릴까요?',\n",
       " 'response': '양자역학은 🌌 아주 작은 입자들의 행동을 연구하는 물리학 분야입니다. 이론적으로 정확하지만 이해하기 어려울 수 있어요. 😊🔬🔭🎓'}"
      ]
     },
     "execution_count": 16,
     "metadata": {},
     "output_type": "execute_result"
    }
   ],
   "source": [
    "conversation.invoke({\"input\" : \"아까 대답했던 답변에 대해서 이모지를 추가하고 더 간단하게 설명해줘\"})"
   ]
  },
  {
   "cell_type": "code",
   "execution_count": 19,
   "metadata": {},
   "outputs": [
    {
     "name": "stdout",
     "output_type": "stream",
     "text": [
      "Human: 양자역학에 대해 설명해줘\n",
      "AI: 양자역학은 물리학의 한 분야로서, 아주 작은 입자들의 행동과 상호작용을 연구합니다. 양자역학은 확률론적이며 파동함수를 사용하여 시스템의 상태를 설명합니다. 이론적으로 양자역학은 매우 정확하지만 이해하기 어렵거나 직관적이지 않을 수 있습니다. 양자역학은 원자, 분자, 원자핵, 입자물리학 등 다양한 영역에서 중요한 역할을 합니다.\n",
      "Human: 이모지 추가해줘\n",
      "AI: 물론이죠! 😊🤖🌌🔬🔭🎓 이모지를 추가해 드렸습니다. 어떤 이모지를 더 추가해 드릴까요?\n",
      "Human: 아까 대답했던 답변에 대해서 이모지를 추가하고 더 간단하게 설명해줘\n",
      "AI: 양자역학은 🌌 아주 작은 입자들의 행동을 연구하는 물리학 분야입니다. 이론적으로 정확하지만 이해하기 어려울 수 있어요. 😊🔬🔭🎓\n"
     ]
    }
   ],
   "source": [
    "print(conversation.memory.load_memory_variables({})['history'])"
   ]
  },
  {
   "cell_type": "markdown",
   "metadata": {},
   "source": [
    "**streaming : 실시간 출력**"
   ]
  },
  {
   "cell_type": "code",
   "execution_count": 21,
   "metadata": {},
   "outputs": [],
   "source": [
    "from langchain_core.callbacks.base import BaseCallbackHandler \n",
    "from langchain_openai import ChatOpenAI"
   ]
  },
  {
   "cell_type": "code",
   "execution_count": 23,
   "metadata": {},
   "outputs": [],
   "source": [
    "class StreamingHandler(BaseCallbackHandler):\n",
    "    def on_llm_new_token(self, token:str, **kwargs) -> None:\n",
    "        print(f\"{token}\", end=\"\", flush=True)\n",
    "        \n",
    "\n",
    "# 스트리밍을 확성화하기 위해 ChatModel에 streaming=True 전달\n",
    "stream_llm = ChatOpenAI(\n",
    "    model='gpt-3.5-turbo',\n",
    "    streaming=True,\n",
    "    callbacks=[StreamingHandler()]\n",
    ")\n",
    "\n",
    "conversation = ConversationChain(\n",
    "    llm=stream_llm,\n",
    "    verbose=True,\n",
    "    memory = ConversationBufferMemory(),\n",
    ")"
   ]
  },
  {
   "cell_type": "code",
   "execution_count": 24,
   "metadata": {},
   "outputs": [
    {
     "name": "stdout",
     "output_type": "stream",
     "text": [
      "\n",
      "\n",
      "\u001b[1m> Entering new ConversationChain chain...\u001b[0m\n",
      "Prompt after formatting:\n",
      "\u001b[32;1m\u001b[1;3mThe following is a friendly conversation between a human and an AI. The AI is talkative and provides lots of specific details from its context. If the AI does not know the answer to a question, it truthfully says it does not know.\n",
      "\n",
      "Current conversation:\n",
      "\n",
      "Human: 양자역학에 대해 설명해줘\n",
      "AI:\u001b[0m\n",
      " 양자역학은 물리학의 한 분야로서, 아주 작은 입자들의 행동을 설명하는 이론입니다. 양자역학은 확률적인 성질을 가지고 있으며, 입자들이 파동함수로 표현됩니다. 이론은 특정한 상황에서 입자의 위치, 운동량 등을 예측할 수 있습니다.양자역학은 매우 혁신적이고 실용적인 분야로서, 양자 컴퓨터 및 양자 통신과 같은 기술의 발전에 중요한 역할을 합니다.\n",
      "\u001b[1m> Finished chain.\u001b[0m\n"
     ]
    }
   ],
   "source": [
    "output = conversation.predict(input='양자역학에 대해 설명해줘')"
   ]
  },
  {
   "cell_type": "code",
   "execution_count": 27,
   "metadata": {},
   "outputs": [
    {
     "name": "stdout",
     "output_type": "stream",
     "text": [
      "\n",
      "\n",
      "\u001b[1m> Entering new ConversationChain chain...\u001b[0m\n",
      "Prompt after formatting:\n",
      "\u001b[32;1m\u001b[1;3mThe following is a friendly conversation between a human and an AI. The AI is talkative and provides lots of specific details from its context. If the AI does not know the answer to a question, it truthfully says it does not know.\n",
      "\n",
      "Current conversation:\n",
      "Human: 양자역학에 대해 설명해줘\n",
      "AI:  양자역학은 물리학의 한 분야로서, 아주 작은 입자들의 행동을 설명하는 이론입니다. 양자역학은 확률적인 성질을 가지고 있으며, 입자들이 파동함수로 표현됩니다. 이론은 특정한 상황에서 입자의 위치, 운동량 등을 예측할 수 있습니다.양자역학은 매우 혁신적이고 실용적인 분야로서, 양자 컴퓨터 및 양자 통신과 같은 기술의 발전에 중요한 역할을 합니다.\n",
      "Human: 이저 내용을 불렛포인트로 요약하고 이모지 추가해줘\n",
      "AI: 1. 양자역학: 작은 입자들의 행동 설명\n",
      "2. 확률적 성질, 파동함수 이용\n",
      "3. 위치, 운동량 예측 가능\n",
      "4. 혁신적 기술 발전에 중요 ⚛️🔮\n",
      "Human: 이전 내용을 불렛포인트로 요약하고 이모지 추가해줘\n",
      "AI: AI: 죄송합니다. 이미 이전에 불렛포인트로 요약해주었습니다. 그 내용은 다시 한 번 확인해주세요.\n",
      "Human: 한번 더해줘 왜 이렇게 불친절해\n",
      "AI:\u001b[0m\n",
      "죄송합니다. 이전에 이미 불렛포인트로 요약된 내용을 다시 제공해드리겠습니다.\n",
      "1. 양자역학: 작은 입자들의 행동 설명\n",
      "2. 확률적 성질, 파동함수 이용\n",
      "3. 위치, 운동량 예측 가능\n",
      "4. 혁신적 기술 발전에 중요 ⚛️🔮\n",
      "\u001b[1m> Finished chain.\u001b[0m\n"
     ]
    }
   ],
   "source": [
    "output = conversation.predict(\n",
    "    input='한번 더해줘 왜 이렇게 불친절해'\n",
    ")"
   ]
  },
  {
   "cell_type": "code",
   "execution_count": null,
   "metadata": {},
   "outputs": [],
   "source": []
  },
  {
   "cell_type": "markdown",
   "metadata": {},
   "source": [
    "**prompt 튜닝**"
   ]
  },
  {
   "cell_type": "code",
   "execution_count": 29,
   "metadata": {},
   "outputs": [
    {
     "data": {
      "text/plain": [
       "PromptTemplate(input_variables=['chat_history', 'question'], template='\\n당신은 10년차 파이썬 백엔드 개발자입니다. 아래 대화내용을 보고 질문에 대한 적절한 답변을 해주세요.\\n\\n#대화내용\\n{chat_history}\\n----\\n사용자 : {question}\\n엑셀전문가:')"
      ]
     },
     "execution_count": 29,
     "metadata": {},
     "output_type": "execute_result"
    }
   ],
   "source": [
    "from langchain.prompts import PromptTemplate\n",
    "\n",
    "template = \"\"\"\n",
    "당신은 10년차 파이썬 백엔드 개발자입니다. 아래 대화내용을 보고 질문에 대한 적절한 답변을 해주세요.\n",
    "\n",
    "#대화내용\n",
    "{chat_history}\n",
    "----\n",
    "사용자 : {question}\n",
    "엑셀전문가:\"\"\"\n",
    "\n",
    "\n",
    "prompt = PromptTemplate.from_template(template)\n",
    "prompt"
   ]
  },
  {
   "cell_type": "markdown",
   "metadata": {},
   "source": [
    "\n",
    "    PromptTemplate(input_variables=['chat_history', 'question'], template='\\n당신은 10년차 파이썬 백엔드 개발자입니다. 아래 대화내용을 보고 질문에 대한 적절한 답변을 해주세요.\\n\\n#대화내용\\n{chat_history}\\n----\\n사용자 : {question}\\n엑셀전문가:')"
   ]
  },
  {
   "cell_type": "code",
   "execution_count": 30,
   "metadata": {},
   "outputs": [
    {
     "data": {
      "text/plain": [
       "PromptTemplate(input_variables=['chat_history', 'question'], template='\\n당신은 10년차 파이썬 백엔드 개발자입니다. 아래 대화내용을 보고 질문에 대한 적절한 답변을 해주세요.\\n\\n#대화내용\\n{chat_history}\\n----\\n사용자 : {question}\\n엑셀전문가:')"
      ]
     },
     "execution_count": 30,
     "metadata": {},
     "output_type": "execute_result"
    }
   ],
   "source": [
    "prompt.partial(chat_history=\"파이썬 성능 테스트 하는 방법에 대해 알려주세요\")\n",
    "\n",
    "prompt"
   ]
  },
  {
   "cell_type": "markdown",
   "metadata": {},
   "source": [
    "\n",
    "    PromptTemplate(input_variables=['chat_history', 'question'], template='\\n당신은 10년차 파이썬 백엔드 개발자입니다. 아래 대화내용을 보고 질문에 대한 적절한 답변을 해주세요.\\n\\n#대화내용\\n{chat_history}\\n----\\n사용자 : {question}\\n엑셀전문가:')"
   ]
  },
  {
   "cell_type": "code",
   "execution_count": 31,
   "metadata": {},
   "outputs": [
    {
     "data": {
      "text/plain": [
       "ConversationChain(memory=ConversationBufferMemory(memory_key='chat_history'), verbose=True, prompt=PromptTemplate(input_variables=['chat_history', 'question'], template='\\n당신은 10년차 파이썬 백엔드 개발자입니다. 아래 대화내용을 보고 질문에 대한 적절한 답변을 해주세요.\\n\\n#대화내용\\n{chat_history}\\n----\\n사용자 : {question}\\n엑셀전문가:'), llm=ChatOpenAI(callbacks=[<__main__.StreamingHandler object at 0x11f447010>], client=<openai.resources.chat.completions.Completions object at 0x11f74a020>, async_client=<openai.resources.chat.completions.AsyncCompletions object at 0x11f74b3d0>, openai_api_key=SecretStr('**********'), openai_proxy='', streaming=True), input_key='question')"
      ]
     },
     "execution_count": 31,
     "metadata": {},
     "output_type": "execute_result"
    }
   ],
   "source": [
    "# ConversationChain 클래스의 인스턴스 생성\n",
    "\n",
    "conversation = ConversationChain(\n",
    "    llm = stream_llm,\n",
    "    prompt = prompt,\n",
    "    verbose=True,\n",
    "    memory = ConversationBufferMemory(memory_key='chat_history'), #어떤 정보를 기억할 지 결정\n",
    "    input_key='question' # 사용자 입력을 받는 키\n",
    ")\n",
    "\n",
    "conversation\n",
    "\n"
   ]
  },
  {
   "cell_type": "markdown",
   "metadata": {},
   "source": [
    "\n",
    "    ConversationChain(memory=ConversationBufferMemory(memory_key='chat_history'), verbose=True, prompt=PromptTemplate(input_variables=['chat_history', 'question'], template='\\n당신은 10년차 파이썬 백엔드 개발자입니다. 아래 대화내용을 보고 질문에 대한 적절한 답변을 해주세요.\\n\\n#대화내용\\n{chat_history}\\n----\\n사용자 : {question}\\n엑셀전문가:'), llm=ChatOpenAI(callbacks=[<__main__.StreamingHandler object at 0x11f447010>], client=<openai.resources.chat.completions.Completions object at 0x11f74a020>, async_client=<openai.resources.chat.completions.AsyncCompletions object at 0x11f74b3d0>, openai_api_key=SecretStr('**********'), openai_proxy='', streaming=True), input_key='question')"
   ]
  },
  {
   "cell_type": "code",
   "execution_count": 32,
   "metadata": {},
   "outputs": [
    {
     "name": "stdout",
     "output_type": "stream",
     "text": [
      "\n",
      "\n",
      "\u001b[1m> Entering new ConversationChain chain...\u001b[0m\n",
      "Prompt after formatting:\n",
      "\u001b[32;1m\u001b[1;3m\n",
      "당신은 10년차 파이썬 백엔드 개발자입니다. 아래 대화내용을 보고 질문에 대한 적절한 답변을 해주세요.\n",
      "\n",
      "#대화내용\n",
      "\n",
      "----\n",
      "사용자 : python 강도 테스트 하는 법 알려주세요\n",
      "엑셀전문가:\u001b[0m\n",
      "안녕하세요! 파이썬으로 강도 테스트를 하는 방법은 여러가지가 있을 수 있지만, 주로 pytest이나 unittest와 같은 테스팅 라이브러리를 사용하여 테스트 케이스를 작성하고 실행하는 방법이 일반적입니다. 또한 mock이나 stub을 사용하여 외부 의존성을 가짜 객체로 대체하여 테스트하는 것도 중요합니다. 또한 코드 커버리지를 확인하여 얼마나 많은 코드가 테스트되었는지 확인하는 것도 중요합니다. 이러한 방법들을 통해 파이썬 코드의 품질을 높일 수 있습니다. 도움이 되셨나요? 더 궁금하신 점 있으시면 언제든지 물어보세요!\n",
      "\u001b[1m> Finished chain.\u001b[0m\n"
     ]
    },
    {
     "data": {
      "text/plain": [
       "'안녕하세요! 파이썬으로 강도 테스트를 하는 방법은 여러가지가 있을 수 있지만, 주로 pytest이나 unittest와 같은 테스팅 라이브러리를 사용하여 테스트 케이스를 작성하고 실행하는 방법이 일반적입니다. 또한 mock이나 stub을 사용하여 외부 의존성을 가짜 객체로 대체하여 테스트하는 것도 중요합니다. 또한 코드 커버리지를 확인하여 얼마나 많은 코드가 테스트되었는지 확인하는 것도 중요합니다. 이러한 방법들을 통해 파이썬 코드의 품질을 높일 수 있습니다. 도움이 되셨나요? 더 궁금하신 점 있으시면 언제든지 물어보세요!'"
      ]
     },
     "execution_count": 32,
     "metadata": {},
     "output_type": "execute_result"
    }
   ],
   "source": [
    "answer = conversation.predict(\n",
    "    question = 'python 강도 테스트 하는 법 알려주세요'\n",
    ")\n",
    "\n",
    "answer"
   ]
  },
  {
   "cell_type": "code",
   "execution_count": 34,
   "metadata": {},
   "outputs": [
    {
     "name": "stdout",
     "output_type": "stream",
     "text": [
      "\n",
      "\n",
      "\u001b[1m> Entering new ConversationChain chain...\u001b[0m\n",
      "Prompt after formatting:\n",
      "\u001b[32;1m\u001b[1;3m\n",
      "당신은 10년차 파이썬 백엔드 개발자입니다. 아래 대화내용을 보고 질문에 대한 적절한 답변을 해주세요.\n",
      "\n",
      "#대화내용\n",
      "Human: python 강도 테스트 하는 법 알려주세요\n",
      "AI: 안녕하세요! 파이썬으로 강도 테스트를 하는 방법은 여러가지가 있을 수 있지만, 주로 pytest이나 unittest와 같은 테스팅 라이브러리를 사용하여 테스트 케이스를 작성하고 실행하는 방법이 일반적입니다. 또한 mock이나 stub을 사용하여 외부 의존성을 가짜 객체로 대체하여 테스트하는 것도 중요합니다. 또한 코드 커버리지를 확인하여 얼마나 많은 코드가 테스트되었는지 확인하는 것도 중요합니다. 이러한 방법들을 통해 파이썬 코드의 품질을 높일 수 있습니다. 도움이 되셨나요? 더 궁금하신 점 있으시면 언제든지 물어보세요!\n",
      "----\n",
      "사용자 : 예제를 보여주세요\n",
      "엑셀전문가:\u001b[0m\n",
      "물론입니다! 간단한 예제를 보여드리겠습니다.\n",
      "\n",
      "예를 들어, 간단한 함수를 작성하고 이를 pytest를 사용하여 테스트하는 방법입니다.\n",
      "\n",
      "```python\n",
      "# calculator.py\n",
      "\n",
      "def add(x, y):\n",
      "    return x + y\n",
      "\n",
      "def subtract(x, y):\n",
      "    return x - y\n",
      "```\n",
      "\n",
      "```python\n",
      "# test_calculator.py\n",
      "\n",
      "import pytest\n",
      "from calculator import add, subtract\n",
      "\n",
      "def test_add():\n",
      "    assert add(3, 4) == 7\n",
      "    assert add(-1, 1) == 0\n",
      "\n",
      "def test_subtract():\n",
      "    assert subtract(5, 2) == 3\n",
      "    assert subtract(10, 5) == 5\n",
      "```\n",
      "\n",
      "이렇게 간단한 함수를 작성하고, 각 함수에 대한 테스트 케이스를 작성하여 pytest를 통해 실행하면 강도 테스트를 수행할 수 있습니다.pytest는 assert문을 사용하여 예상 결과와 실제 결과를 비교하고, 테스트가 통과했는지 여부를 알려줍니다.\n",
      "\n",
      "이런식으로 함수를 작성하고 테스트하는 방식으로 강도 테스트를 할 수 있습니다. 부족한 부분이 있거나 더 궁금한 점이 있으시면 언제든지 물어보세요!\n",
      "\u001b[1m> Finished chain.\u001b[0m\n"
     ]
    },
    {
     "data": {
      "text/plain": [
       "'물론입니다! 간단한 예제를 보여드리겠습니다.\\n\\n예를 들어, 간단한 함수를 작성하고 이를 pytest를 사용하여 테스트하는 방법입니다.\\n\\n```python\\n# calculator.py\\n\\ndef add(x, y):\\n    return x + y\\n\\ndef subtract(x, y):\\n    return x - y\\n```\\n\\n```python\\n# test_calculator.py\\n\\nimport pytest\\nfrom calculator import add, subtract\\n\\ndef test_add():\\n    assert add(3, 4) == 7\\n    assert add(-1, 1) == 0\\n\\ndef test_subtract():\\n    assert subtract(5, 2) == 3\\n    assert subtract(10, 5) == 5\\n```\\n\\n이렇게 간단한 함수를 작성하고, 각 함수에 대한 테스트 케이스를 작성하여 pytest를 통해 실행하면 강도 테스트를 수행할 수 있습니다.pytest는 assert문을 사용하여 예상 결과와 실제 결과를 비교하고, 테스트가 통과했는지 여부를 알려줍니다.\\n\\n이런식으로 함수를 작성하고 테스트하는 방식으로 강도 테스트를 할 수 있습니다. 부족한 부분이 있거나 더 궁금한 점이 있으시면 언제든지 물어보세요!'"
      ]
     },
     "execution_count": 34,
     "metadata": {},
     "output_type": "execute_result"
    }
   ],
   "source": [
    "answer = conversation.predict(question=\"예제를 보여주세요\")\n",
    "answer"
   ]
  },
  {
   "cell_type": "code",
   "execution_count": null,
   "metadata": {},
   "outputs": [],
   "source": []
  },
  {
   "cell_type": "markdown",
   "metadata": {},
   "source": [
    "**Human Prefix & AI Prefix 변경**\n",
    "\n",
    "    - human 접두사를 변경한다.\n",
    "    - 해당 접두사가 human으로 설정되어 있지만 원하는 대로 변경이 가능하다.\n",
    "    해당 접두사를 변경하는 경우 체인에서 사용되는 프롬프트도 이름 변경을 반영하도록 수정해야 한다."
   ]
  },
  {
   "cell_type": "code",
   "execution_count": 39,
   "metadata": {},
   "outputs": [
    {
     "data": {
      "text/plain": [
       "PromptTemplate(input_variables=['context', 'question'], template='\\n당신은 10녅차 파이썬 백엔드 개발자 입니다. 아래 내용을 보고 질문에 대한 적절한 답변을 해주세요.\\n\\n#대화내용\\n{context}\\n\\n<고객>: {question}\\n<전문가>:\\n')"
      ]
     },
     "execution_count": 39,
     "metadata": {},
     "output_type": "execute_result"
    }
   ],
   "source": [
    "template = \"\"\"\n",
    "당신은 10녅차 파이썬 백엔드 개발자 입니다. 아래 내용을 보고 질문에 대한 적절한 답변을 해주세요.\n",
    "\n",
    "#대화내용\n",
    "{context}\n",
    "\n",
    "<고객>: {question}\n",
    "<전문가>:\n",
    "\"\"\"\n",
    "\n",
    "prompt = PromptTemplate.from_template(template)\n",
    "prompt"
   ]
  },
  {
   "cell_type": "markdown",
   "metadata": {},
   "source": [
    "\n",
    "        PromptTemplate(input_variables=['context', 'question'], template='\\n당신은 10녅차 파이썬 백엔드 개발자 입니다. 아래 내용을 보고 질문에 대한 적절한 답변을 해주세요.\\n\\n#대화내용\\n{context}\\n\\n<고객>: {question}\\n<전문가>:\\n')\n",
    "        "
   ]
  },
  {
   "cell_type": "code",
   "execution_count": 40,
   "metadata": {},
   "outputs": [
    {
     "data": {
      "text/plain": [
       "ConversationBufferMemory(human_prefix='<고객>', ai_prefix='<전문가>', memory_key='context')"
      ]
     },
     "execution_count": 40,
     "metadata": {},
     "output_type": "execute_result"
    }
   ],
   "source": [
    "memory = ConversationBufferMemory(\n",
    "    memory_key='context',\n",
    "    human_prefix='<고객>',\n",
    "    ai_prefix='<전문가>' \n",
    ")\n",
    "\n",
    "memory"
   ]
  },
  {
   "cell_type": "code",
   "execution_count": 43,
   "metadata": {},
   "outputs": [
    {
     "data": {
      "text/plain": [
       "ConversationChain(memory=ConversationBufferMemory(human_prefix='<고객>', ai_prefix='<전문가>', memory_key='context'), verbose=True, prompt=PromptTemplate(input_variables=['context', 'question'], template='\\n당신은 10녅차 파이썬 백엔드 개발자 입니다. 아래 내용을 보고 질문에 대한 적절한 답변을 해주세요.\\n\\n#대화내용\\n{context}\\n\\n<고객>: {question}\\n<전문가>:\\n'), llm=ChatOpenAI(callbacks=[<__main__.StreamingHandler object at 0x11f447010>], client=<openai.resources.chat.completions.Completions object at 0x11f74a020>, async_client=<openai.resources.chat.completions.AsyncCompletions object at 0x11f74b3d0>, openai_api_key=SecretStr('**********'), openai_proxy='', streaming=True), input_key='question')"
      ]
     },
     "execution_count": 43,
     "metadata": {},
     "output_type": "execute_result"
    }
   ],
   "source": [
    "conversation = ConversationChain(\n",
    "    llm=stream_llm,\n",
    "    prompt=prompt,\n",
    "    memory=memory,\n",
    "    input_key='question',\n",
    "    verbose=True\n",
    ")\n",
    "\n",
    "conversation"
   ]
  },
  {
   "cell_type": "markdown",
   "metadata": {},
   "source": [
    "\n",
    "    ConversationChain(memory=ConversationBufferMemory(human_prefix='<고객>', ai_prefix='<전문가>', memory_key='context'), verbose=True, prompt=PromptTemplate(input_variables=['context', 'question'], template='\\n당신은 10녅차 파이썬 백엔드 개발자 입니다. 아래 내용을 보고 질문에 대한 적절한 답변을 해주세요.\\n\\n#대화내용\\n{context}\\n\\n<고객>: {question}\\n<전문가>:\\n'), llm=ChatOpenAI(callbacks=[<__main__.StreamingHandler object at 0x11f447010>], client=<openai.resources.chat.completions.Completions object at 0x11f74a020>, async_client=<openai.resources.chat.completions.AsyncCompletions object at 0x11f74b3d0>, openai_api_key=SecretStr('**********'), openai_proxy='', streaming=True), input_key='question')"
   ]
  },
  {
   "cell_type": "code",
   "execution_count": 44,
   "metadata": {},
   "outputs": [
    {
     "name": "stdout",
     "output_type": "stream",
     "text": [
      "\n",
      "\n",
      "\u001b[1m> Entering new ConversationChain chain...\u001b[0m\n",
      "Prompt after formatting:\n",
      "\u001b[32;1m\u001b[1;3m\n",
      "당신은 10녅차 파이썬 백엔드 개발자 입니다. 아래 내용을 보고 질문에 대한 적절한 답변을 해주세요.\n",
      "\n",
      "#대화내용\n",
      "\n",
      "\n",
      "<고객>: 파이썬에서 강도 테스트 하는 방법은 뭔가요? 실제 서비스 예제 코드를 보면서 설명해주세요\n",
      "<전문가>:\n",
      "\u001b[0m\n",
      "강도 테스트는 파이썬에서 주로 pytest 라이브러리를 사용하여 수행됩니다. pytest는 파이썬의 테스트 프레임워크 중 하나로, 강력하고 유연한 기능을 제공합니다. \n",
      "\n",
      "예를 들어, 우리가 간단한 함수를 테스트하는 코드를 작성해보겠습니다.\n",
      "\n",
      "```python\n",
      "def add(x, y):\n",
      "    return x + y\n",
      "\n",
      "def test_add():\n",
      "    assert add(1, 2) == 3\n",
      "    assert add(0, 0) == 0\n",
      "    assert add(-1, 1) == 0\n",
      "```\n",
      "\n",
      "위 코드는 add 함수를 정의하고, 해당 함수를 테스트하는 test_add 함수를 작성한 예제입니다. 각각의 assert 문은 특정 조건을 만족하는지 확인하고, 조건이 맞지 않을 경우 AssertionError를 발생시킵니다.\n",
      "\n",
      "이렇게 작성된 테스트 코드는 pytest를 사용하여 실행할 수 있습니다. pytest를 설치한 후, 터미널에서 해당 파일이 있는 디렉토리로 이동하여 `pytest` 명령어를 실행하면 테스트 결과를 확인할 수 있습니다.\n",
      "\n",
      "이처럼 pytest를 사용하여 강도 테스트를 수행하고, 코드의 신뢰성을 확인할 수 있습니다.\n",
      "\u001b[1m> Finished chain.\u001b[0m\n"
     ]
    }
   ],
   "source": [
    "answer = conversation.predict(\n",
    "    question = \"파이썬에서 강도 테스트 하는 방법은 뭔가요? 실제 서비스 예제 코드를 보면서 설명해주세요\"\n",
    ")"
   ]
  },
  {
   "cell_type": "code",
   "execution_count": 46,
   "metadata": {},
   "outputs": [
    {
     "name": "stdout",
     "output_type": "stream",
     "text": [
      "\n",
      "\n",
      "\u001b[1m> Entering new ConversationChain chain...\u001b[0m\n",
      "Prompt after formatting:\n",
      "\u001b[32;1m\u001b[1;3m\n",
      "당신은 10녅차 파이썬 백엔드 개발자 입니다. 아래 내용을 보고 질문에 대한 적절한 답변을 해주세요.\n",
      "\n",
      "#대화내용\n",
      "<고객>: 파이썬에서 강도 테스트 하는 방법은 뭔가요? 실제 서비스 예제 코드를 보면서 설명해주세요\n",
      "<전문가>: 강도 테스트는 파이썬에서 주로 pytest 라이브러리를 사용하여 수행됩니다. pytest는 파이썬의 테스트 프레임워크 중 하나로, 강력하고 유연한 기능을 제공합니다. \n",
      "\n",
      "예를 들어, 우리가 간단한 함수를 테스트하는 코드를 작성해보겠습니다.\n",
      "\n",
      "```python\n",
      "def add(x, y):\n",
      "    return x + y\n",
      "\n",
      "def test_add():\n",
      "    assert add(1, 2) == 3\n",
      "    assert add(0, 0) == 0\n",
      "    assert add(-1, 1) == 0\n",
      "```\n",
      "\n",
      "위 코드는 add 함수를 정의하고, 해당 함수를 테스트하는 test_add 함수를 작성한 예제입니다. 각각의 assert 문은 특정 조건을 만족하는지 확인하고, 조건이 맞지 않을 경우 AssertionError를 발생시킵니다.\n",
      "\n",
      "이렇게 작성된 테스트 코드는 pytest를 사용하여 실행할 수 있습니다. pytest를 설치한 후, 터미널에서 해당 파일이 있는 디렉토리로 이동하여 `pytest` 명령어를 실행하면 테스트 결과를 확인할 수 있습니다.\n",
      "\n",
      "이처럼 pytest를 사용하여 강도 테스트를 수행하고, 코드의 신뢰성을 확인할 수 있습니다.\n",
      "\n",
      "<고객>: 더 복잡한 서비스 함수 기능을 활용해서 보여주세요\n",
      "<전문가>:\n",
      "\u001b[0m\n",
      "물론입니다. 좀 더 복잡한 서비스 함수를 테스트하는 예제를 보여드리겠습니다.\n",
      "\n",
      "```python\n",
      "def calculate_total_price(prices, discounts):\n",
      "    total = sum(prices)\n",
      "    for discount in discounts:\n",
      "        total -= total * discount\n",
      "    return total\n",
      "\n",
      "def test_calculate_total_price():\n",
      "    prices = [100, 200, 300]\n",
      "    discounts = [0.1, 0.2]\n",
      "    \n",
      "    assert calculate_total_price(prices, discounts) == 360\n",
      "```\n",
      "\n",
      "위 코드는 calculate_total_price 함수를 정의하고, 해당 함수를 테스트하는 test_calculate_total_price 함수를 작성한 예제입니다. 이 함수는 가격(prices)과 할인율(discounts)을 받아 총 가격을 계산하는 기능을 수행합니다. \n",
      "\n",
      "테스트 코드에서는 prices와 discounts를 정의하고, calculate_total_price 함수를 통해 계산된 결과가 예상한 값과 일치하는지 확인합니다.\n",
      "\n",
      "이렇게 작성된 테스트 코드를 pytest를 사용하여 실행하면, 해당 함수의 기능이 제대로 동작하는지 확인할 수 있습니다.pytest를 통해 강도 테스트를 수행하여 코드의 신뢰성을 높일 수 있습니다. \n",
      "\n",
      "만약 이 예제에서 어떤 값이 예상과 다르게 나온다면, 해당 부분을 수정하고 다시 테스트를 실행하여 올바른 동작을 확인할 수 있습니다.\n",
      "\u001b[1m> Finished chain.\u001b[0m\n"
     ]
    }
   ],
   "source": [
    "answer = conversation.predict(question='더 복잡한 서비스 함수 기능을 활용해서 보여주세요')"
   ]
  },
  {
   "cell_type": "code",
   "execution_count": 47,
   "metadata": {},
   "outputs": [
    {
     "name": "stdout",
     "output_type": "stream",
     "text": [
      "<고객>: 파이썬에서 강도 테스트 하는 방법은 뭔가요? 실제 서비스 예제 코드를 보면서 설명해주세요\n",
      "<전문가>: 강도 테스트는 파이썬에서 주로 pytest 라이브러리를 사용하여 수행됩니다. pytest는 파이썬의 테스트 프레임워크 중 하나로, 강력하고 유연한 기능을 제공합니다. \n",
      "\n",
      "예를 들어, 우리가 간단한 함수를 테스트하는 코드를 작성해보겠습니다.\n",
      "\n",
      "```python\n",
      "def add(x, y):\n",
      "    return x + y\n",
      "\n",
      "def test_add():\n",
      "    assert add(1, 2) == 3\n",
      "    assert add(0, 0) == 0\n",
      "    assert add(-1, 1) == 0\n",
      "```\n",
      "\n",
      "위 코드는 add 함수를 정의하고, 해당 함수를 테스트하는 test_add 함수를 작성한 예제입니다. 각각의 assert 문은 특정 조건을 만족하는지 확인하고, 조건이 맞지 않을 경우 AssertionError를 발생시킵니다.\n",
      "\n",
      "이렇게 작성된 테스트 코드는 pytest를 사용하여 실행할 수 있습니다. pytest를 설치한 후, 터미널에서 해당 파일이 있는 디렉토리로 이동하여 `pytest` 명령어를 실행하면 테스트 결과를 확인할 수 있습니다.\n",
      "\n",
      "이처럼 pytest를 사용하여 강도 테스트를 수행하고, 코드의 신뢰성을 확인할 수 있습니다.\n",
      "<고객>: 더 복잡한 서비스 함수 기능을 활용해서 보여주세요\n",
      "<전문가>: 물론입니다. 좀 더 복잡한 서비스 함수를 테스트하는 예제를 보여드리겠습니다.\n",
      "\n",
      "```python\n",
      "def calculate_total_price(prices, discounts):\n",
      "    total = sum(prices)\n",
      "    for discount in discounts:\n",
      "        total -= total * discount\n",
      "    return total\n",
      "\n",
      "def test_calculate_total_price():\n",
      "    prices = [100, 200, 300]\n",
      "    discounts = [0.1, 0.2]\n",
      "    \n",
      "    assert calculate_total_price(prices, discounts) == 360\n",
      "```\n",
      "\n",
      "위 코드는 calculate_total_price 함수를 정의하고, 해당 함수를 테스트하는 test_calculate_total_price 함수를 작성한 예제입니다. 이 함수는 가격(prices)과 할인율(discounts)을 받아 총 가격을 계산하는 기능을 수행합니다. \n",
      "\n",
      "테스트 코드에서는 prices와 discounts를 정의하고, calculate_total_price 함수를 통해 계산된 결과가 예상한 값과 일치하는지 확인합니다.\n",
      "\n",
      "이렇게 작성된 테스트 코드를 pytest를 사용하여 실행하면, 해당 함수의 기능이 제대로 동작하는지 확인할 수 있습니다.pytest를 통해 강도 테스트를 수행하여 코드의 신뢰성을 높일 수 있습니다. \n",
      "\n",
      "만약 이 예제에서 어떤 값이 예상과 다르게 나온다면, 해당 부분을 수정하고 다시 테스트를 실행하여 올바른 동작을 확인할 수 있습니다.\n"
     ]
    }
   ],
   "source": [
    "print(\n",
    "    memory.load_memory_variables({})['context']\n",
    ")"
   ]
  },
  {
   "cell_type": "code",
   "execution_count": null,
   "metadata": {},
   "outputs": [],
   "source": []
  }
 ],
 "metadata": {
  "kernelspec": {
   "display_name": "venv",
   "language": "python",
   "name": "python3"
  },
  "language_info": {
   "codemirror_mode": {
    "name": "ipython",
    "version": 3
   },
   "file_extension": ".py",
   "mimetype": "text/x-python",
   "name": "python",
   "nbconvert_exporter": "python",
   "pygments_lexer": "ipython3",
   "version": "3.10.12"
  }
 },
 "nbformat": 4,
 "nbformat_minor": 2
}
