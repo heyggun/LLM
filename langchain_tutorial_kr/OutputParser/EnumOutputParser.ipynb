{
 "cells": [
  {
   "cell_type": "markdown",
   "metadata": {},
   "source": [
    "**열거형 출력 파서(EnumOutputParser)**\n",
    "\n",
    "    - enume 모듈을 사용해 클래스를 구현하고, 해당 파서를 사용한다."
   ]
  },
  {
   "cell_type": "code",
   "execution_count": 1,
   "metadata": {},
   "outputs": [
    {
     "data": {
      "text/plain": [
       "True"
      ]
     },
     "execution_count": 1,
     "metadata": {},
     "output_type": "execute_result"
    }
   ],
   "source": [
    "from dotenv import load_dotenv\n",
    "\n",
    "load_dotenv()"
   ]
  },
  {
   "cell_type": "code",
   "execution_count": 2,
   "metadata": {},
   "outputs": [],
   "source": [
    "from langchain.output_parsers.enum import EnumOutputParser\n",
    "from langchain_core.prompts import PromptTemplate\n",
    "from langchain_openai import ChatOpenAI"
   ]
  },
  {
   "cell_type": "code",
   "execution_count": 3,
   "metadata": {},
   "outputs": [],
   "source": [
    "from enum import Enum\n",
    "\n",
    "class Colors(Enum):\n",
    "    RED = \"빨간색\"\n",
    "    GREEN = \"초록색\"\n",
    "    BLUE = \"파란색\""
   ]
  },
  {
   "cell_type": "code",
   "execution_count": 4,
   "metadata": {},
   "outputs": [
    {
     "data": {
      "text/plain": [
       "EnumOutputParser(enum=<enum 'Colors'>)"
      ]
     },
     "execution_count": 4,
     "metadata": {},
     "output_type": "execute_result"
    }
   ],
   "source": [
    "parser = EnumOutputParser(enum=Colors)\n",
    "parser"
   ]
  },
  {
   "cell_type": "code",
   "execution_count": 15,
   "metadata": {},
   "outputs": [],
   "source": [
    "model = ChatOpenAI(\n",
    "    temperature=0,\n",
    "    model= 'gpt-3.5-turbo',\n",
    ")"
   ]
  },
  {
   "cell_type": "code",
   "execution_count": 16,
   "metadata": {},
   "outputs": [
    {
     "data": {
      "text/plain": [
       "PromptTemplate(input_variables=['object'], partial_variables={'instructions': 'Select one of the following options: 빨간색, 초록색, 파란색'}, template='\\n    다음의 물체는 어떤 색깔인가요?\\nObject: {object}\\nInstructions : {instructions}\\n')"
      ]
     },
     "execution_count": 16,
     "metadata": {},
     "output_type": "execute_result"
    }
   ],
   "source": [
    "prompt = PromptTemplate.from_template(\n",
    "    template = \"\"\"\n",
    "    다음의 물체는 어떤 색깔인가요?\n",
    "Object: {object}\n",
    "Instructions : {instructions}\n",
    "\"\"\"    \n",
    ").partial(instructions=parser.get_format_instructions())\n",
    "\n",
    "prompt"
   ]
  },
  {
   "cell_type": "markdown",
   "metadata": {},
   "source": [
    "\n",
    "      PromptTemplate(input_variables=['object'], partial_variables={'instructions': 'Select one of the following options: 빨간색, 초록색, 파란색'}, template='\\n    다음의 물체는 어떤 색깔인가요?\\nObject: {object}\\nInstructions : {instructions}\\n')"
   ]
  },
  {
   "cell_type": "code",
   "execution_count": 17,
   "metadata": {},
   "outputs": [
    {
     "data": {
      "text/plain": [
       "PromptTemplate(input_variables=['object'], partial_variables={'instructions': 'Select one of the following options: 빨간색, 초록색, 파란색'}, template='\\n    다음의 물체는 어떤 색깔인가요?\\nObject: {object}\\nInstructions : {instructions}\\n')\n",
       "| ChatOpenAI(client=<openai.resources.chat.completions.Completions object at 0x136bd62c0>, async_client=<openai.resources.chat.completions.AsyncCompletions object at 0x136bd6f80>, temperature=0.0, openai_api_key=SecretStr('**********'), openai_proxy='')\n",
       "| EnumOutputParser(enum=<enum 'Colors'>)"
      ]
     },
     "execution_count": 17,
     "metadata": {},
     "output_type": "execute_result"
    }
   ],
   "source": [
    "chain = prompt | model | parser\n",
    "chain"
   ]
  },
  {
   "cell_type": "code",
   "execution_count": 21,
   "metadata": {},
   "outputs": [
    {
     "data": {
      "text/plain": [
       "<Colors.RED: '빨간색'>"
      ]
     },
     "execution_count": 21,
     "metadata": {},
     "output_type": "execute_result"
    }
   ],
   "source": [
    "chain.invoke({'object' : '토마토'})"
   ]
  },
  {
   "cell_type": "code",
   "execution_count": 11,
   "metadata": {},
   "outputs": [
    {
     "data": {
      "text/plain": [
       "PromptTemplate(input_variables=['object'], partial_variables={'instruction': 'Select one of the following options: 빨간색, 초록색, 파란색'}, template='다음의 물체의 색은?\\nObject:{object}\\nInstruction:{instruction}')"
      ]
     },
     "execution_count": 11,
     "metadata": {},
     "output_type": "execute_result"
    }
   ],
   "source": [
    "parser = EnumOutputParser(enum=Colors)\n",
    "prompt = PromptTemplate(\n",
    "    template = \"\"\"다음의 물체의 색은?\\nObject:{object}\\nInstruction:{instruction}\"\"\",\n",
    "    input_variables = ['object'],\n",
    "    partial_variables={'instruction':parser.get_format_instructions()}\n",
    ")\n",
    "\n",
    "prompt"
   ]
  },
  {
   "cell_type": "markdown",
   "metadata": {},
   "source": [
    "        PromptTemplate(input_variables=['object'], partial_variables={'instruction': 'Select one of the following options: 빨간색, 초록색, 파란색'}, template='다음의 물체의 색은?\\nObject:{object}\\nInstruction:{instruction}')"
   ]
  },
  {
   "cell_type": "code",
   "execution_count": 13,
   "metadata": {},
   "outputs": [
    {
     "data": {
      "text/plain": [
       "PromptTemplate(input_variables=['object'], partial_variables={'instruction': 'Select one of the following options: 빨간색, 초록색, 파란색'}, template='다음의 물체의 색은?\\nObject:{object}\\nInstruction:{instruction}')\n",
       "| ChatOpenAI(client=<openai.resources.chat.completions.Completions object at 0x136bbc280>, async_client=<openai.resources.chat.completions.AsyncCompletions object at 0x136bbd720>, temperature=0.0, openai_api_key=SecretStr('**********'), openai_proxy='')\n",
       "| EnumOutputParser(enum=<enum 'Colors'>)"
      ]
     },
     "execution_count": 13,
     "metadata": {},
     "output_type": "execute_result"
    }
   ],
   "source": [
    "chain = prompt | model | parser\n",
    "chain"
   ]
  },
  {
   "cell_type": "code",
   "execution_count": 22,
   "metadata": {},
   "outputs": [
    {
     "data": {
      "text/plain": [
       "<Colors.BLUE: '파란색'>"
      ]
     },
     "execution_count": 22,
     "metadata": {},
     "output_type": "execute_result"
    }
   ],
   "source": [
    "chain.invoke({'object' : '구름'})"
   ]
  },
  {
   "cell_type": "code",
   "execution_count": null,
   "metadata": {},
   "outputs": [],
   "source": []
  }
 ],
 "metadata": {
  "kernelspec": {
   "display_name": "venv",
   "language": "python",
   "name": "python3"
  },
  "language_info": {
   "codemirror_mode": {
    "name": "ipython",
    "version": 3
   },
   "file_extension": ".py",
   "mimetype": "text/x-python",
   "name": "python",
   "nbconvert_exporter": "python",
   "pygments_lexer": "ipython3",
   "version": "3.10.12"
  }
 },
 "nbformat": 4,
 "nbformat_minor": 2
}
