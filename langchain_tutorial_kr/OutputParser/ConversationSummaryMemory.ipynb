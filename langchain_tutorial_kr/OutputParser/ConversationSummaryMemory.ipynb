{
 "cells": [
  {
   "cell_type": "markdown",
   "metadata": {},
   "source": [
    "**대화 요약 메모리(ConversationSummaryMemory)**\n",
    "\n",
    "    - 시간 경과에 따른 대화의 요약 생성\n",
    "    - 대화 요약 메모리는 대화가 진행되는 동안 대화를 요야갛고 현재 요약을 메모리에 저장한다.\n",
    "    메모리를 사용해서 지금까지의 대화 요약을 프롬프트/체인에 삽입할 수 있다.\n",
    "    - 과거 메시지 기록을 프롬프트에 그대로 보관하면 토큰을 너무 많이 차지할 수 있는 긷 대화에 유용하다"
   ]
  },
  {
   "cell_type": "code",
   "execution_count": 1,
   "metadata": {},
   "outputs": [
    {
     "data": {
      "text/plain": [
       "True"
      ]
     },
     "execution_count": 1,
     "metadata": {},
     "output_type": "execute_result"
    }
   ],
   "source": [
    "from dotenv import load_dotenv\n",
    "\n",
    "load_dotenv()"
   ]
  },
  {
   "cell_type": "code",
   "execution_count": 2,
   "metadata": {},
   "outputs": [],
   "source": [
    "from langchain.memory import ConversationSummaryMemory\n",
    "from langchain.prompts import PromptTemplate\n",
    "from langchain_openai import ChatOpenAI"
   ]
  },
  {
   "cell_type": "code",
   "execution_count": 4,
   "metadata": {},
   "outputs": [
    {
     "data": {
      "text/plain": [
       "ConversationSummaryMemory(llm=ChatOpenAI(client=<openai.resources.chat.completions.Completions object at 0x1266a9fc0>, async_client=<openai.resources.chat.completions.AsyncCompletions object at 0x1266ab460>, temperature=0.0, openai_api_key=SecretStr('**********'), openai_proxy=''))"
      ]
     },
     "execution_count": 4,
     "metadata": {},
     "output_type": "execute_result"
    }
   ],
   "source": [
    "memory = ConversationSummaryMemory(\n",
    "    llm = ChatOpenAI(\n",
    "        temperature=0,\n",
    "        model = 'gpt-3.5-turbo',\n",
    "    ),\n",
    "    rerun_messages=True\n",
    ")\n",
    "\n",
    "memory"
   ]
  },
  {
   "cell_type": "markdown",
   "metadata": {},
   "source": [
    "\n",
    "    ConversationSummaryMemory(llm=ChatOpenAI(client=<openai.resources.chat.completions.Completions object at 0x1266a9fc0>, async_client=<openai.resources.chat.completions.AsyncCompletions object at 0x1266ab460>, temperature=0.0, openai_api_key=SecretStr('**********'), openai_proxy=''))"
   ]
  },
  {
   "cell_type": "code",
   "execution_count": 5,
   "metadata": {},
   "outputs": [],
   "source": [
    "memory.save_context(\n",
    "    inputs={\"human\": \"유럽 여행 패키지의 가격은 얼마인가요?\"},\n",
    "    outputs={\n",
    "        \"ai\": \"유럽 14박 15일 패키지의 기본 가격은 3,500유로입니다. 이 가격에는 항공료, 호텔 숙박비, 지정된 관광지 입장료가 포함되어 있습니다. 추가 비용은 선택하신 옵션 투어나 개인 경비에 따라 달라집니다.\"\n",
    "    },\n",
    ")\n",
    "memory.save_context(\n",
    "    inputs={\"human\": \"여행 중에 방문할 주요 관광지는 어디인가요?\"},\n",
    "    outputs={\n",
    "        \"ai\": \"이 여행에서는 파리의 에펠탑, 로마의 콜로세움, 베를린의 브란덴부르크 문, 취리히의 라이네폴 등 유럽의 유명한 관광지들을 방문합니다. 각 도시의 대표적인 명소들을 포괄적으로 경험하실 수 있습니다.\"\n",
    "    },\n",
    ")\n",
    "memory.save_context(\n",
    "    inputs={\"human\": \"여행자 보험은 포함되어 있나요?\"},\n",
    "    outputs={\n",
    "        \"ai\": \"네, 모든 여행자에게 기본 여행자 보험을 제공합니다. 이 보험은 의료비 지원, 긴급 상황 발생 시 지원 등을 포함합니다. 추가적인 보험 보장을 원하시면 상향 조정이 가능합니다.\"\n",
    "    },\n",
    ")\n",
    "memory.save_context(\n",
    "    inputs={\n",
    "        \"human\": \"항공편 좌석을 비즈니스 클래스로 업그레이드할 수 있나요? 비용은 어떻게 되나요?\"\n",
    "    },\n",
    "    outputs={\n",
    "        \"ai\": \"항공편 좌석을 비즈니스 클래스로 업그레이드하는 것이 가능합니다. 업그레이드 비용은 왕복 기준으로 약 1,200유로 추가됩니다. 비즈니스 클래스에서는 더 넓은 좌석, 우수한 기내식, 그리고 추가 수하물 허용량 등의 혜택을 제공합니다.\"\n",
    "    },\n",
    ")\n",
    "memory.save_context(\n",
    "    inputs={\"human\": \"패키지에 포함된 호텔의 등급은 어떻게 되나요?\"},\n",
    "    outputs={\n",
    "        \"ai\": \"이 패키지에는 4성급 호텔 숙박이 포함되어 있습니다. 각 호텔은 편안함과 편의성을 제공하며, 중심지에 위치해 관광지와의 접근성이 좋습니다. 모든 호텔은 우수한 서비스와 편의 시설을 갖추고 있습니다.\"\n",
    "    },\n",
    ")\n",
    "memory.save_context(\n",
    "    inputs={\"human\": \"식사 옵션에 대해 더 자세히 알려주실 수 있나요?\"},\n",
    "    outputs={\n",
    "        \"ai\": \"이 여행 패키지는 매일 아침 호텔에서 제공되는 조식을 포함하고 있습니다. 점심과 저녁 식사는 포함되어 있지 않아, 여행자가 자유롭게 현지의 다양한 음식을 경험할 수 있는 기회를 제공합니다. 또한, 각 도시별로 추천 식당 리스트를 제공하여 현지의 맛을 최대한 즐길 수 있도록 도와드립니다.\"\n",
    "    },\n",
    ")\n",
    "memory.save_context(\n",
    "    inputs={\"human\": \"패키지 예약 시 예약금은 얼마인가요? 취소 정책은 어떻게 되나요?\"},\n",
    "    outputs={\n",
    "        \"ai\": \"패키지 예약 시 500유로의 예약금이 필요합니다. 취소 정책은 예약일로부터 30일 전까지는 전액 환불이 가능하며, 이후 취소 시에는 예약금이 환불되지 않습니다. 여행 시작일로부터 14일 전 취소 시 50%의 비용이 청구되며, 그 이후는 전액 비용이 청구됩니다.\"\n",
    "    },\n",
    ")"
   ]
  },
  {
   "cell_type": "code",
   "execution_count": 6,
   "metadata": {},
   "outputs": [
    {
     "name": "stdout",
     "output_type": "stream",
     "text": [
      "The human asks about the price of a European travel package. The AI responds that the basic price for a 14-day, 15-night package is 3,500 euros, including airfare, hotel accommodation, and designated sightseeing entrance fees. Additional costs depend on optional tours or personal expenses. The human inquires about the major tourist attractions to visit during the trip. The AI lists famous landmarks such as the Eiffel Tower in Paris, the Colosseum in Rome, the Brandenburg Gate in Berlin, and the Rhine Falls in Zurich, offering a comprehensive experience of each city's iconic sights. The human asks if traveler's insurance is included. The AI confirms that basic traveler's insurance is provided for all travelers, covering medical assistance and emergency support. Additional coverage options are available upon request. The human asks if it's possible to upgrade the flight seats to business class and inquires about the cost. The AI responds that upgrading to business class is possible, with an additional cost of approximately 1,200 euros for a round trip. Business class offers benefits such as wider seats, premium inflight meals, and increased baggage allowance. The human asks about the hotel grade included in the package. The AI explains that the package includes 4-star hotel accommodations, each offering comfort, convenience, and a central location for easy access to tourist attractions. The human asks for more information about meal options. The AI explains that the package includes daily breakfast provided at the hotel, while lunch and dinner are not included to allow travelers the freedom to experience a variety of local cuisines. Additionally, the AI offers recommended restaurant lists in each city to help travelers fully enjoy the local flavors. The human asks about the reservation deposit and cancellation policy. The AI explains that a reservation deposit of 500 euros is required when booking the package. The cancellation policy allows for a full refund up to 30 days before the reservation date, with no refund of the deposit after that. Cancelling 14 days before the trip incurs a 50% charge, and cancelling after that results in full payment.\n"
     ]
    }
   ],
   "source": [
    "print(memory.load_memory_variables({})['history'])"
   ]
  },
  {
   "cell_type": "markdown",
   "metadata": {},
   "source": [
    "\n",
    "    인간은 유럽 여행 패키지의 가격에 대해 묻습니다. AI는 15박 14일 패키지의 기본 가격이 항공료, 호텔 숙박비, 지정된 관광 입장료를 포함해 3,500유로라고 응답한다. 추가비용은 옵션투어나 개인비용에 따라 다릅니다. 인간은 여행 중에 방문할 주요 관광 명소에 대해 문의합니다. AI는 파리의 에펠탑, 로마의 콜로세움, 베를린의 브란덴부르크 문, 취리히의 라인폭포 등 유명 랜드마크를 나열해 각 도시의 상징적인 명소에 대한 포괄적인 경험을 제공합니다. 인간은 여행자 보험이 포함되어 있는지 묻습니다. AI는 모든 여행자에게 의료 지원 및 긴급 지원을 포함하는 기본 여행자 보험이 제공되는지 확인합니다. 요청 시 추가 보장 옵션을 이용할 수 있습니다. 사람은 비행기 좌석을 비즈니스 클래스로 업그레이드할 수 있는지 묻고 비용도 문의합니다. AI는 비즈니스 클래스로의 업그레이드가 가능하며 왕복 여행에 약 1,200유로의 추가 비용이 든다고 응답합니다. 비즈니스 클래스는 더 넓은 좌석, 프리미엄 기내식, 수하물 허용량 증가 등의 혜택을 제공합니다. 인간은 패키지에 포함된 호텔 등급에 대해 묻습니다. AI는 패키지에 4성급 호텔 숙박 시설이 포함되어 있으며 각 숙박 시설은 편안함과 편리함, 관광 명소에 쉽게 접근할 수 있는 중심 위치를 제공한다고 설명합니다. 인간은 식사 옵션에 대한 추가 정보를 요청합니다. AI는 패키지에 호텔에서 매일 제공되는 아침 식사가 포함되어 있지만, 여행자가 다양한 현지 요리를 자유롭게 경험할 수 있도록 점심과 저녁 식사는 포함되어 있지 않다고 설명합니다. 또한 AI는 여행자가 현지 맛을 충분히 즐길 수 있도록 각 도시의 추천 레스토랑 목록을 제공합니다. 담당자가 예약금 입금 및 취소 정책에 대해 문의합니다. AI는 패키지 예약 시 예약 보증금 500유로가 필요하다고 설명한다. 취소 정책에 따르면 예약 날짜로부터 30일 전까지 전액 환불이 가능하며, 그 이후에는 보증금이 환불되지 않습니다. 여행 14일 전 취소 시 50%의 수수료가 부과되며, 그 이후 취소 시 전액 결제됩니다."
   ]
  },
  {
   "cell_type": "markdown",
   "metadata": {},
   "source": [
    "**ConversationSummaryBufferMemory**\n",
    "\n",
    "    - 최근 대화 내용의 버퍼를 메모리에 유지하되, 이전 대화내용을 완전히 플러시(flush) 하지 않고, 요약으로 컴파일하여 두 가지 모두 사용함\n",
    "    - 대화 내용을 플러시할 시기를 결정하기 위해 상호작용의 개수가 아닌 토큰의 길이를 사용함"
   ]
  },
  {
   "cell_type": "code",
   "execution_count": 7,
   "metadata": {},
   "outputs": [],
   "source": [
    "from langchain.memory import ConversationSummaryBufferMemory\n"
   ]
  },
  {
   "cell_type": "code",
   "execution_count": 8,
   "metadata": {},
   "outputs": [],
   "source": [
    "llm = ChatOpenAI(\n",
    "    model = 'gpt-3.5-turbo',\n",
    "    temperature=0\n",
    ")\n",
    "\n",
    "memory = ConversationSummaryBufferMemory(\n",
    "    llm=llm,\n",
    "    max_token_limit=200,\n",
    "    return_messages=True,\n",
    ")"
   ]
  },
  {
   "cell_type": "code",
   "execution_count": 10,
   "metadata": {},
   "outputs": [
    {
     "data": {
      "text/plain": [
       "[SystemMessage(content='The human asks about the price of a European travel package. The AI responds that the basic price for a 14-day, 15-night package is 3,500 euros, including airfare, hotel accommodation, and designated tour entrance fees. Additional costs may vary depending on optional tours or personal expenses.'),\n",
       " HumanMessage(content='유럽 여행 패키지의 가격은 얼마인가요?'),\n",
       " AIMessage(content='유럽 14박 15일 패키지의 기본 가격은 3,500유로입니다. 이 가격에는 항공료, 호텔 숙박비, 지정된 관광지 입장료가 포함되어 있습니다. 추가 비용은 선택하신 옵션 투어나 개인 경비에 따라 달라집니다.')]"
      ]
     },
     "execution_count": 10,
     "metadata": {},
     "output_type": "execute_result"
    }
   ],
   "source": [
    "memory.save_context(\n",
    "    inputs={\"human\": \"유럽 여행 패키지의 가격은 얼마인가요?\"},\n",
    "    outputs={\n",
    "        \"ai\": \"유럽 14박 15일 패키지의 기본 가격은 3,500유로입니다. 이 가격에는 항공료, 호텔 숙박비, 지정된 관광지 입장료가 포함되어 있습니다. 추가 비용은 선택하신 옵션 투어나 개인 경비에 따라 달라집니다.\"\n",
    "    },\n",
    ")\n",
    "\n",
    "memory.load_memory_variables({})['history']"
   ]
  },
  {
   "cell_type": "code",
   "execution_count": 11,
   "metadata": {},
   "outputs": [],
   "source": [
    "memory.save_context(\n",
    "    inputs={\"human\": \"여행 중에 방문할 주요 관광지는 어디인가요?\"},\n",
    "    outputs={\n",
    "        \"ai\": \"이 여행에서는 파리의 에펠탑, 로마의 콜로세움, 베를린의 브란덴부르크 문, 취리히의 라이네폴 등 유럽의 유명한 관광지들을 방문합니다. 각 도시의 대표적인 명소들을 포괄적으로 경험하실 수 있습니다.\"\n",
    "    },\n",
    ")\n",
    "memory.save_context(\n",
    "    inputs={\"human\": \"여행자 보험은 포함되어 있나요?\"},\n",
    "    outputs={\n",
    "        \"ai\": \"네, 모든 여행자에게 기본 여행자 보험을 제공합니다. 이 보험은 의료비 지원, 긴급 상황 발생 시 지원 등을 포함합니다. 추가적인 보험 보장을 원하시면 상향 조정이 가능합니다.\"\n",
    "    },\n",
    ")\n",
    "memory.save_context(\n",
    "    inputs={\n",
    "        \"human\": \"항공편 좌석을 비즈니스 클래스로 업그레이드할 수 있나요? 비용은 어떻게 되나요?\"\n",
    "    },\n",
    "    outputs={\n",
    "        \"ai\": \"항공편 좌석을 비즈니스 클래스로 업그레이드하는 것이 가능합니다. 업그레이드 비용은 왕복 기준으로 약 1,200유로 추가됩니다. 비즈니스 클래스에서는 더 넓은 좌석, 우수한 기내식, 그리고 추가 수하물 허용량 등의 혜택을 제공합니다.\"\n",
    "    },\n",
    ")\n",
    "memory.save_context(\n",
    "    inputs={\"human\": \"패키지에 포함된 호텔의 등급은 어떻게 되나요?\"},\n",
    "    outputs={\n",
    "        \"ai\": \"이 패키지에는 4성급 호텔 숙박이 포함되어 있습니다. 각 호텔은 편안함과 편의성을 제공하며, 중심지에 위치해 관광지와의 접근성이 좋습니다. 모든 호텔은 우수한 서비스와 편의 시설을 갖추고 있습니다.\"\n",
    "    },\n",
    ")"
   ]
  },
  {
   "cell_type": "code",
   "execution_count": 12,
   "metadata": {},
   "outputs": [
    {
     "data": {
      "text/plain": [
       "[SystemMessage(content=\"The human asks about the price of a European travel package. The AI responds that the basic price for a 14-day, 15-night package is 3,500 euros, including airfare, hotel accommodation, and designated tour entrance fees. Additional costs may vary depending on optional tours or personal expenses. The human then asks how much the package costs in Korean currency. The AI explains that the price is 3,500 euros and additional costs may vary. The human inquires about the main tourist attractions to visit during the trip. The AI lists famous landmarks such as the Eiffel Tower in Paris, the Colosseum in Rome, the Brandenburg Gate in Berlin, and the Rhine Falls in Zurich, offering a comprehensive experience of each city's iconic sights. The human asks if traveler's insurance is included. The AI confirms that basic traveler's insurance is provided for all travelers, including medical support and emergency assistance. Additional insurance coverage can be arranged upon request. The human asks if it's possible to upgrade the flight seats to business class and inquires about the cost. The AI explains that upgrading to business class is possible, with an additional cost of approximately 1,200 euros for a round trip. Business class offers benefits such as wider seats, premium inflight meals, and increased baggage allowance.\"),\n",
       " HumanMessage(content='패키지에 포함된 호텔의 등급은 어떻게 되나요?'),\n",
       " AIMessage(content='이 패키지에는 4성급 호텔 숙박이 포함되어 있습니다. 각 호텔은 편안함과 편의성을 제공하며, 중심지에 위치해 관광지와의 접근성이 좋습니다. 모든 호텔은 우수한 서비스와 편의 시설을 갖추고 있습니다.')]"
      ]
     },
     "execution_count": 12,
     "metadata": {},
     "output_type": "execute_result"
    }
   ],
   "source": [
    "memory.load_memory_variables({})['history']"
   ]
  },
  {
   "cell_type": "code",
   "execution_count": null,
   "metadata": {},
   "outputs": [],
   "source": []
  },
  {
   "cell_type": "code",
   "execution_count": null,
   "metadata": {},
   "outputs": [],
   "source": []
  }
 ],
 "metadata": {
  "kernelspec": {
   "display_name": "venv",
   "language": "python",
   "name": "python3"
  },
  "language_info": {
   "codemirror_mode": {
    "name": "ipython",
    "version": 3
   },
   "file_extension": ".py",
   "mimetype": "text/x-python",
   "name": "python",
   "nbconvert_exporter": "python",
   "pygments_lexer": "ipython3",
   "version": "3.10.12"
  }
 },
 "nbformat": 4,
 "nbformat_minor": 2
}
