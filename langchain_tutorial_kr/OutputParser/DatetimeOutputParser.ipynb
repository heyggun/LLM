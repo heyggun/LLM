{
 "cells": [
  {
   "cell_type": "markdown",
   "metadata": {},
   "source": [
    "**날짜 형식 출력 파서(DatetimeOutputParser)**\n",
    "\n",
    "    - LLM 출력을 datatime 형식으로 파싱"
   ]
  },
  {
   "cell_type": "code",
   "execution_count": 3,
   "metadata": {},
   "outputs": [
    {
     "data": {
      "text/plain": [
       "True"
      ]
     },
     "execution_count": 3,
     "metadata": {},
     "output_type": "execute_result"
    }
   ],
   "source": [
    "from dotenv import load_dotenv\n",
    "\n",
    "load_dotenv()"
   ]
  },
  {
   "cell_type": "code",
   "execution_count": 5,
   "metadata": {},
   "outputs": [],
   "source": [
    "from langchain_openai import ChatOpenAI\n",
    "from langchain.output_parsers import DatetimeOutputParser\n",
    "from langchain.prompts import PromptTemplate"
   ]
  },
  {
   "cell_type": "code",
   "execution_count": 12,
   "metadata": {},
   "outputs": [
    {
     "data": {
      "text/plain": [
       "PromptTemplate(input_variables=['question'], partial_variables={'format_instructions': \"Write a datetime string that matches the following pattern: '%Y-%m-%dT%H:%M:%S.%fZ'.\\n\\nExamples: 1441-01-09T21:44:56.275833Z, 1810-02-05T21:24:08.135735Z, 0994-07-11T18:03:30.907326Z\\n\\nReturn ONLY this string, no other words!\"}, template='Answer the user question:\\n{question}\\n\\n{format_instructions}\\n')"
      ]
     },
     "execution_count": 12,
     "metadata": {},
     "output_type": "execute_result"
    }
   ],
   "source": [
    "\n",
    "model = ChatOpenAI(\n",
    "    temperature=0,\n",
    "    model='gpt-3.5-turbo',\n",
    ")\n",
    "output_parser = DatetimeOutputParser()\n",
    "template = \"\"\"Answer the user question:\n",
    "{question}\n",
    "\n",
    "{format_instructions}\n",
    "\"\"\"\n",
    "\n",
    "prompt = PromptTemplate.from_template(\n",
    "    template,\n",
    "    partial_variables={'format_instructions':output_parser.get_format_instructions()}\n",
    ")\n",
    "\n",
    "prompt"
   ]
  },
  {
   "cell_type": "markdown",
   "metadata": {},
   "source": [
    "        PromptTemplate(input_variables=['question'], partial_variables={'format_instructions': \"Write a datetime string that matches the following pattern: '%Y-%m-%dT%H:%M:%S.%fZ'.\\n\\nExamples: 1441-01-09T21:44:56.275833Z, 1810-02-05T21:24:08.135735Z, 0994-07-11T18:03:30.907326Z\\n\\nReturn ONLY this string, no other words!\"}, template='Answer the user question:\\n{question}\\n\\n{format_instructions}\\n')\n"
   ]
  },
  {
   "cell_type": "code",
   "execution_count": 13,
   "metadata": {},
   "outputs": [
    {
     "data": {
      "text/plain": [
       "PromptTemplate(input_variables=['question'], partial_variables={'format_instructions': \"Write a datetime string that matches the following pattern: '%Y-%m-%dT%H:%M:%S.%fZ'.\\n\\nExamples: 1441-01-09T21:44:56.275833Z, 1810-02-05T21:24:08.135735Z, 0994-07-11T18:03:30.907326Z\\n\\nReturn ONLY this string, no other words!\"}, template='Answer the user question:\\n{question}\\n\\n{format_instructions}\\n')\n",
       "| ChatOpenAI(client=<openai.resources.chat.completions.Completions object at 0x131355420>, async_client=<openai.resources.chat.completions.AsyncCompletions object at 0x1312d6140>, temperature=0.0, openai_api_key=SecretStr('**********'), openai_proxy='')\n",
       "| DatetimeOutputParser()"
      ]
     },
     "execution_count": 13,
     "metadata": {},
     "output_type": "execute_result"
    }
   ],
   "source": [
    "chain = prompt | model | output_parser\n",
    "\n",
    "chain"
   ]
  },
  {
   "cell_type": "code",
   "execution_count": 15,
   "metadata": {},
   "outputs": [
    {
     "data": {
      "text/plain": [
       "datetime.datetime(1998, 9, 4, 0, 0)"
      ]
     },
     "execution_count": 15,
     "metadata": {},
     "output_type": "execute_result"
    }
   ],
   "source": [
    "response = chain.invoke({'question' : 'Google이 창업한 년도?'})\n",
    "response"
   ]
  },
  {
   "cell_type": "code",
   "execution_count": null,
   "metadata": {},
   "outputs": [],
   "source": []
  }
 ],
 "metadata": {
  "kernelspec": {
   "display_name": "venv",
   "language": "python",
   "name": "python3"
  },
  "language_info": {
   "codemirror_mode": {
    "name": "ipython",
    "version": 3
   },
   "file_extension": ".py",
   "mimetype": "text/x-python",
   "name": "python",
   "nbconvert_exporter": "python",
   "pygments_lexer": "ipython3",
   "version": "3.10.12"
  }
 },
 "nbformat": 4,
 "nbformat_minor": 2
}
