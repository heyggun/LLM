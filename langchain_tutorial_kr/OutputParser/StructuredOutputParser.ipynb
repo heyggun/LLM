{
 "cells": [
  {
   "cell_type": "code",
   "execution_count": 1,
   "metadata": {},
   "outputs": [
    {
     "data": {
      "text/plain": [
       "True"
      ]
     },
     "execution_count": 1,
     "metadata": {},
     "output_type": "execute_result"
    }
   ],
   "source": [
    "from dotenv import load_dotenv\n",
    "\n",
    "load_dotenv()"
   ]
  },
  {
   "cell_type": "markdown",
   "metadata": {},
   "source": [
    "**StructuredOutputParser\n",
    "\n",
    "    - 여러 필드를 반환하고자 할 때 사용할 수 있다.\n",
    "    - Pydantic/JSON 파서가 더 강력하지만 덜 강력한 모델에 유용하다."
   ]
  },
  {
   "cell_type": "code",
   "execution_count": 4,
   "metadata": {},
   "outputs": [],
   "source": [
    "from langchain_openai import ChatOpenAI\n",
    "from langchain.prompts import PromptTemplate\n",
    "from langchain.output_parsers import ResponseSchema, StructuredOutputParser"
   ]
  },
  {
   "cell_type": "code",
   "execution_count": 6,
   "metadata": {},
   "outputs": [
    {
     "data": {
      "text/plain": [
       "StructuredOutputParser(response_schemas=[ResponseSchema(name='answer', description='사용자의 질문에 대한 답변', type='string'), ResponseSchema(name='source', description='사용자의 질문에 답하기 위해 사용된 출처, 웹사이트여야 함', type='string')])"
      ]
     },
     "execution_count": 6,
     "metadata": {},
     "output_type": "execute_result"
    }
   ],
   "source": [
    "#   `responseSchema` 클래스로 사용자의 질문에 대한 답변과 사용된 소스(웹사이트) 에 대한 설명을 포함하는 응답 스키마를 정의한다.\n",
    "#   `StructuredOutputParser`를 response_schema를 사용해 초기화해서, 정의된 응답 스미카에 따라 출력을 구조화한다.\n",
    "\n",
    "response_schema = [\n",
    "    ResponseSchema(name = 'answer', description='사용자의 질문에 대한 답변'),\n",
    "    ResponseSchema(\n",
    "        name='source',\n",
    "        description='사용자의 질문에 답하기 위해 사용된 출처, 웹사이트여야 함',\n",
    "    ),\n",
    "]\n",
    "\n",
    "# 응답 스키마를 기반으로 한 구조화된 출력 파서 초기화\n",
    "\n",
    "output_parser = StructuredOutputParser.from_response_schemas(response_schema)\n",
    "output_parser"
   ]
  },
  {
   "cell_type": "markdown",
   "metadata": {},
   "source": [
    "    - 응답이 어떻게 포맷되어야 하는지에 대한 지시사항이 담긴 문자열을 받게 되고, 프롬프트에 삽입한다.\n",
    "    - `output_parser.get_format_instructioin() 으로 함수를 호출해 포맷 지시사항 가져옴`\n",
    "    - `PromptTemplate`으로 사용자의 질문에 최대한 답변하는 프롬프트 템플릿 생성 (question : 입력변수, format_instructions : 부분 변수)"
   ]
  },
  {
   "cell_type": "code",
   "execution_count": 8,
   "metadata": {},
   "outputs": [],
   "source": [
    "format_instructions = output_parser.get_format_instructions()\n",
    "prompt = PromptTemplate(\n",
    "    template = \"answer the users question as best as possible.\\n{format_instructions}\\n{question}\",\n",
    "    input_variables=['question'],\n",
    "    partial_variables={'format_instructions':format_instructions}\n",
    ")"
   ]
  },
  {
   "cell_type": "code",
   "execution_count": 9,
   "metadata": {},
   "outputs": [],
   "source": [
    "model = ChatOpenAI(temperature=0,\n",
    "                   model='gpt-3.5-turbo')\n",
    "\n",
    "chain = prompt | model | output_parser"
   ]
  },
  {
   "cell_type": "code",
   "execution_count": 10,
   "metadata": {},
   "outputs": [
    {
     "data": {
      "text/plain": [
       "{'answer': '서울', 'source': 'https://en.wikipedia.org/wiki/Seoul'}"
      ]
     },
     "execution_count": 10,
     "metadata": {},
     "output_type": "execute_result"
    }
   ],
   "source": [
    "chain.invoke({\"question\": \"대한민국의 수도는 어디인가요?\"})"
   ]
  },
  {
   "cell_type": "code",
   "execution_count": 11,
   "metadata": {},
   "outputs": [
    {
     "name": "stdout",
     "output_type": "stream",
     "text": [
      "{'answer': '세종대왕은 한글을 창제하고 문화 발전에 큰 기여를 한 대한민국의 역사적 인물입니다.', 'source': 'https://ko.wikipedia.org/wiki/%EC%84%B8%EC%A2%85%EB%8C%80%EC%99%95'}\n"
     ]
    }
   ],
   "source": [
    "for s in chain.stream({'question' : '세종대왕의 업적은 무엇인가요?'}):\n",
    "    print(s)"
   ]
  },
  {
   "cell_type": "code",
   "execution_count": null,
   "metadata": {},
   "outputs": [],
   "source": []
  }
 ],
 "metadata": {
  "kernelspec": {
   "display_name": "venv",
   "language": "python",
   "name": "python3"
  },
  "language_info": {
   "codemirror_mode": {
    "name": "ipython",
    "version": 3
   },
   "file_extension": ".py",
   "mimetype": "text/x-python",
   "name": "python",
   "nbconvert_exporter": "python",
   "pygments_lexer": "ipython3",
   "version": "3.10.12"
  }
 },
 "nbformat": 4,
 "nbformat_minor": 2
}
