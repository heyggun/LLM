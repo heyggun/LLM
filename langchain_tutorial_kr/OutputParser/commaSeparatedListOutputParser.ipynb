{
 "cells": [
  {
   "cell_type": "markdown",
   "metadata": {},
   "source": [
    "**CommaSeparatedListOutputParser**\n",
    "\n",
    "    - 쉼표로 구분된 항목 목록을 반환할 필요가 있을 때\n",
    "    - 사용자가 입력한 데이터나 요청한 정보를 쉼표로 구분하여 명확하고 간결한 목록으로 제공받는다\n",
    "    - 여러 개의 데이터 포인트, 이름, 항목 또는 다른 종류의 값을 나열할 때 이를 효과적으로 정보를 정리하고 사용자에게 전달한다.\n",
    "    - 정보를 구조화하고 가독성을 높이고 데이터를 다루거나 리스트 형태의 결과를 요구하는 경우에 유용하다\n"
   ]
  },
  {
   "cell_type": "code",
   "execution_count": 1,
   "metadata": {},
   "outputs": [],
   "source": [
    "from dotenv import load_dotenv"
   ]
  },
  {
   "cell_type": "code",
   "execution_count": 4,
   "metadata": {},
   "outputs": [
    {
     "data": {
      "text/plain": [
       "PromptTemplate(input_variables=['subject'], partial_variables={'format_instructions': 'Your response should be a list of comma separated values, eg: `foo, bar, baz`'}, template='List five {subject}.\\n{format_instructions}')\n",
       "| ChatOpenAI(client=<openai.resources.chat.completions.Completions object at 0x16e370730>, async_client=<openai.resources.chat.completions.AsyncCompletions object at 0x16e371c60>, temperature=0.0, openai_api_key=SecretStr('**********'), openai_proxy='')\n",
       "| CommaSeparatedListOutputParser()"
      ]
     },
     "execution_count": 4,
     "metadata": {},
     "output_type": "execute_result"
    }
   ],
   "source": [
    "# `PromptTemplate`을 사용해 사용자 입력에 따라 동적으로 프롬프트를 생성한다.\n",
    "# # subject를 입력 변수로 받고 from_instructions 부분 변수로 설정한다.\n",
    "\n",
    "from langchain.output_parsers import CommaSeparatedListOutputParser\n",
    "from langchain.prompts import PromptTemplate\n",
    "from langchain_openai import ChatOpenAI\n",
    "\n",
    "output_parser = CommaSeparatedListOutputParser()\n",
    "\n",
    "# 출력 형식 지침\n",
    "format_instructions = output_parser.get_format_instructions()\n",
    "\n",
    "# 프롬프트 템플릿\n",
    "prompt = PromptTemplate(\n",
    "    template=\"List five {subject}.\\n{format_instructions}\",\n",
    "    input_variables=[\"subject\"],\n",
    "    partial_variables={\"format_instructions\" : format_instructions },\n",
    ")\n",
    "\n",
    "model = ChatOpenAI(temperature=0)\n",
    "\n",
    "chain = prompt | model | output_parser\n",
    "chain\n"
   ]
  },
  {
   "cell_type": "code",
   "execution_count": 5,
   "metadata": {},
   "outputs": [
    {
     "data": {
      "text/plain": [
       "['경복궁', '남산타워', '부산 해운대해수욕장', '제주도', '경주여행']"
      ]
     },
     "execution_count": 5,
     "metadata": {},
     "output_type": "execute_result"
    }
   ],
   "source": [
    "chain.invoke(\n",
    "    {'subject' : '대한민국 관광명소'}\n",
    ")"
   ]
  },
  {
   "cell_type": "code",
   "execution_count": 6,
   "metadata": {},
   "outputs": [
    {
     "name": "stdout",
     "output_type": "stream",
     "text": [
      "['경복궁']\n",
      "['인사동']\n",
      "['부산 해운대해수욕장']\n",
      "['제주도']\n",
      "['남산타워']\n"
     ]
    }
   ],
   "source": [
    "for s in chain.stream({\"subject\":\"대한민국 관광명소\"}):\n",
    "    print(s)"
   ]
  },
  {
   "cell_type": "code",
   "execution_count": null,
   "metadata": {},
   "outputs": [],
   "source": []
  }
 ],
 "metadata": {
  "kernelspec": {
   "display_name": "venv",
   "language": "python",
   "name": "python3"
  },
  "language_info": {
   "codemirror_mode": {
    "name": "ipython",
    "version": 3
   },
   "file_extension": ".py",
   "mimetype": "text/x-python",
   "name": "python",
   "nbconvert_exporter": "python",
   "pygments_lexer": "ipython3",
   "version": "3.10.12"
  }
 },
 "nbformat": 4,
 "nbformat_minor": 2
}
