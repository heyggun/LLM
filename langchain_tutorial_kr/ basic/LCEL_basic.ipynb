{
 "cells": [
  {
   "cell_type": "code",
   "execution_count": 1,
   "metadata": {},
   "outputs": [
    {
     "data": {
      "text/plain": [
       "True"
      ]
     },
     "execution_count": 1,
     "metadata": {},
     "output_type": "execute_result"
    }
   ],
   "source": [
    "from dotenv import load_dotenv\n",
    "\n",
    "load_dotenv()"
   ]
  },
  {
   "cell_type": "code",
   "execution_count": 3,
   "metadata": {},
   "outputs": [],
   "source": [
    "from langchain.prompts import PromptTemplate"
   ]
  },
  {
   "cell_type": "code",
   "execution_count": 4,
   "metadata": {},
   "outputs": [
    {
     "data": {
      "text/plain": [
       "PromptTemplate(input_variables=['country'], template='{country}의 수도는 어디인가요?')"
      ]
     },
     "execution_count": 4,
     "metadata": {},
     "output_type": "execute_result"
    }
   ],
   "source": [
    "template = \"{country}의 수도는 어디인가요?\"\n",
    "\n",
    "prompt_template = PromptTemplate.from_template(template)\n",
    "prompt_template"
   ]
  },
  {
   "cell_type": "code",
   "execution_count": 5,
   "metadata": {},
   "outputs": [
    {
     "data": {
      "text/plain": [
       "'한국의 수도는 어디인가요?'"
      ]
     },
     "execution_count": 5,
     "metadata": {},
     "output_type": "execute_result"
    }
   ],
   "source": [
    "prompt = prompt_template.format(country='한국')\n",
    "prompt"
   ]
  },
  {
   "cell_type": "code",
   "execution_count": 6,
   "metadata": {},
   "outputs": [
    {
     "data": {
      "text/plain": [
       "'네덜란드의 수도는 어디인가요?'"
      ]
     },
     "execution_count": 6,
     "metadata": {},
     "output_type": "execute_result"
    }
   ],
   "source": [
    "prompt2 = prompt_template.format(country='네덜란드')\n",
    "prompt2"
   ]
  },
  {
   "cell_type": "markdown",
   "metadata": {},
   "source": [
    "**Model(LLM)**"
   ]
  },
  {
   "cell_type": "code",
   "execution_count": 9,
   "metadata": {},
   "outputs": [],
   "source": [
    "from langchain_openai import ChatOpenAI\n",
    "\n",
    "model = ChatOpenAI(\n",
    "    model='gpt-3.5-turbo',\n",
    "    max_tokens=2048,\n",
    "    temperature=0.1,\n",
    ")"
   ]
  },
  {
   "cell_type": "code",
   "execution_count": 10,
   "metadata": {},
   "outputs": [],
   "source": [
    "from langchain_core.output_parsers import StrOutputParser\n",
    "\n",
    "output = StrOutputParser()"
   ]
  },
  {
   "cell_type": "markdown",
   "metadata": {},
   "source": [
    "**LCEL로 chain 생성**\n",
    "\n",
    "    - chain = prompt | model | output"
   ]
  },
  {
   "cell_type": "code",
   "execution_count": 14,
   "metadata": {},
   "outputs": [],
   "source": [
    "template = \"\"\"\n",
    "당신은 친절하게 답변해주는 친절한 봇입니다. 사용자의 질문에 [FORMAT]에 맞추어 답변해주세요.\n",
    "답변은 항상 한글로 작성해 주세요.\n",
    "\n",
    "질문 :\n",
    "{question}에 대해 설명해 주세요.\n",
    "\n",
    "FORMAT :\n",
    "- 개요:\n",
    "- 예시:\n",
    "- 출처:\n",
    "\"\"\"\n",
    "\n",
    "template2 = \"\"\"\n",
    "당신은 영어를 가르치는 10년차 영어 선생님입니다. 상황에 [FORMAT]에 영어 회화를 작성해 주세요.\n",
    "\n",
    "상황:\n",
    "{question}\n",
    "\n",
    "FORMAT:\n",
    "- 영어 회화:\n",
    "- 한글 해석:\n",
    "\"\"\""
   ]
  },
  {
   "cell_type": "code",
   "execution_count": 15,
   "metadata": {},
   "outputs": [
    {
     "data": {
      "text/plain": [
       "PromptTemplate(input_variables=['question'], template='\\n당신은 친절하게 답변해주는 친절한 봇입니다. 사용자의 질문에 [FORMAT]에 맞추어 답변해주세요.\\n답변은 항상 한글로 작성해 주세요.\\n\\n질문 :\\n{question}에 대해 설명해 주세요.\\n\\nFORMAT :\\n- 개요:\\n- 예시:\\n- 출처:\\n')"
      ]
     },
     "execution_count": 15,
     "metadata": {},
     "output_type": "execute_result"
    }
   ],
   "source": [
    "prompt = PromptTemplate.from_template(template)\n",
    "prompt"
   ]
  },
  {
   "cell_type": "code",
   "execution_count": 16,
   "metadata": {},
   "outputs": [
    {
     "data": {
      "text/plain": [
       "PromptTemplate(input_variables=['question'], template='\\n당신은 영어를 가르치는 10년차 영어 선생님입니다. 상황에 [FORMAT]에 영어 회화를 작성해 주세요.\\n\\n상황:\\n{question}\\n\\nFORMAT:\\n- 영어 회화:\\n- 한글 해석:\\n')"
      ]
     },
     "execution_count": 16,
     "metadata": {},
     "output_type": "execute_result"
    }
   ],
   "source": [
    "prompt2 = PromptTemplate.from_template(template2)\n",
    "prompt2"
   ]
  },
  {
   "cell_type": "code",
   "execution_count": 17,
   "metadata": {},
   "outputs": [],
   "source": [
    "model = ChatOpenAI(model='gpt-3.5-turbo')\n",
    "output_parser = StrOutputParser()"
   ]
  },
  {
   "cell_type": "code",
   "execution_count": 18,
   "metadata": {},
   "outputs": [
    {
     "data": {
      "text/plain": [
       "PromptTemplate(input_variables=['question'], template='\\n당신은 친절하게 답변해주는 친절한 봇입니다. 사용자의 질문에 [FORMAT]에 맞추어 답변해주세요.\\n답변은 항상 한글로 작성해 주세요.\\n\\n질문 :\\n{question}에 대해 설명해 주세요.\\n\\nFORMAT :\\n- 개요:\\n- 예시:\\n- 출처:\\n')\n",
       "| ChatOpenAI(client=<openai.resources.chat.completions.Completions object at 0x147e819c0>, async_client=<openai.resources.chat.completions.AsyncCompletions object at 0x147e832b0>, openai_api_key=SecretStr('**********'), openai_proxy='')\n",
       "| StrOutputParser()"
      ]
     },
     "execution_count": 18,
     "metadata": {},
     "output_type": "execute_result"
    }
   ],
   "source": [
    "chain = prompt | model | output_parser\n",
    "chain"
   ]
  },
  {
   "cell_type": "code",
   "execution_count": 19,
   "metadata": {},
   "outputs": [
    {
     "data": {
      "text/plain": [
       "PromptTemplate(input_variables=['question'], template='\\n당신은 영어를 가르치는 10년차 영어 선생님입니다. 상황에 [FORMAT]에 영어 회화를 작성해 주세요.\\n\\n상황:\\n{question}\\n\\nFORMAT:\\n- 영어 회화:\\n- 한글 해석:\\n')\n",
       "| ChatOpenAI(client=<openai.resources.chat.completions.Completions object at 0x147e819c0>, async_client=<openai.resources.chat.completions.AsyncCompletions object at 0x147e832b0>, openai_api_key=SecretStr('**********'), openai_proxy='')\n",
       "| StrOutputParser()"
      ]
     },
     "execution_count": 19,
     "metadata": {},
     "output_type": "execute_result"
    }
   ],
   "source": [
    "chain2= prompt2 | model | output_parser\n",
    "chain2"
   ]
  },
  {
   "cell_type": "code",
   "execution_count": 20,
   "metadata": {},
   "outputs": [
    {
     "name": "stdout",
     "output_type": "stream",
     "text": [
      "개요: 파이썬은 인터프리터 언어로 간단하고 읽기 쉬운 문법을 가지고 있어 많은 사람들이 사용하는 프로그래밍 언어입니다. \n",
      "\n",
      "예시: \n",
      "1. 파이썬 인터프리터를 다운로드하여 설치합니다.\n",
      "2. 텍스트 에디터나 통합 개발 환경(IDE)를 이용하여 파이썬 코드를 작성합니다.\n",
      "3. 작성한 코드를 실행하여 원하는 결과를 얻을 수 있습니다.\n",
      "\n",
      "출처: 본 내용은 제가 작성한 것이며, 파이썬 공식 문서 및 다양한 온라인 자료를 참고하였습니다.\n"
     ]
    }
   ],
   "source": [
    "print(chain.invoke({'question' : 'python 사용 방법'}))"
   ]
  },
  {
   "cell_type": "code",
   "execution_count": 23,
   "metadata": {},
   "outputs": [
    {
     "name": "stdout",
     "output_type": "stream",
     "text": [
      "- 영어 회화: \n",
      "Customer: Hi, I'd like to place an order for delivery.\n",
      "Employee: Of course! What would you like to order?\n",
      "Customer: I'd like a large pepperoni pizza, please.\n",
      "Employee: Any drinks or sides with that?\n",
      "Customer: Can I get a 2-liter bottle of Coke and an order of garlic knots?\n",
      "Employee: Sure thing. Your total comes to $25. Will that be cash or card?\n",
      "Customer: I'll pay with my card, please.\n",
      "\n",
      "- 한글 해석:\n",
      "고객: 안녕하세요, 배달 주문을 하고 싶은데요.\n",
      "직원: 물론이죠! 무엇을 주문하시겠어요?\n",
      "고객: 큰 페퍼로니 피자 한 판 주문하고 싶어요.\n",
      "직원: 그 외에 음료나 사이드 메뉴는 더 필요하신가요?\n",
      "고객: 2리터 콜라 한 병과 마늘 노트 주문 가능할까요?\n",
      "직원: 물론이죠. 총 금액은 $25 입니다. 현금으로 결제하시겠습니까, 아니면 카드로 결제하시겠습니까?\n",
      "고객: 카드로 결제할게요.\n"
     ]
    }
   ],
   "source": [
    "print(chain2.invoke({'question' : '피자 주문'}))"
   ]
  },
  {
   "cell_type": "markdown",
   "metadata": {},
   "source": [
    "**전체 파이프라인**\n",
    "\n",
    "    (1) 원하는 주제에 대한 사용자 입력 {'topic' : '양자역학'}\n",
    "    (2) `prompt` 컴포넌트는 사용자 입력을 받아 topic을 사용해 프롬프트를 구성해 PromptValue 생성\n",
    "    (3) model 컴포넌트는 생성된 프롬프트를 가져와 OpenAI LLM 모델에 평가를 위해 전달함. 모델에서 생성된 출력은 `ChatMessage` 객체\n",
    "    (4) 마지막 `output_parser` 컴포넌트는 `ChatMessage`를 받아 python 문자열로 변환하고, `invoke` 메서드에서 반환됨"
   ]
  },
  {
   "cell_type": "code",
   "execution_count": 24,
   "metadata": {},
   "outputs": [
    {
     "name": "stdout",
     "output_type": "stream",
     "text": [
      "input_variables=['topic'] template='{topic}에 대해 쉽게 설명해주세요'\n"
     ]
    },
    {
     "data": {
      "text/plain": [
       "StringPromptValue(text='양자역학에 대해 쉽게 설명해주세요')"
      ]
     },
     "execution_count": 24,
     "metadata": {},
     "output_type": "execute_result"
    }
   ],
   "source": [
    "template = \"{topic}에 대해 쉽게 설명해주세요\"\n",
    "\n",
    "prompt = PromptTemplate.from_template(template)\n",
    "print(prompt)\n",
    "\n",
    "input = {'topic' : '양자역학'}\n",
    "\n",
    "prompt.invoke(input)\n",
    "\n"
   ]
  },
  {
   "cell_type": "code",
   "execution_count": 25,
   "metadata": {},
   "outputs": [
    {
     "data": {
      "text/plain": [
       "AIMessage(content='양자역학은 아주 작은 입자들인 원자나 입자들의 행동을 설명하는 물리 이론입니다. 이 이론은 입자들이 특정한 위치와 운동량을 동시에 가질 수 없다는 불확정성 원리를 중요하게 다룹니다. 또한 입자들이 원자 내에서 특정한 에너지 상태로만 존재할 수 있다는 양자화 개념을 포함하고 있습니다.\\n\\n양자역학은 빛이나 전자와 같은 입자들의 파동-입자 이중성, 양자역학 현상인 얽힘(entanglement), 그리고 양자계산 등 다양한 현상을 설명하는데 사용됩니다. 이론은 매우 복잡하고 추상적이지만, 많은 현대 기술과 기술의 발전에 중요한 역할을 하고 있습니다.', response_metadata={'token_usage': {'completion_tokens': 270, 'prompt_tokens': 25, 'total_tokens': 295}, 'model_name': 'gpt-3.5-turbo', 'system_fingerprint': 'fp_3bc1b5746c', 'finish_reason': 'stop', 'logprobs': None})"
      ]
     },
     "execution_count": 25,
     "metadata": {},
     "output_type": "execute_result"
    }
   ],
   "source": [
    "(prompt | model).invoke(input)"
   ]
  },
  {
   "cell_type": "code",
   "execution_count": 26,
   "metadata": {},
   "outputs": [
    {
     "data": {
      "text/plain": [
       "'양자역학은 아주 작은 입자들인 원자나 분자 수준에서의 물리 현상을 설명하는 이론입니다. 이론은 확률적이고 불확실성이 존재하며, 입자의 위치나 운동 상태를 정확히 예측하는 것이 불가능하다는 것을 주장합니다. 대신, 입자의 상태를 확률적으로 설명하고 그런 상태에서 어떤 결과가 나올 확률을 계산합니다.\\n\\n양자역학은 빛이나 전자 같은 입자들이 파동의 성질도 가지고 있다는 것을 밝혀냈으며, 물리학의 다양한 현상을 설명하는 데 중요한 역할을 합니다. 또한 원자나 분자의 구조, 물질의 성질, 빛의 발생과 흡수 등을 설명하는 데 사용됩니다.양자역학은 현대 물리학에서 중요한 이론 중 하나로 인류가 우주와 물질에 대해 이해하는 데 도움을 줍니다.'"
      ]
     },
     "execution_count": 26,
     "metadata": {},
     "output_type": "execute_result"
    }
   ],
   "source": [
    "(prompt | model | output_parser).invoke(input)"
   ]
  },
  {
   "cell_type": "code",
   "execution_count": null,
   "metadata": {},
   "outputs": [],
   "source": []
  }
 ],
 "metadata": {
  "kernelspec": {
   "display_name": "venv",
   "language": "python",
   "name": "python3"
  },
  "language_info": {
   "codemirror_mode": {
    "name": "ipython",
    "version": 3
   },
   "file_extension": ".py",
   "mimetype": "text/x-python",
   "name": "python",
   "nbconvert_exporter": "python",
   "pygments_lexer": "ipython3",
   "version": "3.10.12"
  }
 },
 "nbformat": 4,
 "nbformat_minor": 2
}
