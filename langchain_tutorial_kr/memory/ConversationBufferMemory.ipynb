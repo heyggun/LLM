{
 "cells": [
  {
   "cell_type": "markdown",
   "metadata": {},
   "source": [
    "**대화 버퍼 메모리(ConversationBufferMemory)**\n",
    "\n",
    "    - 메시지를 저장한 다음 변수에 메시지를 추출할 수 있게 해줌"
   ]
  },
  {
   "cell_type": "code",
   "execution_count": 1,
   "metadata": {},
   "outputs": [
    {
     "data": {
      "text/plain": [
       "True"
      ]
     },
     "execution_count": 1,
     "metadata": {},
     "output_type": "execute_result"
    }
   ],
   "source": [
    "from dotenv import load_dotenv\n",
    "\n",
    "load_dotenv()"
   ]
  },
  {
   "cell_type": "code",
   "execution_count": 3,
   "metadata": {},
   "outputs": [],
   "source": [
    "from langchain_openai import ChatOpenAI\n",
    "from langchain.memory import ConversationBufferMemory"
   ]
  },
  {
   "cell_type": "code",
   "execution_count": 4,
   "metadata": {},
   "outputs": [],
   "source": [
    "memory = ConversationBufferMemory()\n",
    "\n",
    "memory.save_context(\n",
    "    inputs={\n",
    "        \"human\" : \"최근 넷플릭스에 올라온 재밌는 콘텐츠는 무엇이 있나요?\"\n",
    "    },\n",
    "    outputs={\n",
    "        \"ai\" : \"안녕하세요. 최근에는 삼체라는 콘텐츠가 인기있어요.\"\n",
    "    },\n",
    ")\n"
   ]
  },
  {
   "cell_type": "code",
   "execution_count": 6,
   "metadata": {},
   "outputs": [
    {
     "data": {
      "text/plain": [
       "{'history': 'Human: 최근 넷플릭스에 올라온 재밌는 콘텐츠는 무엇이 있나요?\\nAI: 안녕하세요. 최근에는 삼체라는 콘텐츠가 인기있어요.'}"
      ]
     },
     "execution_count": 6,
     "metadata": {},
     "output_type": "execute_result"
    }
   ],
   "source": [
    " # `load_memory_variables({})` 함수로 메시지 히스토리 반환\n",
    " \n",
    " memory.load_memory_variables({})"
   ]
  },
  {
   "cell_type": "markdown",
   "metadata": {},
   "source": [
    "\n",
    "    - `save_context(input, output)` 메서드를 이용해 대화 기록을 저장한다.\n",
    "    - inputs, outputs 두개의 인자를 받아 `inputs`은 사용자 입력을, `outputs`는 ai의 출력을 저장한다.\n",
    "    - 이 메서드를 사용해 대화 기록이 `history`에 젖아됨\n",
    "    - load_memory_variables` 메소드를 사용해서 저장된 대화 기록을 확인한다."
   ]
  },
  {
   "cell_type": "code",
   "execution_count": 7,
   "metadata": {},
   "outputs": [],
   "source": [
    "memory.save_context(\n",
    "    inputs={\n",
    "        \"human\" : \"어떤 스토리의 영화인가요?\"\n",
    "    },\n",
    "    outputs={\n",
    "        \"ai\" : \"\"\"1960년대 중국의 한 젊은 여성이 내린 운명적 결정이 시공을 뛰어넘어 현재의 유수 과학자들에게 불가사의한 영향을 미치는 가운데, \n",
    "        절친인 다섯 명의 과학자들이 인류 역사상 가장 거대한 위협에 맞닥뜨리는 넷플릭스 SF 시리즈입니다.\"\"\"\n",
    "    },\n",
    "    \n",
    ")\n",
    "\n",
    "memory.save_context(\n",
    "    inputs={\n",
    "        \"human\" : \"언제 출시됐나요?\"\n",
    "    },\n",
    "    outputs={\n",
    "        \"ai\" : \"2024년 3월 21일에 넷플릭스에 업로드 됐습니다.\"\n",
    "    },\n",
    ")"
   ]
  },
  {
   "cell_type": "code",
   "execution_count": 9,
   "metadata": {},
   "outputs": [
    {
     "name": "stdout",
     "output_type": "stream",
     "text": [
      "{'history': 'Human: 최근 넷플릭스에 올라온 재밌는 콘텐츠는 무엇이 있나요?\\nAI: 안녕하세요. 최근에는 삼체라는 콘텐츠가 인기있어요.\\nHuman: 어떤 스토리의 영화인가요?\\nAI: 1960년대 중국의 한 젊은 여성이 내린 운명적 결정이 시공을 뛰어넘어 현재의 유수 과학자들에게 불가사의한 영향을 미치는 가운데, \\n        절친인 다섯 명의 과학자들이 인류 역사상 가장 거대한 위협에 맞닥뜨리는 넷플릭스 SF 시리즈입니다.\\nHuman: 언제 출시됐나요?\\nAI: 2024년 3월 21일에 넷플릭스에 업로드 됐습니다.'}\n"
     ]
    }
   ],
   "source": [
    "print(memory.load_memory_variables({}))"
   ]
  },
  {
   "cell_type": "code",
   "execution_count": 11,
   "metadata": {},
   "outputs": [
    {
     "name": "stdout",
     "output_type": "stream",
     "text": [
      "Human: 최근 넷플릭스에 올라온 재밌는 콘텐츠는 무엇이 있나요?\n",
      "AI: 안녕하세요. 최근에는 삼체라는 콘텐츠가 인기있어요.\n",
      "Human: 어떤 스토리의 영화인가요?\n",
      "AI: 1960년대 중국의 한 젊은 여성이 내린 운명적 결정이 시공을 뛰어넘어 현재의 유수 과학자들에게 불가사의한 영향을 미치는 가운데, \n",
      "        절친인 다섯 명의 과학자들이 인류 역사상 가장 거대한 위협에 맞닥뜨리는 넷플릭스 SF 시리즈입니다.\n",
      "Human: 언제 출시됐나요?\n",
      "AI: 2024년 3월 21일에 넷플릭스에 업로드 됐습니다.\n"
     ]
    }
   ],
   "source": [
    "print(memory.load_memory_variables({})['history'])"
   ]
  },
  {
   "cell_type": "markdown",
   "metadata": {},
   "source": [
    "    \n",
    "    - return_messages =True로 설정하면 HumanMessage와 AIMessage 객체를 반환함"
   ]
  },
  {
   "cell_type": "code",
   "execution_count": 28,
   "metadata": {},
   "outputs": [],
   "source": [
    "memory = ConversationBufferMemory(return_messages=True)\n",
    "\n",
    "memory.save_context(\n",
    "    inputs={\n",
    "        \"human\" : \"최근 넷플릭스에 올라온 재밌는 sf 콘텐츠는 무엇이 있나요?\"\n",
    "    },\n",
    "    outputs={\n",
    "        \"ai\" : \"안녕하세요. 최근에는 삼체라는 콘텐츠가 인기있어요.\"\n",
    "    },\n",
    ")\n",
    "\n",
    "\n",
    "memory.save_context(\n",
    "    inputs={\n",
    "        \"human\" : \"어떤 스토리의 영화인가요?\"\n",
    "    },\n",
    "    outputs={\n",
    "        \"ai\" : \"\"\"1960년대 중국의 한 젊은 여성이 내린 운명적 결정이 시공을 뛰어넘어 현재의 유수 과학자들에게 불가사의한 영향을 미치는 가운데, \n",
    "        절친인 다섯 명의 과학자들이 인류 역사상 가장 거대한 위협에 맞닥뜨리는 넷플릭스 SF 시리즈입니다.\"\"\"\n",
    "    },\n",
    "    \n",
    ")\n",
    "\n",
    "memory.save_context(\n",
    "    inputs={\n",
    "        \"human\" : \"언제 출시됐나요?\"\n",
    "    },\n",
    "    outputs={\n",
    "        \"ai\" : \"2024년 3월 21일에 넷플릭스에 업로드 됐습니다.\"\n",
    "    },\n",
    ")"
   ]
  },
  {
   "cell_type": "code",
   "execution_count": 29,
   "metadata": {},
   "outputs": [
    {
     "data": {
      "text/plain": [
       "[HumanMessage(content='최근 넷플릭스에 올라온 재밌는 sf 콘텐츠는 무엇이 있나요?'),\n",
       " AIMessage(content='안녕하세요. 최근에는 삼체라는 콘텐츠가 인기있어요.'),\n",
       " HumanMessage(content='어떤 스토리의 영화인가요?'),\n",
       " AIMessage(content='1960년대 중국의 한 젊은 여성이 내린 운명적 결정이 시공을 뛰어넘어 현재의 유수 과학자들에게 불가사의한 영향을 미치는 가운데, \\n        절친인 다섯 명의 과학자들이 인류 역사상 가장 거대한 위협에 맞닥뜨리는 넷플릭스 SF 시리즈입니다.'),\n",
       " HumanMessage(content='언제 출시됐나요?'),\n",
       " AIMessage(content='2024년 3월 21일에 넷플릭스에 업로드 됐습니다.')]"
      ]
     },
     "execution_count": 29,
     "metadata": {},
     "output_type": "execute_result"
    }
   ],
   "source": [
    "memory.load_memory_variables({})['history']"
   ]
  },
  {
   "cell_type": "markdown",
   "metadata": {},
   "source": [
    "**Chain에 적용**"
   ]
  },
  {
   "cell_type": "code",
   "execution_count": 30,
   "metadata": {},
   "outputs": [],
   "source": [
    "from langchain.chains import ConversationChain"
   ]
  },
  {
   "cell_type": "code",
   "execution_count": 34,
   "metadata": {},
   "outputs": [
    {
     "data": {
      "text/plain": [
       "ConversationChain(memory=ConversationBufferMemory(chat_memory=ChatMessageHistory(messages=[HumanMessage(content='최근 넷플릭스에 올라온 재밌는 sf 콘텐츠는 무엇이 있나요?'), AIMessage(content='안녕하세요. 최근에는 삼체라는 콘텐츠가 인기있어요.'), HumanMessage(content='어떤 스토리의 영화인가요?'), AIMessage(content='1960년대 중국의 한 젊은 여성이 내린 운명적 결정이 시공을 뛰어넘어 현재의 유수 과학자들에게 불가사의한 영향을 미치는 가운데, \\n        절친인 다섯 명의 과학자들이 인류 역사상 가장 거대한 위협에 맞닥뜨리는 넷플릭스 SF 시리즈입니다.'), HumanMessage(content='언제 출시됐나요?'), AIMessage(content='2024년 3월 21일에 넷플릭스에 업로드 됐습니다.')]), return_messages=True), llm=ChatOpenAI(client=<openai.resources.chat.completions.Completions object at 0x11fc9cb80>, async_client=<openai.resources.chat.completions.AsyncCompletions object at 0x12f011360>, temperature=0.0, openai_api_key=SecretStr('**********'), openai_proxy=''))"
      ]
     },
     "execution_count": 34,
     "metadata": {},
     "output_type": "execute_result"
    }
   ],
   "source": [
    "llm = ChatOpenAI(\n",
    "    temperature=0,\n",
    "    model='gpt-3.5-turbo',\n",
    ")\n",
    "\n",
    "conversation_chain = ConversationChain(\n",
    "    llm=llm,\n",
    "    memory = memory,\n",
    ")\n",
    "\n",
    "conversation_chain"
   ]
  },
  {
   "cell_type": "code",
   "execution_count": 36,
   "metadata": {},
   "outputs": [
    {
     "name": "stdout",
     "output_type": "stream",
     "text": [
      "안녕하세요! 최근 넷플릭스에 올라온 재미있는 SF 콘텐츠는 '삼체'라는 시리즈가 인기를 끌고 있어요. 이 콘텐츠는 1960년대 중국의 한 젊은 여성이 내린 운명적 결정이 시공을 뛰어넘어 현재의 유수 과학자들에게 불가사의한 영향을 미치는 가운데, 절친인 다섯 명의 과학자들이 인류 역사상 가장 거대한 위협에 맞닥뜨리는 내용을 담고 있습니다. 이 시리즈는 2024년 3월 21일에 넷플릭스에 업로드 되었습니다. 혹시 다른 궁금한 점이 있으시면 물어봐 주세요!\n"
     ]
    }
   ],
   "source": [
    "# 대화 시작\n",
    "\n",
    "response = conversation_chain.predict(\n",
    "    input='최근 올라온 넷플릭스에서 재밌는 cf 콘텐츠 알려줘'\n",
    ")\n",
    "\n",
    "print(response)"
   ]
  },
  {
   "cell_type": "markdown",
   "metadata": {},
   "source": [
    "\n",
    "    ConversationChain(memory=ConversationBufferMemory(chat_memory=ChatMessageHistory(messages=[HumanMessage(content='최근 넷플릭스에 올라온 재밌는 sf 콘텐츠는 무엇이 있나요?'), AIMessage(content='안녕하세요. 최근에는 삼체라는 콘텐츠가 인기있어요.'), HumanMessage(content='어떤 스토리의 영화인가요?'), AIMessage(content='1960년대 중국의 한 젊은 여성이 내린 운명적 결정이 시공을 뛰어넘어 현재의 유수 과학자들에게 불가사의한 영향을 미치는 가운데, \\n        절친인 다섯 명의 과학자들이 인류 역사상 가장 거대한 위협에 맞닥뜨리는 넷플릭스 SF 시리즈입니다.'), HumanMessage(content='언제 출시됐나요?'), AIMessage(content='2024년 3월 21일에 넷플릭스에 업로드 됐습니다.')]), return_messages=True), llm=ChatOpenAI(client=<openai.resources.chat.completions.Completions object at 0x11fc9cb80>, async_client=<openai.resources.chat.completions.AsyncCompletions object at 0x12f011360>, temperature=0.0, openai_api_key=SecretStr('**********'), openai_proxy=''))"
   ]
  },
  {
   "cell_type": "markdown",
   "metadata": {},
   "source": [
    "\n",
    "    "
   ]
  },
  {
   "cell_type": "code",
   "execution_count": 37,
   "metadata": {},
   "outputs": [
    {
     "name": "stdout",
     "output_type": "stream",
     "text": [
      "안녕하세요! 최근 넷플릭스에 올라온 재미있는 SF 콘텐츠는 '삼체'라는 시리즈가 인기를 끌고 있어요. 이 콘텐츠는 1960년대 중국의 한 젊은 여성이 내린 운명적 결정이 시공을 뛰어넘어 현재의 유수 과학자들에게 불가사의한 영향을 미치는 가운데, 절친인 다섯 명의 과학자들이 인류 역사상 가장 거대한 위협에 맞닥뜨리는 내용을 담고 있습니다. 이 시리즈는 2024년 3월 21일에 넷플릭스에 업로드 되었습니다. 혹시 다른 궁금한 점이 있으시면 물어봐 주세요!\n"
     ]
    }
   ],
   "source": [
    "response = conversation_chain.predict(\n",
    "    input='이전 답변을 영화 소개 프로그램에서 소개하듯이 다시 알려줘'\n",
    ")\n",
    "\n",
    "print(response)"
   ]
  },
  {
   "cell_type": "markdown",
   "metadata": {},
   "source": [
    "\n",
    "    안녕하세요! 최근 넷플릭스에 올라온 재미있는 SF 콘텐츠는 '삼체'라는 시리즈가 인기를 끌고 있어요. 이 콘텐츠는 1960년대 중국의 한 젊은 여성이 내린 운명적 결정이 시공을 뛰어넘어 현재의 유수 과학자들에게 불가사의한 영향을 미치는 가운데, 절친인 다섯 명의 과학자들이 인류 역사상 가장 거대한 위협에 맞닥뜨리는 내용을 담고 있습니다. 이 시리즈는 2024년 3월 21일에 넷플릭스에 업로드 되었습니다. 혹시 다른 궁금한 점이 있으시면 물어봐 주세요!"
   ]
  },
  {
   "cell_type": "markdown",
   "metadata": {},
   "source": []
  }
 ],
 "metadata": {
  "kernelspec": {
   "display_name": "venv",
   "language": "python",
   "name": "python3"
  },
  "language_info": {
   "codemirror_mode": {
    "name": "ipython",
    "version": 3
   },
   "file_extension": ".py",
   "mimetype": "text/x-python",
   "name": "python",
   "nbconvert_exporter": "python",
   "pygments_lexer": "ipython3",
   "version": "3.10.12"
  }
 },
 "nbformat": 4,
 "nbformat_minor": 2
}
