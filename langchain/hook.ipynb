{
 "cells": [
  {
   "cell_type": "code",
   "execution_count": 1,
   "metadata": {},
   "outputs": [],
   "source": [
    "from goyoai_ai_server.hub.model.chat import (\n",
    "    OpenAIChatModelNamesEnum,\n",
    "    get_chat_model,\n",
    ")\n",
    "\n",
    "chat_model = get_chat_model(OpenAIChatModelNamesEnum.GPT4O_MINI)"
   ]
  },
  {
   "cell_type": "code",
   "execution_count": 2,
   "metadata": {},
   "outputs": [
    {
     "data": {
      "text/plain": [
       "AIMessage(content='Hello! How can I assist you today?', additional_kwargs={'refusal': None}, response_metadata={'token_usage': {'completion_tokens': 9, 'prompt_tokens': 8, 'total_tokens': 17, 'completion_tokens_details': {'accepted_prediction_tokens': 0, 'audio_tokens': 0, 'reasoning_tokens': 0, 'rejected_prediction_tokens': 0}, 'prompt_tokens_details': {'audio_tokens': 0, 'cached_tokens': 0}}, 'model_name': 'gpt-4o-mini-2024-07-18', 'system_fingerprint': None, 'id': 'chatcmpl-BrdAJYosGrZGTH8R1vp2t9Xlkby88', 'service_tier': 'default', 'finish_reason': 'stop', 'logprobs': None}, id='run--3ee0a2d8-44e5-4384-859b-8f0306ecc8d2-0', usage_metadata={'input_tokens': 8, 'output_tokens': 9, 'total_tokens': 17, 'input_token_details': {'audio': 0, 'cache_read': 0}, 'output_token_details': {'audio': 0, 'reasoning': 0}})"
      ]
     },
     "execution_count": 2,
     "metadata": {},
     "output_type": "execute_result"
    }
   ],
   "source": [
    "chat_model.invoke(\"hi\")"
   ]
  },
  {
   "cell_type": "code",
   "execution_count": 3,
   "metadata": {},
   "outputs": [],
   "source": [
    "from typing import TypedDict, List\n",
    "from langchain_core.messages import BaseMessage\n",
    "\n",
    "class AgentState(TypedDict):\n",
    "    messages: List[BaseMessage]"
   ]
  },
  {
   "cell_type": "code",
   "execution_count": 4,
   "metadata": {},
   "outputs": [],
   "source": [
    "from goyoai_ai_server.services.intern.tools.web_search.perplexity.tool import PerplexityWebSearchTool\n",
    "\n",
    "web_search_tool = PerplexityWebSearchTool()\n",
    "tools = [web_search_tool]"
   ]
  },
  {
   "cell_type": "code",
   "execution_count": 5,
   "metadata": {},
   "outputs": [],
   "source": [
    "from langchain_core.messages import ToolMessage\n",
    "from langchain_core.runnables import RunnableLambda\n",
    "from langchain_core.tools import tool"
   ]
  },
  {
   "cell_type": "code",
   "execution_count": 6,
   "metadata": {},
   "outputs": [],
   "source": [
    "llm_with_tools = chat_model.bind_tools(tools)\n",
    "\n",
    "def call_llm_node(state: AgentState) -> AgentState:\n",
    "    response = llm_with_tools.invoke(state[\"messages\"])\n",
    "    print(\"🧠 LLM 응답:\", response.content)\n",
    "    print(\"🧩 Tool Calls:\", getattr(response, \"tool_calls\", None))  # 👈 이게 있어야 tool 실행됨\n",
    "    return {\"messages\": state[\"messages\"] + [response]}"
   ]
  },
  {
   "cell_type": "code",
   "execution_count": 7,
   "metadata": {},
   "outputs": [],
   "source": [
    "from langchain_core.runnables import RunnableLambda\n",
    "\n",
    "def tool_executor(state: AgentState) -> AgentState:\n",
    "    last_message = state['messages'][-1]\n",
    "    if hasattr(last_message, \"tool_calls\"):\n",
    "        new_messages = state[\"messages\"]\n",
    "        for call in last_message.tool_calls:\n",
    "            tool_name = call[\"name\"]\n",
    "            args = call[\"args\"]\n",
    "            tool = next(t for t in tools if t.name == tool_name)\n",
    "            result, _ = tool._run(**args)\n",
    "            tool_msg = ToolMessage(content=result, tool_call_id=call[\"id\"])\n",
    "            new_messages.append(tool_msg)\n",
    "        return {\"messages\" : new_messages}\n",
    "\n",
    "    return state"
   ]
  },
  {
   "cell_type": "code",
   "execution_count": 8,
   "metadata": {},
   "outputs": [],
   "source": [
    "from langgraph.graph import StateGraph\n",
    "\n",
    "graph = StateGraph(state_schema=AgentState)\n",
    "\n",
    "graph.add_node(\"call_llm\", RunnableLambda(call_llm_node))\n",
    "graph.add_node(\"call_tool\", tool_executor)\n",
    "\n",
    "graph.set_entry_point(\"call_llm\")\n",
    "\n",
    "def should_use_tool(state: AgentState) -> str:\n",
    "    last_msg = state[\"messages\"][-1]\n",
    "    \n",
    "    if hasattr(last_msg, \"tool_calls\") and last_msg.tool_calls:\n",
    "        return \"call_tool\"\n",
    "    return \"end\"\n",
    "\n",
    "\n",
    "graph.add_conditional_edges(\"call_llm\", should_use_tool)\n",
    "graph.add_edge(\"call_tool\", \"call_llm\")\n",
    "graph.set_finish_point(\"call_llm\")\n",
    "\n",
    "runnable = graph.compile()"
   ]
  },
  {
   "cell_type": "code",
   "execution_count": 9,
   "metadata": {},
   "outputs": [
    {
     "name": "stdout",
     "output_type": "stream",
     "text": [
      "🧠 LLM 응답: 안녕하세요! 무엇을 도와드릴까요?\n",
      "🧩 Tool Calls: []\n",
      "🤖 안녕하세요! 무엇을 도와드릴까요?\n",
      "🧠 LLM 응답: \n",
      "🧩 Tool Calls: [{'name': 'web_search', 'args': {'query': '오늘 날씨'}, 'id': 'call_rZkhVW0DrvIffANrKDLjza67', 'type': 'tool_call'}]\n",
      "🧠 LLM 응답: 오늘의 날씨 정보는 제공되지 않지만, 기상청의 [날씨누리](https://www.weather.go.kr/w/weather/now.do) 웹사이트를 방문하면 현재 위치의 최신 날씨를 확인할 수 있습니다. \n",
      "\n",
      "날씨는 다음과 같은 기호로 설명됩니다:\n",
      "- 맑음\n",
      "- 구름조금\n",
      "- 구름많음\n",
      "- 흐림\n",
      "- 소나기\n",
      "- 비\n",
      "- 눈\n",
      "- 비 또는 눈\n",
      "\n",
      "원하는 지역의 날씨를 확인하시려면 위 링크를 클릭하여 직접 확인하시기 바랍니다. 도움이 필요하면 말씀해 주세요!\n",
      "🧩 Tool Calls: []\n",
      "🤖 오늘의 날씨 정보는 제공되지 않지만, 기상청의 [날씨누리](https://www.weather.go.kr/w/weather/now.do) 웹사이트를 방문하면 현재 위치의 최신 날씨를 확인할 수 있습니다. \n",
      "\n",
      "날씨는 다음과 같은 기호로 설명됩니다:\n",
      "- 맑음\n",
      "- 구름조금\n",
      "- 구름많음\n",
      "- 흐림\n",
      "- 소나기\n",
      "- 비\n",
      "- 눈\n",
      "- 비 또는 눈\n",
      "\n",
      "원하는 지역의 날씨를 확인하시려면 위 링크를 클릭하여 직접 확인하시기 바랍니다. 도움이 필요하면 말씀해 주세요!\n",
      "🧠 LLM 응답: 더 궁금한 점이나 필요한 정보가 있으시면 언제든지 말씀해 주세요!\n",
      "🧩 Tool Calls: []\n",
      "🤖 더 궁금한 점이나 필요한 정보가 있으시면 언제든지 말씀해 주세요!\n",
      "🧠 LLM 응답: 도움이 필요하시면 언제든지 말씀해 주세요! 어떤 정보를 찾고 계신가요?\n",
      "🧩 Tool Calls: []\n",
      "🤖 도움이 필요하시면 언제든지 말씀해 주세요! 어떤 정보를 찾고 계신가요?\n",
      "🧠 LLM 응답: 어떤 정보가 필요하신지 말씀해 주시면 도와드리겠습니다. 질문이 있으시면 언제든지 말씀해 주세요!\n",
      "🧩 Tool Calls: []\n",
      "🤖 어떤 정보가 필요하신지 말씀해 주시면 도와드리겠습니다. 질문이 있으시면 언제든지 말씀해 주세요!\n",
      "🧠 LLM 응답: 아직 질문이나 요청이 없으신 것 같습니다. 필요하신 정보가 생기면 언제든지 말씀해 주세요!\n",
      "🧩 Tool Calls: []\n",
      "🤖 아직 질문이나 요청이 없으신 것 같습니다. 필요하신 정보가 생기면 언제든지 말씀해 주세요!\n",
      "🧠 LLM 응답: 현재 질문이 없으신 것 같습니다. 도움이 필요하시면 언제든지 말씀해 주세요!\n",
      "🧩 Tool Calls: []\n",
      "🤖 현재 질문이 없으신 것 같습니다. 도움이 필요하시면 언제든지 말씀해 주세요!\n"
     ]
    }
   ],
   "source": [
    "from langchain_core.messages import HumanMessage\n",
    "from langchain_core.messages import SystemMessage\n",
    "\n",
    "chat_history = [\n",
    "    SystemMessage(\n",
    "    content=\"너는 웹 검색 도구를 사용할 수 있어. 실시간 정보나 모르는 건 반드시 tool_call을 생성해서 도구를 사용한 후, 도구 응답(ToolMessage)을 참고해서 답변을 만들어야 해.\"\n",
    ")\n",
    "]\n",
    "\n",
    "while True:\n",
    "    user_input = input(\"👤 You: \")\n",
    "    if user_input.lower() in {\"exit\", \"quit\"}:\n",
    "        break\n",
    "\n",
    "    chat_history.append(HumanMessage(content=user_input))\n",
    "    result = runnable.invoke({\"messages\": chat_history})\n",
    "    chat_history = result[\"messages\"]\n",
    "\n",
    "    print(\"🤖\", chat_history[-1].content)\n",
    "    \n",
    "    "
   ]
  },
  {
   "cell_type": "markdown",
   "metadata": {},
   "source": []
  },
  {
   "cell_type": "code",
   "execution_count": null,
   "metadata": {},
   "outputs": [],
   "source": []
  },
  {
   "cell_type": "code",
   "execution_count": null,
   "metadata": {},
   "outputs": [],
   "source": []
  },
  {
   "cell_type": "code",
   "execution_count": null,
   "metadata": {},
   "outputs": [],
   "source": []
  }
 ],
 "metadata": {
  "kernelspec": {
   "display_name": ".venv",
   "language": "python",
   "name": "python3"
  },
  "language_info": {
   "codemirror_mode": {
    "name": "ipython",
    "version": 3
   },
   "file_extension": ".py",
   "mimetype": "text/x-python",
   "name": "python",
   "nbconvert_exporter": "python",
   "pygments_lexer": "ipython3",
   "version": "3.11.10"
  }
 },
 "nbformat": 4,
 "nbformat_minor": 2
}
