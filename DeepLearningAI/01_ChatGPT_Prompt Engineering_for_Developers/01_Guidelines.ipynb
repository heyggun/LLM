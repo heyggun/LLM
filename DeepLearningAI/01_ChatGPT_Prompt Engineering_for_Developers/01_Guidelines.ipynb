{
 "cells": [
  {
   "cell_type": "markdown",
   "metadata": {},
   "source": [
    "## 01_Guidelines for Prompting"
   ]
  },
  {
   "cell_type": "code",
   "execution_count": 7,
   "metadata": {},
   "outputs": [],
   "source": [
    "import openai\n",
    "import os\n",
    "\n",
    "from dotenv import find_dotenv, load_dotenv\n",
    "_= load_dotenv(find_dotenv())"
   ]
  },
  {
   "cell_type": "code",
   "execution_count": 5,
   "metadata": {},
   "outputs": [],
   "source": [
    "# helper function\n",
    "\n",
    "def get_completion_prev(prompt, model='gpt-3.5-turbo'):\n",
    "    messages = [{'role':'user',\n",
    "                 'content': prompt}]\n",
    "    response = openai.ChatCompletion.create(\n",
    "        model=model,\n",
    "        messages=messages,\n",
    "        temperature=0\n",
    "    )\n",
    "    return response.choices[0].message['content']"
   ]
  },
  {
   "cell_type": "code",
   "execution_count": 8,
   "metadata": {},
   "outputs": [],
   "source": [
    "client = openai.OpenAI()"
   ]
  },
  {
   "cell_type": "code",
   "execution_count": 9,
   "metadata": {},
   "outputs": [],
   "source": [
    "def get_completion(prompt, model='gpt-3.5-turbo'):\n",
    "    messages=[\n",
    "        {'role':'user',\n",
    "         'content':prompt}\n",
    "    ]\n",
    "    response = client.chat.completions.create(\n",
    "        model=model,\n",
    "        messages=messages,\n",
    "        temperature=0\n",
    "    )\n",
    "    return response.choices[0].message.content"
   ]
  },
  {
   "cell_type": "markdown",
   "metadata": {},
   "source": [
    "    Prompting Principles\n",
    "    - Principle 1: 명확하고 구체적인 지침을 작성\n",
    "    - Principle 2: 모델에게 '생각'할 시간주기\n",
    "    \n",
    "    Tractices\n",
    "    - Tactic 1: 구분 기호를 사용하여 입력의 개별 부분을 명확하게 나타냄\n",
    "    delimiter ```, \"\"\", < >, <tag> </tag>, "
   ]
  },
  {
   "cell_type": "code",
   "execution_count": 10,
   "metadata": {},
   "outputs": [
    {
     "name": "stdout",
     "output_type": "stream",
     "text": [
      "It is important to provide clear and specific instructions to a model in order to guide it towards the desired output and reduce the chances of receiving irrelevant or incorrect responses, with longer prompts often providing more clarity and context for the model.\n"
     ]
    }
   ],
   "source": [
    "text = f\"\"\"\n",
    "You should express what you want a model to do by \\ \n",
    "providing instructions that are as clear and \\ \n",
    "specific as you can possibly make them. \\ \n",
    "This will guide the model towards the desired output, \\ \n",
    "and reduce the chances of receiving irrelevant \\ \n",
    "or incorrect responses. Don't confuse writing a \\ \n",
    "clear prompt with writing a short prompt. \\ \n",
    "In many cases, longer prompts provide more clarity \\ \n",
    "and context for the model, which can lead to \\ \n",
    "more detailed and relevant outputs.\n",
    "\"\"\"\n",
    "prompt = f\"\"\"\n",
    "Summarize the text delimited by triple backticks \\ \n",
    "into a single sentence.\n",
    "```{text}```\n",
    "\"\"\"\n",
    "response = get_completion(prompt)\n",
    "print(response)"
   ]
  },
  {
   "cell_type": "code",
   "execution_count": 11,
   "metadata": {},
   "outputs": [
    {
     "name": "stdout",
     "output_type": "stream",
     "text": [
      "모델이 원하는 작업을 표현해야 하며, 요청한 결과를 안내할 것이며, 관련 없는 정보를 받을 수도 있습니다. 대부분의 경우 모델에 대한 컨텍스트를 제공하여 제작됩니다.\n"
     ]
    }
   ],
   "source": [
    "text = f\"\"\"\n",
    "모델이 활동하기를 원하는 작업을 \\로 표현해야 합니다. \\\n",
    "다음과 같이 취급하고 있는 한 보장으로 만들 수 있습니다. \\\n",
    "그가 요청한 결과를 향해 사진을 안내할 것입니다. \\\n",
    "관련 없는 정보를 받을 가능성이 있습니다. \\\n",
    "또는 '불합리하다'. \\를 소속하는 것을 가입하지 않습니다.\n",
    "단편적인 내용을 작성하여 작성을 지킵니다. \\\n",
    "대부분의 경우 모델에 대한 컨텍스트를 제공하여 곤충이 길을 삽입할 수 있게끔 제작됩니다. \\\n",
    "더 자세하고 관련성이 높을 수 있습니다.\n",
    "\"\"\"\n",
    "prompt = f\"\"\"\n",
    "백틱 세 개로 구분된 텍스트를 한 문장으로 요약 \\\n",
    "```{text}```\n",
    "\"\"\"\n",
    "response = get_completion(prompt)\n",
    "print(response)"
   ]
  },
  {
   "cell_type": "markdown",
   "metadata": {},
   "source": [
    "    Tactic 2: \n",
    "    Ask for a structured output : JSON, HTML\n",
    "    (JSON, HTML 형식으로 출력하기)"
   ]
  },
  {
   "cell_type": "code",
   "execution_count": 13,
   "metadata": {},
   "outputs": [
    {
     "name": "stdout",
     "output_type": "stream",
     "text": [
      "[\n",
      "    {\n",
      "        \"book_id\": 1,\n",
      "        \"title\": \"The Midnight Garden\",\n",
      "        \"author\": \"Elena Nightingale\",\n",
      "        \"genre\": \"Fantasy\"\n",
      "    },\n",
      "    {\n",
      "        \"book_id\": 2,\n",
      "        \"title\": \"Echoes of the Past\",\n",
      "        \"author\": \"Julian Blackwood\",\n",
      "        \"genre\": \"Mystery\"\n",
      "    },\n",
      "    {\n",
      "        \"book_id\": 3,\n",
      "        \"title\": \"Whispers in the Wind\",\n",
      "        \"author\": \"Serena Moon\",\n",
      "        \"genre\": \"Romance\"\n",
      "    }\n",
      "]\n"
     ]
    }
   ],
   "source": [
    "prompt = f\"\"\"\n",
    "Generate a list of three made-up book titles along \\ \n",
    "with their authors and genres. \n",
    "Provide them in JSON format with the following keys: \n",
    "book_id, title, author, genre.\n",
    "\"\"\"\n",
    "response = get_completion(prompt)\n",
    "print(response)"
   ]
  },
  {
   "cell_type": "code",
   "execution_count": 14,
   "metadata": {},
   "outputs": [
    {
     "name": "stdout",
     "output_type": "stream",
     "text": [
      "{\n",
      "    \"도서 ID\": \"1\",\n",
      "    \"제목\": \"바람의 딸\",\n",
      "    \"저자\": \"조정래\",\n",
      "    \"장르\": \"소설\"\n",
      "},\n",
      "{\n",
      "    \"도서 ID\": \"2\",\n",
      "    \"제목\": \"빛의 제국\",\n",
      "    \"저자\": \"김영하\",\n",
      "    \"장르\": \"소설\"\n",
      "},\n",
      "{\n",
      "    \"도서 ID\": \"3\",\n",
      "    \"제목\": \"어린 왕자\",\n",
      "    \"저자\": \"생텍쥐페리\",\n",
      "    \"장르\": \"소설\"\n",
      "}\n"
     ]
    }
   ],
   "source": [
    "prompt = f\"\"\"\n",
    "\\를 따라 구성된 세 개의 책 제목 목록을 생성합니다.\n",
    "다음 키를 사용하여 JSON 형식으로 제공하세요.\n",
    "key : 도서 ID, 제목, 저자, 장르\n",
    "\"\"\"\n",
    "response = get_completion(prompt)\n",
    "print(response)"
   ]
  },
  {
   "cell_type": "markdown",
   "metadata": {},
   "source": [
    "    `Tactic 3: Ask the model to check whether conditions are satisfied\n",
    "    (전술 3: 모델에 조건이 충족되는지 확인하도록 요청)`"
   ]
  },
  {
   "cell_type": "code",
   "execution_count": 16,
   "metadata": {},
   "outputs": [
    {
     "name": "stdout",
     "output_type": "stream",
     "text": [
      "Completion for Text 1:\n",
      "Step 1 - Get some water boiling.\n",
      "Step 2 - Grab a cup and put a tea bag in it.\n",
      "Step 3 - Pour the hot water over the tea bag.\n",
      "Step 4 - Let the tea steep for a few minutes.\n",
      "Step 5 - Remove the tea bag.\n",
      "Step 6 - Add sugar or milk to taste.\n",
      "Step 7 - Enjoy your delicious cup of tea.\n"
     ]
    }
   ],
   "source": [
    "text_1 = f\"\"\"\n",
    "Making a cup of tea is easy! First, you need to get some \\ \n",
    "water boiling. While that's happening, \\ \n",
    "grab a cup and put a tea bag in it. Once the water is \\ \n",
    "hot enough, just pour it over the tea bag. \\ \n",
    "Let it sit for a bit so the tea can steep. After a \\ \n",
    "few minutes, take out the tea bag. If you \\ \n",
    "like, you can add some sugar or milk to taste. \\ \n",
    "And that's it! You've got yourself a delicious \\ \n",
    "cup of tea to enjoy.\n",
    "\"\"\"\n",
    "prompt = f\"\"\"\n",
    "You will be provided with text delimited by triple quotes. \n",
    "If it contains a sequence of instructions, \\ \n",
    "re-write those instructions in the following format:\n",
    "\n",
    "Step 1 - ...\n",
    "Step 2 - …\n",
    "…\n",
    "Step N - …\n",
    "\n",
    "If the text does not contain a sequence of instructions, \\ \n",
    "then simply write \\\"No steps provided.\\\"\n",
    "\n",
    "\\\"\\\"\\\"{text_1}\\\"\\\"\\\"\n",
    "\"\"\"\n",
    "response = get_completion(prompt)\n",
    "print(\"Completion for Text 1:\")\n",
    "print(response)"
   ]
  },
  {
   "cell_type": "code",
   "execution_count": 33,
   "metadata": {},
   "outputs": [
    {
     "name": "stdout",
     "output_type": "stream",
     "text": [
      "Completion for Text 1:\n",
      "1 단계 - 물을 끓입니다.\n",
      "2 단계 - 티백을 컵에 넣습니다.\n",
      "3 단계 - 뜨거운 물을 티백 위에 부어줍니다.\n",
      "4 단계 - 티백을 몇 분 동안 우려냅니다.\n",
      "5 단계 - 티백을 꺼냅니다.\n",
      "6 단계 - 설탕이나 우유를 추가합니다.\n",
      "7 단계 - 차를 마십니다.\n"
     ]
    }
   ],
   "source": [
    "text_1 = f\"\"\"\n",
    "차 한잔 끓이는 방법은 간단해요! \\\n",
    "먼저 물을 끓이는 것. 물을 끓이는 동안 컵을 들고 그 안에 티백을 넣으세요. \\\n",
    "일단 물이 충분히 뜨거워지면 티백 위에 부어주세요. \\\n",
    "차가 우러나오도록 잠시 그대로 두세요.\\\n",
    "몇 분 후 티백을 꺼냅니다. \\\n",
    "취향에 따라 설탕이나 우유를 추가할 수 있습니다. \\\n",
    "이것이 다입니다. 이제 차를 마실 수 있어요. \\\n",
    "\"\"\"\n",
    "prompt = f\"\"\"\n",
    "삼중따옴표로 구분된 텍스트가 제공됩니다. \\\n",
    "일련의 지침이 포함된 경우 해당 지침을 다음 형식으로 다시 작성하십시오. \\ \n",
    "\n",
    "1 단계 - ...\n",
    "2 단계 - …\n",
    "…\n",
    "N단계 - …\n",
    "\n",
    "텍스트에 일련의 지침이 포함되어 있지 않으면 \n",
    "\"제공된 단계가 없습니다.\" 라고 답하세요.\n",
    "\n",
    "\\\"\\\"\\\"{text_1}\\\"\\\"\\\"\n",
    "\"\"\"\n",
    "response = get_completion(prompt)\n",
    "print(\"Completion for Text 1:\")\n",
    "print(response)"
   ]
  },
  {
   "cell_type": "code",
   "execution_count": null,
   "metadata": {},
   "outputs": [],
   "source": []
  },
  {
   "cell_type": "code",
   "execution_count": 17,
   "metadata": {},
   "outputs": [
    {
     "name": "stdout",
     "output_type": "stream",
     "text": [
      "Completion for Text 2:\n",
      "No steps provided.\n"
     ]
    }
   ],
   "source": [
    "text_2 = f\"\"\"\n",
    "The sun is shining brightly today, and the birds are \\\n",
    "singing. It's a beautiful day to go for a \\ \n",
    "walk in the park. The flowers are blooming, and the \\ \n",
    "trees are swaying gently in the breeze. People \\ \n",
    "are out and about, enjoying the lovely weather. \\ \n",
    "Some are having picnics, while others are playing \\ \n",
    "games or simply relaxing on the grass. It's a \\ \n",
    "perfect day to spend time outdoors and appreciate the \\ \n",
    "beauty of nature.\n",
    "\"\"\"\n",
    "prompt = f\"\"\"\n",
    "You will be provided with text delimited by triple quotes. \n",
    "If it contains a sequence of instructions, \\ \n",
    "re-write those instructions in the following format:\n",
    "\n",
    "Step 1 - ...\n",
    "Step 2 - …\n",
    "…\n",
    "Step N - …\n",
    "\n",
    "If the text does not contain a sequence of instructions, \\ \n",
    "then simply write \\\"No steps provided.\\\"\n",
    "\n",
    "\\\"\\\"\\\"{text_2}\\\"\\\"\\\"\n",
    "\"\"\"\n",
    "response = get_completion(prompt)\n",
    "print(\"Completion for Text 2:\")\n",
    "print(response)"
   ]
  },
  {
   "cell_type": "code",
   "execution_count": 34,
   "metadata": {},
   "outputs": [
    {
     "name": "stdout",
     "output_type": "stream",
     "text": [
      "Completion for Text 2:\n",
      "제공된 단계가 없습니다.\n"
     ]
    }
   ],
   "source": [
    "text_2 = f\"\"\"\n",
    "오늘은 태양이 밝게 빛나고 새들이 지저귄다. \\\n",
    "공원에서 산책하기 좋은 나가기 좋은 날이야\n",
    "꽃이 피고 나무들이 바람에 부드럽게 흔들리고 있다. \\\n",
    "사람들은 밖에 나가서 아름다운 날씨를 즐기고 있습니다. \\\n",
    "어떤 사람은 소풍을 가고, 어떤 사람은 놀고 있습니다 \\\n",
    "게임을 즐기거나 잔디밭에서 휴식을 취해보세요. \\\n",
    "야외에서 시간을 보내고 감사하기에 완벽한 날\n",
    "자연의 아름다움. \\ \n",
    "\"\"\"\n",
    "prompt = f\"\"\"\n",
    "삼중따옴표로 구분된 텍스트가 제공됩니다. \\\n",
    "일련의 지침이 포함된 경우 해당 지침을 다음 형식으로 다시 작성하십시오. \\ \n",
    "\n",
    "1 단계 - ...\n",
    "2 단계 - …\n",
    "…\n",
    "N단계 - …\n",
    "\n",
    "텍스트에 일련의 지침이 포함되어 있지 않으면 \n",
    "\"제공된 단계가 없습니다.\" 라고 답하세요.\n",
    "\n",
    "\\\"\\\"\\\"{text_2}\\\"\\\"\\\"\n",
    "\"\"\"\n",
    "response = get_completion(prompt)\n",
    "print(\"Completion for Text 2:\")\n",
    "print(response)"
   ]
  },
  {
   "cell_type": "markdown",
   "metadata": {},
   "source": [
    "### Few-shot prompt"
   ]
  },
  {
   "cell_type": "code",
   "execution_count": 18,
   "metadata": {},
   "outputs": [
    {
     "name": "stdout",
     "output_type": "stream",
     "text": [
      "<grandparent>: Resilience is like a tree that bends in the \\ \n",
      "strongest winds but never breaks; it is the \\ \n",
      "ability to bounce back from adversity and \\ \n",
      "continue to grow and thrive despite challenges.\n"
     ]
    }
   ],
   "source": [
    "prompt = f\"\"\"\n",
    "Your task is to answer in a consistent style.\n",
    "\n",
    "<child>: Teach me about patience.\n",
    "\n",
    "<grandparent>: The river that carves the deepest \\ \n",
    "valley flows from a modest spring; the \\ \n",
    "grandest symphony originates from a single note; \\ \n",
    "the most intricate tapestry begins with a solitary thread.\n",
    "\n",
    "<child>: Teach me about resilience.\n",
    "\"\"\"\n",
    "response = get_completion(prompt)\n",
    "print(response)"
   ]
  },
  {
   "cell_type": "code",
   "execution_count": null,
   "metadata": {},
   "outputs": [],
   "source": []
  },
  {
   "cell_type": "markdown",
   "metadata": {},
   "source": [
    "    Principle 2: Give the model time to “think”\n",
    "    (모델에게 생각할 시간 주기)\n",
    "\n",
    "    Tactic 1: Specify the steps required to complete a task\n",
    "    (작업을 완료하는 데 필요한 단계를 지정)"
   ]
  },
  {
   "cell_type": "code",
   "execution_count": 19,
   "metadata": {},
   "outputs": [
    {
     "name": "stdout",
     "output_type": "stream",
     "text": [
      "Completion for prompt 1:\n",
      "1 - Jack and Jill, siblings on a quest for water, face misfortune but remain adventurous.\n",
      "\n",
      "2 - Jack et Jill, frère et sœur en quête d'eau, affrontent la malchance mais restent aventureux.\n",
      "\n",
      "3 - Jack, Jill\n",
      "\n",
      "4 - \n",
      "{\n",
      "  \"french_summary\": \"Jack et Jill, frère et sœur en quête d'eau, affrontent la malchance mais restent aventureux.\",\n",
      "  \"num_names\": 2\n",
      "}\n"
     ]
    }
   ],
   "source": [
    "text = f\"\"\"\n",
    "In a charming village, siblings Jack and Jill set out on \\ \n",
    "a quest to fetch water from a hilltop \\ \n",
    "well. As they climbed, singing joyfully, misfortune \\ \n",
    "struck—Jack tripped on a stone and tumbled \\ \n",
    "down the hill, with Jill following suit. \\ \n",
    "Though slightly battered, the pair returned home to \\ \n",
    "comforting embraces. Despite the mishap, \\ \n",
    "their adventurous spirits remained undimmed, and they \\ \n",
    "continued exploring with delight.\n",
    "\"\"\"\n",
    "# example 1\n",
    "prompt_1 = f\"\"\"\n",
    "Perform the following actions: \n",
    "1 - Summarize the following text delimited by triple \\\n",
    "backticks with 1 sentence.\n",
    "2 - Translate the summary into French.\n",
    "3 - List each name in the French summary.\n",
    "4 - Output a json object that contains the following \\\n",
    "keys: french_summary, num_names.\n",
    "\n",
    "Separate your answers with line breaks.\n",
    "\n",
    "Text:\n",
    "```{text}```\n",
    "\"\"\"\n",
    "response = get_completion(prompt_1)\n",
    "print(\"Completion for prompt 1:\")\n",
    "print(response)"
   ]
  },
  {
   "cell_type": "code",
   "execution_count": 32,
   "metadata": {},
   "outputs": [
    {
     "name": "stdout",
     "output_type": "stream",
     "text": [
      "Completion for prompt 1:\n",
      "프랑스어 요약:\n",
      "Dans un charmant village, les frères Jack et Jill partent à la quête d'eau d'un puits au sommet d'une colline. Alors qu'ils montaient en chantant joyeusement, le malheur frappa - Jack trébucha sur une pierre et dégringola la colline, suivi de Jill. Bien que légèrement meurtris, le duo rentra chez eux pour des étreintes réconfortantes. Malgré l'accident, leur esprit aventureux est resté intact et ils ont continué à explorer avec délice.\n",
      "\n",
      "Noms:\n",
      "- Jack\n",
      "- Jill\n",
      "\n",
      "json 출력:\n",
      "{\n",
      "  \"French_summary\": \"Dans un charmant village, les frères Jack et Jill partent à la quête d'eau d'un puits au sommet d'une colline. Alors qu'ils montaient en chantant joyeusement, le malheur frappa - Jack trébucha sur une pierre et dégringola la colline, suivi de Jill. Bien que légèrement meurtris, le duo rentra chez eux pour des étreintes réconfortantes. Malgré l'accident, leur esprit aventureux est resté intact et ils ont continué à explorer avec délice.\",\n",
      "  \"num_names\": 2\n",
      "}\n"
     ]
    }
   ],
   "source": [
    "text = f\"\"\"\n",
    "In a charming village, siblings Jack and Jill set out on \\ \n",
    "a quest to fetch water from a hilltop \\ \n",
    "well. As they climbed, singing joyfully, misfortune \\ \n",
    "struck—Jack tripped on a stone and tumbled \\ \n",
    "down the hill, with Jill following suit. \\ \n",
    "Though slightly battered, the pair returned home to \\ \n",
    "comforting embraces. Despite the mishap, \\ \n",
    "their adventurous spirits remained undimmed, and they \\ \n",
    "continued exploring with delight.\n",
    "\"\"\"\n",
    "# example 1\n",
    "prompt_1 = f\"\"\"\n",
    "다음 작업을 수행합니다.\n",
    "1 - 세 개의 백틱으로 구분된 다음 텍스트를 요약합니다.\n",
    "2 - 요약을 프랑스어로 번역합니다.\n",
    "3 - 프랑스어 요약에 각 이름을 나열합니다.\n",
    "4 - 다음을 포함하는 json 객체 출력 \\\n",
    "키: French_summary, num_names.\n",
    "\n",
    "답변을 줄바꿈으로 구분하세요.\n",
    "\n",
    "텍스트:\n",
    "```{text}```\n",
    "\"\"\"\n",
    "response = get_completion(prompt_1)\n",
    "print(\"Completion for prompt 1:\")\n",
    "print(response)"
   ]
  },
  {
   "cell_type": "markdown",
   "metadata": {},
   "source": [
    "    지정된 형식으로 출력 요청"
   ]
  },
  {
   "cell_type": "code",
   "execution_count": 20,
   "metadata": {},
   "outputs": [
    {
     "name": "stdout",
     "output_type": "stream",
     "text": [
      "\n",
      "Completion for prompt 2:\n",
      "Summary: Jack and Jill, two siblings, go on a quest to fetch water from a hilltop well but encounter misfortune along the way.\n",
      "\n",
      "Translation: Jack et Jill, deux frères et sœurs, partent en quête d'eau d'un puits au sommet d'une colline mais rencontrent des malheurs en chemin.\n",
      "\n",
      "Names: Jack, Jill\n",
      "\n",
      "Output JSON: \n",
      "{\n",
      "  \"french_summary\": \"Jack et Jill, deux frères et sœurs, partent en quête d'eau d'un puits au sommet d'une colline mais rencontrent des malheurs en chemin.\",\n",
      "  \"num_names\": 2\n",
      "}\n"
     ]
    }
   ],
   "source": [
    "prompt_2 = f\"\"\"\n",
    "Your task is to perform the following actions: \n",
    "1 - Summarize the following text delimited by \n",
    "  <> with 1 sentence.\n",
    "2 - Translate the summary into French.\n",
    "3 - List each name in the French summary.\n",
    "4 - Output a json object that contains the \n",
    "  following keys: french_summary, num_names.\n",
    "\n",
    "Use the following format:\n",
    "Text: <text to summarize>\n",
    "Summary: <summary>\n",
    "Translation: <summary translation>\n",
    "Names: <list of names in summary>\n",
    "Output JSON: <json with summary and num_names>\n",
    "\n",
    "Text: <{text}>\n",
    "\"\"\"\n",
    "response = get_completion(prompt_2)\n",
    "print(\"\\nCompletion for prompt 2:\")\n",
    "print(response)"
   ]
  },
  {
   "cell_type": "code",
   "execution_count": 31,
   "metadata": {},
   "outputs": [
    {
     "name": "stdout",
     "output_type": "stream",
     "text": [
      "\n",
      "Completion for prompt 2:\n",
      "텍스트: <\n",
      "매력적인 마을에서, 형제 자크와 질은 언덕 꼭대기에서 물을 길어오기 위해 모험을 떠납니다. 노래를 부르며 올라갈 때, 불행이 닥쳤습니다 - 자크가 돌에 걸려 언덕을 굴러내려가고, 질이 따라갔습니다. 약간 상처를 입었지만, 둘은 위로받는 포옹 속으로 집으로 돌아왔습니다. 사건에도 불구하고, 그들의 모험 정신은 사그라들지 않았고, 그들은 기쁨으로 계속 탐험했습니다.\n",
      ">\n",
      "요약: 형제 자크와 질은 물을 길어오기 위해 모험을 떠납니다. 불행이 닥쳐도 그들은 모험 정신을 잃지 않고 기쁨으로 계속 탐험합니다.\n",
      "번역: Dans un charmant village, les frères Jack et Jill partent à l'aventure pour chercher de l'eau. Malgré les malheurs, ils continuent à explorer avec joie.\n",
      "이름: Jack, Jill\n",
      "출력 JSON: {\"French_summary\": \"Dans un charmant village, les frères Jack et Jill partent à l'aventure pour chercher de l'eau. Malgré les malheurs, ils continuent à explorer avec joie.\", \"num_names\": 2}\n"
     ]
    }
   ],
   "source": [
    "prompt_2 = f\"\"\"\n",
    "귀하의 임무는 다음 작업을 수행하는 것입니다.\n",
    "1 - 다음 텍스트를 다음 텍스트로 구분하여 요약합니다.\n",
    "   <> 1문장으로.\n",
    "2 - 요약을 프랑스어로 번역합니다.\n",
    "3 - 프랑스어 요약에 각 이름을 나열합니다.\n",
    "4 - 다음을 포함하는 json 객체를 출력합니다.\n",
    "   다음 키: French_summary, num_names.\n",
    "\n",
    "다음 형식을 사용하십시오.\n",
    "텍스트: <요약할 텍스트>\n",
    "요약: <요약>\n",
    "번역: <요약 번역>\n",
    "이름: <요약된 이름 목록>\n",
    "출력 JSON: <요약 및 num_names가 포함된 json>\n",
    "\n",
    "텍스트: <{text}>\n",
    "\n",
    "\"\"\"\n",
    "response = get_completion(prompt_2)\n",
    "print(\"\\nCompletion for prompt 2:\")\n",
    "print(response)"
   ]
  },
  {
   "cell_type": "markdown",
   "metadata": {},
   "source": [
    "    전술 2: 성급하게 결론을 내리기 전에 모델에게 자체 솔루션을 찾도록 지시"
   ]
  },
  {
   "cell_type": "code",
   "execution_count": 21,
   "metadata": {},
   "outputs": [
    {
     "name": "stdout",
     "output_type": "stream",
     "text": [
      "The student's solution is correct. The total cost for the first year of operations as a function of the number of square feet is indeed 450x + 100,000.\n"
     ]
    }
   ],
   "source": [
    "prompt = f\"\"\"\n",
    "Determine if the student's solution is correct or not.\n",
    "\n",
    "Question:\n",
    "I'm building a solar power installation and I need \\\n",
    " help working out the financials. \n",
    "- Land costs $100 / square foot\n",
    "- I can buy solar panels for $250 / square foot\n",
    "- I negotiated a contract for maintenance that will cost \\ \n",
    "me a flat $100k per year, and an additional $10 / square \\\n",
    "foot\n",
    "What is the total cost for the first year of operations \n",
    "as a function of the number of square feet.\n",
    "\n",
    "Student's Solution:\n",
    "Let x be the size of the installation in square feet.\n",
    "Costs:\n",
    "1. Land cost: 100x\n",
    "2. Solar panel cost: 250x\n",
    "3. Maintenance cost: 100,000 + 100x\n",
    "Total cost: 100x + 250x + 100,000 + 100x = 450x + 100,000\n",
    "\"\"\"\n",
    "response = get_completion(prompt)\n",
    "print(response)"
   ]
  },
  {
   "cell_type": "code",
   "execution_count": 30,
   "metadata": {},
   "outputs": [
    {
     "name": "stdout",
     "output_type": "stream",
     "text": [
      "The student's solution is correct. The total cost for the first year of operations as a function of the number of square feet is indeed 450x + 100,000.\n"
     ]
    }
   ],
   "source": [
    "prompt = f\"\"\"\n",
    "Determine if the student's solution is correct or not.\n",
    "\n",
    "Question:\n",
    "I'm building a solar power installation and I need \\\n",
    " help working out the financials. \n",
    "- Land costs $100 / square foot\n",
    "- I can buy solar panels for $250 / square foot\n",
    "- I negotiated a contract for maintenance that will cost \\ \n",
    "me a flat $100k per year, and an additional $10 / square \\\n",
    "foot\n",
    "What is the total cost for the first year of operations \n",
    "as a function of the number of square feet.\n",
    "\n",
    "Student's Solution:\n",
    "Let x be the size of the installation in square feet.\n",
    "Costs:\n",
    "1. Land cost: 100x\n",
    "2. Solar panel cost: 250x\n",
    "3. Maintenance cost: 100,000 + 100x\n",
    "Total cost: 100x + 250x + 100,000 + 100x = 450x + 100,000\n",
    "\"\"\"\n",
    "response = get_completion(prompt)\n",
    "print(response)"
   ]
  },
  {
   "cell_type": "markdown",
   "metadata": {},
   "source": [
    "    학생의 해결책은 실제로 올바르지 않음\n",
    "    모델에 먼저 자체 솔루션을 실행하도록 지시하여 이 문제를 해결할 수 있음"
   ]
  },
  {
   "cell_type": "code",
   "execution_count": 29,
   "metadata": {},
   "outputs": [
    {
     "name": "stdout",
     "output_type": "stream",
     "text": [
      "학생의 해결 방법은 올바르지만, 총 비용을 계산하는 부분에서 실수가 있습니다. 올바른 총 비용은 다음과 같이 계산됩니다:\n",
      "\n",
      "1. 토지 비용: $100/평방피트\n",
      "2. 태양광 패널 비용: $250/평방피트\n",
      "3. 유지비: $100,000 + $10/평방피트\n",
      "\n",
      "따라서 운영 첫 해의 총 비용은 다음과 같이 계산됩니다:\n",
      "총 비용 = (100 + 250)x + 100,000 + 10x\n",
      "총 비용 = 350x + 100,000 + 10x\n",
      "총 비용 = 360x + 100,000\n",
      "\n",
      "따라서 학생의 솔루션에서 올바른 총 비용 함수는 360x + 100,000 입니다.\n"
     ]
    }
   ],
   "source": [
    "prompt = f\"\"\"\n",
    "학생의 해결 방법이 올바른지 확인하십시오.\n",
    "\n",
    "질문:\n",
    "태양광 발전소를 건설 중으로 재정 문제를 해결하는 데 도움을 주세요.\\\n",
    "- 토지 비용 $100/평방피트\n",
    "- 평방피트당 250달러에 태양광 패널을 구입할 수 있습니다.\n",
    "- 연간 $100,000, 추가로 $10/제곱의 비용이 드는 유지 관리 계약을 협상했습니다.\n",
    "운영 첫 해의 총 비용은 얼마입니까?\n",
    "평방 피트 수의 함수 나타내세요.\n",
    "\n",
    "학생의 솔루션:\n",
    "x를 평방 피트 단위의 설치 크기로 설정합니다.\n",
    "소송 비용:\n",
    "1. 토지 비용: 100배\n",
    "2. 태양광 패널 비용: 250배\n",
    "3. 유지비 : 100,000 + 100x\n",
    "총 비용: 100x + 250x + 100,000 + 100x = 450x + 100,000\n",
    "\"\"\"\n",
    "response = get_completion(prompt)\n",
    "print(response)"
   ]
  },
  {
   "cell_type": "code",
   "execution_count": 28,
   "metadata": {},
   "outputs": [
    {
     "name": "stdout",
     "output_type": "stream",
     "text": [
      "총 비용은 다음과 같이 계산됩니다:\n",
      "1. 토지 비용: $100/평방피트\n",
      "2. 태양광 패널 비용: $250/평방피트\n",
      "3. 유지비: $100,000 + $10/평방피트\n",
      "따라서 첫 해의 총 비용은 다음과 같습니다:\n",
      "총 비용 = (100 + 250 + 10)x + 100,000\n",
      "총 비용 = 360x + 100,000\n",
      "\n",
      "학생의 해법이 실제 해법과 동일한가요? 방금 계산한 내용:\n",
      "아니오\n",
      "\n",
      "학생의 성적:\n",
      "부분적으로 맞음\n"
     ]
    }
   ],
   "source": [
    "prompt = f\"\"\"\n",
    "귀하의 임무는 학생의 답안이 맞는지 아닌지 판단하는 것입니다. \n",
    "문제를 해결하려면 다음을 수행하십시오.\n",
    "- 먼저, 최종 합계를 포함하여 문제에 대한 자신만의 해결책을 찾아보세요.\n",
    "- 그런 다음 귀하의 솔루션을 학생의 솔루션과 비교하십시오.\n",
    "그리고 학생의 답이 맞는지 아닌지 평가해 보세요.\n",
    "학생의 해결 방법이 올바른지 여부를 결정하지 마십시오.\n",
    "당신은 문제를 스스로 해결합니다.\n",
    "\n",
    "다음 형식을 사용하십시오.\n",
    "질문:\n",
    "````\n",
    "질문\n",
    "````\n",
    "학생의 솔루션:\n",
    "````\n",
    "학생의 솔루션\n",
    "````\n",
    "실제 솔루션:\n",
    "````\n",
    " 솔루션과 솔루션을 해결하는 단계\n",
    "````\n",
    "학생의 해법이 실제 해법과 동일한가요? \\\n",
    "방금 계산한 내용:\n",
    "````\n",
    "예 혹은 아니오\n",
    "````\n",
    "학생의 성적:\n",
    "````\n",
    "맞는지 아닌지 \n",
    "````\n",
    "\n",
    "질문:\n",
    "````\n",
    "태양광 발전소를 짓고 있는데 도움이 필요합니다 \\\n",
    "재정을 정리합니다.\n",
    "- 토지 비용 $100/평방피트\n",
    "- 평방피트당 250달러에 태양광 패널을 구입할 수 있습니다.\n",
    "- \\ 비용이 드는 유지 관리 계약을 협상했습니다.\n",
    "나에게는 연간 $100,000, 추가로 $10/제곱 \\\n",
    "운영 첫 해의 총 비용은 얼마인가? \\\n",
    "평방 피트 수의 함수로 나타내세요.\n",
    "````\n",
    "학생의 솔루션:\n",
    "````\n",
    "x를 평방 피트 단위의 설치 크기로 설정합니다.\n",
    "비용:\n",
    "1. 토지 비용: 100배\n",
    "2. 태양광 패널 비용: 250배\n",
    "3. 유지비 : 100,000 + 100x\n",
    "총 비용: 100x + 250x + 100,000 + 100x = 450x + 100,000\n",
    "````\n",
    "실제 솔루션:\n",
    "\"\"\"\n",
    "response = get_completion(prompt)\n",
    "print(response)"
   ]
  },
  {
   "cell_type": "markdown",
   "metadata": {},
   "source": [
    "    Model Limitations: Hallucinations\n",
    "    모델 제한 사항: 환각\n",
    "\n",
    "    => Boie는 실제 회사이며, 제품명은 실제가 아님"
   ]
  },
  {
   "cell_type": "code",
   "execution_count": 23,
   "metadata": {},
   "outputs": [
    {
     "name": "stdout",
     "output_type": "stream",
     "text": [
      "The AeroGlide UltraSlim Smart Toothbrush by Boie is a high-tech toothbrush designed to provide a superior cleaning experience. It features ultra-soft bristles that are gentle on the gums and teeth, while still effectively removing plaque and debris. The toothbrush also has a slim design that makes it easy to maneuver and reach all areas of the mouth.\n",
      "\n",
      "One of the standout features of the AeroGlide UltraSlim Smart Toothbrush is its smart technology. It connects to a mobile app via Bluetooth, allowing users to track their brushing habits and receive personalized recommendations for improving their oral hygiene routine. The app also provides real-time feedback on brushing technique, ensuring that users are getting the most out of their brushing sessions.\n",
      "\n",
      "Overall, the AeroGlide UltraSlim Smart Toothbrush by Boie is a cutting-edge dental tool that combines advanced technology with gentle, effective cleaning power. It is a great option for those looking to upgrade their oral care routine and achieve a healthier smile.\n"
     ]
    }
   ],
   "source": [
    "prompt = f\"\"\"\n",
    "Tell me about AeroGlide UltraSlim Smart Toothbrush by Boie\n",
    "\"\"\"\n",
    "response = get_completion(prompt)\n",
    "print(response)\n"
   ]
  },
  {
   "cell_type": "code",
   "execution_count": 26,
   "metadata": {},
   "outputs": [
    {
     "name": "stdout",
     "output_type": "stream",
     "text": [
      "삼성 그램 노트북은 가벼우면서도 성능이 우수한 노트북 시리즈로 유명합니다. 일반적으로 13인치부터 15인치까지 다양한 크기로 출시되며, 특히 초박형 디자인과 긴 배터리 수명이 특징입니다. 또한 고해상도 디스플레이와 빠른 프로세서를 탑재하여 다양한 작업을 효율적으로 처리할 수 있습니다. 또한 터치스크린 기능이 있는 모델도 있어 사용자들이 더 편리하게 작업을 할 수 있습니다. 전체적으로 성능과 디자인 면에서 우수한 노트북으로 소비자들에게 인기가 많습니다.\n"
     ]
    }
   ],
   "source": [
    "prompt = f\"\"\"\n",
    "삼성에서 출시한 그램 노트북에 대해 말해주세요.\n",
    "\"\"\"\n",
    "response = get_completion(prompt)\n",
    "print(response)"
   ]
  },
  {
   "cell_type": "markdown",
   "metadata": {},
   "source": [
    "    삼성 그램 노트북은 가벼우면서도 성능이 우수한 노트북 시리즈로 유명합니다. \n",
    "    일반적으로 13인치부터 15인치까지 다양한 크기로 출시되며, 특히 초박형 디자인과 긴 배터리 수명이 특징입니다.\n",
    "    또한 고해상도 디스플레이와 빠른 프로세서를 탑재하여 다양한 작업을 효율적으로 처리할 수 있습니다.\n",
    "    또한 터치스크린 기능이 있는 모델도 있어 사용자들이 더 편리하게 작업을 할 수 있습니다.\n",
    "    전체적으로 성능과 디자인 면에서 우수한 노트북으로 소비자들에게 인기가 많습니다.    "
   ]
  },
  {
   "cell_type": "code",
   "execution_count": null,
   "metadata": {},
   "outputs": [],
   "source": []
  }
 ],
 "metadata": {
  "kernelspec": {
   "display_name": "venv",
   "language": "python",
   "name": "python3"
  },
  "language_info": {
   "codemirror_mode": {
    "name": "ipython",
    "version": 3
   },
   "file_extension": ".py",
   "mimetype": "text/x-python",
   "name": "python",
   "nbconvert_exporter": "python",
   "pygments_lexer": "ipython3",
   "version": "3.9.6"
  },
  "orig_nbformat": 4
 },
 "nbformat": 4,
 "nbformat_minor": 2
}
