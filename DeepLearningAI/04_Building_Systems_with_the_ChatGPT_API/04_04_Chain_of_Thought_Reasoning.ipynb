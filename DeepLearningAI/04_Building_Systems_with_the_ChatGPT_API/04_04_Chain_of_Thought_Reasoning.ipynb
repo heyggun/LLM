{
 "cells": [
  {
   "cell_type": "markdown",
   "metadata": {},
   "source": [
    "### 04_04"
   ]
  },
  {
   "cell_type": "code",
   "execution_count": 1,
   "metadata": {},
   "outputs": [],
   "source": [
    "import os\n",
    "import openai\n",
    "from dotenv import load_dotenv, find_dotenv\n",
    "\n",
    "_= load_dotenv(find_dotenv())\n",
    "\n",
    "openai.api_key = os.environ['OPENAI_API_KEY']"
   ]
  },
  {
   "cell_type": "code",
   "execution_count": 2,
   "metadata": {},
   "outputs": [],
   "source": [
    "def get_completion_from_messages(messages,\n",
    "                                 model='gpt-3.5-turbo',\n",
    "                                 temperature=0,\n",
    "                                 max_tokens=500):\n",
    "    response = openai.ChatCompletion.create(\n",
    "        messages = messages,\n",
    "        model = model,\n",
    "        temperature = temperature,\n",
    "        max_tokens = max_tokens,\n",
    "    )\n",
    "    \n",
    "    return response.choices[0].message['content']\n",
    "    "
   ]
  },
  {
   "cell_type": "markdown",
   "metadata": {},
   "source": [
    "### CoT (Chain-of-Thought Prompting)"
   ]
  },
  {
   "cell_type": "markdown",
   "metadata": {},
   "source": [
    "    고객 문의에 답변하려면 다음 단계를 따르세요.\n",
    "    고객 쿼리는 4개의 해시태그(예: {DELIMITER})로 구분됩니다.\n",
    "\n",
    "    1단계:{delimiter} 먼저 사용자가 특정 제품에 대해 질문하는 것입니다. 제품 카테고리는 포함되지 않습니다.\n",
    "\n",
    "    2단계:{delimiter} 사용자가 특정 제품의 경우에 대해 묻는 경우\n",
    "    제품은 다음 목록에 있습니다.\n",
    "    사용 가능한 모든 제품:\n",
    "    1. 제품 : 테크프로 울트라북\n",
    "        카테고리: 컴퓨터 및 노트북\n",
    "        브랜드: 테크프로\n",
    "        모델 번호: TP-UB100\n",
    "        보증: 1년\n",
    "        평점: 4.5\n",
    "        기능: 13.3인치 디스플레이, 8GB RAM, 256GB SSD, Intel Core i5 프로세서\n",
    "        설명: 매일 사용할 수 있는 세련되고 가벼운 울트라북입니다.\n",
    "        가격: $799.99\n",
    "\n",
    "    2. 제품: BlueWave 게이밍 노트북\n",
    "        카테고리: 컴퓨터 및 노트북\n",
    "        브랜드: 블루웨이브\n",
    "        모델 번호: BW-GL200\n",
    "        보증: 2년\n",
    "        평점: 4.7\n",
    "        기능: 15.6인치 디스플레이, 16GB RAM, 512GB SSD, NVIDIA GeForce RTX 3060\n",
    "        설명: 몰입감 넘치는 경험을 선사하는 고성능 게이밍 노트북입니다.\n",
    "        가격: $1199.99\n",
    "\n",
    "    3. 제품 : PowerLite 컨버터블\n",
    "        카테고리: 컴퓨터 및 노트북\n",
    "        브랜드: 파워라이트\n",
    "        모델 번호: PL-CV300\n",
    "        보증: 1년\n",
    "        평점: 4.3\n",
    "        기능: 14인치 터치스크린, 8GB RAM, 256GB SSD, 360도 힌지\n",
    "        설명: 반응성이 뛰어난 터치스크린을 갖춘 다용도 컨버터블 노트북입니다.\n",
    "        가격: $699.99\n",
    "\n",
    "    4. 제품: 테크프로 데스크탑\n",
    "        카테고리: 컴퓨터 및 노트북\n",
    "        브랜드: 테크프로\n",
    "        모델 번호: TP-DT500\n",
    "        보증: 1년\n",
    "        평점: 4.4\n",
    "        특징: Intel Core i7 프로세서, 16GB RAM, 1TB HDD, NVIDIA GeForce GTX 1660\n",
    "        설명: 업무와 여가 모두를 위한 강력한 데스크탑 컴퓨터입니다.\n",
    "        가격: $999.99\n",
    "\n",
    "    5. 제품: 블루웨이브 크롬북\n",
    "        카테고리: 컴퓨터 및 노트북\n",
    "        브랜드: 블루웨이브\n",
    "        모델 번호: BW-CB100\n",
    "        보증: 1년\n",
    "        평점: 4.1\n",
    "        특징: 11.6인치 디스플레이, 4GB RAM, 32GB eMMC, 크롬 OS\n",
    "        설명: 일상적인 작업을 위한 작고 경제적인 Chromebook입니다.\n",
    "        가격: $249.99\n",
    "\n",
    "    3단계:{구분자} 위 목록에서 메시지에 제품이 포함된 경우 \\\n",
    "    사용자가 메시지 예: 노트북 X\n",
    "    노트북 Y 또는 노트북 Z에는 2년 보증이 적용됩니다.\n",
    "\n",
    "    4단계:{구분 기호}: 사용자가 당신의 제품 정보에 어떤 가정을 했다면 \\\n",
    "    \n",
    "\n",
    "    5단계:{delimiter}: 먼저 고객의 잘못된 가정을 정중하게 수정하세요.\n",
    "    매장에서 판매하는 5개의 사용 가능한 제품(5개)만 언급하거나 참조하십시오.\n",
    "    고객에게 친근한 어조로 대답하세요.\n",
    "\n",
    "    다음 형식을 사용하십시오.\n",
    "    1단계:{구분자} <1단계 추론>\n",
    "    2단계:{구분자} <2단계 추론>\n",
    "    3단계:{구분자} <3단계 추론>\n",
    "    4단계:{구분자} <4단계 추론>\n",
    "    사용자에 대한 응답:{구분자} <고객에 대한 응답>\n",
    "\n",
    "    모든 단계를 구분하려면 {delimiter}를 포함해야 합니다.\n",
    "    \"\"\""
   ]
  },
  {
   "cell_type": "code",
   "execution_count": 3,
   "metadata": {},
   "outputs": [],
   "source": [
    "DELIMITER = '####'"
   ]
  },
  {
   "cell_type": "code",
   "execution_count": 4,
   "metadata": {},
   "outputs": [],
   "source": [
    "system_message = f\"\"\"\n",
    "Follow these steps to answer the customer queries.\n",
    "The customer query will be delimited with four hashtags, i.e. {DELIMITER}.\n",
    "\n",
    "Step 1:{DELIMITER } First decide whether the user is asking a question about a specific product or products. \\\n",
    "Product cateogry doesn't count. \n",
    "\n",
    "Step 2:{DELIMITER} If the user is asking about specific products, identify whether the products are in the following list.\n",
    "All available products: \n",
    "1. Product: TechPro Ultrabook\n",
    "   Category: Computers and Laptops\n",
    "   Brand: TechPro\n",
    "   Model Number: TP-UB100\n",
    "   Warranty: 1 year\n",
    "   Rating: 4.5\n",
    "   Features: 13.3-inch display, 8GB RAM, 256GB SSD, Intel Core i5 processor\n",
    "   Description: A sleek and lightweight ultrabook for everyday use.\n",
    "   Price: $799.99\n",
    "\n",
    "2. Product: BlueWave Gaming Laptop\n",
    "   Category: Computers and Laptops\n",
    "   Brand: BlueWave\n",
    "   Model Number: BW-GL200\n",
    "   Warranty: 2 years\n",
    "   Rating: 4.7\n",
    "   Features: 15.6-inch display, 16GB RAM, 512GB SSD, NVIDIA GeForce RTX 3060\n",
    "   Description: A high-performance gaming laptop for an immersive experience.\n",
    "   Price: $1199.99\n",
    "\n",
    "3. Product: PowerLite Convertible\n",
    "   Category: Computers and Laptops\n",
    "   Brand: PowerLite\n",
    "   Model Number: PL-CV300\n",
    "   Warranty: 1 year\n",
    "   Rating: 4.3\n",
    "   Features: 14-inch touchscreen, 8GB RAM, 256GB SSD, 360-degree hinge\n",
    "   Description: A versatile convertible laptop with a responsive touchscreen.\n",
    "   Price: $699.99\n",
    "\n",
    "4. Product: TechPro Desktop\n",
    "   Category: Computers and Laptops\n",
    "   Brand: TechPro\n",
    "   Model Number: TP-DT500\n",
    "   Warranty: 1 year\n",
    "   Rating: 4.4\n",
    "   Features: Intel Core i7 processor, 16GB RAM, 1TB HDD, NVIDIA GeForce GTX 1660\n",
    "   Description: A powerful desktop computer for work and play.\n",
    "   Price: $999.99\n",
    "\n",
    "5. Product: BlueWave Chromebook\n",
    "   Category: Computers and Laptops\n",
    "   Brand: BlueWave\n",
    "   Model Number: BW-CB100\n",
    "   Warranty: 1 year\n",
    "   Rating: 4.1\n",
    "   Features: 11.6-inch display, 4GB RAM, 32GB eMMC, Chrome OS\n",
    "   Description: A compact and affordable Chromebook for everyday tasks.\n",
    "   Price: $249.99\n",
    "\n",
    "Step 3:{DELIMITER} If the message contains products in the list above, list any assumptions that the user is making in their message \\\n",
    "e.g. that Laptop X is bigger than Laptop Y, or that Laptop Z has a 2 year warranty.\n",
    "\n",
    "Step 4:{DELIMITER}: If the user made any assumptions, figure out whether the assumption is true based on your product information. \n",
    "\n",
    "Step 5:{DELIMITER}: First, politely correct the customer's incorrect assumptions if applicable. \\\n",
    "Only mention or reference products in the list of 5 available products, as these are the only 5 products that the store sells. \\\n",
    "Answer the customer in a friendly tone.\n",
    "\n",
    "Use the following format:\n",
    "Step 1:{DELIMITER} <step 1 reasoning>\n",
    "Step 2:{DELIMITER} <step 2 reasoning>\n",
    "Step 3:{DELIMITER} <step 3 reasoning>\n",
    "Step 4:{DELIMITER} <step 4 reasoning>\n",
    "Response to user:{DELIMITER} <response to customer>\n",
    "\n",
    "Make sure to include {DELIMITER} to separate every step.\n",
    "\"\"\""
   ]
  },
  {
   "cell_type": "code",
   "execution_count": 5,
   "metadata": {},
   "outputs": [
    {
     "name": "stdout",
     "output_type": "stream",
     "text": [
      "Step 1:#### The user is asking about the price difference between the BlueWave Chromebook and the TechPro Desktop.\n",
      "Step 2:#### Both the BlueWave Chromebook and the TechPro Desktop are available products.\n",
      "Step 3:#### The user assumes that the BlueWave Chromebook is more expensive than the TechPro Desktop.\n",
      "Step 4:#### The assumption is incorrect. The TechPro Desktop is priced at $999.99, while the BlueWave Chromebook is priced at $249.99. Therefore, the BlueWave Chromebook is actually $750 cheaper than the TechPro Desktop.\n",
      "Response to user:#### The BlueWave Chromebook is actually $750 cheaper than the TechPro Desktop. The BlueWave Chromebook is priced at $249.99, while the TechPro Desktop is priced at $999.99.\n"
     ]
    }
   ],
   "source": [
    "user_message = f\"\"\"by how much is the BlueWave Chromebok more expensive than the TechPro Desktop\"\"\"\n",
    "\n",
    "messages = [\n",
    "    {'role' : 'system', 'content' : system_message},\n",
    "    {'role' : 'user', 'content' : f\"{DELIMITER}-{user_message}-{DELIMITER}\"}\n",
    "    \n",
    "]\n",
    "\n",
    "response = get_completion_from_messages(messages)\n",
    "print(response)"
   ]
  },
  {
   "cell_type": "markdown",
   "metadata": {},
   "source": [
    "    1단계:#### 사용자가 BlueWave Chromebook과 TechPro Desktop의 가격 차이에 대해 문의합니다.\n",
    "    2단계:#### BlueWave Chromebook과 TechPro Desktop 모두 사용 가능한 제품입니다.\n",
    "    3단계:#### 사용자는 BlueWave Chromebook이 TechPro Desktop보다 비싸다고 가정합니다.\n",
    "    4단계:#### 가정이 올바르지 않습니다. TechPro Desktop의 가격은 999.99달러이고 BlueWave Chromebook의 가격은 249.99달러입니다. 따라서 BlueWave Chromebook은 실제로 TechPro Desktop보다 750달러 저렴합니다.\n",
    "    사용자 응답:#### BlueWave Chromebook은 실제로 TechPro Desktop보다 750달러 저렴합니다. BlueWave Chromebook의 가격은 249.99달러이고 TechPro Desktop의 가격은 999.99달러입니다."
   ]
  },
  {
   "cell_type": "code",
   "execution_count": 6,
   "metadata": {},
   "outputs": [
    {
     "name": "stdout",
     "output_type": "stream",
     "text": [
      "Step 1:#### The user is asking if the store sells TVs. This is a question about a specific product category, not a specific product. \n",
      "\n",
      "Step 2:#### The user is not asking about specific products, but rather about a product category (TVs). Therefore, we do not need to identify specific products from the list. \n",
      "\n",
      "Response to user:#### Yes, we do sell TVs. We have a wide range of TVs available in different sizes and brands. Please let us know if you have any specific requirements or if there's anything else we can assist you with.\n"
     ]
    }
   ],
   "source": [
    "user_message = f\"\"\"do you sell tvs\"\"\"\n",
    "\n",
    "messages = [\n",
    "    {'role' : 'system', 'content' : system_message},\n",
    "    {'role' : 'user', 'content' : f\"{DELIMITER}-{user_message}-{DELIMITER}\"},\n",
    "]\n",
    "\n",
    "response = get_completion_from_messages(messages)\n",
    "print(response)"
   ]
  },
  {
   "cell_type": "markdown",
   "metadata": {},
   "source": [
    "    1단계:#### 사용자가 매장에서 TV를 판매하는지 묻습니다. 특정 제품이 아닌 특정 제품 카테고리에 대한 질문입니다.\n",
    "    2단계:#### 사용자는 특정 제품에 대해 질문하는 것이 아니라 제품 카테고리(TV)에 대해 질문합니다. 따라서 목록에서 특정 제품을 식별할 필요가 없습니다.\n",
    "    사용자에 대한 응답:#### 예, 우리는 TV를 판매합니다. 우리는 다양한 크기와 브랜드의 다양한 TV를 보유하고 있습니다. 특정 요구 사항이 있거나 도움을 드릴 수 있는 다른 사항이 있으면 알려 주시기 바랍니다."
   ]
  },
  {
   "cell_type": "code",
   "execution_count": null,
   "metadata": {},
   "outputs": [],
   "source": []
  },
  {
   "cell_type": "markdown",
   "metadata": {},
   "source": [
    "### Inner Monologue (내면의 독백?)\n",
    "\n",
    "    LLM에 추론 단계를 구분 기호로 구분하도록 요청했기 때문에 사용자가 보는 최종 출력에서 사고 연쇄 추론을 숨길 수 있음"
   ]
  },
  {
   "cell_type": "code",
   "execution_count": 7,
   "metadata": {},
   "outputs": [
    {
     "name": "stdout",
     "output_type": "stream",
     "text": [
      "Yes, we do sell TVs. We have a wide range of TVs available in different sizes and brands. Please let us know if you have any specific requirements or if there's anything else we can assist you with.\n"
     ]
    }
   ],
   "source": [
    "try :\n",
    "    final_response = response.split(DELIMITER)[-1].strip()\n",
    "except Exception as e:\n",
    "    final_response = \"Sorry, I'm having trouble right now, plases try asking another question.\"\n",
    "    \n",
    "print(final_response)"
   ]
  },
  {
   "cell_type": "code",
   "execution_count": null,
   "metadata": {},
   "outputs": [],
   "source": []
  },
  {
   "cell_type": "markdown",
   "metadata": {},
   "source": [
    "    -> 골 때리네.. tvs 없는데 있다고 하네;;"
   ]
  },
  {
   "cell_type": "code",
   "execution_count": null,
   "metadata": {},
   "outputs": [],
   "source": []
  },
  {
   "cell_type": "code",
   "execution_count": null,
   "metadata": {},
   "outputs": [],
   "source": []
  },
  {
   "cell_type": "markdown",
   "metadata": {},
   "source": [
    "### 한국어로 테스트해보기"
   ]
  },
  {
   "cell_type": "code",
   "execution_count": 8,
   "metadata": {},
   "outputs": [],
   "source": [
    "delimiter = '####'"
   ]
  },
  {
   "cell_type": "code",
   "execution_count": 9,
   "metadata": {},
   "outputs": [],
   "source": [
    "system_message = f\"\"\"\n",
    "고객 문의에 답변하려면 다음 단계를 따르세요.\n",
    "고객 쿼리는 4개의 해시태그(예: {delimiter})로 구분됩니다.\n",
    "1단계:{delimiter} 먼저 사용자가 특정 제품에 대해 질문하는 것입니다. 제품 카테고리는 포함되지 않습니다.\n",
    "\n",
    "2단계:{delimiter} 사용자가 특정 제품의 경우에 대해 묻는 경우\n",
    "제품은 다음 목록에 있습니다.\n",
    "사용 가능한 모든 제품:\n",
    "1. 제품 : 테크프로 울트라북\n",
    "    카테고리: 컴퓨터 및 노트북\n",
    "    브랜드: 테크프로\n",
    "    모델 번호: TP-UB100\n",
    "    보증: 1년\n",
    "    평점: 4.5\n",
    "    기능: 13.3인치 디스플레이, 8GB RAM, 256GB SSD, Intel Core i5 프로세서\n",
    "    설명: 매일 사용할 수 있는 세련되고 가벼운 울트라북입니다.\n",
    "    가격: $799.99\n",
    "\n",
    "2. 제품: BlueWave 게이밍 노트북\n",
    "    카테고리: 컴퓨터 및 노트북\n",
    "    브랜드: 블루웨이브\n",
    "    모델 번호: BW-GL200\n",
    "    보증: 2년\n",
    "    평점: 4.7\n",
    "    기능: 15.6인치 디스플레이, 16GB RAM, 512GB SSD, NVIDIA GeForce RTX 3060\n",
    "    설명: 몰입감 넘치는 경험을 선사하는 고성능 게이밍 노트북입니다.\n",
    "    가격: $1199.99\n",
    "\n",
    "3. 제품 : PowerLite 컨버터블\n",
    "    카테고리: 컴퓨터 및 노트북\n",
    "    브랜드: 파워라이트\n",
    "    모델 번호: PL-CV300\n",
    "    보증: 1년\n",
    "    평점: 4.3\n",
    "    기능: 14인치 터치스크린, 8GB RAM, 256GB SSD, 360도 힌지\n",
    "    설명: 반응성이 뛰어난 터치스크린을 갖춘 다용도 컨버터블 노트북입니다.\n",
    "    가격: $699.99\n",
    "\n",
    "4. 제품: 테크프로 데스크탑\n",
    "    카테고리: 컴퓨터 및 노트북\n",
    "    브랜드: 테크프로\n",
    "    모델 번호: TP-DT500\n",
    "    보증: 1년\n",
    "    평점: 4.4\n",
    "    특징: Intel Core i7 프로세서, 16GB RAM, 1TB HDD, NVIDIA GeForce GTX 1660\n",
    "    설명: 업무와 여가 모두를 위한 강력한 데스크탑 컴퓨터입니다.\n",
    "    가격: $999.99\n",
    "\n",
    "5. 제품: 블루웨이브 크롬북\n",
    "    카테고리: 컴퓨터 및 노트북\n",
    "    브랜드: 블루웨이브\n",
    "    모델 번호: BW-CB100\n",
    "    보증: 1년\n",
    "    평점: 4.1\n",
    "    특징: 11.6인치 디스플레이, 4GB RAM, 32GB eMMC, 크롬 OS\n",
    "    설명: 일상적인 작업을 위한 작고 경제적인 Chromebook입니다.\n",
    "    가격: $249.99\n",
    "\n",
    "3단계:{delimiter} 위 목록에서 메시지에 제품이 포함된 경우 \\\n",
    "사용자가 메시지 예: 노트북 X\n",
    "노트북 Y 또는 노트북 Z에는 2년 보증이 적용됩니다.\n",
    "\n",
    "4단계:{delimiter}: 사용자가 당신의 제품 정보에 어떤 가정을 했다면 \\\n",
    "\n",
    "5단계:{delimiter}: 먼저 고객의 잘못된 가정을 정중하게 수정하세요.\n",
    "매장에서 판매하는 5개의 사용 가능한 제품(5개)만 언급하거나 참조하십시오.\n",
    "고객에게 친근한 어조로 대답하세요.\n",
    "\n",
    "다음 형식을 사용하십시오.\n",
    "1단계:{delimiter} <1단계 추론>\n",
    "2단계:{delimiter} <2단계 추론>\n",
    "3단계:{delimiter} <3단계 추론>\n",
    "4단계:{delimiter} <4단계 추론>\n",
    "사용자에 대한 응답:{delimiter} <고객에 대한 응답>\n",
    "\n",
    "모든 단계를 구분하려면 {delimiter}를 포함해야 합니다.\n",
    "\"\"\""
   ]
  },
  {
   "cell_type": "code",
   "execution_count": 10,
   "metadata": {},
   "outputs": [
    {
     "name": "stdout",
     "output_type": "stream",
     "text": [
      "1단계:#### 사용자가 특정 제품에 대해 질문하는 것입니다. 제품 카테고리는 포함되지 않습니다.\n",
      "\n",
      "2단계:#### 사용자가 특정 제품의 경우에 대해 묻는 경우\n",
      "제품은 다음 목록에 있습니다.\n",
      "사용 가능한 모든 제품:\n",
      "1. 제품 : 테크프로 울트라북\n",
      "    카테고리: 컴퓨터 및 노트북\n",
      "    브랜드: 테크프로\n",
      "    모델 번호: TP-UB100\n",
      "    보증: 1년\n",
      "    평점: 4.5\n",
      "    기능: 13.3인치 디스플레이, 8GB RAM, 256GB SSD, Intel Core i5 프로세서\n",
      "    설명: 매일 사용할 수 있는 세련되고 가벼운 울트라북입니다.\n",
      "    가격: $799.99\n",
      "\n",
      "2. 제품: BlueWave 게이밍 노트북\n",
      "    카테고리: 컴퓨터 및 노트북\n",
      "    브랜드: 블루웨이브\n",
      "    모델 번호: BW-GL200\n",
      "    보증: 2년\n",
      "    평점: 4.7\n",
      "    기능: 15.6인치 디스플레이, 16GB RAM, 512GB SSD, NVIDIA GeForce RTX 3060\n",
      "    설명: 몰입감 넘치는 경험을 선사하는 고성능 게이밍 노트북입니다.\n",
      "    가격: $1199.99\n",
      "\n",
      "3. 제품 : PowerLite 컨버터블\n",
      "    카테고리: 컴퓨터 및 노트북\n",
      "    브랜드: 파\n"
     ]
    }
   ],
   "source": [
    "user_messages = '블루웨이브 크롬북이 테크프로 데스크탑보다 얼마나 비싸나요?'\n",
    "\n",
    "messages = [\n",
    "    {'role' : 'system', 'content' : system_message},\n",
    "    {'role' : 'user', 'content' : f\"{delimiter}-{user_message}-{delimiter}\"},\n",
    "]\n",
    "\n",
    "response = get_completion_from_messages(messages)\n",
    "print(response)\n"
   ]
  },
  {
   "cell_type": "code",
   "execution_count": 11,
   "metadata": {},
   "outputs": [
    {
     "name": "stdout",
     "output_type": "stream",
     "text": [
      "1단계:#### 사용자가 특정 제품에 대해 질문하는 것입니다. 제품 카테고리는 포함되지 않습니다.\n",
      "\n",
      "2단계:#### 사용자가 특정 제품의 경우에 대해 묻는 경우\n",
      "제품은 다음 목록에 있습니다.\n",
      "사용 가능한 모든 제품:\n",
      "1. 제품: 테크프로 울트라북\n",
      "    카테고리: 컴퓨터 및 노트북\n",
      "    브랜드: 테크프로\n",
      "    모델 번호: TP-UB100\n",
      "    보증: 1년\n",
      "    평점: 4.5\n",
      "    기능: 13.3인치 디스플레이, 8GB RAM, 256GB SSD, Intel Core i5 프로세서\n",
      "    설명: 매일 사용할 수 있는 세련되고 가벼운 울트라북입니다.\n",
      "    가격: $799.99\n",
      "\n",
      "2. 제품: BlueWave 게이밍 노트북\n",
      "    카테고리: 컴퓨터 및 노트북\n",
      "    브랜드: 블루웨이브\n",
      "    모델 번호: BW-GL200\n",
      "    보증: 2년\n",
      "    평점: 4.7\n",
      "    기능: 15.6인치 디스플레이, 16GB RAM, 512GB SSD, NVIDIA GeForce RTX 3060\n",
      "    설명: 몰입감 넘치는 경험을 선사하는 고성능 게이밍 노트북입니다.\n",
      "    가격: $1199.99\n",
      "\n",
      "3. 제품: PowerLite 컨버터블\n",
      "    카테고리: 컴퓨터 및 노트북\n",
      "    브랜드: 파\n"
     ]
    }
   ],
   "source": [
    "user_messages = 'tvs도 판매하나요?'\n",
    "\n",
    "messages = [\n",
    "    {'role' : 'system', 'content' : system_message},\n",
    "    {'role' : 'user', 'content' : f\"{delimiter}-{user_message}-{delimiter}\"},\n",
    "]\n",
    "\n",
    "response = get_completion_from_messages(messages)\n",
    "print(response)"
   ]
  },
  {
   "cell_type": "markdown",
   "metadata": {},
   "source": [
    "    -> 프롬프팅의 문제인건지 난장판임.."
   ]
  },
  {
   "cell_type": "code",
   "execution_count": null,
   "metadata": {},
   "outputs": [],
   "source": []
  },
  {
   "cell_type": "code",
   "execution_count": null,
   "metadata": {},
   "outputs": [],
   "source": []
  },
  {
   "cell_type": "code",
   "execution_count": null,
   "metadata": {},
   "outputs": [],
   "source": []
  }
 ],
 "metadata": {
  "kernelspec": {
   "display_name": ".venv",
   "language": "python",
   "name": "python3"
  },
  "language_info": {
   "codemirror_mode": {
    "name": "ipython",
    "version": 3
   },
   "file_extension": ".py",
   "mimetype": "text/x-python",
   "name": "python",
   "nbconvert_exporter": "python",
   "pygments_lexer": "ipython3",
   "version": "3.10.12"
  }
 },
 "nbformat": 4,
 "nbformat_minor": 2
}
