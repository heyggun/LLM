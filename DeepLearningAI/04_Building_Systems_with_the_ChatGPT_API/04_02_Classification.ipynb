{
 "cells": [
  {
   "cell_type": "markdown",
   "metadata": {},
   "source": [
    "### 04_02"
   ]
  },
  {
   "cell_type": "code",
   "execution_count": 1,
   "metadata": {},
   "outputs": [],
   "source": [
    "import os\n",
    "import openai\n",
    "from dotenv import load_dotenv, find_dotenv\n",
    "\n",
    "_= load_dotenv(find_dotenv())\n",
    "openai.api_key = os.environ['OPENAI_API_KEY']"
   ]
  },
  {
   "cell_type": "code",
   "execution_count": 2,
   "metadata": {},
   "outputs": [],
   "source": [
    "def get_completion_from_messages(messages,\n",
    "                                 model ='gpt-3.5-turbo',\n",
    "                                 temperature=0,\n",
    "                                 max_tokens = 500):\n",
    "    response = openai.ChatCompletion.create(\n",
    "        model = model,\n",
    "        messages = messages,\n",
    "        temperature = temperature,\n",
    "        max_tokens = max_tokens,\n",
    "    )\n",
    "    \n",
    "    return response.choices[0].message['content']    "
   ]
  },
  {
   "cell_type": "markdown",
   "metadata": {},
   "source": [
    "### 다양한 사례를 처리하기 위해 고객 쿼리를 분류"
   ]
  },
  {
   "cell_type": "markdown",
   "metadata": {},
   "source": [
    "    \n",
    "    system_message = \"\"\"고객 서비스 문의 사항이 제공됩니다. \\\n",
    "    고객 서비스 쿼리는 \\로 구분됩니다.\n",
    "    {구분자(delimiter)} 문자.\n",
    "    각 쿼리를 기본 카테고리로 분류하고 \\\n",
    "    보조 카테고리를 사용하여 json 형식으로 출력을 제공\n",
    "    키: 기본 및 보조.\n",
    "\n",
    "    기본 카테고리: 청구, 기술 지원, \\\n",
    "    계정 관리 또는 일반 문의.\n",
    "\n",
    "    결제 보조 카테고리:\n",
    "    구독 취소 또는 업그레이드\n",
    "    결제 수단 추가\n",
    "    요금에 대한 설명\n",
    "    청구에 대한 이의 제기\n",
    "\n",
    "    기술 지원 보조 카테고리:\n",
    "    일반적인 문제 해결\n",
    "    장치 호환성\n",
    "    소프트웨어 업데이트\n",
    "\n",
    "    계정 관리 보조 카테고리:\n",
    "    비밀번호 초기화\n",
    "    개인정보 업데이트\n",
    "    계정 닫기\n",
    "    계정 보안\n",
    "\n",
    "    일반 문의 보조 카테고리:\n",
    "    제품정보\n",
    "    가격\n",
    "    피드백\n",
    "    인간과 대화하기\"\"\""
   ]
  },
  {
   "cell_type": "code",
   "execution_count": 3,
   "metadata": {},
   "outputs": [],
   "source": [
    "DELIMITER = '####'"
   ]
  },
  {
   "cell_type": "code",
   "execution_count": 4,
   "metadata": {},
   "outputs": [],
   "source": [
    "system_message = f\"\"\"You will be provided with customer service queries. \\\n",
    "The customer service query will be delimited with \\\n",
    "{DELIMITER} characters.\n",
    "Classify each query into a primary category \\\n",
    "and a secondary category. \n",
    "Provide your output in json format with the \\\n",
    "keys: primary and secondary.\n",
    "\n",
    "Primary categories: Billing, Technical Support, \\\n",
    "Account Management, or General Inquiry.\n",
    "\n",
    "Billing secondary categories:\n",
    "Unsubscribe or upgrade\n",
    "Add a payment method\n",
    "Explanation for charge\n",
    "Dispute a charge\n",
    "\n",
    "Technical Support secondary categories:\n",
    "General troubleshooting\n",
    "Device compatibility\n",
    "Software updates\n",
    "\n",
    "Account Management secondary categories:\n",
    "Password reset\n",
    "Update personal information\n",
    "Close account\n",
    "Account security\n",
    "\n",
    "General Inquiry secondary categories:\n",
    "Product information\n",
    "Pricing\n",
    "Feedback\n",
    "Speak to a human\n",
    "\"\"\"\n",
    "\n",
    "user_message = f\"\"\"I want you to delete my profile and all of my user data\"\"\""
   ]
  },
  {
   "cell_type": "code",
   "execution_count": 5,
   "metadata": {},
   "outputs": [
    {
     "name": "stdout",
     "output_type": "stream",
     "text": [
      "{\n",
      "  \"primary\": \"Account Management\",\n",
      "  \"secondary\": \"Close account\"\n",
      "}\n"
     ]
    }
   ],
   "source": [
    "messages = [\n",
    "    {'role' : 'system',\n",
    "     'content' : system_message},\n",
    "    {'role' : 'user',\n",
    "     'content' : f\"{DELIMITER}-{user_message}-{DELIMITER}\"},\n",
    "]\n",
    "\n",
    "response = get_completion_from_messages(messages)\n",
    "print(response)\n",
    "\n"
   ]
  },
  {
   "cell_type": "code",
   "execution_count": 6,
   "metadata": {},
   "outputs": [
    {
     "name": "stdout",
     "output_type": "stream",
     "text": [
      "{\n",
      "  \"primary\": \"General Inquiry\",\n",
      "  \"secondary\": \"Product information\"\n",
      "}\n"
     ]
    }
   ],
   "source": [
    "user_message = \"\"\"Tell me more about you flat screen tvs\"\"\"\n",
    "\n",
    "messages = [\n",
    "    {'role' : 'system',\n",
    "     'content' : system_message},\n",
    "    {'role' : 'user',\n",
    "     'content' : f\"{DELIMITER}-{user_message}-{DELIMITER}\"},\n",
    "]\n",
    "\n",
    "response = get_completion_from_messages(messages)\n",
    "print(response)"
   ]
  },
  {
   "cell_type": "code",
   "execution_count": null,
   "metadata": {},
   "outputs": [],
   "source": []
  },
  {
   "cell_type": "code",
   "execution_count": null,
   "metadata": {},
   "outputs": [],
   "source": []
  }
 ],
 "metadata": {
  "kernelspec": {
   "display_name": ".venv",
   "language": "python",
   "name": "python3"
  },
  "language_info": {
   "codemirror_mode": {
    "name": "ipython",
    "version": 3
   },
   "file_extension": ".py",
   "mimetype": "text/x-python",
   "name": "python",
   "nbconvert_exporter": "python",
   "pygments_lexer": "ipython3",
   "version": "3.10.12"
  }
 },
 "nbformat": 4,
 "nbformat_minor": 2
}
